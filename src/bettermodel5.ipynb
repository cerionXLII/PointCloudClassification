{
 "cells": [
  {
   "cell_type": "code",
   "execution_count": 1,
   "id": "e14520fd",
   "metadata": {
    "_cell_guid": "b1076dfc-b9ad-4769-8c92-a6c4dae69d19",
    "_uuid": "8f2839f25d086af736a60e9eeb907d3b93b6e0e5",
    "execution": {
     "iopub.execute_input": "2023-10-04T13:35:35.719485Z",
     "iopub.status.busy": "2023-10-04T13:35:35.719062Z",
     "iopub.status.idle": "2023-10-04T13:35:36.439863Z",
     "shell.execute_reply": "2023-10-04T13:35:36.438975Z"
    },
    "papermill": {
     "duration": 0.727891,
     "end_time": "2023-10-04T13:35:36.441852",
     "exception": false,
     "start_time": "2023-10-04T13:35:35.713961",
     "status": "completed"
    },
    "tags": []
   },
   "outputs": [],
   "source": [
    "#Auto reload modules when code is changed\n",
    "%load_ext autoreload\n",
    "%autoreload 2\n",
    "\n",
    "import numpy as np # linear algebra\n",
    "import pandas as pd # data processing, CSV file I/O (e.g. pd.read_csv)\n",
    "from tqdm.auto import tqdm\n",
    "import os\n",
    "import torch.nn as nn \n",
    "import torch \n",
    "import yaml \n",
    "from sklearn.model_selection import train_test_split \n",
    "from sklearn.metrics import accuracy_score \n",
    "from torch.utils.data import Dataset, DataLoader\n",
    "import random\n",
    "from laserscan import LaserScan\n",
    "from collections import OrderedDict\n",
    "import matplotlib.pyplot as plt\n",
    "from ModelContainer import ModelContainer\n"
   ]
  },
  {
   "cell_type": "code",
   "execution_count": 2,
   "id": "cb2fefc3",
   "metadata": {
    "execution": {
     "iopub.execute_input": "2023-10-04T13:35:40.537371Z",
     "iopub.status.busy": "2023-10-04T13:35:40.536818Z",
     "iopub.status.idle": "2023-10-04T13:35:40.553589Z",
     "shell.execute_reply": "2023-10-04T13:35:40.552827Z"
    },
    "papermill": {
     "duration": 0.02297,
     "end_time": "2023-10-04T13:35:40.555287",
     "exception": false,
     "start_time": "2023-10-04T13:35:40.532317",
     "status": "completed"
    },
    "tags": []
   },
   "outputs": [],
   "source": [
    "# Code adapted from SalsaNext @ Tiago Cortinhal \n",
    "class ClaSeKDataset(Dataset):\n",
    "\n",
    "    def __init__(self, root,  # directory where data is\n",
    "                 split,  # train or test\n",
    "                 df, # pandas dataframe containing filename and label\n",
    "                 label_dict,  # label dict: (e.g 10: \"car\")\n",
    "                 sensor,  # sensor to parse scans from\n",
    "                 max_points=150000,  # max number of points present in dataset\n",
    "                 gt=True,\n",
    "                 transform=False):\n",
    "        # save deats\n",
    "        self.root = os.path.join(root, split)\n",
    "        self.label_dict = label_dict\n",
    "        self.df = df\n",
    "        self.sensor = sensor\n",
    "        self.sensor_img_H = sensor[\"img_prop\"][\"height\"]\n",
    "        self.sensor_img_W = sensor[\"img_prop\"][\"width\"]\n",
    "        self.sensor_img_means = torch.tensor(sensor[\"img_means\"],\n",
    "                                             dtype=torch.float)\n",
    "        self.sensor_img_stds = torch.tensor(sensor[\"img_stds\"],\n",
    "                                            dtype=torch.float)\n",
    "        self.sensor_fov_up = sensor[\"fov_up\"]\n",
    "        self.sensor_fov_down = sensor[\"fov_down\"]\n",
    "        self.max_points = max_points\n",
    "        self.gt = gt\n",
    "        self.transform = transform\n",
    "\n",
    "        self.nclasses = len(label_dict.keys())\n",
    "\n",
    "        # make sure directory exists\n",
    "        if os.path.isdir(self.root):\n",
    "            print(\"Sequences folder exists! Using sequences from %s\" % self.root)\n",
    "        else:\n",
    "            raise ValueError(\"Sequences folder doesn't exist! Exiting...\")\n",
    "\n",
    "        # make sure labels is a dict\n",
    "        assert (isinstance(self.label_dict, dict))\n",
    "\n",
    "    def __getitem__(self, index):\n",
    "        # get item in tensor shape\n",
    "        item = self.df.iloc[index]\n",
    "\n",
    "        scan_file = os.path.join(self.root, item.FNAME)\n",
    "\n",
    "        if self.gt:\n",
    "            label = item.LABEL\n",
    "        else:\n",
    "            label = 0\n",
    "\n",
    "        # open a semantic laserscan\n",
    "        DA = False\n",
    "        flip_sign = False\n",
    "        rot = False\n",
    "        drop_points = False\n",
    "        if self.transform:\n",
    "            if random.random() > 0.5:\n",
    "                if random.random() > 0.5:\n",
    "                    DA = True\n",
    "                if random.random() > 0.5:\n",
    "                    flip_sign = True\n",
    "                if random.random() > 0.5:\n",
    "                    rot = True\n",
    "                drop_points = random.uniform(0, 0.5)\n",
    "\n",
    "        scanner_class = LaserScan\n",
    "\n",
    "        scan = scanner_class(project=True,\n",
    "                                 H=self.sensor_img_H,\n",
    "                                 W=self.sensor_img_W,\n",
    "                                 fov_up=self.sensor_fov_up,\n",
    "                                 fov_down=self.sensor_fov_down,\n",
    "                                 DA=DA,\n",
    "                                 rot=rot,\n",
    "                                 flip_sign=flip_sign,\n",
    "                                 drop_points=drop_points)\n",
    "\n",
    "\n",
    "        scan.open_scan(scan_file)\n",
    "        # make a tensor of the uncompressed data (with the max num points)\n",
    "        unproj_n_points = scan.points.shape[0]\n",
    "        if unproj_n_points < self.max_points:\n",
    "            points_to_copy = unproj_n_points\n",
    "        else:\n",
    "            points_to_copy = self.max_points\n",
    "\n",
    "        unproj_xyz = torch.full((self.max_points, 3), -1.0, dtype=torch.float)\n",
    "        unproj_xyz[:points_to_copy] = torch.from_numpy(scan.points[: points_to_copy])\n",
    "        unproj_range = torch.full([self.max_points], -1.0, dtype=torch.float)\n",
    "        unproj_range[: points_to_copy] = torch.from_numpy(scan.unproj_range[: points_to_copy])\n",
    "        unproj_remissions = torch.full([self.max_points], -1.0, dtype=torch.float)\n",
    "        unproj_remissions[: points_to_copy] = torch.from_numpy(scan.remissions[: points_to_copy])\n",
    "\n",
    "        # get points and labels\n",
    "        proj_range = torch.from_numpy(scan.proj_range).clone()\n",
    "        proj_xyz = torch.from_numpy(scan.proj_xyz).clone()\n",
    "        proj_remission = torch.from_numpy(scan.proj_remission).clone()\n",
    "        proj_mask = torch.from_numpy(scan.proj_mask)\n",
    "\n",
    "        proj_x = torch.full([self.max_points], -1, dtype=torch.long)\n",
    "        proj_x[: points_to_copy] = torch.from_numpy(scan.proj_x[: points_to_copy])\n",
    "        proj_y = torch.full([self.max_points], -1, dtype=torch.long)\n",
    "        proj_y[: points_to_copy] = torch.from_numpy(scan.proj_y[: points_to_copy])\n",
    "        proj = torch.cat([proj_range.unsqueeze(0).clone(),\n",
    "                          proj_xyz.clone().permute(2, 0, 1),\n",
    "                          proj_remission.unsqueeze(0).clone()])\n",
    "        proj = (proj - self.sensor_img_means[:, None, None]\n",
    "                ) / self.sensor_img_stds[:, None, None]\n",
    "        proj = proj * proj_mask.float()\n",
    "\n",
    "        # return\n",
    "        return proj, label, index\n",
    "\n",
    "    def __len__(self):\n",
    "        return self.df.shape[0]\n",
    "\n",
    "    @staticmethod\n",
    "    def map(label, mapdict):\n",
    "        # put label from original values to xentropy\n",
    "        # or vice-versa, depending on dictionary values\n",
    "        # make learning map a lookup table\n",
    "        maxkey = 0\n",
    "        for key, data in mapdict.items():\n",
    "            if isinstance(data, list):\n",
    "                nel = len(data)\n",
    "            else:\n",
    "                nel = 1\n",
    "            if key > maxkey:\n",
    "                maxkey = key\n",
    "        # +100 hack making lut bigger just in case there are unknown labels\n",
    "        if nel > 1:\n",
    "            lut = np.zeros((maxkey + 100, nel), dtype=np.int32)\n",
    "        else:\n",
    "            lut = np.zeros((maxkey + 100), dtype=np.int32)\n",
    "        for key, data in mapdict.items():\n",
    "            try:\n",
    "                lut[key] = data\n",
    "            except IndexError:\n",
    "                print(\"Wrong key \", key)\n",
    "        # do the mapping\n",
    "        return lut[label]"
   ]
  },
  {
   "cell_type": "code",
   "execution_count": 3,
   "id": "984f59dc",
   "metadata": {
    "execution": {
     "iopub.execute_input": "2023-10-04T13:35:40.563853Z",
     "iopub.status.busy": "2023-10-04T13:35:40.563183Z",
     "iopub.status.idle": "2023-10-04T13:35:40.579540Z",
     "shell.execute_reply": "2023-10-04T13:35:40.578798Z"
    },
    "papermill": {
     "duration": 0.022461,
     "end_time": "2023-10-04T13:35:40.581223",
     "exception": false,
     "start_time": "2023-10-04T13:35:40.558762",
     "status": "completed"
    },
    "tags": []
   },
   "outputs": [],
   "source": [
    "# Code Adapted from SalsaNext @ Tiago Cortinhal \n",
    "class ResContextBlock(nn.Module):\n",
    "    def __init__(self, in_filters, out_filters):\n",
    "        super(ResContextBlock, self).__init__()\n",
    "        self.conv1 = nn.Conv2d(in_filters, out_filters, kernel_size=(1, 1), stride=1)\n",
    "        self.act1 = nn.LeakyReLU()\n",
    "\n",
    "        self.conv2 = nn.Conv2d(out_filters, out_filters, (3,3), padding=1)\n",
    "        self.act2 = nn.LeakyReLU()\n",
    "        self.bn1 = nn.BatchNorm2d(out_filters)\n",
    "        \n",
    "\n",
    "        self.conv3 = nn.Conv2d(out_filters, out_filters, (3,3),dilation=2, padding=2)\n",
    "        self.act3 = nn.LeakyReLU()\n",
    "        self.bn2 = nn.InstanceNorm2d(out_filters, affine=True)\n",
    "\n",
    "\n",
    "    def forward(self, x):\n",
    "        shortcut = self.conv1(x)\n",
    "        shortcut = self.act1(shortcut)\n",
    "        resA = self.conv2(shortcut)\n",
    "        resA = self.act2(resA)\n",
    "        resA1 = self.bn1(resA)\n",
    "\n",
    "        resA = self.conv3(resA1)\n",
    "        resA = self.act3(resA)\n",
    "        resA2 = self.bn2(resA)\n",
    "\n",
    "\n",
    "        output = shortcut + resA2\n",
    "        return output\n",
    "\n",
    "\n",
    "class ResBlock(nn.Module):\n",
    "    def __init__(self, in_filters, out_filters, dropout_rate, kernel_size=(3, 3), stride=1,\n",
    "                 pooling=True, drop_out=True):\n",
    "        super(ResBlock, self).__init__()\n",
    "        self.pooling = pooling\n",
    "        self.drop_out = drop_out\n",
    "        self.conv1 = nn.Conv2d(in_filters, out_filters, kernel_size=(1, 1), stride=stride)\n",
    "        self.act1 = nn.LeakyReLU()\n",
    "\n",
    "        self.conv2 = nn.Conv2d(in_filters, out_filters, kernel_size=(3,3), padding=1)\n",
    "        self.act2 = nn.LeakyReLU()\n",
    "        self.bn1 = nn.BatchNorm2d(out_filters)\n",
    "        \n",
    "\n",
    "        self.conv3 = nn.Conv2d(out_filters, out_filters, kernel_size=(3,3),dilation=2, padding=2)\n",
    "        self.act3 = nn.LeakyReLU()\n",
    "        self.bn2 = nn.BatchNorm2d(out_filters)\n",
    "        \n",
    "\n",
    "        self.conv4 = nn.Conv2d(out_filters, out_filters, kernel_size=(2, 2), dilation=2, padding=1)\n",
    "        self.act4 = nn.LeakyReLU()\n",
    "        self.bn3 = nn.BatchNorm2d(out_filters)\n",
    "        \n",
    "\n",
    "        self.conv5 = nn.Conv2d(out_filters*3, out_filters, kernel_size=(1, 1))\n",
    "        self.act5 = nn.LeakyReLU()\n",
    "        self.bn4 = nn.BatchNorm2d(out_filters)\n",
    "        \n",
    "\n",
    "        if pooling:\n",
    "            self.dropout = nn.Dropout2d(p=dropout_rate)\n",
    "            #self.pool = nn.AvgPool2d(kernel_size=kernel_size, stride=2, padding=1)\n",
    "            self.pool = nn.MaxPool2d(kernel_size=kernel_size, stride=2, padding=1)\n",
    "        else:\n",
    "            self.dropout = nn.Dropout2d(p=dropout_rate)\n",
    "\n",
    "    def forward(self, x):\n",
    "        shortcut = self.conv1(x)\n",
    "        shortcut = self.act1(shortcut)\n",
    "        resA = self.conv2(x)\n",
    "        resA = self.act2(resA)\n",
    "        resA1 = self.bn1(resA)\n",
    "\n",
    "        resA = self.conv3(resA1)\n",
    "        resA = self.act3(resA)\n",
    "        resA2 = self.bn2(resA)\n",
    "\n",
    "        resA = self.conv4(resA2)\n",
    "        resA = self.act4(resA)\n",
    "        resA3 = self.bn3(resA)\n",
    "\n",
    "        concat = torch.cat((resA1,resA2,resA3),dim=1)\n",
    "        resA = self.conv5(concat)\n",
    "        resA = self.act5(resA)\n",
    "        resA = self.bn4(resA)\n",
    "\n",
    "\n",
    "        resA = shortcut + resA\n",
    "\n",
    "        if self.pooling:\n",
    "            if self.drop_out:\n",
    "                resB = self.dropout(resA)\n",
    "            else:\n",
    "                resB = resA\n",
    "            resB = self.pool(resB)\n",
    "\n",
    "            return resB, resA\n",
    "        else:\n",
    "            if self.drop_out:\n",
    "                resB = self.dropout(resA)\n",
    "            else:\n",
    "                resB = resA\n",
    "            return resB\n",
    "\n",
    "class SalsaNext(nn.Module):\n",
    "    def __init__(self, nclasses):\n",
    "        super(SalsaNext, self).__init__()\n",
    "        self.nclasses = nclasses\n",
    "\n",
    "        self.downCntx = ResContextBlock(5, 32)\n",
    "\n",
    "        self.downCntx2 = ResContextBlock(32, 32)\n",
    "        self.downCntx3 = ResContextBlock(32, 32)\n",
    "\n",
    "        self.resBlock1 = ResBlock(32, 2 * 32, 0.2, pooling=True, drop_out=False)\n",
    "        self.resBlock2 = ResBlock(2 * 32, 2 * 2 * 32, 0.2, pooling=True)\n",
    "        self.resBlock3 = ResBlock(2 * 2 * 32, 2 * 4 * 32, 0.2, pooling=True)\n",
    "        self.resBlock4 = ResBlock(2 * 4 * 32, 2 * 4 * 32, 0.2, pooling=True)       \n",
    "        self.resBlock5 = ResBlock(2 * 4 * 32, 2 * 4 * 32, 0.2, pooling=False)\n",
    "\n",
    "        self.pool = nn.AdaptiveAvgPool2d(1)\n",
    "        self.logits = nn.Conv2d(256, nclasses, kernel_size=(1, 1))\n",
    "\n",
    "    def forward(self, x):\n",
    "        downCntx = self.downCntx(x)\n",
    "        downCntx = self.downCntx2(downCntx)\n",
    "        downCntx = self.downCntx3(downCntx)\n",
    "\n",
    "        down0c, down0b = self.resBlock1(downCntx)\n",
    "        down1c, down1b = self.resBlock2(down0c)\n",
    "        down2c, down2b = self.resBlock3(down1c)\n",
    "        down3c, down3b = self.resBlock4(down2c)\n",
    "        down4c = self.resBlock5(down3c)\n",
    "        \n",
    "        out = self.pool(down4c)\n",
    "\n",
    "        logits = self.logits(out)\n",
    "        \n",
    "        return logits.squeeze()"
   ]
  },
  {
   "cell_type": "code",
   "execution_count": 4,
   "id": "59f5565e",
   "metadata": {},
   "outputs": [],
   "source": [
    "#This model is more complex, with more Conv layers\n",
    "class SimpleModel3(torch.nn.Module):\n",
    "    def __init__(self,num_channels, num_classes, input_shape=(64,64)):\n",
    "        super(SimpleModel3,self).__init__()\n",
    "        layers = []\n",
    "        num_layers = 5\n",
    "        for i in range(num_layers):\n",
    "            layers.append(self._conv_layer_set(num_channels, 64))\n",
    "            num_channels = 64\n",
    "        \n",
    "        layers.append(nn.Flatten())\n",
    "        layers.append(nn.Linear(num_channels*(input_shape[0]*input_shape[1]//(4**num_layers)), 64))\n",
    "        layers.append(nn.Dropout(0.25))\n",
    "        layers.append(nn.BatchNorm1d(64))\n",
    "        layers.append(nn.ReLU())\n",
    "        layers.append(nn.Dropout(0.25))\n",
    "        layers.append(nn.Linear(64, num_classes))\n",
    "        self.layers = nn.Sequential(*layers)\n",
    "        self.drop = nn.Dropout(0.25)\n",
    "        self.batch_norm = nn.BatchNorm1d(64)\n",
    "        \n",
    "    def _conv_layer_set(self, in_c, out_c):\n",
    "        conv_layer = nn.Sequential(OrderedDict([\n",
    "            ('conv',nn.Conv2d(in_c, out_c, kernel_size=3, padding=1)),\n",
    "            ('batch_norm',nn.BatchNorm2d(out_c)),\n",
    "            ('relu',nn.ReLU()),\n",
    "            ('maxpool',nn.MaxPool2d(2)),\n",
    "        ]))\n",
    "        return conv_layer\n",
    "    \n",
    "\n",
    "    def forward(self, x):\n",
    "        out = self.layers(x)\n",
    "        return out"
   ]
  },
  {
   "cell_type": "code",
   "execution_count": 5,
   "id": "f784edb6",
   "metadata": {
    "execution": {
     "iopub.execute_input": "2023-10-04T13:35:40.589657Z",
     "iopub.status.busy": "2023-10-04T13:35:40.588848Z",
     "iopub.status.idle": "2023-10-04T13:35:40.594359Z",
     "shell.execute_reply": "2023-10-04T13:35:40.593525Z"
    },
    "papermill": {
     "duration": 0.011551,
     "end_time": "2023-10-04T13:35:40.596202",
     "exception": false,
     "start_time": "2023-10-04T13:35:40.584651",
     "status": "completed"
    },
    "tags": []
   },
   "outputs": [],
   "source": [
    "LABEL_DICT = {0: \"car\", 1: \"bicycle\", 2: \"motorcycle\", 3: \"truck\", 4: \"other_vehicle\", 5: \"person\", 6: \"motorcyclist\",\n",
    "              7: \"road\", 8: \"parking\", 9: \"sidewalk\", 10: \"other_ground\", 11: \"building\", 12: \"fence\", 13: \"vegetation\",\n",
    "              14: \"trunk\", 15: \"terrain\", 16: \"pole\", 17: \"traffic_sign\"}\n",
    "DATA_DIR = '../data/'\n",
    "DATA_MEAN = np.array([0.43, 0.28, -0.67, 10.80]) # x, y, z, signal\n",
    "DATA_STD = np.array([1.17, 1.40, 0.05, 0.97]) # x, y, z, signal\n",
    "N_CLASSES = 18\n"
   ]
  },
  {
   "cell_type": "code",
   "execution_count": 6,
   "id": "55005589",
   "metadata": {
    "execution": {
     "iopub.execute_input": "2023-10-04T13:35:40.604580Z",
     "iopub.status.busy": "2023-10-04T13:35:40.603863Z",
     "iopub.status.idle": "2023-10-04T13:35:40.651321Z",
     "shell.execute_reply": "2023-10-04T13:35:40.650469Z"
    },
    "papermill": {
     "duration": 0.053353,
     "end_time": "2023-10-04T13:35:40.652981",
     "exception": false,
     "start_time": "2023-10-04T13:35:40.599628",
     "status": "completed"
    },
    "tags": []
   },
   "outputs": [],
   "source": [
    "conf_path = '../data/ds.yaml'\n",
    "with open(conf_path, 'r') as stream:\n",
    "    ds_conf = yaml.safe_load(stream)\n",
    "\n",
    "sensor = ds_conf['dataset']['sensor']\n",
    "max_points = ds_conf['dataset']['max_points']\n",
    "train_file = os.path.join(DATA_DIR, 'train.csv')\n",
    "test_file = os.path.join(DATA_DIR, 'test.csv')\n",
    "test_df = pd.read_csv(test_file)\n",
    "df = pd.read_csv(train_file)"
   ]
  },
  {
   "cell_type": "code",
   "execution_count": 7,
   "id": "af54c094",
   "metadata": {
    "execution": {
     "iopub.execute_input": "2023-10-04T13:35:40.660988Z",
     "iopub.status.busy": "2023-10-04T13:35:40.660756Z",
     "iopub.status.idle": "2023-10-04T13:35:40.675182Z",
     "shell.execute_reply": "2023-10-04T13:35:40.674392Z"
    },
    "papermill": {
     "duration": 0.020261,
     "end_time": "2023-10-04T13:35:40.676872",
     "exception": false,
     "start_time": "2023-10-04T13:35:40.656611",
     "status": "completed"
    },
    "tags": []
   },
   "outputs": [],
   "source": [
    "# train_df, val_df = train_test_split(df, stratify=df.LABEL.values, test_size=0.2, shuffle=True, random_state=42)\n",
    "# train_df.reset_index(drop=True, inplace=True)\n",
    "# val_df.reset_index(drop=True, inplace=True)"
   ]
  },
  {
   "cell_type": "code",
   "execution_count": 8,
   "id": "4946f3a7",
   "metadata": {
    "execution": {
     "iopub.execute_input": "2023-10-04T13:35:40.684648Z",
     "iopub.status.busy": "2023-10-04T13:35:40.684420Z",
     "iopub.status.idle": "2023-10-04T13:35:40.688189Z",
     "shell.execute_reply": "2023-10-04T13:35:40.687322Z"
    },
    "papermill": {
     "duration": 0.009612,
     "end_time": "2023-10-04T13:35:40.689891",
     "exception": false,
     "start_time": "2023-10-04T13:35:40.680279",
     "status": "completed"
    },
    "tags": []
   },
   "outputs": [
    {
     "name": "stdout",
     "output_type": "stream",
     "text": [
      "Device: cuda:0\n"
     ]
    }
   ],
   "source": [
    "#Select device\n",
    "device = torch.device(\"cuda:0\" if torch.cuda.is_available() else \"cpu\")\n",
    "print(\"Device:\", device)"
   ]
  },
  {
   "cell_type": "code",
   "execution_count": 9,
   "id": "e88d073b",
   "metadata": {},
   "outputs": [
    {
     "data": {
      "text/html": [
       "<div>\n",
       "<style scoped>\n",
       "    .dataframe tbody tr th:only-of-type {\n",
       "        vertical-align: middle;\n",
       "    }\n",
       "\n",
       "    .dataframe tbody tr th {\n",
       "        vertical-align: top;\n",
       "    }\n",
       "\n",
       "    .dataframe thead th {\n",
       "        text-align: right;\n",
       "    }\n",
       "</style>\n",
       "<table border=\"1\" class=\"dataframe\">\n",
       "  <thead>\n",
       "    <tr style=\"text-align: right;\">\n",
       "      <th></th>\n",
       "      <th>FNAME</th>\n",
       "      <th>LABEL</th>\n",
       "    </tr>\n",
       "  </thead>\n",
       "  <tbody>\n",
       "    <tr>\n",
       "      <th>0</th>\n",
       "      <td>00_107967.bin</td>\n",
       "      <td>1</td>\n",
       "    </tr>\n",
       "    <tr>\n",
       "      <th>1</th>\n",
       "      <td>03_794391.bin</td>\n",
       "      <td>15</td>\n",
       "    </tr>\n",
       "    <tr>\n",
       "      <th>2</th>\n",
       "      <td>02_193962.bin</td>\n",
       "      <td>7</td>\n",
       "    </tr>\n",
       "    <tr>\n",
       "      <th>3</th>\n",
       "      <td>02_720015.bin</td>\n",
       "      <td>0</td>\n",
       "    </tr>\n",
       "    <tr>\n",
       "      <th>4</th>\n",
       "      <td>02_781487.bin</td>\n",
       "      <td>14</td>\n",
       "    </tr>\n",
       "  </tbody>\n",
       "</table>\n",
       "</div>"
      ],
      "text/plain": [
       "           FNAME  LABEL\n",
       "0  00_107967.bin      1\n",
       "1  03_794391.bin     15\n",
       "2  02_193962.bin      7\n",
       "3  02_720015.bin      0\n",
       "4  02_781487.bin     14"
      ]
     },
     "execution_count": 9,
     "metadata": {},
     "output_type": "execute_result"
    }
   ],
   "source": [
    "df.head()"
   ]
  },
  {
   "cell_type": "code",
   "execution_count": 10,
   "id": "09605bd1",
   "metadata": {},
   "outputs": [],
   "source": [
    "#Create 5 folds for cross validation\n",
    "num_folds = 5\n",
    "train_folds = []\n",
    "val_folds = []\n",
    "for i in range(num_folds):\n",
    "    train_folds.append(df[df.index % num_folds == i].reset_index(drop=True))\n",
    "    val_folds.append(df[df.index % num_folds == i].reset_index(drop=True))\n",
    "\n"
   ]
  },
  {
   "cell_type": "code",
   "execution_count": 11,
   "id": "9cc91d11",
   "metadata": {},
   "outputs": [
    {
     "data": {
      "text/html": [
       "<div>\n",
       "<style scoped>\n",
       "    .dataframe tbody tr th:only-of-type {\n",
       "        vertical-align: middle;\n",
       "    }\n",
       "\n",
       "    .dataframe tbody tr th {\n",
       "        vertical-align: top;\n",
       "    }\n",
       "\n",
       "    .dataframe thead th {\n",
       "        text-align: right;\n",
       "    }\n",
       "</style>\n",
       "<table border=\"1\" class=\"dataframe\">\n",
       "  <thead>\n",
       "    <tr style=\"text-align: right;\">\n",
       "      <th></th>\n",
       "      <th>FNAME</th>\n",
       "      <th>LABEL</th>\n",
       "    </tr>\n",
       "  </thead>\n",
       "  <tbody>\n",
       "    <tr>\n",
       "      <th>0</th>\n",
       "      <td>00_107967.bin</td>\n",
       "      <td>1</td>\n",
       "    </tr>\n",
       "    <tr>\n",
       "      <th>1</th>\n",
       "      <td>02_354547.bin</td>\n",
       "      <td>15</td>\n",
       "    </tr>\n",
       "    <tr>\n",
       "      <th>2</th>\n",
       "      <td>00_168795.bin</td>\n",
       "      <td>16</td>\n",
       "    </tr>\n",
       "    <tr>\n",
       "      <th>3</th>\n",
       "      <td>00_967763.bin</td>\n",
       "      <td>12</td>\n",
       "    </tr>\n",
       "    <tr>\n",
       "      <th>4</th>\n",
       "      <td>00_783793.bin</td>\n",
       "      <td>11</td>\n",
       "    </tr>\n",
       "  </tbody>\n",
       "</table>\n",
       "</div>"
      ],
      "text/plain": [
       "           FNAME  LABEL\n",
       "0  00_107967.bin      1\n",
       "1  02_354547.bin     15\n",
       "2  00_168795.bin     16\n",
       "3  00_967763.bin     12\n",
       "4  00_783793.bin     11"
      ]
     },
     "execution_count": 11,
     "metadata": {},
     "output_type": "execute_result"
    }
   ],
   "source": [
    "train_folds[0].head()"
   ]
  },
  {
   "cell_type": "code",
   "execution_count": 12,
   "id": "314f450e",
   "metadata": {
    "execution": {
     "iopub.execute_input": "2023-10-04T13:35:40.697981Z",
     "iopub.status.busy": "2023-10-04T13:35:40.697474Z",
     "iopub.status.idle": "2023-10-04T13:35:40.723266Z",
     "shell.execute_reply": "2023-10-04T13:35:40.722174Z"
    },
    "papermill": {
     "duration": 0.031714,
     "end_time": "2023-10-04T13:35:40.724939",
     "exception": false,
     "start_time": "2023-10-04T13:35:40.693225",
     "status": "completed"
    },
    "tags": []
   },
   "outputs": [
    {
     "name": "stdout",
     "output_type": "stream",
     "text": [
      "Sequences folder exists! Using sequences from ../data/train\n",
      "Sequences folder exists! Using sequences from ../data/train\n",
      "Sequences folder exists! Using sequences from ../data/train\n",
      "Sequences folder exists! Using sequences from ../data/train\n",
      "Sequences folder exists! Using sequences from ../data/train\n",
      "Sequences folder exists! Using sequences from ../data/train\n",
      "Sequences folder exists! Using sequences from ../data/train\n",
      "Sequences folder exists! Using sequences from ../data/train\n",
      "Sequences folder exists! Using sequences from ../data/train\n",
      "Sequences folder exists! Using sequences from ../data/train\n",
      "Sequences folder exists! Using sequences from ../data/test\n"
     ]
    }
   ],
   "source": [
    "batch_size = 8\n",
    "train_loaders = []\n",
    "val_loaders = []\n",
    "\n",
    "#Create train and validation loaders for each fold\n",
    "for train_df, val_df in zip(train_folds, val_folds):\n",
    "\n",
    "    train_ds = ClaSeKDataset(root=DATA_DIR,  # directory where data is\n",
    "                    split='train',  # train or test\n",
    "                    df=train_df, # pandas dataframe containing filename and label\n",
    "                    label_dict=LABEL_DICT,  # label dict: (e.g 10: \"car\")\n",
    "                    sensor=sensor,  # sensor to parse scans from\n",
    "                    max_points=max_points,  # max number of points present in dataset\n",
    "                    gt=True,\n",
    "                    transform=True)\n",
    "    train_loader = DataLoader(dataset=train_ds, batch_size=batch_size, shuffle=True)\n",
    "    train_loaders.append(train_loader)\n",
    "\n",
    "    val_ds = ClaSeKDataset(root=DATA_DIR,  # directory where data is\n",
    "                    split='train',  # train or test\n",
    "                    df=val_df, # pandas dataframe containing filename and label\n",
    "                    label_dict=LABEL_DICT,  # label dict: (e.g 10: \"car\")\n",
    "                    sensor=sensor,  # sensor to parse scans from\n",
    "                    max_points=max_points,  # max number of points present in dataset\n",
    "                    gt=True,\n",
    "                    transform=False)\n",
    "    val_loader = DataLoader(dataset=val_ds, batch_size=batch_size, shuffle=False)\n",
    "    val_loaders.append(val_loader)\n",
    "\n",
    "\n",
    "test_ds = ClaSeKDataset(root=DATA_DIR,  # directory where data is\n",
    "                split='test',  # train or test\n",
    "                df=test_df, # pandas dataframe containing filename and label\n",
    "                label_dict=LABEL_DICT,  # label dict: (e.g 10: \"car\")\n",
    "                sensor=sensor,  # sensor to parse scans from\n",
    "                max_points=max_points,  # max number of points present in dataset\n",
    "                gt=False,\n",
    "                transform=False)\n",
    "test_loader = DataLoader(dataset=test_ds, batch_size=batch_size, shuffle=False)"
   ]
  },
  {
   "cell_type": "code",
   "execution_count": 13,
   "id": "d8bfc783",
   "metadata": {},
   "outputs": [
    {
     "name": "stdout",
     "output_type": "stream",
     "text": [
      "torch.Size([8, 5, 64, 2048])\n",
      "torch.Size([8])\n",
      "torch.Size([8])\n"
     ]
    }
   ],
   "source": [
    "#get next item from train_loader\n",
    "for i, (proj, label, index) in enumerate(train_loaders[0]):\n",
    "    print(proj.shape)\n",
    "    print(label.shape)\n",
    "    print(index.shape)\n",
    "    break"
   ]
  },
  {
   "cell_type": "code",
   "execution_count": 14,
   "id": "00652b11",
   "metadata": {},
   "outputs": [],
   "source": [
    "#model = SimpleModel3(num_channels=5, num_classes=N_CLASSES, input_shape=(64, 2048))"
   ]
  },
  {
   "cell_type": "code",
   "execution_count": 15,
   "id": "f1a2cb7f",
   "metadata": {},
   "outputs": [],
   "source": [
    "#output = model(proj)"
   ]
  },
  {
   "cell_type": "code",
   "execution_count": 16,
   "id": "2211c8d2",
   "metadata": {},
   "outputs": [],
   "source": [
    "# #load state dict if available\n",
    "# fileName = '../models/salsanext_2023-10-15_01-15-16.pth'\n",
    "# if os.path.isfile(fileName):\n",
    "#     print(\"Loading model...\")\n",
    "#     model.load_state_dict(torch.load(fileName))"
   ]
  },
  {
   "cell_type": "code",
   "execution_count": 17,
   "id": "40465315",
   "metadata": {
    "execution": {
     "iopub.execute_input": "2023-10-04T13:35:43.891628Z",
     "iopub.status.busy": "2023-10-04T13:35:43.891354Z",
     "iopub.status.idle": "2023-10-04T13:35:43.900415Z",
     "shell.execute_reply": "2023-10-04T13:35:43.899609Z"
    },
    "papermill": {
     "duration": 0.015231,
     "end_time": "2023-10-04T13:35:43.902072",
     "exception": false,
     "start_time": "2023-10-04T13:35:43.886841",
     "status": "completed"
    },
    "tags": []
   },
   "outputs": [],
   "source": [
    "def train_epoch(epoch, model, loader, criterion, optimizer, device):\n",
    "    model.train()\n",
    "    loss_list = list()\n",
    "    pbar = tqdm(total=len(loader), desc=f'Epoch {epoch}')\n",
    "    for i, (data, proj_labels, _) in enumerate(loader):\n",
    "        data = data.float().to(device)\n",
    "        label = proj_labels.long().to(device)\n",
    "        optimizer.zero_grad()\n",
    "        logit = model(data)\n",
    "        loss = criterion(logit, label)\n",
    "        loss.backward()\n",
    "        optimizer.step()\n",
    "        loss_list.append(loss.item())\n",
    "        pbar.update(1)\n",
    "        pbar.set_postfix({'Loss': np.mean(loss_list)})\n",
    "    pbar.close()\n",
    "    return np.mean(loss_list)\n",
    "\n",
    "def validate_epoch(epoch, model, loader, criterion, device):\n",
    "    model.eval()\n",
    "    loss_list = list()\n",
    "    gts = list()\n",
    "    preds = list()\n",
    "    pbar = tqdm(total=len(loader), desc=f'Epoch {epoch}')\n",
    "    with torch.no_grad():\n",
    "        for i, (data, proj_labels,_) in enumerate(loader):\n",
    "            data = data.float().to(device)\n",
    "            label = proj_labels.long().to(device)\n",
    "            logit = model(data)\n",
    "            pred = torch.argmax(logit, dim=1)\n",
    "            gts.extend(label.detach().cpu().numpy().tolist())\n",
    "            preds.extend(pred.detach().cpu().numpy().tolist())\n",
    "            loss = criterion(logit, label)\n",
    "            loss_list.append(loss.item())\n",
    "            pbar.update(1)\n",
    "            pbar.set_postfix({'Loss': np.mean(loss_list)})\n",
    "    pbar.close()\n",
    "    gts = np.array(gts)\n",
    "    preds = np.array(preds)\n",
    "    acc = accuracy_score(y_true= gts, y_pred=preds)\n",
    "    return np.mean(loss_list), acc\n"
   ]
  },
  {
   "cell_type": "code",
   "execution_count": 18,
   "id": "98c7009e",
   "metadata": {},
   "outputs": [
    {
     "name": "stdout",
     "output_type": "stream",
     "text": [
      "../models/salsanext_2023-10-16_14-34-54\n",
      "../models/submission_salsanext_2023-10-16_14-34-54.csv\n"
     ]
    }
   ],
   "source": [
    "# Add the day and time of training to the model name\n",
    "import datetime\n",
    "now = datetime.datetime.now()\n",
    "model_name = f'salsanext_{now.strftime(\"%Y-%m-%d_%H-%M-%S\")}'\n",
    "model_base_path = '../models/'\n",
    "model_path = os.path.join(model_base_path, model_name)\n",
    "submission_path = os.path.join(model_base_path, f'submission_{model_name}.csv')\n",
    "print(model_path)\n",
    "print(submission_path)"
   ]
  },
  {
   "cell_type": "code",
   "execution_count": 19,
   "id": "9a67038a",
   "metadata": {
    "execution": {
     "iopub.execute_input": "2023-10-04T13:35:43.910092Z",
     "iopub.status.busy": "2023-10-04T13:35:43.909752Z",
     "iopub.status.idle": "2023-10-04T13:46:42.660868Z",
     "shell.execute_reply": "2023-10-04T13:46:42.659560Z"
    },
    "papermill": {
     "duration": 658.757446,
     "end_time": "2023-10-04T13:46:42.662915",
     "exception": false,
     "start_time": "2023-10-04T13:35:43.905469",
     "status": "completed"
    },
    "tags": []
   },
   "outputs": [],
   "source": [
    "epoch = 0\n",
    "total_epoch = 50\n",
    "train_losses = list()\n",
    "val_losses = list()\n",
    "val_accs = list()\n",
    "best_val_acc = 0\n",
    "best_val_loss = np.inf\n"
   ]
  },
  {
   "cell_type": "code",
   "execution_count": 20,
   "id": "9d2dc49c",
   "metadata": {},
   "outputs": [],
   "source": [
    "#Keep training\n",
    "#total_epoch = 10"
   ]
  },
  {
   "cell_type": "code",
   "execution_count": 21,
   "id": "f8dfecf6",
   "metadata": {},
   "outputs": [
    {
     "name": "stdout",
     "output_type": "stream",
     "text": [
      "Fold 0/5\n"
     ]
    },
    {
     "name": "stderr",
     "output_type": "stream",
     "text": [
      "Epoch 0: 100%|██████████| 27/27 [02:34<00:00,  5.71s/it, Loss=2.66]\n",
      "Epoch 0: 100%|██████████| 27/27 [00:39<00:00,  1.45s/it, Loss=4.19]\n"
     ]
    },
    {
     "name": "stdout",
     "output_type": "stream",
     "text": [
      "Saving model at epoch: 0, val acc: 0.1\n",
      "Epoch: 0 Current val acc is 0.1 while the best val acc is 0.1\n"
     ]
    },
    {
     "name": "stderr",
     "output_type": "stream",
     "text": [
      "Epoch 1: 100%|██████████| 27/27 [02:27<00:00,  5.47s/it, Loss=2.23]\n",
      "Epoch 1: 100%|██████████| 27/27 [00:41<00:00,  1.55s/it, Loss=1.96]\n"
     ]
    },
    {
     "name": "stdout",
     "output_type": "stream",
     "text": [
      "Saving model at epoch: 1, val acc: 0.4142857142857143\n",
      "Epoch: 1 Current val acc is 0.4142857142857143 while the best val acc is 0.4142857142857143\n"
     ]
    },
    {
     "name": "stderr",
     "output_type": "stream",
     "text": [
      "Epoch 2: 100%|██████████| 27/27 [02:32<00:00,  5.64s/it, Loss=2.05]\n",
      "Epoch 2: 100%|██████████| 27/27 [00:40<00:00,  1.50s/it, Loss=1.73]\n"
     ]
    },
    {
     "name": "stdout",
     "output_type": "stream",
     "text": [
      "Saving model at epoch: 2, val acc: 0.4380952380952381\n",
      "Epoch: 2 Current val acc is 0.4380952380952381 while the best val acc is 0.4380952380952381\n"
     ]
    },
    {
     "name": "stderr",
     "output_type": "stream",
     "text": [
      "Epoch 3: 100%|██████████| 27/27 [02:28<00:00,  5.50s/it, Loss=1.97]\n",
      "Epoch 3: 100%|██████████| 27/27 [00:39<00:00,  1.47s/it, Loss=1.64]\n"
     ]
    },
    {
     "name": "stdout",
     "output_type": "stream",
     "text": [
      "Epoch: 3 Current val acc is 0.4238095238095238 while the best val acc is 0.4380952380952381\n"
     ]
    },
    {
     "name": "stderr",
     "output_type": "stream",
     "text": [
      "Epoch 4: 100%|██████████| 27/27 [02:28<00:00,  5.49s/it, Loss=1.96]\n",
      "Epoch 4: 100%|██████████| 27/27 [00:40<00:00,  1.48s/it, Loss=1.64]\n"
     ]
    },
    {
     "name": "stdout",
     "output_type": "stream",
     "text": [
      "Saving model at epoch: 4, val acc: 0.45714285714285713\n",
      "Epoch: 4 Current val acc is 0.45714285714285713 while the best val acc is 0.45714285714285713\n"
     ]
    },
    {
     "name": "stderr",
     "output_type": "stream",
     "text": [
      "Epoch 5: 100%|██████████| 27/27 [02:27<00:00,  5.47s/it, Loss=1.88]\n",
      "Epoch 5: 100%|██████████| 27/27 [00:39<00:00,  1.47s/it, Loss=1.57]\n"
     ]
    },
    {
     "name": "stdout",
     "output_type": "stream",
     "text": [
      "Saving model at epoch: 5, val acc: 0.47619047619047616\n",
      "Epoch: 5 Current val acc is 0.47619047619047616 while the best val acc is 0.47619047619047616\n"
     ]
    },
    {
     "name": "stderr",
     "output_type": "stream",
     "text": [
      "Epoch 6: 100%|██████████| 27/27 [02:27<00:00,  5.45s/it, Loss=1.79]\n",
      "Epoch 6: 100%|██████████| 27/27 [00:39<00:00,  1.46s/it, Loss=1.45]\n"
     ]
    },
    {
     "name": "stdout",
     "output_type": "stream",
     "text": [
      "Saving model at epoch: 6, val acc: 0.5047619047619047\n",
      "Epoch: 6 Current val acc is 0.5047619047619047 while the best val acc is 0.5047619047619047\n"
     ]
    },
    {
     "name": "stderr",
     "output_type": "stream",
     "text": [
      "Epoch 7: 100%|██████████| 27/27 [02:29<00:00,  5.54s/it, Loss=1.71]\n",
      "Epoch 7: 100%|██████████| 27/27 [00:39<00:00,  1.45s/it, Loss=1.56]\n"
     ]
    },
    {
     "name": "stdout",
     "output_type": "stream",
     "text": [
      "Epoch: 7 Current val acc is 0.4666666666666667 while the best val acc is 0.5047619047619047\n"
     ]
    },
    {
     "name": "stderr",
     "output_type": "stream",
     "text": [
      "Epoch 8: 100%|██████████| 27/27 [02:25<00:00,  5.39s/it, Loss=1.7] \n",
      "Epoch 8: 100%|██████████| 27/27 [00:39<00:00,  1.45s/it, Loss=1.38]\n"
     ]
    },
    {
     "name": "stdout",
     "output_type": "stream",
     "text": [
      "Saving model at epoch: 8, val acc: 0.5428571428571428\n",
      "Epoch: 8 Current val acc is 0.5428571428571428 while the best val acc is 0.5428571428571428\n"
     ]
    },
    {
     "name": "stderr",
     "output_type": "stream",
     "text": [
      "Epoch 9: 100%|██████████| 27/27 [02:25<00:00,  5.39s/it, Loss=1.6] \n",
      "Epoch 9: 100%|██████████| 27/27 [00:39<00:00,  1.45s/it, Loss=1.36]\n"
     ]
    },
    {
     "name": "stdout",
     "output_type": "stream",
     "text": [
      "Epoch: 9 Current val acc is 0.5095238095238095 while the best val acc is 0.5428571428571428\n"
     ]
    },
    {
     "name": "stderr",
     "output_type": "stream",
     "text": [
      "Epoch 10: 100%|██████████| 27/27 [02:25<00:00,  5.40s/it, Loss=1.5] \n",
      "Epoch 10: 100%|██████████| 27/27 [00:39<00:00,  1.45s/it, Loss=1.29]\n"
     ]
    },
    {
     "name": "stdout",
     "output_type": "stream",
     "text": [
      "Saving model at epoch: 10, val acc: 0.5761904761904761\n",
      "Epoch: 10 Current val acc is 0.5761904761904761 while the best val acc is 0.5761904761904761\n"
     ]
    },
    {
     "name": "stderr",
     "output_type": "stream",
     "text": [
      "Epoch 11: 100%|██████████| 27/27 [02:21<00:00,  5.26s/it, Loss=1.62]\n",
      "Epoch 11: 100%|██████████| 27/27 [00:37<00:00,  1.38s/it, Loss=1.26]\n"
     ]
    },
    {
     "name": "stdout",
     "output_type": "stream",
     "text": [
      "Saving model at epoch: 11, val acc: 0.5952380952380952\n",
      "Epoch: 11 Current val acc is 0.5952380952380952 while the best val acc is 0.5952380952380952\n"
     ]
    },
    {
     "name": "stderr",
     "output_type": "stream",
     "text": [
      "Epoch 12: 100%|██████████| 27/27 [02:17<00:00,  5.08s/it, Loss=1.53]\n",
      "Epoch 12: 100%|██████████| 27/27 [00:37<00:00,  1.38s/it, Loss=1.2] \n"
     ]
    },
    {
     "name": "stdout",
     "output_type": "stream",
     "text": [
      "Saving model at epoch: 12, val acc: 0.6047619047619047\n",
      "Epoch: 12 Current val acc is 0.6047619047619047 while the best val acc is 0.6047619047619047\n"
     ]
    },
    {
     "name": "stderr",
     "output_type": "stream",
     "text": [
      "Epoch 13: 100%|██████████| 27/27 [02:17<00:00,  5.10s/it, Loss=1.53]\n",
      "Epoch 13: 100%|██████████| 27/27 [00:37<00:00,  1.38s/it, Loss=1.28]\n"
     ]
    },
    {
     "name": "stdout",
     "output_type": "stream",
     "text": [
      "Epoch: 13 Current val acc is 0.5476190476190477 while the best val acc is 0.6047619047619047\n"
     ]
    },
    {
     "name": "stderr",
     "output_type": "stream",
     "text": [
      "Epoch 14: 100%|██████████| 27/27 [02:17<00:00,  5.09s/it, Loss=1.4] \n",
      "Epoch 14: 100%|██████████| 27/27 [00:37<00:00,  1.38s/it, Loss=1.2] \n"
     ]
    },
    {
     "name": "stdout",
     "output_type": "stream",
     "text": [
      "Epoch: 14 Current val acc is 0.5380952380952381 while the best val acc is 0.6047619047619047\n"
     ]
    },
    {
     "name": "stderr",
     "output_type": "stream",
     "text": [
      "Epoch 15: 100%|██████████| 27/27 [02:17<00:00,  5.08s/it, Loss=1.46]\n",
      "Epoch 15: 100%|██████████| 27/27 [00:37<00:00,  1.38s/it, Loss=1.24]\n"
     ]
    },
    {
     "name": "stdout",
     "output_type": "stream",
     "text": [
      "Epoch: 15 Current val acc is 0.5761904761904761 while the best val acc is 0.6047619047619047\n"
     ]
    },
    {
     "name": "stderr",
     "output_type": "stream",
     "text": [
      "Epoch 16: 100%|██████████| 27/27 [02:16<00:00,  5.07s/it, Loss=1.4] \n",
      "Epoch 16: 100%|██████████| 27/27 [00:37<00:00,  1.37s/it, Loss=1.15]\n"
     ]
    },
    {
     "name": "stdout",
     "output_type": "stream",
     "text": [
      "Saving model at epoch: 16, val acc: 0.6095238095238096\n",
      "Epoch: 16 Current val acc is 0.6095238095238096 while the best val acc is 0.6095238095238096\n"
     ]
    },
    {
     "name": "stderr",
     "output_type": "stream",
     "text": [
      "Epoch 17: 100%|██████████| 27/27 [02:16<00:00,  5.07s/it, Loss=1.37]\n",
      "Epoch 17: 100%|██████████| 27/27 [00:37<00:00,  1.38s/it, Loss=1.16]\n"
     ]
    },
    {
     "name": "stdout",
     "output_type": "stream",
     "text": [
      "Saving model at epoch: 17, val acc: 0.6142857142857143\n",
      "Epoch: 17 Current val acc is 0.6142857142857143 while the best val acc is 0.6142857142857143\n"
     ]
    },
    {
     "name": "stderr",
     "output_type": "stream",
     "text": [
      "Epoch 18: 100%|██████████| 27/27 [02:16<00:00,  5.07s/it, Loss=1.3] \n",
      "Epoch 18: 100%|██████████| 27/27 [00:37<00:00,  1.39s/it, Loss=1.17]\n"
     ]
    },
    {
     "name": "stdout",
     "output_type": "stream",
     "text": [
      "Epoch: 18 Current val acc is 0.5571428571428572 while the best val acc is 0.6142857142857143\n"
     ]
    },
    {
     "name": "stderr",
     "output_type": "stream",
     "text": [
      "Epoch 19: 100%|██████████| 27/27 [02:17<00:00,  5.08s/it, Loss=1.46]\n",
      "Epoch 19: 100%|██████████| 27/27 [00:37<00:00,  1.38s/it, Loss=1.12]\n"
     ]
    },
    {
     "name": "stdout",
     "output_type": "stream",
     "text": [
      "Saving model at epoch: 19, val acc: 0.6333333333333333\n",
      "Epoch: 19 Current val acc is 0.6333333333333333 while the best val acc is 0.6333333333333333\n"
     ]
    },
    {
     "name": "stderr",
     "output_type": "stream",
     "text": [
      "Epoch 20: 100%|██████████| 27/27 [02:17<00:00,  5.08s/it, Loss=1.28]\n",
      "Epoch 20: 100%|██████████| 27/27 [00:37<00:00,  1.38s/it, Loss=1.16]\n"
     ]
    },
    {
     "name": "stdout",
     "output_type": "stream",
     "text": [
      "Epoch: 20 Current val acc is 0.5904761904761905 while the best val acc is 0.6333333333333333\n"
     ]
    },
    {
     "name": "stderr",
     "output_type": "stream",
     "text": [
      "Epoch 21: 100%|██████████| 27/27 [02:17<00:00,  5.07s/it, Loss=1.3] \n",
      "Epoch 21: 100%|██████████| 27/27 [00:37<00:00,  1.38s/it, Loss=1.18]\n"
     ]
    },
    {
     "name": "stdout",
     "output_type": "stream",
     "text": [
      "Epoch: 21 Current val acc is 0.5761904761904761 while the best val acc is 0.6333333333333333\n"
     ]
    },
    {
     "name": "stderr",
     "output_type": "stream",
     "text": [
      "Epoch 22: 100%|██████████| 27/27 [02:17<00:00,  5.08s/it, Loss=1.17]\n",
      "Epoch 22: 100%|██████████| 27/27 [00:37<00:00,  1.38s/it, Loss=1.15]\n"
     ]
    },
    {
     "name": "stdout",
     "output_type": "stream",
     "text": [
      "Epoch: 22 Current val acc is 0.5904761904761905 while the best val acc is 0.6333333333333333\n"
     ]
    },
    {
     "name": "stderr",
     "output_type": "stream",
     "text": [
      "Epoch 23: 100%|██████████| 27/27 [02:17<00:00,  5.08s/it, Loss=1.26]\n",
      "Epoch 23: 100%|██████████| 27/27 [00:37<00:00,  1.38s/it, Loss=1.13]\n"
     ]
    },
    {
     "name": "stdout",
     "output_type": "stream",
     "text": [
      "Epoch: 23 Current val acc is 0.6238095238095238 while the best val acc is 0.6333333333333333\n"
     ]
    },
    {
     "name": "stderr",
     "output_type": "stream",
     "text": [
      "Epoch 24: 100%|██████████| 27/27 [02:17<00:00,  5.08s/it, Loss=1.19]\n",
      "Epoch 24: 100%|██████████| 27/27 [00:37<00:00,  1.38s/it, Loss=1.03] \n"
     ]
    },
    {
     "name": "stdout",
     "output_type": "stream",
     "text": [
      "Saving model at epoch: 24, val acc: 0.6714285714285714\n",
      "Epoch: 24 Current val acc is 0.6714285714285714 while the best val acc is 0.6714285714285714\n"
     ]
    },
    {
     "name": "stderr",
     "output_type": "stream",
     "text": [
      "Epoch 25: 100%|██████████| 27/27 [02:16<00:00,  5.07s/it, Loss=1.28]\n",
      "Epoch 25: 100%|██████████| 27/27 [00:37<00:00,  1.38s/it, Loss=1.13]\n"
     ]
    },
    {
     "name": "stdout",
     "output_type": "stream",
     "text": [
      "Epoch: 25 Current val acc is 0.6333333333333333 while the best val acc is 0.6714285714285714\n"
     ]
    },
    {
     "name": "stderr",
     "output_type": "stream",
     "text": [
      "Epoch 26: 100%|██████████| 27/27 [02:17<00:00,  5.07s/it, Loss=1.31]\n",
      "Epoch 26: 100%|██████████| 27/27 [00:37<00:00,  1.38s/it, Loss=1.07] \n"
     ]
    },
    {
     "name": "stdout",
     "output_type": "stream",
     "text": [
      "Epoch: 26 Current val acc is 0.6523809523809524 while the best val acc is 0.6714285714285714\n"
     ]
    },
    {
     "name": "stderr",
     "output_type": "stream",
     "text": [
      "Epoch 27: 100%|██████████| 27/27 [02:17<00:00,  5.07s/it, Loss=1.21]\n",
      "Epoch 27: 100%|██████████| 27/27 [00:37<00:00,  1.38s/it, Loss=1.04] \n"
     ]
    },
    {
     "name": "stdout",
     "output_type": "stream",
     "text": [
      "Epoch: 27 Current val acc is 0.6428571428571429 while the best val acc is 0.6714285714285714\n"
     ]
    },
    {
     "name": "stderr",
     "output_type": "stream",
     "text": [
      "Epoch 28: 100%|██████████| 27/27 [02:17<00:00,  5.07s/it, Loss=1.19]\n",
      "Epoch 28: 100%|██████████| 27/27 [00:37<00:00,  1.38s/it, Loss=1.03] \n"
     ]
    },
    {
     "name": "stdout",
     "output_type": "stream",
     "text": [
      "Epoch: 28 Current val acc is 0.6476190476190476 while the best val acc is 0.6714285714285714\n"
     ]
    },
    {
     "name": "stderr",
     "output_type": "stream",
     "text": [
      "Epoch 29: 100%|██████████| 27/27 [02:17<00:00,  5.07s/it, Loss=1.27]\n",
      "Epoch 29: 100%|██████████| 27/27 [00:37<00:00,  1.38s/it, Loss=0.99] \n"
     ]
    },
    {
     "name": "stdout",
     "output_type": "stream",
     "text": [
      "Saving model at epoch: 29, val acc: 0.680952380952381\n",
      "Epoch: 29 Current val acc is 0.680952380952381 while the best val acc is 0.680952380952381\n"
     ]
    },
    {
     "name": "stderr",
     "output_type": "stream",
     "text": [
      "Epoch 30: 100%|██████████| 27/27 [02:17<00:00,  5.08s/it, Loss=1.15]\n",
      "Epoch 30: 100%|██████████| 27/27 [00:37<00:00,  1.38s/it, Loss=0.99] \n"
     ]
    },
    {
     "name": "stdout",
     "output_type": "stream",
     "text": [
      "Epoch: 30 Current val acc is 0.680952380952381 while the best val acc is 0.680952380952381\n"
     ]
    },
    {
     "name": "stderr",
     "output_type": "stream",
     "text": [
      "Epoch 31: 100%|██████████| 27/27 [02:17<00:00,  5.08s/it, Loss=1.18]\n",
      "Epoch 31: 100%|██████████| 27/27 [00:37<00:00,  1.38s/it, Loss=0.996]\n"
     ]
    },
    {
     "name": "stdout",
     "output_type": "stream",
     "text": [
      "Saving model at epoch: 31, val acc: 0.7\n",
      "Epoch: 31 Current val acc is 0.7 while the best val acc is 0.7\n"
     ]
    },
    {
     "name": "stderr",
     "output_type": "stream",
     "text": [
      "Epoch 32: 100%|██████████| 27/27 [02:16<00:00,  5.07s/it, Loss=1.21]\n",
      "Epoch 32: 100%|██████████| 27/27 [00:37<00:00,  1.38s/it, Loss=0.998]\n"
     ]
    },
    {
     "name": "stdout",
     "output_type": "stream",
     "text": [
      "Epoch: 32 Current val acc is 0.6428571428571429 while the best val acc is 0.7\n"
     ]
    },
    {
     "name": "stderr",
     "output_type": "stream",
     "text": [
      "Epoch 33: 100%|██████████| 27/27 [02:17<00:00,  5.07s/it, Loss=1.21]\n",
      "Epoch 33: 100%|██████████| 27/27 [00:37<00:00,  1.38s/it, Loss=0.982]\n"
     ]
    },
    {
     "name": "stdout",
     "output_type": "stream",
     "text": [
      "Epoch: 33 Current val acc is 0.6857142857142857 while the best val acc is 0.7\n"
     ]
    },
    {
     "name": "stderr",
     "output_type": "stream",
     "text": [
      "Epoch 34: 100%|██████████| 27/27 [02:17<00:00,  5.08s/it, Loss=1.06]\n",
      "Epoch 34: 100%|██████████| 27/27 [00:37<00:00,  1.38s/it, Loss=0.984]\n"
     ]
    },
    {
     "name": "stdout",
     "output_type": "stream",
     "text": [
      "Epoch: 34 Current val acc is 0.6761904761904762 while the best val acc is 0.7\n"
     ]
    },
    {
     "name": "stderr",
     "output_type": "stream",
     "text": [
      "Epoch 35: 100%|██████████| 27/27 [02:17<00:00,  5.08s/it, Loss=1.12]\n",
      "Epoch 35: 100%|██████████| 27/27 [00:39<00:00,  1.47s/it, Loss=0.984]\n"
     ]
    },
    {
     "name": "stdout",
     "output_type": "stream",
     "text": [
      "Epoch: 35 Current val acc is 0.6857142857142857 while the best val acc is 0.7\n"
     ]
    },
    {
     "name": "stderr",
     "output_type": "stream",
     "text": [
      "Epoch 36: 100%|██████████| 27/27 [02:17<00:00,  5.08s/it, Loss=1.15]\n",
      "Epoch 36: 100%|██████████| 27/27 [00:37<00:00,  1.39s/it, Loss=0.972]\n"
     ]
    },
    {
     "name": "stdout",
     "output_type": "stream",
     "text": [
      "Epoch: 36 Current val acc is 0.6904761904761905 while the best val acc is 0.7\n"
     ]
    },
    {
     "name": "stderr",
     "output_type": "stream",
     "text": [
      "Epoch 37: 100%|██████████| 27/27 [02:17<00:00,  5.07s/it, Loss=1.16]\n",
      "Epoch 37: 100%|██████████| 27/27 [00:37<00:00,  1.38s/it, Loss=0.964]\n"
     ]
    },
    {
     "name": "stdout",
     "output_type": "stream",
     "text": [
      "Saving model at epoch: 37, val acc: 0.7047619047619048\n",
      "Epoch: 37 Current val acc is 0.7047619047619048 while the best val acc is 0.7047619047619048\n"
     ]
    },
    {
     "name": "stderr",
     "output_type": "stream",
     "text": [
      "Epoch 38: 100%|██████████| 27/27 [02:16<00:00,  5.07s/it, Loss=1.19] \n",
      "Epoch 38: 100%|██████████| 27/27 [00:37<00:00,  1.37s/it, Loss=0.997]\n"
     ]
    },
    {
     "name": "stdout",
     "output_type": "stream",
     "text": [
      "Epoch: 38 Current val acc is 0.6904761904761905 while the best val acc is 0.7047619047619048\n"
     ]
    },
    {
     "name": "stderr",
     "output_type": "stream",
     "text": [
      "Epoch 39: 100%|██████████| 27/27 [02:16<00:00,  5.07s/it, Loss=1.24]\n",
      "Epoch 39: 100%|██████████| 27/27 [00:37<00:00,  1.38s/it, Loss=0.96] \n"
     ]
    },
    {
     "name": "stdout",
     "output_type": "stream",
     "text": [
      "Epoch: 39 Current val acc is 0.6952380952380952 while the best val acc is 0.7047619047619048\n"
     ]
    },
    {
     "name": "stderr",
     "output_type": "stream",
     "text": [
      "Epoch 40: 100%|██████████| 27/27 [04:07<00:00,  9.17s/it, Loss=1.11]\n",
      "Epoch 40: 100%|██████████| 27/27 [03:11<00:00,  7.09s/it, Loss=0.986]\n"
     ]
    },
    {
     "name": "stdout",
     "output_type": "stream",
     "text": [
      "Saving model at epoch: 40, val acc: 0.7095238095238096\n",
      "Epoch: 40 Current val acc is 0.7095238095238096 while the best val acc is 0.7095238095238096\n"
     ]
    },
    {
     "name": "stderr",
     "output_type": "stream",
     "text": [
      "Epoch 41: 100%|██████████| 27/27 [04:07<00:00,  9.16s/it, Loss=1.14]\n",
      "Epoch 41: 100%|██████████| 27/27 [00:39<00:00,  1.45s/it, Loss=0.966]\n"
     ]
    },
    {
     "name": "stdout",
     "output_type": "stream",
     "text": [
      "Epoch: 41 Current val acc is 0.7047619047619048 while the best val acc is 0.7095238095238096\n"
     ]
    },
    {
     "name": "stderr",
     "output_type": "stream",
     "text": [
      "Epoch 42: 100%|██████████| 27/27 [02:24<00:00,  5.33s/it, Loss=1.13]\n",
      "Epoch 42: 100%|██████████| 27/27 [00:39<00:00,  1.45s/it, Loss=0.974]\n"
     ]
    },
    {
     "name": "stdout",
     "output_type": "stream",
     "text": [
      "Epoch: 42 Current val acc is 0.7047619047619048 while the best val acc is 0.7095238095238096\n"
     ]
    },
    {
     "name": "stderr",
     "output_type": "stream",
     "text": [
      "Epoch 43: 100%|██████████| 27/27 [02:24<00:00,  5.33s/it, Loss=1.11] \n",
      "Epoch 43: 100%|██████████| 27/27 [00:38<00:00,  1.44s/it, Loss=0.967]\n"
     ]
    },
    {
     "name": "stdout",
     "output_type": "stream",
     "text": [
      "Epoch: 43 Current val acc is 0.7 while the best val acc is 0.7095238095238096\n"
     ]
    },
    {
     "name": "stderr",
     "output_type": "stream",
     "text": [
      "Epoch 44: 100%|██████████| 27/27 [02:18<00:00,  5.11s/it, Loss=1.16]\n",
      "Epoch 44: 100%|██████████| 27/27 [00:37<00:00,  1.39s/it, Loss=0.966]\n"
     ]
    },
    {
     "name": "stdout",
     "output_type": "stream",
     "text": [
      "Saving model at epoch: 44, val acc: 0.7142857142857143\n",
      "Epoch: 44 Current val acc is 0.7142857142857143 while the best val acc is 0.7142857142857143\n"
     ]
    },
    {
     "name": "stderr",
     "output_type": "stream",
     "text": [
      "Epoch 45: 100%|██████████| 27/27 [02:18<00:00,  5.12s/it, Loss=1.12]\n",
      "Epoch 45: 100%|██████████| 27/27 [00:37<00:00,  1.39s/it, Loss=0.958]\n"
     ]
    },
    {
     "name": "stdout",
     "output_type": "stream",
     "text": [
      "Saving model at epoch: 45, val acc: 0.7285714285714285\n",
      "Epoch: 45 Current val acc is 0.7285714285714285 while the best val acc is 0.7285714285714285\n"
     ]
    },
    {
     "name": "stderr",
     "output_type": "stream",
     "text": [
      "Epoch 46: 100%|██████████| 27/27 [02:18<00:00,  5.12s/it, Loss=1.12]\n",
      "Epoch 46: 100%|██████████| 27/27 [00:37<00:00,  1.39s/it, Loss=0.956]\n"
     ]
    },
    {
     "name": "stdout",
     "output_type": "stream",
     "text": [
      "Epoch: 46 Current val acc is 0.7095238095238096 while the best val acc is 0.7285714285714285\n"
     ]
    },
    {
     "name": "stderr",
     "output_type": "stream",
     "text": [
      "Epoch 47: 100%|██████████| 27/27 [02:18<00:00,  5.11s/it, Loss=1.11]\n",
      "Epoch 47: 100%|██████████| 27/27 [00:37<00:00,  1.39s/it, Loss=0.968]\n"
     ]
    },
    {
     "name": "stdout",
     "output_type": "stream",
     "text": [
      "Epoch: 47 Current val acc is 0.7 while the best val acc is 0.7285714285714285\n"
     ]
    },
    {
     "name": "stderr",
     "output_type": "stream",
     "text": [
      "Epoch 48: 100%|██████████| 27/27 [02:18<00:00,  5.11s/it, Loss=1.09]\n",
      "Epoch 48: 100%|██████████| 27/27 [00:37<00:00,  1.39s/it, Loss=0.966]\n"
     ]
    },
    {
     "name": "stdout",
     "output_type": "stream",
     "text": [
      "Epoch: 48 Current val acc is 0.7 while the best val acc is 0.7285714285714285\n"
     ]
    },
    {
     "name": "stderr",
     "output_type": "stream",
     "text": [
      "Epoch 49: 100%|██████████| 27/27 [02:18<00:00,  5.11s/it, Loss=1.11] \n",
      "Epoch 49: 100%|██████████| 27/27 [00:37<00:00,  1.39s/it, Loss=0.996]\n"
     ]
    },
    {
     "name": "stdout",
     "output_type": "stream",
     "text": [
      "Epoch: 49 Current val acc is 0.6904761904761905 while the best val acc is 0.7285714285714285\n",
      "Fold 1/5\n"
     ]
    },
    {
     "name": "stderr",
     "output_type": "stream",
     "text": [
      "Epoch 0: 100%|██████████| 27/27 [02:33<00:00,  5.69s/it, Loss=2.6] \n",
      "Epoch 0: 100%|██████████| 27/27 [00:40<00:00,  1.50s/it, Loss=2.79]\n"
     ]
    },
    {
     "name": "stdout",
     "output_type": "stream",
     "text": [
      "Saving model at epoch: 0, val acc: 0.2619047619047619\n",
      "Epoch: 0 Current val acc is 0.2619047619047619 while the best val acc is 0.2619047619047619\n"
     ]
    },
    {
     "name": "stderr",
     "output_type": "stream",
     "text": [
      "Epoch 1: 100%|██████████| 27/27 [02:31<00:00,  5.61s/it, Loss=2.12]\n",
      "Epoch 1: 100%|██████████| 27/27 [00:40<00:00,  1.50s/it, Loss=1.92]\n"
     ]
    },
    {
     "name": "stdout",
     "output_type": "stream",
     "text": [
      "Saving model at epoch: 1, val acc: 0.30952380952380953\n",
      "Epoch: 1 Current val acc is 0.30952380952380953 while the best val acc is 0.30952380952380953\n"
     ]
    },
    {
     "name": "stderr",
     "output_type": "stream",
     "text": [
      "Epoch 2: 100%|██████████| 27/27 [02:31<00:00,  5.61s/it, Loss=2.04]\n",
      "Epoch 2: 100%|██████████| 27/27 [00:40<00:00,  1.50s/it, Loss=1.68]\n"
     ]
    },
    {
     "name": "stdout",
     "output_type": "stream",
     "text": [
      "Saving model at epoch: 2, val acc: 0.4380952380952381\n",
      "Epoch: 2 Current val acc is 0.4380952380952381 while the best val acc is 0.4380952380952381\n"
     ]
    },
    {
     "name": "stderr",
     "output_type": "stream",
     "text": [
      "Epoch 3: 100%|██████████| 27/27 [02:31<00:00,  5.61s/it, Loss=1.91]\n",
      "Epoch 3: 100%|██████████| 27/27 [00:40<00:00,  1.50s/it, Loss=1.65]\n"
     ]
    },
    {
     "name": "stdout",
     "output_type": "stream",
     "text": [
      "Epoch: 3 Current val acc is 0.43333333333333335 while the best val acc is 0.4380952380952381\n"
     ]
    },
    {
     "name": "stderr",
     "output_type": "stream",
     "text": [
      "Epoch 4: 100%|██████████| 27/27 [02:31<00:00,  5.61s/it, Loss=1.89]\n",
      "Epoch 4: 100%|██████████| 27/27 [00:40<00:00,  1.50s/it, Loss=1.83]\n"
     ]
    },
    {
     "name": "stdout",
     "output_type": "stream",
     "text": [
      "Epoch: 4 Current val acc is 0.35714285714285715 while the best val acc is 0.4380952380952381\n"
     ]
    },
    {
     "name": "stderr",
     "output_type": "stream",
     "text": [
      "Epoch 5: 100%|██████████| 27/27 [02:31<00:00,  5.61s/it, Loss=1.78]\n",
      "Epoch 5: 100%|██████████| 27/27 [00:40<00:00,  1.50s/it, Loss=1.56]\n"
     ]
    },
    {
     "name": "stdout",
     "output_type": "stream",
     "text": [
      "Epoch: 5 Current val acc is 0.43333333333333335 while the best val acc is 0.4380952380952381\n"
     ]
    },
    {
     "name": "stderr",
     "output_type": "stream",
     "text": [
      "Epoch 6: 100%|██████████| 27/27 [02:31<00:00,  5.60s/it, Loss=1.75]\n",
      "Epoch 6: 100%|██████████| 27/27 [00:40<00:00,  1.49s/it, Loss=1.38]\n"
     ]
    },
    {
     "name": "stdout",
     "output_type": "stream",
     "text": [
      "Saving model at epoch: 6, val acc: 0.5190476190476191\n",
      "Epoch: 6 Current val acc is 0.5190476190476191 while the best val acc is 0.5190476190476191\n"
     ]
    },
    {
     "name": "stderr",
     "output_type": "stream",
     "text": [
      "Epoch 7: 100%|██████████| 27/27 [02:31<00:00,  5.61s/it, Loss=1.79]\n",
      "Epoch 7: 100%|██████████| 27/27 [00:40<00:00,  1.50s/it, Loss=1.52]\n"
     ]
    },
    {
     "name": "stdout",
     "output_type": "stream",
     "text": [
      "Epoch: 7 Current val acc is 0.4714285714285714 while the best val acc is 0.5190476190476191\n"
     ]
    },
    {
     "name": "stderr",
     "output_type": "stream",
     "text": [
      "Epoch 8: 100%|██████████| 27/27 [02:31<00:00,  5.61s/it, Loss=1.57]\n",
      "Epoch 8: 100%|██████████| 27/27 [00:40<00:00,  1.50s/it, Loss=1.25]\n"
     ]
    },
    {
     "name": "stdout",
     "output_type": "stream",
     "text": [
      "Saving model at epoch: 8, val acc: 0.5380952380952381\n",
      "Epoch: 8 Current val acc is 0.5380952380952381 while the best val acc is 0.5380952380952381\n"
     ]
    },
    {
     "name": "stderr",
     "output_type": "stream",
     "text": [
      "Epoch 9: 100%|██████████| 27/27 [02:31<00:00,  5.61s/it, Loss=1.49]\n",
      "Epoch 9: 100%|██████████| 27/27 [00:40<00:00,  1.49s/it, Loss=1.36]\n"
     ]
    },
    {
     "name": "stdout",
     "output_type": "stream",
     "text": [
      "Epoch: 9 Current val acc is 0.4857142857142857 while the best val acc is 0.5380952380952381\n"
     ]
    },
    {
     "name": "stderr",
     "output_type": "stream",
     "text": [
      "Epoch 10: 100%|██████████| 27/27 [02:31<00:00,  5.61s/it, Loss=1.53]\n",
      "Epoch 10: 100%|██████████| 27/27 [00:40<00:00,  1.50s/it, Loss=1.18]\n"
     ]
    },
    {
     "name": "stdout",
     "output_type": "stream",
     "text": [
      "Saving model at epoch: 10, val acc: 0.580952380952381\n",
      "Epoch: 10 Current val acc is 0.580952380952381 while the best val acc is 0.580952380952381\n"
     ]
    },
    {
     "name": "stderr",
     "output_type": "stream",
     "text": [
      "Epoch 11: 100%|██████████| 27/27 [02:31<00:00,  5.61s/it, Loss=1.51]\n",
      "Epoch 11: 100%|██████████| 27/27 [00:40<00:00,  1.49s/it, Loss=1.2] \n"
     ]
    },
    {
     "name": "stdout",
     "output_type": "stream",
     "text": [
      "Saving model at epoch: 11, val acc: 0.5904761904761905\n",
      "Epoch: 11 Current val acc is 0.5904761904761905 while the best val acc is 0.5904761904761905\n"
     ]
    },
    {
     "name": "stderr",
     "output_type": "stream",
     "text": [
      "Epoch 12: 100%|██████████| 27/27 [02:31<00:00,  5.61s/it, Loss=1.4] \n",
      "Epoch 12: 100%|██████████| 27/27 [00:40<00:00,  1.50s/it, Loss=1.17]\n"
     ]
    },
    {
     "name": "stdout",
     "output_type": "stream",
     "text": [
      "Epoch: 12 Current val acc is 0.5285714285714286 while the best val acc is 0.5904761904761905\n"
     ]
    },
    {
     "name": "stderr",
     "output_type": "stream",
     "text": [
      "Epoch 13: 100%|██████████| 27/27 [02:31<00:00,  5.61s/it, Loss=1.38]\n",
      "Epoch 13: 100%|██████████| 27/27 [00:40<00:00,  1.50s/it, Loss=1.14]\n"
     ]
    },
    {
     "name": "stdout",
     "output_type": "stream",
     "text": [
      "Epoch: 13 Current val acc is 0.5666666666666667 while the best val acc is 0.5904761904761905\n"
     ]
    },
    {
     "name": "stderr",
     "output_type": "stream",
     "text": [
      "Epoch 14: 100%|██████████| 27/27 [02:31<00:00,  5.61s/it, Loss=1.34]\n",
      "Epoch 14: 100%|██████████| 27/27 [00:40<00:00,  1.50s/it, Loss=1.17]\n"
     ]
    },
    {
     "name": "stdout",
     "output_type": "stream",
     "text": [
      "Epoch: 14 Current val acc is 0.5095238095238095 while the best val acc is 0.5904761904761905\n"
     ]
    },
    {
     "name": "stderr",
     "output_type": "stream",
     "text": [
      "Epoch 15: 100%|██████████| 27/27 [02:31<00:00,  5.61s/it, Loss=1.36]\n",
      "Epoch 15: 100%|██████████| 27/27 [00:40<00:00,  1.50s/it, Loss=1.14]\n"
     ]
    },
    {
     "name": "stdout",
     "output_type": "stream",
     "text": [
      "Epoch: 15 Current val acc is 0.5714285714285714 while the best val acc is 0.5904761904761905\n"
     ]
    },
    {
     "name": "stderr",
     "output_type": "stream",
     "text": [
      "Epoch 16: 100%|██████████| 27/27 [02:31<00:00,  5.61s/it, Loss=1.3] \n",
      "Epoch 16: 100%|██████████| 27/27 [00:40<00:00,  1.50s/it, Loss=1.2] \n"
     ]
    },
    {
     "name": "stdout",
     "output_type": "stream",
     "text": [
      "Epoch: 16 Current val acc is 0.5333333333333333 while the best val acc is 0.5904761904761905\n"
     ]
    },
    {
     "name": "stderr",
     "output_type": "stream",
     "text": [
      "Epoch 17: 100%|██████████| 27/27 [02:31<00:00,  5.61s/it, Loss=1.33]\n",
      "Epoch 17: 100%|██████████| 27/27 [00:40<00:00,  1.50s/it, Loss=1.11]\n"
     ]
    },
    {
     "name": "stdout",
     "output_type": "stream",
     "text": [
      "Saving model at epoch: 17, val acc: 0.6\n",
      "Epoch: 17 Current val acc is 0.6 while the best val acc is 0.6\n"
     ]
    },
    {
     "name": "stderr",
     "output_type": "stream",
     "text": [
      "Epoch 18: 100%|██████████| 27/27 [02:31<00:00,  5.61s/it, Loss=1.34]\n",
      "Epoch 18: 100%|██████████| 27/27 [00:40<00:00,  1.50s/it, Loss=1.18]\n"
     ]
    },
    {
     "name": "stdout",
     "output_type": "stream",
     "text": [
      "Epoch: 18 Current val acc is 0.5380952380952381 while the best val acc is 0.6\n"
     ]
    },
    {
     "name": "stderr",
     "output_type": "stream",
     "text": [
      "Epoch 19: 100%|██████████| 27/27 [02:31<00:00,  5.61s/it, Loss=1.29]\n",
      "Epoch 19: 100%|██████████| 27/27 [00:40<00:00,  1.50s/it, Loss=1.08]\n"
     ]
    },
    {
     "name": "stdout",
     "output_type": "stream",
     "text": [
      "Saving model at epoch: 19, val acc: 0.6095238095238096\n",
      "Epoch: 19 Current val acc is 0.6095238095238096 while the best val acc is 0.6095238095238096\n"
     ]
    },
    {
     "name": "stderr",
     "output_type": "stream",
     "text": [
      "Epoch 20: 100%|██████████| 27/27 [02:31<00:00,  5.61s/it, Loss=1.31]\n",
      "Epoch 20: 100%|██████████| 27/27 [00:40<00:00,  1.50s/it, Loss=1.08]\n"
     ]
    },
    {
     "name": "stdout",
     "output_type": "stream",
     "text": [
      "Epoch: 20 Current val acc is 0.5904761904761905 while the best val acc is 0.6095238095238096\n"
     ]
    },
    {
     "name": "stderr",
     "output_type": "stream",
     "text": [
      "Epoch 21: 100%|██████████| 27/27 [02:31<00:00,  5.61s/it, Loss=1.16]\n",
      "Epoch 21: 100%|██████████| 27/27 [00:40<00:00,  1.50s/it, Loss=1.13]\n"
     ]
    },
    {
     "name": "stdout",
     "output_type": "stream",
     "text": [
      "Saving model at epoch: 21, val acc: 0.6190476190476191\n",
      "Epoch: 21 Current val acc is 0.6190476190476191 while the best val acc is 0.6190476190476191\n"
     ]
    },
    {
     "name": "stderr",
     "output_type": "stream",
     "text": [
      "Epoch 22: 100%|██████████| 27/27 [02:31<00:00,  5.61s/it, Loss=1.18]\n",
      "Epoch 22: 100%|██████████| 27/27 [00:40<00:00,  1.50s/it, Loss=1.11]\n"
     ]
    },
    {
     "name": "stdout",
     "output_type": "stream",
     "text": [
      "Saving model at epoch: 22, val acc: 0.6238095238095238\n",
      "Epoch: 22 Current val acc is 0.6238095238095238 while the best val acc is 0.6238095238095238\n"
     ]
    },
    {
     "name": "stderr",
     "output_type": "stream",
     "text": [
      "Epoch 23: 100%|██████████| 27/27 [02:31<00:00,  5.61s/it, Loss=1.2] \n",
      "Epoch 23: 100%|██████████| 27/27 [00:40<00:00,  1.50s/it, Loss=1.02]\n"
     ]
    },
    {
     "name": "stdout",
     "output_type": "stream",
     "text": [
      "Saving model at epoch: 23, val acc: 0.6523809523809524\n",
      "Epoch: 23 Current val acc is 0.6523809523809524 while the best val acc is 0.6523809523809524\n"
     ]
    },
    {
     "name": "stderr",
     "output_type": "stream",
     "text": [
      "Epoch 24: 100%|██████████| 27/27 [02:31<00:00,  5.61s/it, Loss=1.14]\n",
      "Epoch 24: 100%|██████████| 27/27 [00:40<00:00,  1.50s/it, Loss=1.06]\n"
     ]
    },
    {
     "name": "stdout",
     "output_type": "stream",
     "text": [
      "Saving model at epoch: 24, val acc: 0.6714285714285714\n",
      "Epoch: 24 Current val acc is 0.6714285714285714 while the best val acc is 0.6714285714285714\n"
     ]
    },
    {
     "name": "stderr",
     "output_type": "stream",
     "text": [
      "Epoch 25: 100%|██████████| 27/27 [02:31<00:00,  5.61s/it, Loss=1.11]\n",
      "Epoch 25: 100%|██████████| 27/27 [00:40<00:00,  1.50s/it, Loss=1.07]\n"
     ]
    },
    {
     "name": "stdout",
     "output_type": "stream",
     "text": [
      "Epoch: 25 Current val acc is 0.6571428571428571 while the best val acc is 0.6714285714285714\n"
     ]
    },
    {
     "name": "stderr",
     "output_type": "stream",
     "text": [
      "Epoch 26: 100%|██████████| 27/27 [02:31<00:00,  5.61s/it, Loss=1.23]\n",
      "Epoch 26: 100%|██████████| 27/27 [00:40<00:00,  1.50s/it, Loss=1.16]\n"
     ]
    },
    {
     "name": "stdout",
     "output_type": "stream",
     "text": [
      "Epoch: 26 Current val acc is 0.5904761904761905 while the best val acc is 0.6714285714285714\n"
     ]
    },
    {
     "name": "stderr",
     "output_type": "stream",
     "text": [
      "Epoch 27: 100%|██████████| 27/27 [02:31<00:00,  5.61s/it, Loss=1.09]\n",
      "Epoch 27: 100%|██████████| 27/27 [00:40<00:00,  1.50s/it, Loss=1.08]\n"
     ]
    },
    {
     "name": "stdout",
     "output_type": "stream",
     "text": [
      "Epoch: 27 Current val acc is 0.6285714285714286 while the best val acc is 0.6714285714285714\n"
     ]
    },
    {
     "name": "stderr",
     "output_type": "stream",
     "text": [
      "Epoch 28: 100%|██████████| 27/27 [02:31<00:00,  5.61s/it, Loss=1.12]\n",
      "Epoch 28: 100%|██████████| 27/27 [00:40<00:00,  1.50s/it, Loss=1.02] \n"
     ]
    },
    {
     "name": "stdout",
     "output_type": "stream",
     "text": [
      "Saving model at epoch: 28, val acc: 0.6857142857142857\n",
      "Epoch: 28 Current val acc is 0.6857142857142857 while the best val acc is 0.6857142857142857\n"
     ]
    },
    {
     "name": "stderr",
     "output_type": "stream",
     "text": [
      "Epoch 29: 100%|██████████| 27/27 [02:31<00:00,  5.61s/it, Loss=1.07] \n",
      "Epoch 29: 100%|██████████| 27/27 [00:40<00:00,  1.49s/it, Loss=1.02] \n"
     ]
    },
    {
     "name": "stdout",
     "output_type": "stream",
     "text": [
      "Epoch: 29 Current val acc is 0.6619047619047619 while the best val acc is 0.6857142857142857\n"
     ]
    },
    {
     "name": "stderr",
     "output_type": "stream",
     "text": [
      "Epoch 30: 100%|██████████| 27/27 [02:31<00:00,  5.61s/it, Loss=1.16] \n",
      "Epoch 30: 100%|██████████| 27/27 [00:40<00:00,  1.51s/it, Loss=1.01] \n"
     ]
    },
    {
     "name": "stdout",
     "output_type": "stream",
     "text": [
      "Epoch: 30 Current val acc is 0.6714285714285714 while the best val acc is 0.6857142857142857\n"
     ]
    },
    {
     "name": "stderr",
     "output_type": "stream",
     "text": [
      "Epoch 31: 100%|██████████| 27/27 [02:39<00:00,  5.92s/it, Loss=1.09]\n",
      "Epoch 31: 100%|██████████| 27/27 [00:42<00:00,  1.59s/it, Loss=1]    \n"
     ]
    },
    {
     "name": "stdout",
     "output_type": "stream",
     "text": [
      "Epoch: 31 Current val acc is 0.6761904761904762 while the best val acc is 0.6857142857142857\n"
     ]
    },
    {
     "name": "stderr",
     "output_type": "stream",
     "text": [
      "Epoch 32: 100%|██████████| 27/27 [02:38<00:00,  5.87s/it, Loss=1.07] \n",
      "Epoch 32: 100%|██████████| 27/27 [01:06<00:00,  2.48s/it, Loss=1.01] \n"
     ]
    },
    {
     "name": "stdout",
     "output_type": "stream",
     "text": [
      "Saving model at epoch: 32, val acc: 0.6952380952380952\n",
      "Epoch: 32 Current val acc is 0.6952380952380952 while the best val acc is 0.6952380952380952\n"
     ]
    },
    {
     "name": "stderr",
     "output_type": "stream",
     "text": [
      "Epoch 33: 100%|██████████| 27/27 [02:27<00:00,  5.45s/it, Loss=1.03] \n",
      "Epoch 33: 100%|██████████| 27/27 [01:06<00:00,  2.47s/it, Loss=1.01] \n"
     ]
    },
    {
     "name": "stdout",
     "output_type": "stream",
     "text": [
      "Epoch: 33 Current val acc is 0.6904761904761905 while the best val acc is 0.6952380952380952\n"
     ]
    },
    {
     "name": "stderr",
     "output_type": "stream",
     "text": [
      "Epoch 34: 100%|██████████| 27/27 [02:27<00:00,  5.45s/it, Loss=0.98] \n",
      "Epoch 34: 100%|██████████| 27/27 [01:06<00:00,  2.47s/it, Loss=1.03] \n"
     ]
    },
    {
     "name": "stdout",
     "output_type": "stream",
     "text": [
      "Epoch: 34 Current val acc is 0.680952380952381 while the best val acc is 0.6952380952380952\n"
     ]
    },
    {
     "name": "stderr",
     "output_type": "stream",
     "text": [
      "Epoch 35: 100%|██████████| 27/27 [02:27<00:00,  5.45s/it, Loss=1.13]\n",
      "Epoch 35: 100%|██████████| 27/27 [01:06<00:00,  2.47s/it, Loss=1.01] \n"
     ]
    },
    {
     "name": "stdout",
     "output_type": "stream",
     "text": [
      "Epoch: 35 Current val acc is 0.6904761904761905 while the best val acc is 0.6952380952380952\n"
     ]
    },
    {
     "name": "stderr",
     "output_type": "stream",
     "text": [
      "Epoch 36: 100%|██████████| 27/27 [02:27<00:00,  5.45s/it, Loss=1.12]\n",
      "Epoch 36: 100%|██████████| 27/27 [01:06<00:00,  2.47s/it, Loss=1.04]\n"
     ]
    },
    {
     "name": "stdout",
     "output_type": "stream",
     "text": [
      "Epoch: 36 Current val acc is 0.680952380952381 while the best val acc is 0.6952380952380952\n"
     ]
    },
    {
     "name": "stderr",
     "output_type": "stream",
     "text": [
      "Epoch 37: 100%|██████████| 27/27 [02:26<00:00,  5.41s/it, Loss=1.06]\n",
      "Epoch 37: 100%|██████████| 27/27 [01:06<00:00,  2.46s/it, Loss=1.05]\n"
     ]
    },
    {
     "name": "stdout",
     "output_type": "stream",
     "text": [
      "Epoch: 37 Current val acc is 0.6761904761904762 while the best val acc is 0.6952380952380952\n"
     ]
    },
    {
     "name": "stderr",
     "output_type": "stream",
     "text": [
      "Epoch 38: 100%|██████████| 27/27 [02:27<00:00,  5.45s/it, Loss=1.12]\n",
      "Epoch 38: 100%|██████████| 27/27 [01:06<00:00,  2.47s/it, Loss=1]    \n"
     ]
    },
    {
     "name": "stdout",
     "output_type": "stream",
     "text": [
      "Epoch: 38 Current val acc is 0.680952380952381 while the best val acc is 0.6952380952380952\n"
     ]
    },
    {
     "name": "stderr",
     "output_type": "stream",
     "text": [
      "Epoch 39: 100%|██████████| 27/27 [02:26<00:00,  5.44s/it, Loss=1.05]\n",
      "Epoch 39: 100%|██████████| 27/27 [01:06<00:00,  2.46s/it, Loss=0.987]\n"
     ]
    },
    {
     "name": "stdout",
     "output_type": "stream",
     "text": [
      "Saving model at epoch: 39, val acc: 0.7047619047619048\n",
      "Epoch: 39 Current val acc is 0.7047619047619048 while the best val acc is 0.7047619047619048\n"
     ]
    },
    {
     "name": "stderr",
     "output_type": "stream",
     "text": [
      "Epoch 40: 100%|██████████| 27/27 [02:28<00:00,  5.50s/it, Loss=1.07] \n",
      "Epoch 40: 100%|██████████| 27/27 [01:07<00:00,  2.49s/it, Loss=0.984]\n"
     ]
    },
    {
     "name": "stdout",
     "output_type": "stream",
     "text": [
      "Epoch: 40 Current val acc is 0.680952380952381 while the best val acc is 0.7047619047619048\n"
     ]
    },
    {
     "name": "stderr",
     "output_type": "stream",
     "text": [
      "Epoch 41: 100%|██████████| 27/27 [02:28<00:00,  5.51s/it, Loss=1.05]\n",
      "Epoch 41: 100%|██████████| 27/27 [01:07<00:00,  2.51s/it, Loss=1.02] \n"
     ]
    },
    {
     "name": "stdout",
     "output_type": "stream",
     "text": [
      "Epoch: 41 Current val acc is 0.680952380952381 while the best val acc is 0.7047619047619048\n"
     ]
    },
    {
     "name": "stderr",
     "output_type": "stream",
     "text": [
      "Epoch 42: 100%|██████████| 27/27 [02:28<00:00,  5.49s/it, Loss=0.96] \n",
      "Epoch 42: 100%|██████████| 27/27 [01:07<00:00,  2.49s/it, Loss=1.01] \n"
     ]
    },
    {
     "name": "stdout",
     "output_type": "stream",
     "text": [
      "Epoch: 42 Current val acc is 0.6904761904761905 while the best val acc is 0.7047619047619048\n"
     ]
    },
    {
     "name": "stderr",
     "output_type": "stream",
     "text": [
      "Epoch 43: 100%|██████████| 27/27 [02:28<00:00,  5.52s/it, Loss=0.978]\n",
      "Epoch 43: 100%|██████████| 27/27 [01:53<00:00,  4.21s/it, Loss=0.988]\n"
     ]
    },
    {
     "name": "stdout",
     "output_type": "stream",
     "text": [
      "Epoch: 43 Current val acc is 0.680952380952381 while the best val acc is 0.7047619047619048\n"
     ]
    },
    {
     "name": "stderr",
     "output_type": "stream",
     "text": [
      "Epoch 44: 100%|██████████| 27/27 [04:35<00:00, 10.19s/it, Loss=1.04]\n",
      "Epoch 44: 100%|██████████| 27/27 [02:02<00:00,  4.52s/it, Loss=0.985]\n"
     ]
    },
    {
     "name": "stdout",
     "output_type": "stream",
     "text": [
      "Epoch: 44 Current val acc is 0.6952380952380952 while the best val acc is 0.7047619047619048\n"
     ]
    },
    {
     "name": "stderr",
     "output_type": "stream",
     "text": [
      "Epoch 45: 100%|██████████| 27/27 [04:25<00:00,  9.83s/it, Loss=1.14] \n",
      "Epoch 45: 100%|██████████| 27/27 [02:02<00:00,  4.53s/it, Loss=1.01] \n"
     ]
    },
    {
     "name": "stdout",
     "output_type": "stream",
     "text": [
      "Epoch: 45 Current val acc is 0.6952380952380952 while the best val acc is 0.7047619047619048\n"
     ]
    },
    {
     "name": "stderr",
     "output_type": "stream",
     "text": [
      "Epoch 46: 100%|██████████| 27/27 [04:06<00:00,  9.13s/it, Loss=1.12]\n",
      "Epoch 46: 100%|██████████| 27/27 [01:22<00:00,  3.06s/it, Loss=1.01] \n"
     ]
    },
    {
     "name": "stdout",
     "output_type": "stream",
     "text": [
      "Epoch: 46 Current val acc is 0.6904761904761905 while the best val acc is 0.7047619047619048\n"
     ]
    },
    {
     "name": "stderr",
     "output_type": "stream",
     "text": [
      "Epoch 47: 100%|██████████| 27/27 [03:00<00:00,  6.69s/it, Loss=1.05] \n",
      "Epoch 47: 100%|██████████| 27/27 [01:22<00:00,  3.05s/it, Loss=0.969]\n"
     ]
    },
    {
     "name": "stdout",
     "output_type": "stream",
     "text": [
      "Epoch: 47 Current val acc is 0.6857142857142857 while the best val acc is 0.7047619047619048\n"
     ]
    },
    {
     "name": "stderr",
     "output_type": "stream",
     "text": [
      "Epoch 48: 100%|██████████| 27/27 [03:00<00:00,  6.68s/it, Loss=0.901]\n",
      "Epoch 48: 100%|██████████| 27/27 [01:22<00:00,  3.05s/it, Loss=1.01]\n"
     ]
    },
    {
     "name": "stdout",
     "output_type": "stream",
     "text": [
      "Epoch: 48 Current val acc is 0.680952380952381 while the best val acc is 0.7047619047619048\n"
     ]
    },
    {
     "name": "stderr",
     "output_type": "stream",
     "text": [
      "Epoch 49: 100%|██████████| 27/27 [03:00<00:00,  6.69s/it, Loss=0.948]\n",
      "Epoch 49: 100%|██████████| 27/27 [01:22<00:00,  3.05s/it, Loss=0.982]\n"
     ]
    },
    {
     "name": "stdout",
     "output_type": "stream",
     "text": [
      "Epoch: 49 Current val acc is 0.6904761904761905 while the best val acc is 0.7047619047619048\n",
      "Fold 2/5\n"
     ]
    },
    {
     "name": "stderr",
     "output_type": "stream",
     "text": [
      "Epoch 0: 100%|██████████| 27/27 [02:52<00:00,  6.38s/it, Loss=2.68]\n",
      "Epoch 0: 100%|██████████| 27/27 [01:19<00:00,  2.95s/it, Loss=3.55]\n"
     ]
    },
    {
     "name": "stdout",
     "output_type": "stream",
     "text": [
      "Saving model at epoch: 0, val acc: 0.19523809523809524\n",
      "Epoch: 0 Current val acc is 0.19523809523809524 while the best val acc is 0.19523809523809524\n"
     ]
    },
    {
     "name": "stderr",
     "output_type": "stream",
     "text": [
      "Epoch 1: 100%|██████████| 27/27 [02:52<00:00,  6.39s/it, Loss=2.24]\n",
      "Epoch 1: 100%|██████████| 27/27 [01:19<00:00,  2.96s/it, Loss=1.83]\n"
     ]
    },
    {
     "name": "stdout",
     "output_type": "stream",
     "text": [
      "Saving model at epoch: 1, val acc: 0.3904761904761905\n",
      "Epoch: 1 Current val acc is 0.3904761904761905 while the best val acc is 0.3904761904761905\n"
     ]
    },
    {
     "name": "stderr",
     "output_type": "stream",
     "text": [
      "Epoch 2: 100%|██████████| 27/27 [02:52<00:00,  6.39s/it, Loss=2.03]\n",
      "Epoch 2: 100%|██████████| 27/27 [01:19<00:00,  2.96s/it, Loss=1.82]\n"
     ]
    },
    {
     "name": "stdout",
     "output_type": "stream",
     "text": [
      "Epoch: 2 Current val acc is 0.3619047619047619 while the best val acc is 0.3904761904761905\n"
     ]
    },
    {
     "name": "stderr",
     "output_type": "stream",
     "text": [
      "Epoch 3: 100%|██████████| 27/27 [02:53<00:00,  6.42s/it, Loss=2.02]\n",
      "Epoch 3: 100%|██████████| 27/27 [01:19<00:00,  2.95s/it, Loss=2.68]\n"
     ]
    },
    {
     "name": "stdout",
     "output_type": "stream",
     "text": [
      "Epoch: 3 Current val acc is 0.3238095238095238 while the best val acc is 0.3904761904761905\n"
     ]
    },
    {
     "name": "stderr",
     "output_type": "stream",
     "text": [
      "Epoch 4: 100%|██████████| 27/27 [02:52<00:00,  6.39s/it, Loss=1.91]\n",
      "Epoch 4: 100%|██████████| 27/27 [01:19<00:00,  2.96s/it, Loss=1.63]\n"
     ]
    },
    {
     "name": "stdout",
     "output_type": "stream",
     "text": [
      "Saving model at epoch: 4, val acc: 0.41904761904761906\n",
      "Epoch: 4 Current val acc is 0.41904761904761906 while the best val acc is 0.41904761904761906\n"
     ]
    },
    {
     "name": "stderr",
     "output_type": "stream",
     "text": [
      "Epoch 5: 100%|██████████| 27/27 [02:52<00:00,  6.39s/it, Loss=1.86]\n",
      "Epoch 5: 100%|██████████| 27/27 [01:19<00:00,  2.96s/it, Loss=1.51]\n"
     ]
    },
    {
     "name": "stdout",
     "output_type": "stream",
     "text": [
      "Saving model at epoch: 5, val acc: 0.49523809523809526\n",
      "Epoch: 5 Current val acc is 0.49523809523809526 while the best val acc is 0.49523809523809526\n"
     ]
    },
    {
     "name": "stderr",
     "output_type": "stream",
     "text": [
      "Epoch 6: 100%|██████████| 27/27 [02:52<00:00,  6.39s/it, Loss=1.79]\n",
      "Epoch 6: 100%|██████████| 27/27 [01:19<00:00,  2.96s/it, Loss=1.5] \n"
     ]
    },
    {
     "name": "stdout",
     "output_type": "stream",
     "text": [
      "Epoch: 6 Current val acc is 0.44285714285714284 while the best val acc is 0.49523809523809526\n"
     ]
    },
    {
     "name": "stderr",
     "output_type": "stream",
     "text": [
      "Epoch 7: 100%|██████████| 27/27 [02:52<00:00,  6.39s/it, Loss=1.64]\n",
      "Epoch 7: 100%|██████████| 27/27 [01:19<00:00,  2.95s/it, Loss=1.36]\n"
     ]
    },
    {
     "name": "stdout",
     "output_type": "stream",
     "text": [
      "Saving model at epoch: 7, val acc: 0.5333333333333333\n",
      "Epoch: 7 Current val acc is 0.5333333333333333 while the best val acc is 0.5333333333333333\n"
     ]
    },
    {
     "name": "stderr",
     "output_type": "stream",
     "text": [
      "Epoch 8: 100%|██████████| 27/27 [02:52<00:00,  6.39s/it, Loss=1.54]\n",
      "Epoch 8: 100%|██████████| 27/27 [01:19<00:00,  2.95s/it, Loss=1.48]\n"
     ]
    },
    {
     "name": "stdout",
     "output_type": "stream",
     "text": [
      "Epoch: 8 Current val acc is 0.5142857142857142 while the best val acc is 0.5333333333333333\n"
     ]
    },
    {
     "name": "stderr",
     "output_type": "stream",
     "text": [
      "Epoch 9: 100%|██████████| 27/27 [02:52<00:00,  6.38s/it, Loss=1.59]\n",
      "Epoch 9: 100%|██████████| 27/27 [01:19<00:00,  2.95s/it, Loss=1.43]\n"
     ]
    },
    {
     "name": "stdout",
     "output_type": "stream",
     "text": [
      "Saving model at epoch: 9, val acc: 0.5666666666666667\n",
      "Epoch: 9 Current val acc is 0.5666666666666667 while the best val acc is 0.5666666666666667\n"
     ]
    },
    {
     "name": "stderr",
     "output_type": "stream",
     "text": [
      "Epoch 10: 100%|██████████| 27/27 [02:52<00:00,  6.38s/it, Loss=1.59]\n",
      "Epoch 10: 100%|██████████| 27/27 [01:19<00:00,  2.95s/it, Loss=1.41]\n"
     ]
    },
    {
     "name": "stdout",
     "output_type": "stream",
     "text": [
      "Epoch: 10 Current val acc is 0.5666666666666667 while the best val acc is 0.5666666666666667\n"
     ]
    },
    {
     "name": "stderr",
     "output_type": "stream",
     "text": [
      "Epoch 11: 100%|██████████| 27/27 [02:52<00:00,  6.38s/it, Loss=1.44]\n",
      "Epoch 11: 100%|██████████| 27/27 [01:19<00:00,  2.96s/it, Loss=1.23]\n"
     ]
    },
    {
     "name": "stdout",
     "output_type": "stream",
     "text": [
      "Saving model at epoch: 11, val acc: 0.5857142857142857\n",
      "Epoch: 11 Current val acc is 0.5857142857142857 while the best val acc is 0.5857142857142857\n"
     ]
    },
    {
     "name": "stderr",
     "output_type": "stream",
     "text": [
      "Epoch 12: 100%|██████████| 27/27 [02:52<00:00,  6.38s/it, Loss=1.47]\n",
      "Epoch 12: 100%|██████████| 27/27 [01:19<00:00,  2.96s/it, Loss=1.21]\n"
     ]
    },
    {
     "name": "stdout",
     "output_type": "stream",
     "text": [
      "Saving model at epoch: 12, val acc: 0.6523809523809524\n",
      "Epoch: 12 Current val acc is 0.6523809523809524 while the best val acc is 0.6523809523809524\n"
     ]
    },
    {
     "name": "stderr",
     "output_type": "stream",
     "text": [
      "Epoch 13: 100%|██████████| 27/27 [02:52<00:00,  6.39s/it, Loss=1.5] \n",
      "Epoch 13: 100%|██████████| 27/27 [01:19<00:00,  2.96s/it, Loss=1.32]\n"
     ]
    },
    {
     "name": "stdout",
     "output_type": "stream",
     "text": [
      "Epoch: 13 Current val acc is 0.5619047619047619 while the best val acc is 0.6523809523809524\n"
     ]
    },
    {
     "name": "stderr",
     "output_type": "stream",
     "text": [
      "Epoch 14: 100%|██████████| 27/27 [02:52<00:00,  6.38s/it, Loss=1.44]\n",
      "Epoch 14: 100%|██████████| 27/27 [01:19<00:00,  2.96s/it, Loss=1.26]\n"
     ]
    },
    {
     "name": "stdout",
     "output_type": "stream",
     "text": [
      "Epoch: 14 Current val acc is 0.5666666666666667 while the best val acc is 0.6523809523809524\n"
     ]
    },
    {
     "name": "stderr",
     "output_type": "stream",
     "text": [
      "Epoch 15: 100%|██████████| 27/27 [02:52<00:00,  6.38s/it, Loss=1.38]\n",
      "Epoch 15: 100%|██████████| 27/27 [01:19<00:00,  2.95s/it, Loss=1.22]\n"
     ]
    },
    {
     "name": "stdout",
     "output_type": "stream",
     "text": [
      "Epoch: 15 Current val acc is 0.5619047619047619 while the best val acc is 0.6523809523809524\n"
     ]
    },
    {
     "name": "stderr",
     "output_type": "stream",
     "text": [
      "Epoch 16: 100%|██████████| 27/27 [02:52<00:00,  6.39s/it, Loss=1.41]\n",
      "Epoch 16: 100%|██████████| 27/27 [01:19<00:00,  2.95s/it, Loss=1.18]\n"
     ]
    },
    {
     "name": "stdout",
     "output_type": "stream",
     "text": [
      "Epoch: 16 Current val acc is 0.638095238095238 while the best val acc is 0.6523809523809524\n"
     ]
    },
    {
     "name": "stderr",
     "output_type": "stream",
     "text": [
      "Epoch 17: 100%|██████████| 27/27 [02:52<00:00,  6.37s/it, Loss=1.39]\n",
      "Epoch 17: 100%|██████████| 27/27 [01:23<00:00,  3.10s/it, Loss=1.19]\n"
     ]
    },
    {
     "name": "stdout",
     "output_type": "stream",
     "text": [
      "Epoch: 17 Current val acc is 0.6047619047619047 while the best val acc is 0.6523809523809524\n"
     ]
    },
    {
     "name": "stderr",
     "output_type": "stream",
     "text": [
      "Epoch 18: 100%|██████████| 27/27 [02:52<00:00,  6.38s/it, Loss=1.41]\n",
      "Epoch 18: 100%|██████████| 27/27 [01:19<00:00,  2.96s/it, Loss=1.23]\n"
     ]
    },
    {
     "name": "stdout",
     "output_type": "stream",
     "text": [
      "Epoch: 18 Current val acc is 0.6238095238095238 while the best val acc is 0.6523809523809524\n"
     ]
    },
    {
     "name": "stderr",
     "output_type": "stream",
     "text": [
      "Epoch 19: 100%|██████████| 27/27 [02:52<00:00,  6.38s/it, Loss=1.36]\n",
      "Epoch 19: 100%|██████████| 27/27 [01:19<00:00,  2.95s/it, Loss=1.15]\n"
     ]
    },
    {
     "name": "stdout",
     "output_type": "stream",
     "text": [
      "Epoch: 19 Current val acc is 0.6428571428571429 while the best val acc is 0.6523809523809524\n"
     ]
    },
    {
     "name": "stderr",
     "output_type": "stream",
     "text": [
      "Epoch 20: 100%|██████████| 27/27 [02:52<00:00,  6.38s/it, Loss=1.3] \n",
      "Epoch 20: 100%|██████████| 27/27 [01:19<00:00,  2.95s/it, Loss=1.23]\n"
     ]
    },
    {
     "name": "stdout",
     "output_type": "stream",
     "text": [
      "Epoch: 20 Current val acc is 0.5714285714285714 while the best val acc is 0.6523809523809524\n"
     ]
    },
    {
     "name": "stderr",
     "output_type": "stream",
     "text": [
      "Epoch 21: 100%|██████████| 27/27 [02:52<00:00,  6.39s/it, Loss=1.31]\n",
      "Epoch 21: 100%|██████████| 27/27 [01:19<00:00,  2.95s/it, Loss=1.17]\n"
     ]
    },
    {
     "name": "stdout",
     "output_type": "stream",
     "text": [
      "Epoch: 21 Current val acc is 0.6095238095238096 while the best val acc is 0.6523809523809524\n"
     ]
    },
    {
     "name": "stderr",
     "output_type": "stream",
     "text": [
      "Epoch 22: 100%|██████████| 27/27 [03:06<00:00,  6.91s/it, Loss=1.34]\n",
      "Epoch 22: 100%|██████████| 27/27 [01:51<00:00,  4.12s/it, Loss=1.2] \n"
     ]
    },
    {
     "name": "stdout",
     "output_type": "stream",
     "text": [
      "Epoch: 22 Current val acc is 0.6238095238095238 while the best val acc is 0.6523809523809524\n"
     ]
    },
    {
     "name": "stderr",
     "output_type": "stream",
     "text": [
      "Epoch 23: 100%|██████████| 27/27 [03:09<00:00,  7.00s/it, Loss=1.25]\n",
      "Epoch 23: 100%|██████████| 27/27 [01:23<00:00,  3.09s/it, Loss=1.12]\n"
     ]
    },
    {
     "name": "stdout",
     "output_type": "stream",
     "text": [
      "Epoch: 23 Current val acc is 0.6190476190476191 while the best val acc is 0.6523809523809524\n"
     ]
    },
    {
     "name": "stderr",
     "output_type": "stream",
     "text": [
      "Epoch 24: 100%|██████████| 27/27 [03:00<00:00,  6.70s/it, Loss=1.26]\n",
      "Epoch 24: 100%|██████████| 27/27 [01:38<00:00,  3.65s/it, Loss=1.13]\n"
     ]
    },
    {
     "name": "stdout",
     "output_type": "stream",
     "text": [
      "Epoch: 24 Current val acc is 0.6333333333333333 while the best val acc is 0.6523809523809524\n"
     ]
    },
    {
     "name": "stderr",
     "output_type": "stream",
     "text": [
      "Epoch 25: 100%|██████████| 27/27 [03:28<00:00,  7.71s/it, Loss=1.32]\n",
      "Epoch 25: 100%|██████████| 27/27 [01:34<00:00,  3.51s/it, Loss=1.14]\n"
     ]
    },
    {
     "name": "stdout",
     "output_type": "stream",
     "text": [
      "Epoch: 25 Current val acc is 0.638095238095238 while the best val acc is 0.6523809523809524\n"
     ]
    },
    {
     "name": "stderr",
     "output_type": "stream",
     "text": [
      "Epoch 26: 100%|██████████| 27/27 [03:13<00:00,  7.17s/it, Loss=1.21]\n",
      "Epoch 26: 100%|██████████| 27/27 [01:26<00:00,  3.22s/it, Loss=1.13]\n"
     ]
    },
    {
     "name": "stdout",
     "output_type": "stream",
     "text": [
      "Epoch: 26 Current val acc is 0.6285714285714286 while the best val acc is 0.6523809523809524\n"
     ]
    },
    {
     "name": "stderr",
     "output_type": "stream",
     "text": [
      "Epoch 27: 100%|██████████| 27/27 [03:27<00:00,  7.67s/it, Loss=1.16] \n",
      "Epoch 27: 100%|██████████| 27/27 [01:36<00:00,  3.58s/it, Loss=1.11]\n"
     ]
    },
    {
     "name": "stdout",
     "output_type": "stream",
     "text": [
      "Saving model at epoch: 27, val acc: 0.6714285714285714\n",
      "Epoch: 27 Current val acc is 0.6714285714285714 while the best val acc is 0.6714285714285714\n"
     ]
    },
    {
     "name": "stderr",
     "output_type": "stream",
     "text": [
      "Epoch 28: 100%|██████████| 27/27 [03:24<00:00,  7.58s/it, Loss=1.25]\n",
      "Epoch 28: 100%|██████████| 27/27 [01:36<00:00,  3.58s/it, Loss=1.09]\n"
     ]
    },
    {
     "name": "stdout",
     "output_type": "stream",
     "text": [
      "Epoch: 28 Current val acc is 0.6333333333333333 while the best val acc is 0.6714285714285714\n"
     ]
    },
    {
     "name": "stderr",
     "output_type": "stream",
     "text": [
      "Epoch 29: 100%|██████████| 27/27 [03:13<00:00,  7.17s/it, Loss=1.16]\n",
      "Epoch 29: 100%|██████████| 27/27 [01:21<00:00,  3.02s/it, Loss=1.08]\n"
     ]
    },
    {
     "name": "stdout",
     "output_type": "stream",
     "text": [
      "Epoch: 29 Current val acc is 0.6666666666666666 while the best val acc is 0.6714285714285714\n"
     ]
    },
    {
     "name": "stderr",
     "output_type": "stream",
     "text": [
      "Epoch 30: 100%|██████████| 27/27 [03:25<00:00,  7.61s/it, Loss=1.14]\n",
      "Epoch 30: 100%|██████████| 27/27 [01:38<00:00,  3.66s/it, Loss=1.1] \n"
     ]
    },
    {
     "name": "stdout",
     "output_type": "stream",
     "text": [
      "Saving model at epoch: 30, val acc: 0.6761904761904762\n",
      "Epoch: 30 Current val acc is 0.6761904761904762 while the best val acc is 0.6761904761904762\n"
     ]
    },
    {
     "name": "stderr",
     "output_type": "stream",
     "text": [
      "Epoch 31: 100%|██████████| 27/27 [22:52<00:00, 50.84s/it, Loss=1.17]  \n",
      "Epoch 31: 100%|██████████| 27/27 [02:13<00:00,  4.94s/it, Loss=1.08]\n"
     ]
    },
    {
     "name": "stdout",
     "output_type": "stream",
     "text": [
      "Saving model at epoch: 31, val acc: 0.6857142857142857\n",
      "Epoch: 31 Current val acc is 0.6857142857142857 while the best val acc is 0.6857142857142857\n"
     ]
    },
    {
     "name": "stderr",
     "output_type": "stream",
     "text": [
      "Epoch 32: 100%|██████████| 27/27 [04:47<00:00, 10.63s/it, Loss=1.19]\n",
      "Epoch 32: 100%|██████████| 27/27 [02:15<00:00,  5.02s/it, Loss=1.09]\n"
     ]
    },
    {
     "name": "stdout",
     "output_type": "stream",
     "text": [
      "Epoch: 32 Current val acc is 0.6761904761904762 while the best val acc is 0.6857142857142857\n"
     ]
    },
    {
     "name": "stderr",
     "output_type": "stream",
     "text": [
      "Epoch 33: 100%|██████████| 27/27 [04:51<00:00, 10.80s/it, Loss=1.07] \n",
      "Epoch 33: 100%|██████████| 27/27 [02:15<00:00,  5.01s/it, Loss=1.09]\n"
     ]
    },
    {
     "name": "stdout",
     "output_type": "stream",
     "text": [
      "Epoch: 33 Current val acc is 0.6714285714285714 while the best val acc is 0.6857142857142857\n"
     ]
    },
    {
     "name": "stderr",
     "output_type": "stream",
     "text": [
      "Epoch 34: 100%|██████████| 27/27 [02:31<00:00,  5.61s/it, Loss=1.1] \n",
      "Epoch 34: 100%|██████████| 27/27 [01:07<00:00,  2.51s/it, Loss=1.06]\n"
     ]
    },
    {
     "name": "stdout",
     "output_type": "stream",
     "text": [
      "Saving model at epoch: 34, val acc: 0.6952380952380952\n",
      "Epoch: 34 Current val acc is 0.6952380952380952 while the best val acc is 0.6952380952380952\n"
     ]
    },
    {
     "name": "stderr",
     "output_type": "stream",
     "text": [
      "Epoch 35: 100%|██████████| 27/27 [02:27<00:00,  5.45s/it, Loss=1.08]\n",
      "Epoch 35: 100%|██████████| 27/27 [01:07<00:00,  2.51s/it, Loss=1.05]\n"
     ]
    },
    {
     "name": "stdout",
     "output_type": "stream",
     "text": [
      "Epoch: 35 Current val acc is 0.680952380952381 while the best val acc is 0.6952380952380952\n"
     ]
    },
    {
     "name": "stderr",
     "output_type": "stream",
     "text": [
      "Epoch 36: 100%|██████████| 27/27 [02:27<00:00,  5.45s/it, Loss=1.17] \n",
      "Epoch 36: 100%|██████████| 27/27 [01:07<00:00,  2.51s/it, Loss=1.06]\n"
     ]
    },
    {
     "name": "stdout",
     "output_type": "stream",
     "text": [
      "Epoch: 36 Current val acc is 0.6666666666666666 while the best val acc is 0.6952380952380952\n"
     ]
    },
    {
     "name": "stderr",
     "output_type": "stream",
     "text": [
      "Epoch 37: 100%|██████████| 27/27 [02:27<00:00,  5.45s/it, Loss=1.14] \n",
      "Epoch 37: 100%|██████████| 27/27 [01:07<00:00,  2.51s/it, Loss=1.07]\n"
     ]
    },
    {
     "name": "stdout",
     "output_type": "stream",
     "text": [
      "Epoch: 37 Current val acc is 0.6761904761904762 while the best val acc is 0.6952380952380952\n"
     ]
    },
    {
     "name": "stderr",
     "output_type": "stream",
     "text": [
      "Epoch 38: 100%|██████████| 27/27 [02:27<00:00,  5.45s/it, Loss=1.1] \n",
      "Epoch 38: 100%|██████████| 27/27 [01:07<00:00,  2.52s/it, Loss=1.04]\n"
     ]
    },
    {
     "name": "stdout",
     "output_type": "stream",
     "text": [
      "Epoch: 38 Current val acc is 0.680952380952381 while the best val acc is 0.6952380952380952\n"
     ]
    },
    {
     "name": "stderr",
     "output_type": "stream",
     "text": [
      "Epoch 39: 100%|██████████| 27/27 [02:27<00:00,  5.45s/it, Loss=1.09] \n",
      "Epoch 39: 100%|██████████| 27/27 [01:07<00:00,  2.51s/it, Loss=1.07]\n"
     ]
    },
    {
     "name": "stdout",
     "output_type": "stream",
     "text": [
      "Epoch: 39 Current val acc is 0.680952380952381 while the best val acc is 0.6952380952380952\n"
     ]
    },
    {
     "name": "stderr",
     "output_type": "stream",
     "text": [
      "Epoch 40: 100%|██████████| 27/27 [02:26<00:00,  5.44s/it, Loss=1.13]\n",
      "Epoch 40: 100%|██████████| 27/27 [01:07<00:00,  2.51s/it, Loss=1.06]\n"
     ]
    },
    {
     "name": "stdout",
     "output_type": "stream",
     "text": [
      "Epoch: 40 Current val acc is 0.6857142857142857 while the best val acc is 0.6952380952380952\n"
     ]
    },
    {
     "name": "stderr",
     "output_type": "stream",
     "text": [
      "Epoch 41: 100%|██████████| 27/27 [02:26<00:00,  5.44s/it, Loss=1.03] \n",
      "Epoch 41: 100%|██████████| 27/27 [01:07<00:00,  2.51s/it, Loss=1.03]\n"
     ]
    },
    {
     "name": "stdout",
     "output_type": "stream",
     "text": [
      "Epoch: 41 Current val acc is 0.6857142857142857 while the best val acc is 0.6952380952380952\n"
     ]
    },
    {
     "name": "stderr",
     "output_type": "stream",
     "text": [
      "Epoch 42: 100%|██████████| 27/27 [02:27<00:00,  5.45s/it, Loss=1.21]\n",
      "Epoch 42: 100%|██████████| 27/27 [01:07<00:00,  2.51s/it, Loss=1.06]\n"
     ]
    },
    {
     "name": "stdout",
     "output_type": "stream",
     "text": [
      "Epoch: 42 Current val acc is 0.6714285714285714 while the best val acc is 0.6952380952380952\n"
     ]
    },
    {
     "name": "stderr",
     "output_type": "stream",
     "text": [
      "Epoch 43: 100%|██████████| 27/27 [02:26<00:00,  5.44s/it, Loss=1.05]\n",
      "Epoch 43: 100%|██████████| 27/27 [01:07<00:00,  2.51s/it, Loss=1.03]\n"
     ]
    },
    {
     "name": "stdout",
     "output_type": "stream",
     "text": [
      "Epoch: 43 Current val acc is 0.6952380952380952 while the best val acc is 0.6952380952380952\n"
     ]
    },
    {
     "name": "stderr",
     "output_type": "stream",
     "text": [
      "Epoch 44: 100%|██████████| 27/27 [02:27<00:00,  5.45s/it, Loss=1.12]\n",
      "Epoch 44: 100%|██████████| 27/27 [01:07<00:00,  2.51s/it, Loss=1.04]\n"
     ]
    },
    {
     "name": "stdout",
     "output_type": "stream",
     "text": [
      "Epoch: 44 Current val acc is 0.6952380952380952 while the best val acc is 0.6952380952380952\n"
     ]
    },
    {
     "name": "stderr",
     "output_type": "stream",
     "text": [
      "Epoch 45: 100%|██████████| 27/27 [02:27<00:00,  5.46s/it, Loss=1.13]\n",
      "Epoch 45: 100%|██████████| 27/27 [01:07<00:00,  2.52s/it, Loss=1.04]\n"
     ]
    },
    {
     "name": "stdout",
     "output_type": "stream",
     "text": [
      "Epoch: 45 Current val acc is 0.6666666666666666 while the best val acc is 0.6952380952380952\n"
     ]
    },
    {
     "name": "stderr",
     "output_type": "stream",
     "text": [
      "Epoch 46: 100%|██████████| 27/27 [02:27<00:00,  5.45s/it, Loss=0.945]\n",
      "Epoch 46: 100%|██████████| 27/27 [01:07<00:00,  2.51s/it, Loss=1.05]\n"
     ]
    },
    {
     "name": "stdout",
     "output_type": "stream",
     "text": [
      "Epoch: 46 Current val acc is 0.6904761904761905 while the best val acc is 0.6952380952380952\n"
     ]
    },
    {
     "name": "stderr",
     "output_type": "stream",
     "text": [
      "Epoch 47: 100%|██████████| 27/27 [02:27<00:00,  5.45s/it, Loss=0.993]\n",
      "Epoch 47: 100%|██████████| 27/27 [01:07<00:00,  2.51s/it, Loss=1.03]\n"
     ]
    },
    {
     "name": "stdout",
     "output_type": "stream",
     "text": [
      "Epoch: 47 Current val acc is 0.6952380952380952 while the best val acc is 0.6952380952380952\n"
     ]
    },
    {
     "name": "stderr",
     "output_type": "stream",
     "text": [
      "Epoch 48: 100%|██████████| 27/27 [02:26<00:00,  5.44s/it, Loss=0.978]\n",
      "Epoch 48: 100%|██████████| 27/27 [01:07<00:00,  2.51s/it, Loss=1.03]\n"
     ]
    },
    {
     "name": "stdout",
     "output_type": "stream",
     "text": [
      "Epoch: 48 Current val acc is 0.680952380952381 while the best val acc is 0.6952380952380952\n"
     ]
    },
    {
     "name": "stderr",
     "output_type": "stream",
     "text": [
      "Epoch 49: 100%|██████████| 27/27 [02:27<00:00,  5.45s/it, Loss=1.16]\n",
      "Epoch 49: 100%|██████████| 27/27 [01:07<00:00,  2.51s/it, Loss=1.03]\n"
     ]
    },
    {
     "name": "stdout",
     "output_type": "stream",
     "text": [
      "Saving model at epoch: 49, val acc: 0.7\n",
      "Epoch: 49 Current val acc is 0.7 while the best val acc is 0.7\n",
      "Fold 3/5\n"
     ]
    },
    {
     "name": "stderr",
     "output_type": "stream",
     "text": [
      "Epoch 0: 100%|██████████| 27/27 [02:32<00:00,  5.66s/it, Loss=2.57]\n",
      "Epoch 0: 100%|██████████| 27/27 [01:07<00:00,  2.51s/it, Loss=3.37]\n"
     ]
    },
    {
     "name": "stdout",
     "output_type": "stream",
     "text": [
      "Saving model at epoch: 0, val acc: 0.2\n",
      "Epoch: 0 Current val acc is 0.2 while the best val acc is 0.2\n"
     ]
    },
    {
     "name": "stderr",
     "output_type": "stream",
     "text": [
      "Epoch 1: 100%|██████████| 27/27 [02:32<00:00,  5.64s/it, Loss=2.24]\n",
      "Epoch 1: 100%|██████████| 27/27 [01:09<00:00,  2.59s/it, Loss=2.09]\n"
     ]
    },
    {
     "name": "stdout",
     "output_type": "stream",
     "text": [
      "Saving model at epoch: 1, val acc: 0.37142857142857144\n",
      "Epoch: 1 Current val acc is 0.37142857142857144 while the best val acc is 0.37142857142857144\n"
     ]
    },
    {
     "name": "stderr",
     "output_type": "stream",
     "text": [
      "Epoch 2: 100%|██████████| 27/27 [02:32<00:00,  5.64s/it, Loss=2.12]\n",
      "Epoch 2: 100%|██████████| 27/27 [01:07<00:00,  2.51s/it, Loss=1.75]\n"
     ]
    },
    {
     "name": "stdout",
     "output_type": "stream",
     "text": [
      "Saving model at epoch: 2, val acc: 0.4\n",
      "Epoch: 2 Current val acc is 0.4 while the best val acc is 0.4\n"
     ]
    },
    {
     "name": "stderr",
     "output_type": "stream",
     "text": [
      "Epoch 3: 100%|██████████| 27/27 [02:32<00:00,  5.64s/it, Loss=1.84]\n",
      "Epoch 3: 100%|██████████| 27/27 [01:07<00:00,  2.51s/it, Loss=1.65]\n"
     ]
    },
    {
     "name": "stdout",
     "output_type": "stream",
     "text": [
      "Epoch: 3 Current val acc is 0.37142857142857144 while the best val acc is 0.4\n"
     ]
    },
    {
     "name": "stderr",
     "output_type": "stream",
     "text": [
      "Epoch 4: 100%|██████████| 27/27 [02:32<00:00,  5.64s/it, Loss=1.82]\n",
      "Epoch 4: 100%|██████████| 27/27 [01:07<00:00,  2.51s/it, Loss=1.6] \n"
     ]
    },
    {
     "name": "stdout",
     "output_type": "stream",
     "text": [
      "Saving model at epoch: 4, val acc: 0.4095238095238095\n",
      "Epoch: 4 Current val acc is 0.4095238095238095 while the best val acc is 0.4095238095238095\n"
     ]
    },
    {
     "name": "stderr",
     "output_type": "stream",
     "text": [
      "Epoch 5: 100%|██████████| 27/27 [02:32<00:00,  5.64s/it, Loss=1.82]\n",
      "Epoch 5: 100%|██████████| 27/27 [01:08<00:00,  2.52s/it, Loss=1.57]\n"
     ]
    },
    {
     "name": "stdout",
     "output_type": "stream",
     "text": [
      "Saving model at epoch: 5, val acc: 0.49523809523809526\n",
      "Epoch: 5 Current val acc is 0.49523809523809526 while the best val acc is 0.49523809523809526\n"
     ]
    },
    {
     "name": "stderr",
     "output_type": "stream",
     "text": [
      "Epoch 6: 100%|██████████| 27/27 [02:32<00:00,  5.64s/it, Loss=1.77]\n",
      "Epoch 6: 100%|██████████| 27/27 [01:07<00:00,  2.51s/it, Loss=1.46]\n"
     ]
    },
    {
     "name": "stdout",
     "output_type": "stream",
     "text": [
      "Epoch: 6 Current val acc is 0.45714285714285713 while the best val acc is 0.49523809523809526\n"
     ]
    },
    {
     "name": "stderr",
     "output_type": "stream",
     "text": [
      "Epoch 7: 100%|██████████| 27/27 [02:32<00:00,  5.64s/it, Loss=1.72]\n",
      "Epoch 7: 100%|██████████| 27/27 [01:07<00:00,  2.51s/it, Loss=1.43]\n"
     ]
    },
    {
     "name": "stdout",
     "output_type": "stream",
     "text": [
      "Epoch: 7 Current val acc is 0.47619047619047616 while the best val acc is 0.49523809523809526\n"
     ]
    },
    {
     "name": "stderr",
     "output_type": "stream",
     "text": [
      "Epoch 8: 100%|██████████| 27/27 [02:32<00:00,  5.64s/it, Loss=1.6] \n",
      "Epoch 8: 100%|██████████| 27/27 [01:07<00:00,  2.51s/it, Loss=1.38]\n"
     ]
    },
    {
     "name": "stdout",
     "output_type": "stream",
     "text": [
      "Saving model at epoch: 8, val acc: 0.5476190476190477\n",
      "Epoch: 8 Current val acc is 0.5476190476190477 while the best val acc is 0.5476190476190477\n"
     ]
    },
    {
     "name": "stderr",
     "output_type": "stream",
     "text": [
      "Epoch 9: 100%|██████████| 27/27 [02:32<00:00,  5.64s/it, Loss=1.68]\n",
      "Epoch 9: 100%|██████████| 27/27 [01:07<00:00,  2.51s/it, Loss=1.43]\n"
     ]
    },
    {
     "name": "stdout",
     "output_type": "stream",
     "text": [
      "Epoch: 9 Current val acc is 0.4666666666666667 while the best val acc is 0.5476190476190477\n"
     ]
    },
    {
     "name": "stderr",
     "output_type": "stream",
     "text": [
      "Epoch 10: 100%|██████████| 27/27 [02:32<00:00,  5.64s/it, Loss=1.62]\n",
      "Epoch 10: 100%|██████████| 27/27 [01:07<00:00,  2.51s/it, Loss=1.41]\n"
     ]
    },
    {
     "name": "stdout",
     "output_type": "stream",
     "text": [
      "Epoch: 10 Current val acc is 0.49523809523809526 while the best val acc is 0.5476190476190477\n"
     ]
    },
    {
     "name": "stderr",
     "output_type": "stream",
     "text": [
      "Epoch 11: 100%|██████████| 27/27 [02:32<00:00,  5.64s/it, Loss=1.57]\n",
      "Epoch 11: 100%|██████████| 27/27 [01:08<00:00,  2.54s/it, Loss=1.28]\n"
     ]
    },
    {
     "name": "stdout",
     "output_type": "stream",
     "text": [
      "Epoch: 11 Current val acc is 0.5428571428571428 while the best val acc is 0.5476190476190477\n"
     ]
    },
    {
     "name": "stderr",
     "output_type": "stream",
     "text": [
      "Epoch 12: 100%|██████████| 27/27 [02:32<00:00,  5.64s/it, Loss=1.56]\n",
      "Epoch 12: 100%|██████████| 27/27 [01:07<00:00,  2.51s/it, Loss=1.37]\n"
     ]
    },
    {
     "name": "stdout",
     "output_type": "stream",
     "text": [
      "Epoch: 12 Current val acc is 0.5142857142857142 while the best val acc is 0.5476190476190477\n"
     ]
    },
    {
     "name": "stderr",
     "output_type": "stream",
     "text": [
      "Epoch 13: 100%|██████████| 27/27 [02:32<00:00,  5.63s/it, Loss=1.48]\n",
      "Epoch 13: 100%|██████████| 27/27 [01:07<00:00,  2.51s/it, Loss=1.31]\n"
     ]
    },
    {
     "name": "stdout",
     "output_type": "stream",
     "text": [
      "Saving model at epoch: 13, val acc: 0.5571428571428572\n",
      "Epoch: 13 Current val acc is 0.5571428571428572 while the best val acc is 0.5571428571428572\n"
     ]
    },
    {
     "name": "stderr",
     "output_type": "stream",
     "text": [
      "Epoch 14: 100%|██████████| 27/27 [02:32<00:00,  5.64s/it, Loss=1.52]\n",
      "Epoch 14: 100%|██████████| 27/27 [01:07<00:00,  2.51s/it, Loss=1.26]\n"
     ]
    },
    {
     "name": "stdout",
     "output_type": "stream",
     "text": [
      "Epoch: 14 Current val acc is 0.5428571428571428 while the best val acc is 0.5571428571428572\n"
     ]
    },
    {
     "name": "stderr",
     "output_type": "stream",
     "text": [
      "Epoch 15: 100%|██████████| 27/27 [02:32<00:00,  5.64s/it, Loss=1.38]\n",
      "Epoch 15: 100%|██████████| 27/27 [01:07<00:00,  2.52s/it, Loss=1.21]\n"
     ]
    },
    {
     "name": "stdout",
     "output_type": "stream",
     "text": [
      "Saving model at epoch: 15, val acc: 0.5761904761904761\n",
      "Epoch: 15 Current val acc is 0.5761904761904761 while the best val acc is 0.5761904761904761\n"
     ]
    },
    {
     "name": "stderr",
     "output_type": "stream",
     "text": [
      "Epoch 16: 100%|██████████| 27/27 [02:32<00:00,  5.64s/it, Loss=1.43]\n",
      "Epoch 16: 100%|██████████| 27/27 [01:07<00:00,  2.51s/it, Loss=1.19]\n"
     ]
    },
    {
     "name": "stdout",
     "output_type": "stream",
     "text": [
      "Epoch: 16 Current val acc is 0.5714285714285714 while the best val acc is 0.5761904761904761\n"
     ]
    },
    {
     "name": "stderr",
     "output_type": "stream",
     "text": [
      "Epoch 17: 100%|██████████| 27/27 [02:32<00:00,  5.64s/it, Loss=1.42]\n",
      "Epoch 17: 100%|██████████| 27/27 [01:07<00:00,  2.51s/it, Loss=1.1] \n"
     ]
    },
    {
     "name": "stdout",
     "output_type": "stream",
     "text": [
      "Saving model at epoch: 17, val acc: 0.6619047619047619\n",
      "Epoch: 17 Current val acc is 0.6619047619047619 while the best val acc is 0.6619047619047619\n"
     ]
    },
    {
     "name": "stderr",
     "output_type": "stream",
     "text": [
      "Epoch 18: 100%|██████████| 27/27 [02:32<00:00,  5.64s/it, Loss=1.43]\n",
      "Epoch 18: 100%|██████████| 27/27 [01:07<00:00,  2.52s/it, Loss=1.13]\n"
     ]
    },
    {
     "name": "stdout",
     "output_type": "stream",
     "text": [
      "Epoch: 18 Current val acc is 0.6 while the best val acc is 0.6619047619047619\n"
     ]
    },
    {
     "name": "stderr",
     "output_type": "stream",
     "text": [
      "Epoch 19: 100%|██████████| 27/27 [02:32<00:00,  5.64s/it, Loss=1.26]\n",
      "Epoch 19: 100%|██████████| 27/27 [01:07<00:00,  2.51s/it, Loss=1.24]\n"
     ]
    },
    {
     "name": "stdout",
     "output_type": "stream",
     "text": [
      "Epoch: 19 Current val acc is 0.5428571428571428 while the best val acc is 0.6619047619047619\n"
     ]
    },
    {
     "name": "stderr",
     "output_type": "stream",
     "text": [
      "Epoch 20: 100%|██████████| 27/27 [02:32<00:00,  5.64s/it, Loss=1.45]\n",
      "Epoch 20: 100%|██████████| 27/27 [01:08<00:00,  2.52s/it, Loss=1.09] \n"
     ]
    },
    {
     "name": "stdout",
     "output_type": "stream",
     "text": [
      "Saving model at epoch: 20, val acc: 0.680952380952381\n",
      "Epoch: 20 Current val acc is 0.680952380952381 while the best val acc is 0.680952380952381\n"
     ]
    },
    {
     "name": "stderr",
     "output_type": "stream",
     "text": [
      "Epoch 21: 100%|██████████| 27/27 [02:32<00:00,  5.64s/it, Loss=1.35]\n",
      "Epoch 21: 100%|██████████| 27/27 [01:07<00:00,  2.51s/it, Loss=1.15]\n"
     ]
    },
    {
     "name": "stdout",
     "output_type": "stream",
     "text": [
      "Epoch: 21 Current val acc is 0.6142857142857143 while the best val acc is 0.680952380952381\n"
     ]
    },
    {
     "name": "stderr",
     "output_type": "stream",
     "text": [
      "Epoch 22: 100%|██████████| 27/27 [02:32<00:00,  5.64s/it, Loss=1.28]\n",
      "Epoch 22: 100%|██████████| 27/27 [01:07<00:00,  2.51s/it, Loss=1.12]\n"
     ]
    },
    {
     "name": "stdout",
     "output_type": "stream",
     "text": [
      "Epoch: 22 Current val acc is 0.6190476190476191 while the best val acc is 0.680952380952381\n"
     ]
    },
    {
     "name": "stderr",
     "output_type": "stream",
     "text": [
      "Epoch 23: 100%|██████████| 27/27 [02:32<00:00,  5.64s/it, Loss=1.18]\n",
      "Epoch 23: 100%|██████████| 27/27 [01:07<00:00,  2.51s/it, Loss=1.15]\n"
     ]
    },
    {
     "name": "stdout",
     "output_type": "stream",
     "text": [
      "Epoch: 23 Current val acc is 0.5571428571428572 while the best val acc is 0.680952380952381\n"
     ]
    },
    {
     "name": "stderr",
     "output_type": "stream",
     "text": [
      "Epoch 24: 100%|██████████| 27/27 [02:32<00:00,  5.64s/it, Loss=1.24]\n",
      "Epoch 24: 100%|██████████| 27/27 [01:07<00:00,  2.51s/it, Loss=1.08] \n"
     ]
    },
    {
     "name": "stdout",
     "output_type": "stream",
     "text": [
      "Epoch: 24 Current val acc is 0.6619047619047619 while the best val acc is 0.680952380952381\n"
     ]
    },
    {
     "name": "stderr",
     "output_type": "stream",
     "text": [
      "Epoch 25: 100%|██████████| 27/27 [02:32<00:00,  5.63s/it, Loss=1.16]\n",
      "Epoch 25: 100%|██████████| 27/27 [01:07<00:00,  2.51s/it, Loss=0.995]\n"
     ]
    },
    {
     "name": "stdout",
     "output_type": "stream",
     "text": [
      "Epoch: 25 Current val acc is 0.6285714285714286 while the best val acc is 0.680952380952381\n"
     ]
    },
    {
     "name": "stderr",
     "output_type": "stream",
     "text": [
      "Epoch 26: 100%|██████████| 27/27 [02:32<00:00,  5.63s/it, Loss=1.28]\n",
      "Epoch 26: 100%|██████████| 27/27 [01:07<00:00,  2.51s/it, Loss=1.01] \n"
     ]
    },
    {
     "name": "stdout",
     "output_type": "stream",
     "text": [
      "Epoch: 26 Current val acc is 0.6238095238095238 while the best val acc is 0.680952380952381\n"
     ]
    },
    {
     "name": "stderr",
     "output_type": "stream",
     "text": [
      "Epoch 27: 100%|██████████| 27/27 [02:32<00:00,  5.64s/it, Loss=1.31]\n",
      "Epoch 27: 100%|██████████| 27/27 [01:07<00:00,  2.51s/it, Loss=1.09]\n"
     ]
    },
    {
     "name": "stdout",
     "output_type": "stream",
     "text": [
      "Epoch: 27 Current val acc is 0.5952380952380952 while the best val acc is 0.680952380952381\n"
     ]
    },
    {
     "name": "stderr",
     "output_type": "stream",
     "text": [
      "Epoch 28: 100%|██████████| 27/27 [02:33<00:00,  5.67s/it, Loss=1.21]\n",
      "Epoch 28: 100%|██████████| 27/27 [01:07<00:00,  2.51s/it, Loss=1.13]\n"
     ]
    },
    {
     "name": "stdout",
     "output_type": "stream",
     "text": [
      "Epoch: 28 Current val acc is 0.6142857142857143 while the best val acc is 0.680952380952381\n"
     ]
    },
    {
     "name": "stderr",
     "output_type": "stream",
     "text": [
      "Epoch 29: 100%|██████████| 27/27 [02:32<00:00,  5.64s/it, Loss=1.15]\n",
      "Epoch 29: 100%|██████████| 27/27 [01:07<00:00,  2.51s/it, Loss=1.11]\n"
     ]
    },
    {
     "name": "stdout",
     "output_type": "stream",
     "text": [
      "Epoch: 29 Current val acc is 0.6333333333333333 while the best val acc is 0.680952380952381\n"
     ]
    },
    {
     "name": "stderr",
     "output_type": "stream",
     "text": [
      "Epoch 30: 100%|██████████| 27/27 [02:32<00:00,  5.64s/it, Loss=1.23]\n",
      "Epoch 30: 100%|██████████| 27/27 [01:07<00:00,  2.51s/it, Loss=1.01] \n"
     ]
    },
    {
     "name": "stdout",
     "output_type": "stream",
     "text": [
      "Epoch: 30 Current val acc is 0.6523809523809524 while the best val acc is 0.680952380952381\n"
     ]
    },
    {
     "name": "stderr",
     "output_type": "stream",
     "text": [
      "Epoch 31: 100%|██████████| 27/27 [02:32<00:00,  5.64s/it, Loss=1.16]\n",
      "Epoch 31: 100%|██████████| 27/27 [01:07<00:00,  2.51s/it, Loss=0.984]\n"
     ]
    },
    {
     "name": "stdout",
     "output_type": "stream",
     "text": [
      "Epoch: 31 Current val acc is 0.6476190476190476 while the best val acc is 0.680952380952381\n"
     ]
    },
    {
     "name": "stderr",
     "output_type": "stream",
     "text": [
      "Epoch 32: 100%|██████████| 27/27 [02:32<00:00,  5.64s/it, Loss=1.12]\n",
      "Epoch 32: 100%|██████████| 27/27 [01:07<00:00,  2.51s/it, Loss=1]    \n"
     ]
    },
    {
     "name": "stdout",
     "output_type": "stream",
     "text": [
      "Epoch: 32 Current val acc is 0.6428571428571429 while the best val acc is 0.680952380952381\n"
     ]
    },
    {
     "name": "stderr",
     "output_type": "stream",
     "text": [
      "Epoch 33: 100%|██████████| 27/27 [02:32<00:00,  5.64s/it, Loss=1.04] \n",
      "Epoch 33: 100%|██████████| 27/27 [01:07<00:00,  2.51s/it, Loss=1.02] \n"
     ]
    },
    {
     "name": "stdout",
     "output_type": "stream",
     "text": [
      "Epoch: 33 Current val acc is 0.6428571428571429 while the best val acc is 0.680952380952381\n"
     ]
    },
    {
     "name": "stderr",
     "output_type": "stream",
     "text": [
      "Epoch 34: 100%|██████████| 27/27 [02:32<00:00,  5.64s/it, Loss=1.11]\n",
      "Epoch 34: 100%|██████████| 27/27 [01:07<00:00,  2.51s/it, Loss=0.994]\n"
     ]
    },
    {
     "name": "stdout",
     "output_type": "stream",
     "text": [
      "Epoch: 34 Current val acc is 0.6619047619047619 while the best val acc is 0.680952380952381\n"
     ]
    },
    {
     "name": "stderr",
     "output_type": "stream",
     "text": [
      "Epoch 35: 100%|██████████| 27/27 [02:32<00:00,  5.64s/it, Loss=1.11]\n",
      "Epoch 35: 100%|██████████| 27/27 [01:07<00:00,  2.51s/it, Loss=0.964]\n"
     ]
    },
    {
     "name": "stdout",
     "output_type": "stream",
     "text": [
      "Epoch: 35 Current val acc is 0.6333333333333333 while the best val acc is 0.680952380952381\n"
     ]
    },
    {
     "name": "stderr",
     "output_type": "stream",
     "text": [
      "Epoch 36: 100%|██████████| 27/27 [02:32<00:00,  5.64s/it, Loss=1.19]\n",
      "Epoch 36: 100%|██████████| 27/27 [01:07<00:00,  2.51s/it, Loss=1.05] \n"
     ]
    },
    {
     "name": "stdout",
     "output_type": "stream",
     "text": [
      "Epoch: 36 Current val acc is 0.6333333333333333 while the best val acc is 0.680952380952381\n"
     ]
    },
    {
     "name": "stderr",
     "output_type": "stream",
     "text": [
      "Epoch 37: 100%|██████████| 27/27 [02:32<00:00,  5.64s/it, Loss=1.18]\n",
      "Epoch 37: 100%|██████████| 27/27 [01:07<00:00,  2.51s/it, Loss=1.02] \n"
     ]
    },
    {
     "name": "stdout",
     "output_type": "stream",
     "text": [
      "Epoch: 37 Current val acc is 0.6523809523809524 while the best val acc is 0.680952380952381\n"
     ]
    },
    {
     "name": "stderr",
     "output_type": "stream",
     "text": [
      "Epoch 38: 100%|██████████| 27/27 [02:32<00:00,  5.64s/it, Loss=1.08] \n",
      "Epoch 38: 100%|██████████| 27/27 [01:07<00:00,  2.51s/it, Loss=0.971]\n"
     ]
    },
    {
     "name": "stdout",
     "output_type": "stream",
     "text": [
      "Epoch: 38 Current val acc is 0.6523809523809524 while the best val acc is 0.680952380952381\n"
     ]
    },
    {
     "name": "stderr",
     "output_type": "stream",
     "text": [
      "Epoch 39: 100%|██████████| 27/27 [02:32<00:00,  5.64s/it, Loss=1.05]\n",
      "Epoch 39: 100%|██████████| 27/27 [01:07<00:00,  2.51s/it, Loss=0.99] \n"
     ]
    },
    {
     "name": "stdout",
     "output_type": "stream",
     "text": [
      "Epoch: 39 Current val acc is 0.6476190476190476 while the best val acc is 0.680952380952381\n"
     ]
    },
    {
     "name": "stderr",
     "output_type": "stream",
     "text": [
      "Epoch 40: 100%|██████████| 27/27 [02:32<00:00,  5.64s/it, Loss=1.05]\n",
      "Epoch 40: 100%|██████████| 27/27 [01:07<00:00,  2.51s/it, Loss=0.963]\n"
     ]
    },
    {
     "name": "stdout",
     "output_type": "stream",
     "text": [
      "Epoch: 40 Current val acc is 0.6571428571428571 while the best val acc is 0.680952380952381\n"
     ]
    },
    {
     "name": "stderr",
     "output_type": "stream",
     "text": [
      "Epoch 41: 100%|██████████| 27/27 [02:32<00:00,  5.64s/it, Loss=1.11]\n",
      "Epoch 41: 100%|██████████| 27/27 [01:07<00:00,  2.51s/it, Loss=0.997]\n"
     ]
    },
    {
     "name": "stdout",
     "output_type": "stream",
     "text": [
      "Epoch: 41 Current val acc is 0.6619047619047619 while the best val acc is 0.680952380952381\n"
     ]
    },
    {
     "name": "stderr",
     "output_type": "stream",
     "text": [
      "Epoch 42: 100%|██████████| 27/27 [02:32<00:00,  5.64s/it, Loss=1.1]  \n",
      "Epoch 42: 100%|██████████| 27/27 [01:07<00:00,  2.51s/it, Loss=0.936]\n"
     ]
    },
    {
     "name": "stdout",
     "output_type": "stream",
     "text": [
      "Epoch: 42 Current val acc is 0.6571428571428571 while the best val acc is 0.680952380952381\n"
     ]
    },
    {
     "name": "stderr",
     "output_type": "stream",
     "text": [
      "Epoch 43: 100%|██████████| 27/27 [02:32<00:00,  5.64s/it, Loss=1.05] \n",
      "Epoch 43: 100%|██████████| 27/27 [01:07<00:00,  2.51s/it, Loss=0.977]\n"
     ]
    },
    {
     "name": "stdout",
     "output_type": "stream",
     "text": [
      "Epoch: 43 Current val acc is 0.6428571428571429 while the best val acc is 0.680952380952381\n"
     ]
    },
    {
     "name": "stderr",
     "output_type": "stream",
     "text": [
      "Epoch 44: 100%|██████████| 27/27 [02:32<00:00,  5.67s/it, Loss=1.06]\n",
      "Epoch 44: 100%|██████████| 27/27 [01:07<00:00,  2.51s/it, Loss=0.973]\n"
     ]
    },
    {
     "name": "stdout",
     "output_type": "stream",
     "text": [
      "Epoch: 44 Current val acc is 0.6285714285714286 while the best val acc is 0.680952380952381\n"
     ]
    },
    {
     "name": "stderr",
     "output_type": "stream",
     "text": [
      "Epoch 45: 100%|██████████| 27/27 [02:32<00:00,  5.64s/it, Loss=1.06]\n",
      "Epoch 45: 100%|██████████| 27/27 [01:07<00:00,  2.51s/it, Loss=0.941]\n"
     ]
    },
    {
     "name": "stdout",
     "output_type": "stream",
     "text": [
      "Epoch: 45 Current val acc is 0.638095238095238 while the best val acc is 0.680952380952381\n"
     ]
    },
    {
     "name": "stderr",
     "output_type": "stream",
     "text": [
      "Epoch 46: 100%|██████████| 27/27 [02:32<00:00,  5.64s/it, Loss=1.06]\n",
      "Epoch 46: 100%|██████████| 27/27 [01:07<00:00,  2.51s/it, Loss=0.943]\n"
     ]
    },
    {
     "name": "stdout",
     "output_type": "stream",
     "text": [
      "Epoch: 46 Current val acc is 0.6571428571428571 while the best val acc is 0.680952380952381\n"
     ]
    },
    {
     "name": "stderr",
     "output_type": "stream",
     "text": [
      "Epoch 47: 100%|██████████| 27/27 [02:32<00:00,  5.64s/it, Loss=1.03] \n",
      "Epoch 47: 100%|██████████| 27/27 [01:07<00:00,  2.51s/it, Loss=0.929]\n"
     ]
    },
    {
     "name": "stdout",
     "output_type": "stream",
     "text": [
      "Epoch: 47 Current val acc is 0.6714285714285714 while the best val acc is 0.680952380952381\n"
     ]
    },
    {
     "name": "stderr",
     "output_type": "stream",
     "text": [
      "Epoch 48: 100%|██████████| 27/27 [02:32<00:00,  5.64s/it, Loss=1.02] \n",
      "Epoch 48: 100%|██████████| 27/27 [01:07<00:00,  2.51s/it, Loss=0.934]\n"
     ]
    },
    {
     "name": "stdout",
     "output_type": "stream",
     "text": [
      "Epoch: 48 Current val acc is 0.6619047619047619 while the best val acc is 0.680952380952381\n"
     ]
    },
    {
     "name": "stderr",
     "output_type": "stream",
     "text": [
      "Epoch 49: 100%|██████████| 27/27 [02:32<00:00,  5.64s/it, Loss=1.09]\n",
      "Epoch 49: 100%|██████████| 27/27 [01:07<00:00,  2.51s/it, Loss=0.943]\n"
     ]
    },
    {
     "name": "stdout",
     "output_type": "stream",
     "text": [
      "Epoch: 49 Current val acc is 0.6761904761904762 while the best val acc is 0.680952380952381\n",
      "Fold 4/5\n"
     ]
    },
    {
     "name": "stderr",
     "output_type": "stream",
     "text": [
      "Epoch 0: 100%|██████████| 27/27 [02:33<00:00,  5.67s/it, Loss=2.54]\n",
      "Epoch 0: 100%|██████████| 27/27 [01:07<00:00,  2.50s/it, Loss=3.08]\n"
     ]
    },
    {
     "name": "stdout",
     "output_type": "stream",
     "text": [
      "Saving model at epoch: 0, val acc: 0.3523809523809524\n",
      "Epoch: 0 Current val acc is 0.3523809523809524 while the best val acc is 0.3523809523809524\n"
     ]
    },
    {
     "name": "stderr",
     "output_type": "stream",
     "text": [
      "Epoch 1: 100%|██████████| 27/27 [02:34<00:00,  5.74s/it, Loss=2.26]\n",
      "Epoch 1: 100%|██████████| 27/27 [01:06<00:00,  2.46s/it, Loss=1.83]\n"
     ]
    },
    {
     "name": "stdout",
     "output_type": "stream",
     "text": [
      "Epoch: 1 Current val acc is 0.2904761904761905 while the best val acc is 0.3523809523809524\n"
     ]
    },
    {
     "name": "stderr",
     "output_type": "stream",
     "text": [
      "Epoch 2: 100%|██████████| 27/27 [02:34<00:00,  5.73s/it, Loss=2.05]\n",
      "Epoch 2: 100%|██████████| 27/27 [01:06<00:00,  2.46s/it, Loss=1.55]\n"
     ]
    },
    {
     "name": "stdout",
     "output_type": "stream",
     "text": [
      "Saving model at epoch: 2, val acc: 0.44761904761904764\n",
      "Epoch: 2 Current val acc is 0.44761904761904764 while the best val acc is 0.44761904761904764\n"
     ]
    },
    {
     "name": "stderr",
     "output_type": "stream",
     "text": [
      "Epoch 3: 100%|██████████| 27/27 [02:34<00:00,  5.73s/it, Loss=1.97]\n",
      "Epoch 3: 100%|██████████| 27/27 [01:06<00:00,  2.46s/it, Loss=1.58]\n"
     ]
    },
    {
     "name": "stdout",
     "output_type": "stream",
     "text": [
      "Epoch: 3 Current val acc is 0.4095238095238095 while the best val acc is 0.44761904761904764\n"
     ]
    },
    {
     "name": "stderr",
     "output_type": "stream",
     "text": [
      "Epoch 4: 100%|██████████| 27/27 [02:34<00:00,  5.73s/it, Loss=1.88]\n",
      "Epoch 4: 100%|██████████| 27/27 [01:06<00:00,  2.46s/it, Loss=1.53]\n"
     ]
    },
    {
     "name": "stdout",
     "output_type": "stream",
     "text": [
      "Saving model at epoch: 4, val acc: 0.4714285714285714\n",
      "Epoch: 4 Current val acc is 0.4714285714285714 while the best val acc is 0.4714285714285714\n"
     ]
    },
    {
     "name": "stderr",
     "output_type": "stream",
     "text": [
      "Epoch 5: 100%|██████████| 27/27 [02:34<00:00,  5.73s/it, Loss=1.77]\n",
      "Epoch 5: 100%|██████████| 27/27 [01:06<00:00,  2.46s/it, Loss=1.37]\n"
     ]
    },
    {
     "name": "stdout",
     "output_type": "stream",
     "text": [
      "Saving model at epoch: 5, val acc: 0.4857142857142857\n",
      "Epoch: 5 Current val acc is 0.4857142857142857 while the best val acc is 0.4857142857142857\n"
     ]
    },
    {
     "name": "stderr",
     "output_type": "stream",
     "text": [
      "Epoch 6: 100%|██████████| 27/27 [02:34<00:00,  5.73s/it, Loss=1.88]\n",
      "Epoch 6: 100%|██████████| 27/27 [01:06<00:00,  2.46s/it, Loss=1.48]\n"
     ]
    },
    {
     "name": "stdout",
     "output_type": "stream",
     "text": [
      "Epoch: 6 Current val acc is 0.4523809523809524 while the best val acc is 0.4857142857142857\n"
     ]
    },
    {
     "name": "stderr",
     "output_type": "stream",
     "text": [
      "Epoch 7: 100%|██████████| 27/27 [02:34<00:00,  5.73s/it, Loss=1.72]\n",
      "Epoch 7: 100%|██████████| 27/27 [01:06<00:00,  2.46s/it, Loss=1.26]\n"
     ]
    },
    {
     "name": "stdout",
     "output_type": "stream",
     "text": [
      "Saving model at epoch: 7, val acc: 0.5\n",
      "Epoch: 7 Current val acc is 0.5 while the best val acc is 0.5\n"
     ]
    },
    {
     "name": "stderr",
     "output_type": "stream",
     "text": [
      "Epoch 8: 100%|██████████| 27/27 [02:34<00:00,  5.73s/it, Loss=1.68]\n",
      "Epoch 8: 100%|██████████| 27/27 [01:06<00:00,  2.46s/it, Loss=1.16]\n"
     ]
    },
    {
     "name": "stdout",
     "output_type": "stream",
     "text": [
      "Saving model at epoch: 8, val acc: 0.5380952380952381\n",
      "Epoch: 8 Current val acc is 0.5380952380952381 while the best val acc is 0.5380952380952381\n"
     ]
    },
    {
     "name": "stderr",
     "output_type": "stream",
     "text": [
      "Epoch 9: 100%|██████████| 27/27 [02:34<00:00,  5.73s/it, Loss=1.61]\n",
      "Epoch 9: 100%|██████████| 27/27 [01:06<00:00,  2.46s/it, Loss=1.28]\n"
     ]
    },
    {
     "name": "stdout",
     "output_type": "stream",
     "text": [
      "Epoch: 9 Current val acc is 0.4857142857142857 while the best val acc is 0.5380952380952381\n"
     ]
    },
    {
     "name": "stderr",
     "output_type": "stream",
     "text": [
      "Epoch 10: 100%|██████████| 27/27 [02:34<00:00,  5.73s/it, Loss=1.53]\n",
      "Epoch 10: 100%|██████████| 27/27 [01:09<00:00,  2.58s/it, Loss=1.09]\n"
     ]
    },
    {
     "name": "stdout",
     "output_type": "stream",
     "text": [
      "Saving model at epoch: 10, val acc: 0.5619047619047619\n",
      "Epoch: 10 Current val acc is 0.5619047619047619 while the best val acc is 0.5619047619047619\n"
     ]
    },
    {
     "name": "stderr",
     "output_type": "stream",
     "text": [
      "Epoch 11: 100%|██████████| 27/27 [02:34<00:00,  5.73s/it, Loss=1.51]\n",
      "Epoch 11: 100%|██████████| 27/27 [01:06<00:00,  2.46s/it, Loss=0.984]\n"
     ]
    },
    {
     "name": "stdout",
     "output_type": "stream",
     "text": [
      "Saving model at epoch: 11, val acc: 0.638095238095238\n",
      "Epoch: 11 Current val acc is 0.638095238095238 while the best val acc is 0.638095238095238\n"
     ]
    },
    {
     "name": "stderr",
     "output_type": "stream",
     "text": [
      "Epoch 12: 100%|██████████| 27/27 [02:34<00:00,  5.73s/it, Loss=1.38]\n",
      "Epoch 12: 100%|██████████| 27/27 [01:06<00:00,  2.46s/it, Loss=0.964]\n"
     ]
    },
    {
     "name": "stdout",
     "output_type": "stream",
     "text": [
      "Saving model at epoch: 12, val acc: 0.6666666666666666\n",
      "Epoch: 12 Current val acc is 0.6666666666666666 while the best val acc is 0.6666666666666666\n"
     ]
    },
    {
     "name": "stderr",
     "output_type": "stream",
     "text": [
      "Epoch 13: 100%|██████████| 27/27 [02:34<00:00,  5.73s/it, Loss=1.5] \n",
      "Epoch 13: 100%|██████████| 27/27 [01:06<00:00,  2.46s/it, Loss=0.953]\n"
     ]
    },
    {
     "name": "stdout",
     "output_type": "stream",
     "text": [
      "Epoch: 13 Current val acc is 0.6238095238095238 while the best val acc is 0.6666666666666666\n"
     ]
    },
    {
     "name": "stderr",
     "output_type": "stream",
     "text": [
      "Epoch 14: 100%|██████████| 27/27 [02:34<00:00,  5.74s/it, Loss=1.34]\n",
      "Epoch 14: 100%|██████████| 27/27 [01:06<00:00,  2.46s/it, Loss=0.916]\n"
     ]
    },
    {
     "name": "stdout",
     "output_type": "stream",
     "text": [
      "Saving model at epoch: 14, val acc: 0.6761904761904762\n",
      "Epoch: 14 Current val acc is 0.6761904761904762 while the best val acc is 0.6761904761904762\n"
     ]
    },
    {
     "name": "stderr",
     "output_type": "stream",
     "text": [
      "Epoch 15: 100%|██████████| 27/27 [02:34<00:00,  5.73s/it, Loss=1.51]\n",
      "Epoch 15: 100%|██████████| 27/27 [01:06<00:00,  2.46s/it, Loss=0.882]\n"
     ]
    },
    {
     "name": "stdout",
     "output_type": "stream",
     "text": [
      "Saving model at epoch: 15, val acc: 0.6857142857142857\n",
      "Epoch: 15 Current val acc is 0.6857142857142857 while the best val acc is 0.6857142857142857\n"
     ]
    },
    {
     "name": "stderr",
     "output_type": "stream",
     "text": [
      "Epoch 16: 100%|██████████| 27/27 [02:34<00:00,  5.73s/it, Loss=1.34]\n",
      "Epoch 16: 100%|██████████| 27/27 [01:06<00:00,  2.46s/it, Loss=0.927]\n"
     ]
    },
    {
     "name": "stdout",
     "output_type": "stream",
     "text": [
      "Epoch: 16 Current val acc is 0.638095238095238 while the best val acc is 0.6857142857142857\n"
     ]
    },
    {
     "name": "stderr",
     "output_type": "stream",
     "text": [
      "Epoch 17: 100%|██████████| 27/27 [02:34<00:00,  5.73s/it, Loss=1.37]\n",
      "Epoch 17: 100%|██████████| 27/27 [01:06<00:00,  2.46s/it, Loss=0.837]\n"
     ]
    },
    {
     "name": "stdout",
     "output_type": "stream",
     "text": [
      "Saving model at epoch: 17, val acc: 0.6952380952380952\n",
      "Epoch: 17 Current val acc is 0.6952380952380952 while the best val acc is 0.6952380952380952\n"
     ]
    },
    {
     "name": "stderr",
     "output_type": "stream",
     "text": [
      "Epoch 18: 100%|██████████| 27/27 [02:34<00:00,  5.73s/it, Loss=1.22]\n",
      "Epoch 18: 100%|██████████| 27/27 [01:06<00:00,  2.46s/it, Loss=0.84] \n"
     ]
    },
    {
     "name": "stdout",
     "output_type": "stream",
     "text": [
      "Epoch: 18 Current val acc is 0.6666666666666666 while the best val acc is 0.6952380952380952\n"
     ]
    },
    {
     "name": "stderr",
     "output_type": "stream",
     "text": [
      "Epoch 19: 100%|██████████| 27/27 [02:34<00:00,  5.73s/it, Loss=1.35]\n",
      "Epoch 19: 100%|██████████| 27/27 [01:06<00:00,  2.47s/it, Loss=0.779]\n"
     ]
    },
    {
     "name": "stdout",
     "output_type": "stream",
     "text": [
      "Saving model at epoch: 19, val acc: 0.7095238095238096\n",
      "Epoch: 19 Current val acc is 0.7095238095238096 while the best val acc is 0.7095238095238096\n"
     ]
    },
    {
     "name": "stderr",
     "output_type": "stream",
     "text": [
      "Epoch 20: 100%|██████████| 27/27 [02:34<00:00,  5.74s/it, Loss=1.25]\n",
      "Epoch 20: 100%|██████████| 27/27 [01:06<00:00,  2.46s/it, Loss=0.818]\n"
     ]
    },
    {
     "name": "stdout",
     "output_type": "stream",
     "text": [
      "Epoch: 20 Current val acc is 0.6904761904761905 while the best val acc is 0.7095238095238096\n"
     ]
    },
    {
     "name": "stderr",
     "output_type": "stream",
     "text": [
      "Epoch 21: 100%|██████████| 27/27 [02:34<00:00,  5.73s/it, Loss=1.23]\n",
      "Epoch 21: 100%|██████████| 27/27 [01:06<00:00,  2.46s/it, Loss=0.792]\n"
     ]
    },
    {
     "name": "stdout",
     "output_type": "stream",
     "text": [
      "Saving model at epoch: 21, val acc: 0.7428571428571429\n",
      "Epoch: 21 Current val acc is 0.7428571428571429 while the best val acc is 0.7428571428571429\n"
     ]
    },
    {
     "name": "stderr",
     "output_type": "stream",
     "text": [
      "Epoch 22: 100%|██████████| 27/27 [02:34<00:00,  5.73s/it, Loss=1.23]\n",
      "Epoch 22: 100%|██████████| 27/27 [01:06<00:00,  2.46s/it, Loss=0.754]\n"
     ]
    },
    {
     "name": "stdout",
     "output_type": "stream",
     "text": [
      "Epoch: 22 Current val acc is 0.7142857142857143 while the best val acc is 0.7428571428571429\n"
     ]
    },
    {
     "name": "stderr",
     "output_type": "stream",
     "text": [
      "Epoch 23: 100%|██████████| 27/27 [02:34<00:00,  5.73s/it, Loss=1.22]\n",
      "Epoch 23: 100%|██████████| 27/27 [01:06<00:00,  2.45s/it, Loss=0.74] \n"
     ]
    },
    {
     "name": "stdout",
     "output_type": "stream",
     "text": [
      "Saving model at epoch: 23, val acc: 0.7904761904761904\n",
      "Epoch: 23 Current val acc is 0.7904761904761904 while the best val acc is 0.7904761904761904\n"
     ]
    },
    {
     "name": "stderr",
     "output_type": "stream",
     "text": [
      "Epoch 24: 100%|██████████| 27/27 [02:34<00:00,  5.73s/it, Loss=1.18]\n",
      "Epoch 24: 100%|██████████| 27/27 [01:06<00:00,  2.46s/it, Loss=0.706]\n"
     ]
    },
    {
     "name": "stdout",
     "output_type": "stream",
     "text": [
      "Epoch: 24 Current val acc is 0.7428571428571429 while the best val acc is 0.7904761904761904\n"
     ]
    },
    {
     "name": "stderr",
     "output_type": "stream",
     "text": [
      "Epoch 25: 100%|██████████| 27/27 [02:34<00:00,  5.73s/it, Loss=1.2] \n",
      "Epoch 25: 100%|██████████| 27/27 [01:06<00:00,  2.46s/it, Loss=0.724]\n"
     ]
    },
    {
     "name": "stdout",
     "output_type": "stream",
     "text": [
      "Epoch: 25 Current val acc is 0.7523809523809524 while the best val acc is 0.7904761904761904\n"
     ]
    },
    {
     "name": "stderr",
     "output_type": "stream",
     "text": [
      "Epoch 26: 100%|██████████| 27/27 [02:34<00:00,  5.73s/it, Loss=1.15]\n",
      "Epoch 26: 100%|██████████| 27/27 [01:06<00:00,  2.46s/it, Loss=0.728]\n"
     ]
    },
    {
     "name": "stdout",
     "output_type": "stream",
     "text": [
      "Epoch: 26 Current val acc is 0.7285714285714285 while the best val acc is 0.7904761904761904\n"
     ]
    },
    {
     "name": "stderr",
     "output_type": "stream",
     "text": [
      "Epoch 27: 100%|██████████| 27/27 [02:35<00:00,  5.75s/it, Loss=1.14]\n",
      "Epoch 27: 100%|██████████| 27/27 [01:06<00:00,  2.46s/it, Loss=0.698]\n"
     ]
    },
    {
     "name": "stdout",
     "output_type": "stream",
     "text": [
      "Epoch: 27 Current val acc is 0.7571428571428571 while the best val acc is 0.7904761904761904\n"
     ]
    },
    {
     "name": "stderr",
     "output_type": "stream",
     "text": [
      "Epoch 28: 100%|██████████| 27/27 [02:34<00:00,  5.73s/it, Loss=1.16]\n",
      "Epoch 28: 100%|██████████| 27/27 [01:06<00:00,  2.46s/it, Loss=0.676]\n"
     ]
    },
    {
     "name": "stdout",
     "output_type": "stream",
     "text": [
      "Epoch: 28 Current val acc is 0.7761904761904762 while the best val acc is 0.7904761904761904\n"
     ]
    },
    {
     "name": "stderr",
     "output_type": "stream",
     "text": [
      "Epoch 29: 100%|██████████| 27/27 [02:34<00:00,  5.73s/it, Loss=1.14]\n",
      "Epoch 29: 100%|██████████| 27/27 [01:06<00:00,  2.46s/it, Loss=0.656]\n"
     ]
    },
    {
     "name": "stdout",
     "output_type": "stream",
     "text": [
      "Saving model at epoch: 29, val acc: 0.8238095238095238\n",
      "Epoch: 29 Current val acc is 0.8238095238095238 while the best val acc is 0.8238095238095238\n"
     ]
    },
    {
     "name": "stderr",
     "output_type": "stream",
     "text": [
      "Epoch 30: 100%|██████████| 27/27 [02:34<00:00,  5.73s/it, Loss=1.15]\n",
      "Epoch 30: 100%|██████████| 27/27 [01:06<00:00,  2.46s/it, Loss=0.681]\n"
     ]
    },
    {
     "name": "stdout",
     "output_type": "stream",
     "text": [
      "Epoch: 30 Current val acc is 0.7571428571428571 while the best val acc is 0.8238095238095238\n"
     ]
    },
    {
     "name": "stderr",
     "output_type": "stream",
     "text": [
      "Epoch 31: 100%|██████████| 27/27 [02:34<00:00,  5.73s/it, Loss=1.08] \n",
      "Epoch 31: 100%|██████████| 27/27 [01:06<00:00,  2.46s/it, Loss=0.656]\n"
     ]
    },
    {
     "name": "stdout",
     "output_type": "stream",
     "text": [
      "Epoch: 31 Current val acc is 0.7857142857142857 while the best val acc is 0.8238095238095238\n"
     ]
    },
    {
     "name": "stderr",
     "output_type": "stream",
     "text": [
      "Epoch 32: 100%|██████████| 27/27 [02:34<00:00,  5.73s/it, Loss=1.18]\n",
      "Epoch 32: 100%|██████████| 27/27 [01:06<00:00,  2.46s/it, Loss=0.639]\n"
     ]
    },
    {
     "name": "stdout",
     "output_type": "stream",
     "text": [
      "Epoch: 32 Current val acc is 0.8047619047619048 while the best val acc is 0.8238095238095238\n"
     ]
    },
    {
     "name": "stderr",
     "output_type": "stream",
     "text": [
      "Epoch 33: 100%|██████████| 27/27 [02:34<00:00,  5.73s/it, Loss=1.11] \n",
      "Epoch 33: 100%|██████████| 27/27 [01:06<00:00,  2.46s/it, Loss=0.642]\n"
     ]
    },
    {
     "name": "stdout",
     "output_type": "stream",
     "text": [
      "Epoch: 33 Current val acc is 0.7904761904761904 while the best val acc is 0.8238095238095238\n"
     ]
    },
    {
     "name": "stderr",
     "output_type": "stream",
     "text": [
      "Epoch 34: 100%|██████████| 27/27 [02:34<00:00,  5.73s/it, Loss=1.18]\n",
      "Epoch 34: 100%|██████████| 27/27 [01:06<00:00,  2.46s/it, Loss=0.659]\n"
     ]
    },
    {
     "name": "stdout",
     "output_type": "stream",
     "text": [
      "Epoch: 34 Current val acc is 0.7619047619047619 while the best val acc is 0.8238095238095238\n"
     ]
    },
    {
     "name": "stderr",
     "output_type": "stream",
     "text": [
      "Epoch 35: 100%|██████████| 27/27 [02:34<00:00,  5.73s/it, Loss=1.06]\n",
      "Epoch 35: 100%|██████████| 27/27 [01:06<00:00,  2.45s/it, Loss=0.63] \n"
     ]
    },
    {
     "name": "stdout",
     "output_type": "stream",
     "text": [
      "Epoch: 35 Current val acc is 0.7904761904761904 while the best val acc is 0.8238095238095238\n"
     ]
    },
    {
     "name": "stderr",
     "output_type": "stream",
     "text": [
      "Epoch 36: 100%|██████████| 27/27 [02:34<00:00,  5.73s/it, Loss=1.18]\n",
      "Epoch 36: 100%|██████████| 27/27 [01:06<00:00,  2.46s/it, Loss=0.621]\n"
     ]
    },
    {
     "name": "stdout",
     "output_type": "stream",
     "text": [
      "Epoch: 36 Current val acc is 0.8047619047619048 while the best val acc is 0.8238095238095238\n"
     ]
    },
    {
     "name": "stderr",
     "output_type": "stream",
     "text": [
      "Epoch 37: 100%|██████████| 27/27 [02:34<00:00,  5.73s/it, Loss=1.11] \n",
      "Epoch 37: 100%|██████████| 27/27 [01:06<00:00,  2.46s/it, Loss=0.627]\n"
     ]
    },
    {
     "name": "stdout",
     "output_type": "stream",
     "text": [
      "Epoch: 37 Current val acc is 0.780952380952381 while the best val acc is 0.8238095238095238\n"
     ]
    },
    {
     "name": "stderr",
     "output_type": "stream",
     "text": [
      "Epoch 38: 100%|██████████| 27/27 [02:34<00:00,  5.73s/it, Loss=1.2] \n",
      "Epoch 38: 100%|██████████| 27/27 [01:06<00:00,  2.46s/it, Loss=0.636]\n"
     ]
    },
    {
     "name": "stdout",
     "output_type": "stream",
     "text": [
      "Epoch: 38 Current val acc is 0.780952380952381 while the best val acc is 0.8238095238095238\n"
     ]
    },
    {
     "name": "stderr",
     "output_type": "stream",
     "text": [
      "Epoch 39: 100%|██████████| 27/27 [02:34<00:00,  5.73s/it, Loss=1.07]\n",
      "Epoch 39: 100%|██████████| 27/27 [01:06<00:00,  2.46s/it, Loss=0.625]\n"
     ]
    },
    {
     "name": "stdout",
     "output_type": "stream",
     "text": [
      "Epoch: 39 Current val acc is 0.7952380952380952 while the best val acc is 0.8238095238095238\n"
     ]
    },
    {
     "name": "stderr",
     "output_type": "stream",
     "text": [
      "Epoch 40: 100%|██████████| 27/27 [02:34<00:00,  5.73s/it, Loss=1.04] \n",
      "Epoch 40: 100%|██████████| 27/27 [01:06<00:00,  2.46s/it, Loss=0.602]\n"
     ]
    },
    {
     "name": "stdout",
     "output_type": "stream",
     "text": [
      "Epoch: 40 Current val acc is 0.8095238095238095 while the best val acc is 0.8238095238095238\n"
     ]
    },
    {
     "name": "stderr",
     "output_type": "stream",
     "text": [
      "Epoch 41: 100%|██████████| 27/27 [02:34<00:00,  5.73s/it, Loss=1.03] \n",
      "Epoch 41: 100%|██████████| 27/27 [01:06<00:00,  2.46s/it, Loss=0.604]\n"
     ]
    },
    {
     "name": "stdout",
     "output_type": "stream",
     "text": [
      "Epoch: 41 Current val acc is 0.8142857142857143 while the best val acc is 0.8238095238095238\n"
     ]
    },
    {
     "name": "stderr",
     "output_type": "stream",
     "text": [
      "Epoch 42: 100%|██████████| 27/27 [02:34<00:00,  5.73s/it, Loss=1.06] \n",
      "Epoch 42: 100%|██████████| 27/27 [01:06<00:00,  2.46s/it, Loss=0.595]\n"
     ]
    },
    {
     "name": "stdout",
     "output_type": "stream",
     "text": [
      "Epoch: 42 Current val acc is 0.8238095238095238 while the best val acc is 0.8238095238095238\n"
     ]
    },
    {
     "name": "stderr",
     "output_type": "stream",
     "text": [
      "Epoch 43: 100%|██████████| 27/27 [02:35<00:00,  5.75s/it, Loss=1.07]\n",
      "Epoch 43: 100%|██████████| 27/27 [01:06<00:00,  2.46s/it, Loss=0.586]\n"
     ]
    },
    {
     "name": "stdout",
     "output_type": "stream",
     "text": [
      "Epoch: 43 Current val acc is 0.819047619047619 while the best val acc is 0.8238095238095238\n"
     ]
    },
    {
     "name": "stderr",
     "output_type": "stream",
     "text": [
      "Epoch 44: 100%|██████████| 27/27 [02:34<00:00,  5.73s/it, Loss=1.03] \n",
      "Epoch 44: 100%|██████████| 27/27 [01:06<00:00,  2.46s/it, Loss=0.582]\n"
     ]
    },
    {
     "name": "stdout",
     "output_type": "stream",
     "text": [
      "Saving model at epoch: 44, val acc: 0.8333333333333334\n",
      "Epoch: 44 Current val acc is 0.8333333333333334 while the best val acc is 0.8333333333333334\n"
     ]
    },
    {
     "name": "stderr",
     "output_type": "stream",
     "text": [
      "Epoch 45: 100%|██████████| 27/27 [02:34<00:00,  5.73s/it, Loss=1.19]\n",
      "Epoch 45: 100%|██████████| 27/27 [01:06<00:00,  2.46s/it, Loss=0.598]\n"
     ]
    },
    {
     "name": "stdout",
     "output_type": "stream",
     "text": [
      "Epoch: 45 Current val acc is 0.7904761904761904 while the best val acc is 0.8333333333333334\n"
     ]
    },
    {
     "name": "stderr",
     "output_type": "stream",
     "text": [
      "Epoch 46: 100%|██████████| 27/27 [02:34<00:00,  5.73s/it, Loss=1.04] \n",
      "Epoch 46: 100%|██████████| 27/27 [01:06<00:00,  2.46s/it, Loss=0.593]\n"
     ]
    },
    {
     "name": "stdout",
     "output_type": "stream",
     "text": [
      "Epoch: 46 Current val acc is 0.8095238095238095 while the best val acc is 0.8333333333333334\n"
     ]
    },
    {
     "name": "stderr",
     "output_type": "stream",
     "text": [
      "Epoch 47: 100%|██████████| 27/27 [02:34<00:00,  5.73s/it, Loss=1.09] \n",
      "Epoch 47: 100%|██████████| 27/27 [01:06<00:00,  2.46s/it, Loss=0.574]\n"
     ]
    },
    {
     "name": "stdout",
     "output_type": "stream",
     "text": [
      "Epoch: 47 Current val acc is 0.8238095238095238 while the best val acc is 0.8333333333333334\n"
     ]
    },
    {
     "name": "stderr",
     "output_type": "stream",
     "text": [
      "Epoch 48: 100%|██████████| 27/27 [02:34<00:00,  5.73s/it, Loss=1.05] \n",
      "Epoch 48: 100%|██████████| 27/27 [01:06<00:00,  2.46s/it, Loss=0.576]\n"
     ]
    },
    {
     "name": "stdout",
     "output_type": "stream",
     "text": [
      "Epoch: 48 Current val acc is 0.8095238095238095 while the best val acc is 0.8333333333333334\n"
     ]
    },
    {
     "name": "stderr",
     "output_type": "stream",
     "text": [
      "Epoch 49: 100%|██████████| 27/27 [02:34<00:00,  5.73s/it, Loss=1.03] \n",
      "Epoch 49: 100%|██████████| 27/27 [01:06<00:00,  2.46s/it, Loss=0.582]"
     ]
    },
    {
     "name": "stdout",
     "output_type": "stream",
     "text": [
      "Epoch: 49 Current val acc is 0.8238095238095238 while the best val acc is 0.8333333333333334\n"
     ]
    },
    {
     "name": "stderr",
     "output_type": "stream",
     "text": [
      "\n"
     ]
    }
   ],
   "source": [
    "#Create a new model for each fold\n",
    "for fold, (train_loader, test_loader) in enumerate(zip(train_loaders, val_loaders)):\n",
    "\n",
    "    print(f'Fold {fold}/{len(train_loaders)}')\n",
    "    criterion = nn.CrossEntropyLoss().to(device)\n",
    "    \n",
    "    model = SalsaNext(nclasses=N_CLASSES).to(device)\n",
    "    optimizer = torch.optim.Adam(model.parameters(), lr=1e-3, weight_decay=1e-5)\n",
    "    scheduler = torch.optim.lr_scheduler.ExponentialLR(optimizer, gamma=0.9)\n",
    "\n",
    "    epoch = 0\n",
    "    best_val_acc = 0\n",
    "    save_no = 0\n",
    "    while epoch < total_epoch:\n",
    "        train_loss = train_epoch(epoch, model, train_loader, criterion, optimizer, device)\n",
    "        val_loss, val_acc = validate_epoch(epoch, model, val_loader, criterion, device)\n",
    "        train_losses.append(train_loss)\n",
    "        val_losses.append(val_loss)\n",
    "        val_accs.append(val_acc)\n",
    "        if best_val_acc < val_acc:\n",
    "            best_val_acc = val_acc\n",
    "            torch.save(model.state_dict(), f'{model_path}_fold_{fold}_save_{save_no}.pth')\n",
    "            print(f'Saving model at epoch: {epoch}, val acc: {val_acc}')\n",
    "            save_no += 1\n",
    "\n",
    "        print(f'Epoch: {epoch} Current val acc is {val_acc} while the best val acc is {best_val_acc}')\n",
    "        scheduler.step()    \n",
    "        epoch += 1\n"
   ]
  },
  {
   "cell_type": "code",
   "execution_count": 22,
   "id": "0a9e96d2",
   "metadata": {},
   "outputs": [
    {
     "data": {
      "image/png": "[encoded data removed]",
      "text/plain": [
       "<Figure size 640x480 with 1 Axes>"
      ]
     },
     "metadata": {},
     "output_type": "display_data"
    }
   ],
   "source": [
    "#plot the losses as a function of epochs\n",
    "plt.plot(train_losses, label=\"Training loss\")\n",
    "plt.plot(val_losses, label=\"Validation loss\")\n",
    "plt.legend()\n",
    "plt.title(\"Losses\")\n",
    "plt.xlabel(\"Epoch\")\n",
    "plt.ylabel(\"Loss\")\n",
    "plt.show()"
   ]
  },
  {
   "cell_type": "code",
   "execution_count": 23,
   "id": "80c4d31e",
   "metadata": {},
   "outputs": [
    {
     "data": {
      "image/png": "[encoded data removed]",
      "text/plain": [
       "<Figure size 640x480 with 1 Axes>"
      ]
     },
     "metadata": {},
     "output_type": "display_data"
    }
   ],
   "source": [
    "plt.plot(val_accs, label=\"Validation accuracy\")\n",
    "plt.legend()\n",
    "plt.title(\"Validation Accuracy\")\n",
    "plt.xlabel(\"Epoch\")\n",
    "plt.ylabel(\"Accuracy\")\n",
    "plt.show()"
   ]
  },
  {
   "cell_type": "code",
   "execution_count": 47,
   "id": "9a74ef4c",
   "metadata": {
    "execution": {
     "iopub.execute_input": "2023-10-04T13:46:42.676400Z",
     "iopub.status.busy": "2023-10-04T13:46:42.676104Z",
     "iopub.status.idle": "2023-10-04T13:46:42.682666Z",
     "shell.execute_reply": "2023-10-04T13:46:42.681728Z"
    },
    "papermill": {
     "duration": 0.015366,
     "end_time": "2023-10-04T13:46:42.684364",
     "exception": false,
     "start_time": "2023-10-04T13:46:42.668998",
     "status": "completed"
    },
    "tags": []
   },
   "outputs": [],
   "source": [
    "def generate_submission_file(model, loader, device):\n",
    "    model.eval()\n",
    "    indices_list = list()\n",
    "    preds = list()\n",
    "    #pbar = tqdm(total=len(loader), desc=f'Epoch {epoch}')\n",
    "    pbar = tqdm(total=len(loader))\n",
    "    with torch.no_grad():\n",
    "        for i, (data, proj_labels, indices) in enumerate(\n",
    "                loader):\n",
    "            data = data.float().to(device)\n",
    "            label = proj_labels.long().to(device)\n",
    "            logit = model(data)\n",
    "            pred = torch.argmax(logit, dim=1)\n",
    "            indices_list.extend(indices.detach().cpu().numpy().tolist())\n",
    "            preds.extend(pred.detach().cpu().numpy().tolist())\n",
    "            print(f'{i} {len(preds)}')\n",
    "            pbar.update(1)\n",
    "    pbar.close()\n",
    "    sample = test_df.iloc[indices_list]\n",
    "    sample['LABEL'] = preds\n",
    "    return sample "
   ]
  },
  {
   "cell_type": "code",
   "execution_count": 43,
   "id": "608213c7",
   "metadata": {},
   "outputs": [
    {
     "data": {
      "text/html": [
       "<div>\n",
       "<style scoped>\n",
       "    .dataframe tbody tr th:only-of-type {\n",
       "        vertical-align: middle;\n",
       "    }\n",
       "\n",
       "    .dataframe tbody tr th {\n",
       "        vertical-align: top;\n",
       "    }\n",
       "\n",
       "    .dataframe thead th {\n",
       "        text-align: right;\n",
       "    }\n",
       "</style>\n",
       "<table border=\"1\" class=\"dataframe\">\n",
       "  <thead>\n",
       "    <tr style=\"text-align: right;\">\n",
       "      <th></th>\n",
       "      <th>FNAME</th>\n",
       "    </tr>\n",
       "  </thead>\n",
       "  <tbody>\n",
       "    <tr>\n",
       "      <th>0</th>\n",
       "      <td>06_122845.bin</td>\n",
       "    </tr>\n",
       "    <tr>\n",
       "      <th>1</th>\n",
       "      <td>08_925129.bin</td>\n",
       "    </tr>\n",
       "    <tr>\n",
       "      <th>2</th>\n",
       "      <td>08_976795.bin</td>\n",
       "    </tr>\n",
       "    <tr>\n",
       "      <th>3</th>\n",
       "      <td>06_317230.bin</td>\n",
       "    </tr>\n",
       "    <tr>\n",
       "      <th>4</th>\n",
       "      <td>08_386622.bin</td>\n",
       "    </tr>\n",
       "  </tbody>\n",
       "</table>\n",
       "</div>"
      ],
      "text/plain": [
       "           FNAME\n",
       "0  06_122845.bin\n",
       "1  08_925129.bin\n",
       "2  08_976795.bin\n",
       "3  06_317230.bin\n",
       "4  08_386622.bin"
      ]
     },
     "execution_count": 43,
     "metadata": {},
     "output_type": "execute_result"
    }
   ],
   "source": [
    "test_df.head()"
   ]
  },
  {
   "cell_type": "code",
   "execution_count": 29,
   "id": "fa7c6ddb",
   "metadata": {},
   "outputs": [
    {
     "data": {
      "text/plain": [
       "{'0': '../models\\\\salsanext_2023-10-16_14-34-54_fold_0_save_19.pth',\n",
       " '1': '../models\\\\salsanext_2023-10-16_14-34-54_fold_1_save_15.pth',\n",
       " '2': '../models\\\\salsanext_2023-10-16_14-34-54_fold_2_save_12.pth',\n",
       " '3': '../models\\\\salsanext_2023-10-16_14-34-54_fold_3_save_9.pth',\n",
       " '4': '../models\\\\salsanext_2023-10-16_14-34-54_fold_4_save_16.pth'}"
      ]
     },
     "execution_count": 29,
     "metadata": {},
     "output_type": "execute_result"
    }
   ],
   "source": [
    "#Scan models directory and find all models\n",
    "import glob\n",
    "model_paths = glob.glob(model_path + '*.pth')\n",
    "#print(model_paths)\n",
    "\n",
    "\n",
    "#Extract the file name only and split it to get the fold number\n",
    "#Then for each foldNo save the path for the one with the highest saveNo\n",
    "fold_paths = dict()\n",
    "\n",
    "for path in model_paths:\n",
    "\n",
    "    #remove the .pth extension\n",
    "    #print(os.path.basename(path)[:-4].split('_'))\n",
    "    splits = os.path.basename(path)[:-4].split('_')\n",
    "    #BaseName, Date, HHMMSS, Fold, FoldNo, save, saveNo\n",
    "    foldNo = splits[4]\n",
    "    saveNo = splits[6]\n",
    "\n",
    "    if foldNo not in fold_paths:\n",
    "        fold_paths[foldNo] = path\n",
    "    else:\n",
    "        if int(saveNo) > int(os.path.basename(fold_paths[foldNo])[:-4].split('_')[6]):\n",
    "            fold_paths[foldNo] = path\n",
    "\n",
    "\n",
    "fold_paths\n",
    "\n",
    "\n",
    "\n"
   ]
  },
  {
   "cell_type": "code",
   "execution_count": 30,
   "id": "1d447b81",
   "metadata": {},
   "outputs": [
    {
     "data": {
      "text/plain": [
       "device(type='cuda', index=0)"
      ]
     },
     "execution_count": 30,
     "metadata": {},
     "output_type": "execute_result"
    }
   ],
   "source": [
    "device"
   ]
  },
  {
   "cell_type": "code",
   "execution_count": 32,
   "id": "d2e5f81a",
   "metadata": {},
   "outputs": [
    {
     "name": "stdout",
     "output_type": "stream",
     "text": [
      "Fold 0\n",
      "Fold 1\n",
      "Fold 2\n",
      "Fold 3\n",
      "Fold 4\n"
     ]
    }
   ],
   "source": [
    "modelContainer = ModelContainer()\n",
    "for path in fold_paths:\n",
    "    print(f'Fold {path}')\n",
    "    model = SalsaNext(nclasses=N_CLASSES).to(device)\n",
    "    model.load_state_dict(torch.load(fold_paths[path]))\n",
    "    model.eval()\n",
    "    modelContainer.addModel(model)"
   ]
  },
  {
   "cell_type": "code",
   "execution_count": 45,
   "id": "0ebd9160",
   "metadata": {
    "execution": {
     "iopub.execute_input": "2023-10-04T13:46:42.698082Z",
     "iopub.status.busy": "2023-10-04T13:46:42.697842Z",
     "iopub.status.idle": "2023-10-04T13:47:08.670185Z",
     "shell.execute_reply": "2023-10-04T13:47:08.669216Z"
    },
    "papermill": {
     "duration": 25.980801,
     "end_time": "2023-10-04T13:47:08.672078",
     "exception": false,
     "start_time": "2023-10-04T13:46:42.691277",
     "status": "completed"
    },
    "tags": []
   },
   "outputs": [],
   "source": [
    "# model = SimpleModel3(num_channels=5, num_classes=N_CLASSES, input_shape=(64, 2048)).to(device)\n",
    "# model.load_state_dict(torch.load(model_path))\n",
    "# sample = generate_submission_file(model, test_loader, device)"
   ]
  },
  {
   "cell_type": "code",
   "execution_count": 48,
   "id": "83a854dd",
   "metadata": {},
   "outputs": [
    {
     "name": "stderr",
     "output_type": "stream",
     "text": []
    },
    {
     "name": "stdout",
     "output_type": "stream",
     "text": [
      "0 8\n"
     ]
    },
    {
     "name": "stderr",
     "output_type": "stream",
     "text": []
    },
    {
     "name": "stdout",
     "output_type": "stream",
     "text": [
      "1 16\n"
     ]
    },
    {
     "name": "stderr",
     "output_type": "stream",
     "text": []
    },
    {
     "name": "stdout",
     "output_type": "stream",
     "text": [
      "2 24\n"
     ]
    },
    {
     "name": "stderr",
     "output_type": "stream",
     "text": []
    },
    {
     "name": "stdout",
     "output_type": "stream",
     "text": [
      "3 32\n"
     ]
    },
    {
     "name": "stderr",
     "output_type": "stream",
     "text": []
    },
    {
     "name": "stdout",
     "output_type": "stream",
     "text": [
      "4 40\n"
     ]
    },
    {
     "name": "stderr",
     "output_type": "stream",
     "text": []
    },
    {
     "name": "stdout",
     "output_type": "stream",
     "text": [
      "5 48\n"
     ]
    },
    {
     "name": "stderr",
     "output_type": "stream",
     "text": []
    },
    {
     "name": "stdout",
     "output_type": "stream",
     "text": [
      "6 56\n"
     ]
    },
    {
     "name": "stderr",
     "output_type": "stream",
     "text": []
    },
    {
     "name": "stdout",
     "output_type": "stream",
     "text": [
      "7 64\n"
     ]
    },
    {
     "name": "stderr",
     "output_type": "stream",
     "text": []
    },
    {
     "name": "stdout",
     "output_type": "stream",
     "text": [
      "8 72\n"
     ]
    },
    {
     "name": "stderr",
     "output_type": "stream",
     "text": []
    },
    {
     "name": "stdout",
     "output_type": "stream",
     "text": [
      "9 80\n"
     ]
    },
    {
     "name": "stderr",
     "output_type": "stream",
     "text": []
    },
    {
     "name": "stdout",
     "output_type": "stream",
     "text": [
      "10 88\n"
     ]
    },
    {
     "name": "stderr",
     "output_type": "stream",
     "text": []
    },
    {
     "name": "stdout",
     "output_type": "stream",
     "text": [
      "11 96\n"
     ]
    },
    {
     "name": "stderr",
     "output_type": "stream",
     "text": []
    },
    {
     "name": "stdout",
     "output_type": "stream",
     "text": [
      "12 104\n"
     ]
    },
    {
     "name": "stderr",
     "output_type": "stream",
     "text": []
    },
    {
     "name": "stdout",
     "output_type": "stream",
     "text": [
      "13 112\n"
     ]
    },
    {
     "name": "stderr",
     "output_type": "stream",
     "text": []
    },
    {
     "name": "stdout",
     "output_type": "stream",
     "text": [
      "14 120\n"
     ]
    },
    {
     "name": "stderr",
     "output_type": "stream",
     "text": []
    },
    {
     "name": "stdout",
     "output_type": "stream",
     "text": [
      "15 128\n"
     ]
    },
    {
     "name": "stderr",
     "output_type": "stream",
     "text": []
    },
    {
     "name": "stdout",
     "output_type": "stream",
     "text": [
      "16 136\n"
     ]
    },
    {
     "name": "stderr",
     "output_type": "stream",
     "text": []
    },
    {
     "name": "stdout",
     "output_type": "stream",
     "text": [
      "17 144\n"
     ]
    },
    {
     "name": "stderr",
     "output_type": "stream",
     "text": []
    },
    {
     "name": "stdout",
     "output_type": "stream",
     "text": [
      "18 152\n"
     ]
    },
    {
     "name": "stderr",
     "output_type": "stream",
     "text": []
    },
    {
     "name": "stdout",
     "output_type": "stream",
     "text": [
      "19 160\n"
     ]
    },
    {
     "name": "stderr",
     "output_type": "stream",
     "text": []
    },
    {
     "name": "stdout",
     "output_type": "stream",
     "text": [
      "20 168\n"
     ]
    },
    {
     "name": "stderr",
     "output_type": "stream",
     "text": []
    },
    {
     "name": "stdout",
     "output_type": "stream",
     "text": [
      "21 176\n"
     ]
    },
    {
     "name": "stderr",
     "output_type": "stream",
     "text": []
    },
    {
     "name": "stdout",
     "output_type": "stream",
     "text": [
      "22 184\n"
     ]
    },
    {
     "name": "stderr",
     "output_type": "stream",
     "text": []
    },
    {
     "name": "stdout",
     "output_type": "stream",
     "text": [
      "23 192\n"
     ]
    },
    {
     "name": "stderr",
     "output_type": "stream",
     "text": []
    },
    {
     "name": "stdout",
     "output_type": "stream",
     "text": [
      "24 200\n"
     ]
    },
    {
     "name": "stderr",
     "output_type": "stream",
     "text": []
    },
    {
     "name": "stdout",
     "output_type": "stream",
     "text": [
      "25 208\n"
     ]
    },
    {
     "name": "stderr",
     "output_type": "stream",
     "text": []
    },
    {
     "name": "stdout",
     "output_type": "stream",
     "text": [
      "26 216\n"
     ]
    },
    {
     "name": "stderr",
     "output_type": "stream",
     "text": []
    },
    {
     "name": "stdout",
     "output_type": "stream",
     "text": [
      "27 224\n"
     ]
    },
    {
     "name": "stderr",
     "output_type": "stream",
     "text": []
    },
    {
     "name": "stdout",
     "output_type": "stream",
     "text": [
      "28 232\n"
     ]
    },
    {
     "name": "stderr",
     "output_type": "stream",
     "text": []
    },
    {
     "name": "stdout",
     "output_type": "stream",
     "text": [
      "29 240\n"
     ]
    },
    {
     "name": "stderr",
     "output_type": "stream",
     "text": []
    },
    {
     "name": "stdout",
     "output_type": "stream",
     "text": [
      "30 248\n"
     ]
    },
    {
     "name": "stderr",
     "output_type": "stream",
     "text": []
    },
    {
     "name": "stdout",
     "output_type": "stream",
     "text": [
      "31 256\n"
     ]
    },
    {
     "name": "stderr",
     "output_type": "stream",
     "text": []
    },
    {
     "name": "stdout",
     "output_type": "stream",
     "text": [
      "32 264\n"
     ]
    },
    {
     "name": "stderr",
     "output_type": "stream",
     "text": []
    },
    {
     "name": "stdout",
     "output_type": "stream",
     "text": [
      "33 272\n"
     ]
    },
    {
     "name": "stderr",
     "output_type": "stream",
     "text": []
    },
    {
     "name": "stdout",
     "output_type": "stream",
     "text": [
      "34 280\n"
     ]
    },
    {
     "name": "stderr",
     "output_type": "stream",
     "text": []
    },
    {
     "name": "stdout",
     "output_type": "stream",
     "text": [
      "35 288\n"
     ]
    },
    {
     "name": "stderr",
     "output_type": "stream",
     "text": []
    },
    {
     "name": "stdout",
     "output_type": "stream",
     "text": [
      "36 296\n"
     ]
    },
    {
     "name": "stderr",
     "output_type": "stream",
     "text": []
    },
    {
     "name": "stdout",
     "output_type": "stream",
     "text": [
      "37 304\n"
     ]
    },
    {
     "name": "stderr",
     "output_type": "stream",
     "text": []
    },
    {
     "name": "stdout",
     "output_type": "stream",
     "text": [
      "38 312\n"
     ]
    },
    {
     "name": "stderr",
     "output_type": "stream",
     "text": []
    },
    {
     "name": "stdout",
     "output_type": "stream",
     "text": [
      "39 320\n"
     ]
    },
    {
     "name": "stderr",
     "output_type": "stream",
     "text": []
    },
    {
     "name": "stdout",
     "output_type": "stream",
     "text": [
      "40 328\n"
     ]
    },
    {
     "name": "stderr",
     "output_type": "stream",
     "text": []
    },
    {
     "name": "stdout",
     "output_type": "stream",
     "text": [
      "41 336\n"
     ]
    },
    {
     "name": "stderr",
     "output_type": "stream",
     "text": []
    },
    {
     "name": "stdout",
     "output_type": "stream",
     "text": [
      "42 344\n"
     ]
    },
    {
     "name": "stderr",
     "output_type": "stream",
     "text": []
    },
    {
     "name": "stdout",
     "output_type": "stream",
     "text": [
      "43 352\n"
     ]
    },
    {
     "name": "stderr",
     "output_type": "stream",
     "text": []
    },
    {
     "name": "stdout",
     "output_type": "stream",
     "text": [
      "44 360\n"
     ]
    },
    {
     "name": "stderr",
     "output_type": "stream",
     "text": []
    },
    {
     "name": "stdout",
     "output_type": "stream",
     "text": [
      "45 368\n"
     ]
    },
    {
     "name": "stderr",
     "output_type": "stream",
     "text": []
    },
    {
     "name": "stdout",
     "output_type": "stream",
     "text": [
      "46 376\n"
     ]
    },
    {
     "name": "stderr",
     "output_type": "stream",
     "text": []
    },
    {
     "name": "stdout",
     "output_type": "stream",
     "text": [
      "47 384\n"
     ]
    },
    {
     "name": "stderr",
     "output_type": "stream",
     "text": []
    },
    {
     "name": "stdout",
     "output_type": "stream",
     "text": [
      "48 392\n"
     ]
    },
    {
     "name": "stderr",
     "output_type": "stream",
     "text": []
    },
    {
     "name": "stdout",
     "output_type": "stream",
     "text": [
      "49 400\n"
     ]
    },
    {
     "name": "stderr",
     "output_type": "stream",
     "text": []
    },
    {
     "name": "stdout",
     "output_type": "stream",
     "text": [
      "50 408\n"
     ]
    },
    {
     "name": "stderr",
     "output_type": "stream",
     "text": []
    },
    {
     "name": "stdout",
     "output_type": "stream",
     "text": [
      "51 416\n"
     ]
    },
    {
     "name": "stderr",
     "output_type": "stream",
     "text": []
    },
    {
     "name": "stdout",
     "output_type": "stream",
     "text": [
      "52 424\n"
     ]
    },
    {
     "name": "stderr",
     "output_type": "stream",
     "text": []
    },
    {
     "name": "stdout",
     "output_type": "stream",
     "text": [
      "53 432\n"
     ]
    },
    {
     "name": "stderr",
     "output_type": "stream",
     "text": []
    },
    {
     "name": "stdout",
     "output_type": "stream",
     "text": [
      "54 440\n"
     ]
    },
    {
     "name": "stderr",
     "output_type": "stream",
     "text": []
    },
    {
     "name": "stdout",
     "output_type": "stream",
     "text": [
      "55 448\n"
     ]
    },
    {
     "name": "stderr",
     "output_type": "stream",
     "text": []
    },
    {
     "name": "stdout",
     "output_type": "stream",
     "text": [
      "56 456\n"
     ]
    },
    {
     "name": "stderr",
     "output_type": "stream",
     "text": []
    },
    {
     "name": "stdout",
     "output_type": "stream",
     "text": [
      "57 464\n"
     ]
    },
    {
     "name": "stderr",
     "output_type": "stream",
     "text": []
    },
    {
     "name": "stdout",
     "output_type": "stream",
     "text": [
      "58 472\n"
     ]
    },
    {
     "name": "stderr",
     "output_type": "stream",
     "text": []
    },
    {
     "name": "stdout",
     "output_type": "stream",
     "text": [
      "59 480\n"
     ]
    },
    {
     "name": "stderr",
     "output_type": "stream",
     "text": []
    },
    {
     "name": "stdout",
     "output_type": "stream",
     "text": [
      "60 488\n"
     ]
    },
    {
     "name": "stderr",
     "output_type": "stream",
     "text": []
    },
    {
     "name": "stdout",
     "output_type": "stream",
     "text": [
      "61 496\n"
     ]
    },
    {
     "name": "stderr",
     "output_type": "stream",
     "text": []
    },
    {
     "name": "stdout",
     "output_type": "stream",
     "text": [
      "62 504\n"
     ]
    },
    {
     "name": "stderr",
     "output_type": "stream",
     "text": []
    },
    {
     "name": "stdout",
     "output_type": "stream",
     "text": [
      "63 512\n"
     ]
    },
    {
     "name": "stderr",
     "output_type": "stream",
     "text": []
    },
    {
     "name": "stdout",
     "output_type": "stream",
     "text": [
      "64 520\n"
     ]
    },
    {
     "name": "stderr",
     "output_type": "stream",
     "text": []
    },
    {
     "name": "stdout",
     "output_type": "stream",
     "text": [
      "65 528\n"
     ]
    },
    {
     "name": "stderr",
     "output_type": "stream",
     "text": []
    },
    {
     "name": "stdout",
     "output_type": "stream",
     "text": [
      "66 536\n"
     ]
    },
    {
     "name": "stderr",
     "output_type": "stream",
     "text": []
    },
    {
     "name": "stdout",
     "output_type": "stream",
     "text": [
      "67 544\n"
     ]
    },
    {
     "name": "stderr",
     "output_type": "stream",
     "text": []
    },
    {
     "name": "stdout",
     "output_type": "stream",
     "text": [
      "68 552\n"
     ]
    },
    {
     "name": "stderr",
     "output_type": "stream",
     "text": []
    },
    {
     "name": "stdout",
     "output_type": "stream",
     "text": [
      "69 560\n"
     ]
    },
    {
     "name": "stderr",
     "output_type": "stream",
     "text": []
    },
    {
     "name": "stdout",
     "output_type": "stream",
     "text": [
      "70 568\n"
     ]
    },
    {
     "name": "stderr",
     "output_type": "stream",
     "text": []
    },
    {
     "name": "stdout",
     "output_type": "stream",
     "text": [
      "71 576\n"
     ]
    },
    {
     "name": "stderr",
     "output_type": "stream",
     "text": []
    },
    {
     "name": "stdout",
     "output_type": "stream",
     "text": [
      "72 584\n"
     ]
    },
    {
     "name": "stderr",
     "output_type": "stream",
     "text": []
    },
    {
     "name": "stdout",
     "output_type": "stream",
     "text": [
      "73 592\n"
     ]
    },
    {
     "name": "stderr",
     "output_type": "stream",
     "text": []
    },
    {
     "name": "stdout",
     "output_type": "stream",
     "text": [
      "74 600\n"
     ]
    },
    {
     "name": "stderr",
     "output_type": "stream",
     "text": []
    },
    {
     "name": "stdout",
     "output_type": "stream",
     "text": [
      "75 608\n"
     ]
    },
    {
     "name": "stderr",
     "output_type": "stream",
     "text": []
    },
    {
     "name": "stdout",
     "output_type": "stream",
     "text": [
      "76 616\n"
     ]
    },
    {
     "name": "stderr",
     "output_type": "stream",
     "text": []
    },
    {
     "name": "stdout",
     "output_type": "stream",
     "text": [
      "77 624\n"
     ]
    },
    {
     "name": "stderr",
     "output_type": "stream",
     "text": []
    },
    {
     "name": "stdout",
     "output_type": "stream",
     "text": [
      "78 632\n"
     ]
    },
    {
     "name": "stderr",
     "output_type": "stream",
     "text": []
    },
    {
     "name": "stdout",
     "output_type": "stream",
     "text": [
      "79 640\n"
     ]
    },
    {
     "name": "stderr",
     "output_type": "stream",
     "text": []
    },
    {
     "name": "stdout",
     "output_type": "stream",
     "text": [
      "80 648\n"
     ]
    },
    {
     "name": "stderr",
     "output_type": "stream",
     "text": []
    },
    {
     "name": "stdout",
     "output_type": "stream",
     "text": [
      "81 656\n"
     ]
    },
    {
     "name": "stderr",
     "output_type": "stream",
     "text": []
    },
    {
     "name": "stdout",
     "output_type": "stream",
     "text": [
      "82 664\n"
     ]
    },
    {
     "name": "stderr",
     "output_type": "stream",
     "text": []
    },
    {
     "name": "stdout",
     "output_type": "stream",
     "text": [
      "83 672\n"
     ]
    },
    {
     "name": "stderr",
     "output_type": "stream",
     "text": []
    },
    {
     "name": "stdout",
     "output_type": "stream",
     "text": [
      "84 680\n"
     ]
    },
    {
     "name": "stderr",
     "output_type": "stream",
     "text": []
    },
    {
     "name": "stdout",
     "output_type": "stream",
     "text": [
      "85 688\n"
     ]
    },
    {
     "name": "stderr",
     "output_type": "stream",
     "text": []
    },
    {
     "name": "stdout",
     "output_type": "stream",
     "text": [
      "86 696\n"
     ]
    },
    {
     "name": "stderr",
     "output_type": "stream",
     "text": []
    },
    {
     "name": "stdout",
     "output_type": "stream",
     "text": [
      "87 704\n"
     ]
    },
    {
     "name": "stderr",
     "output_type": "stream",
     "text": []
    },
    {
     "name": "stdout",
     "output_type": "stream",
     "text": [
      "88 712\n"
     ]
    },
    {
     "name": "stderr",
     "output_type": "stream",
     "text": []
    },
    {
     "name": "stdout",
     "output_type": "stream",
     "text": [
      "89 720\n"
     ]
    },
    {
     "name": "stderr",
     "output_type": "stream",
     "text": []
    },
    {
     "name": "stdout",
     "output_type": "stream",
     "text": [
      "90 728\n"
     ]
    },
    {
     "name": "stderr",
     "output_type": "stream",
     "text": []
    },
    {
     "name": "stdout",
     "output_type": "stream",
     "text": [
      "91 736\n"
     ]
    },
    {
     "name": "stderr",
     "output_type": "stream",
     "text": []
    },
    {
     "name": "stdout",
     "output_type": "stream",
     "text": [
      "92 744\n"
     ]
    },
    {
     "name": "stderr",
     "output_type": "stream",
     "text": []
    },
    {
     "name": "stdout",
     "output_type": "stream",
     "text": [
      "93 752\n"
     ]
    },
    {
     "name": "stderr",
     "output_type": "stream",
     "text": []
    },
    {
     "name": "stdout",
     "output_type": "stream",
     "text": [
      "94 760\n"
     ]
    },
    {
     "name": "stderr",
     "output_type": "stream",
     "text": []
    },
    {
     "name": "stdout",
     "output_type": "stream",
     "text": [
      "95 768\n"
     ]
    },
    {
     "name": "stderr",
     "output_type": "stream",
     "text": []
    },
    {
     "name": "stdout",
     "output_type": "stream",
     "text": [
      "96 776\n"
     ]
    },
    {
     "name": "stderr",
     "output_type": "stream",
     "text": []
    },
    {
     "name": "stdout",
     "output_type": "stream",
     "text": [
      "97 784\n"
     ]
    },
    {
     "name": "stderr",
     "output_type": "stream",
     "text": []
    },
    {
     "name": "stdout",
     "output_type": "stream",
     "text": [
      "98 792\n"
     ]
    },
    {
     "name": "stderr",
     "output_type": "stream",
     "text": []
    },
    {
     "name": "stdout",
     "output_type": "stream",
     "text": [
      "99 800\n"
     ]
    },
    {
     "name": "stderr",
     "output_type": "stream",
     "text": []
    },
    {
     "name": "stdout",
     "output_type": "stream",
     "text": [
      "100 808\n"
     ]
    },
    {
     "name": "stderr",
     "output_type": "stream",
     "text": []
    },
    {
     "name": "stdout",
     "output_type": "stream",
     "text": [
      "101 816\n"
     ]
    },
    {
     "name": "stderr",
     "output_type": "stream",
     "text": []
    },
    {
     "name": "stdout",
     "output_type": "stream",
     "text": [
      "102 824\n"
     ]
    },
    {
     "name": "stderr",
     "output_type": "stream",
     "text": []
    },
    {
     "name": "stdout",
     "output_type": "stream",
     "text": [
      "103 832\n"
     ]
    },
    {
     "name": "stderr",
     "output_type": "stream",
     "text": []
    },
    {
     "name": "stdout",
     "output_type": "stream",
     "text": [
      "104 840\n"
     ]
    },
    {
     "name": "stderr",
     "output_type": "stream",
     "text": []
    },
    {
     "name": "stdout",
     "output_type": "stream",
     "text": [
      "105 848\n"
     ]
    },
    {
     "name": "stderr",
     "output_type": "stream",
     "text": []
    },
    {
     "name": "stdout",
     "output_type": "stream",
     "text": [
      "106 856\n"
     ]
    },
    {
     "name": "stderr",
     "output_type": "stream",
     "text": []
    },
    {
     "name": "stdout",
     "output_type": "stream",
     "text": [
      "107 864\n"
     ]
    },
    {
     "name": "stderr",
     "output_type": "stream",
     "text": []
    },
    {
     "name": "stdout",
     "output_type": "stream",
     "text": [
      "108 872\n"
     ]
    },
    {
     "name": "stderr",
     "output_type": "stream",
     "text": []
    },
    {
     "name": "stdout",
     "output_type": "stream",
     "text": [
      "109 880\n"
     ]
    },
    {
     "name": "stderr",
     "output_type": "stream",
     "text": []
    },
    {
     "name": "stdout",
     "output_type": "stream",
     "text": [
      "110 888\n"
     ]
    },
    {
     "name": "stderr",
     "output_type": "stream",
     "text": []
    },
    {
     "name": "stdout",
     "output_type": "stream",
     "text": [
      "111 896\n"
     ]
    },
    {
     "name": "stderr",
     "output_type": "stream",
     "text": []
    },
    {
     "name": "stdout",
     "output_type": "stream",
     "text": [
      "112 904\n"
     ]
    },
    {
     "name": "stderr",
     "output_type": "stream",
     "text": []
    },
    {
     "name": "stdout",
     "output_type": "stream",
     "text": [
      "113 912\n"
     ]
    },
    {
     "name": "stderr",
     "output_type": "stream",
     "text": []
    },
    {
     "name": "stdout",
     "output_type": "stream",
     "text": [
      "114 920\n"
     ]
    },
    {
     "name": "stderr",
     "output_type": "stream",
     "text": []
    },
    {
     "name": "stdout",
     "output_type": "stream",
     "text": [
      "115 928\n"
     ]
    },
    {
     "name": "stderr",
     "output_type": "stream",
     "text": []
    },
    {
     "name": "stdout",
     "output_type": "stream",
     "text": [
      "116 936\n"
     ]
    },
    {
     "name": "stderr",
     "output_type": "stream",
     "text": []
    },
    {
     "name": "stdout",
     "output_type": "stream",
     "text": [
      "117 944\n"
     ]
    },
    {
     "name": "stderr",
     "output_type": "stream",
     "text": []
    },
    {
     "name": "stdout",
     "output_type": "stream",
     "text": [
      "118 952\n"
     ]
    },
    {
     "name": "stderr",
     "output_type": "stream",
     "text": []
    },
    {
     "name": "stdout",
     "output_type": "stream",
     "text": [
      "119 960\n"
     ]
    },
    {
     "name": "stderr",
     "output_type": "stream",
     "text": []
    },
    {
     "name": "stdout",
     "output_type": "stream",
     "text": [
      "120 968\n"
     ]
    },
    {
     "name": "stderr",
     "output_type": "stream",
     "text": []
    },
    {
     "name": "stdout",
     "output_type": "stream",
     "text": [
      "121 976\n"
     ]
    },
    {
     "name": "stderr",
     "output_type": "stream",
     "text": []
    },
    {
     "name": "stdout",
     "output_type": "stream",
     "text": [
      "122 984\n"
     ]
    },
    {
     "name": "stderr",
     "output_type": "stream",
     "text": []
    },
    {
     "name": "stdout",
     "output_type": "stream",
     "text": [
      "123 992\n"
     ]
    },
    {
     "name": "stderr",
     "output_type": "stream",
     "text": []
    },
    {
     "name": "stdout",
     "output_type": "stream",
     "text": [
      "124 1000\n"
     ]
    },
    {
     "name": "stderr",
     "output_type": "stream",
     "text": []
    },
    {
     "name": "stdout",
     "output_type": "stream",
     "text": [
      "125 1008\n"
     ]
    },
    {
     "name": "stderr",
     "output_type": "stream",
     "text": []
    },
    {
     "name": "stdout",
     "output_type": "stream",
     "text": [
      "126 1016\n"
     ]
    },
    {
     "name": "stderr",
     "output_type": "stream",
     "text": []
    },
    {
     "name": "stdout",
     "output_type": "stream",
     "text": [
      "127 1024\n"
     ]
    },
    {
     "name": "stderr",
     "output_type": "stream",
     "text": []
    },
    {
     "name": "stdout",
     "output_type": "stream",
     "text": [
      "128 1032\n"
     ]
    },
    {
     "name": "stderr",
     "output_type": "stream",
     "text": []
    },
    {
     "name": "stdout",
     "output_type": "stream",
     "text": [
      "129 1040\n"
     ]
    },
    {
     "name": "stderr",
     "output_type": "stream",
     "text": []
    },
    {
     "name": "stdout",
     "output_type": "stream",
     "text": [
      "130 1048\n"
     ]
    },
    {
     "name": "stderr",
     "output_type": "stream",
     "text": []
    },
    {
     "name": "stdout",
     "output_type": "stream",
     "text": [
      "131 1056\n"
     ]
    },
    {
     "name": "stderr",
     "output_type": "stream",
     "text": []
    },
    {
     "name": "stdout",
     "output_type": "stream",
     "text": [
      "132 1064\n"
     ]
    },
    {
     "name": "stderr",
     "output_type": "stream",
     "text": []
    },
    {
     "name": "stdout",
     "output_type": "stream",
     "text": [
      "133 1072\n"
     ]
    },
    {
     "name": "stderr",
     "output_type": "stream",
     "text": []
    },
    {
     "name": "stdout",
     "output_type": "stream",
     "text": [
      "134 1080\n"
     ]
    },
    {
     "name": "stderr",
     "output_type": "stream",
     "text": []
    },
    {
     "name": "stdout",
     "output_type": "stream",
     "text": [
      "135 1088\n"
     ]
    },
    {
     "name": "stderr",
     "output_type": "stream",
     "text": []
    },
    {
     "name": "stdout",
     "output_type": "stream",
     "text": [
      "136 1096\n"
     ]
    },
    {
     "name": "stderr",
     "output_type": "stream",
     "text": []
    },
    {
     "name": "stdout",
     "output_type": "stream",
     "text": [
      "137 1104\n"
     ]
    },
    {
     "name": "stderr",
     "output_type": "stream",
     "text": []
    },
    {
     "name": "stdout",
     "output_type": "stream",
     "text": [
      "138 1112\n"
     ]
    },
    {
     "name": "stderr",
     "output_type": "stream",
     "text": []
    },
    {
     "name": "stdout",
     "output_type": "stream",
     "text": [
      "139 1120\n"
     ]
    },
    {
     "name": "stderr",
     "output_type": "stream",
     "text": []
    },
    {
     "name": "stdout",
     "output_type": "stream",
     "text": [
      "140 1128\n"
     ]
    },
    {
     "name": "stderr",
     "output_type": "stream",
     "text": []
    },
    {
     "name": "stdout",
     "output_type": "stream",
     "text": [
      "141 1136\n"
     ]
    },
    {
     "name": "stderr",
     "output_type": "stream",
     "text": []
    },
    {
     "name": "stdout",
     "output_type": "stream",
     "text": [
      "142 1144\n"
     ]
    },
    {
     "name": "stderr",
     "output_type": "stream",
     "text": []
    },
    {
     "name": "stdout",
     "output_type": "stream",
     "text": [
      "143 1152\n"
     ]
    },
    {
     "name": "stderr",
     "output_type": "stream",
     "text": []
    },
    {
     "name": "stdout",
     "output_type": "stream",
     "text": [
      "144 1160\n"
     ]
    },
    {
     "name": "stderr",
     "output_type": "stream",
     "text": []
    },
    {
     "name": "stdout",
     "output_type": "stream",
     "text": [
      "145 1168\n"
     ]
    },
    {
     "name": "stderr",
     "output_type": "stream",
     "text": []
    },
    {
     "name": "stdout",
     "output_type": "stream",
     "text": [
      "146 1176\n"
     ]
    },
    {
     "name": "stderr",
     "output_type": "stream",
     "text": []
    },
    {
     "name": "stdout",
     "output_type": "stream",
     "text": [
      "147 1184\n"
     ]
    },
    {
     "name": "stderr",
     "output_type": "stream",
     "text": []
    },
    {
     "name": "stdout",
     "output_type": "stream",
     "text": [
      "148 1192\n"
     ]
    },
    {
     "name": "stderr",
     "output_type": "stream",
     "text": [
      "100%|██████████| 150/150 [1:26:51<00:00, 34.74s/it]"
     ]
    },
    {
     "name": "stdout",
     "output_type": "stream",
     "text": [
      "149 1196\n"
     ]
    },
    {
     "name": "stderr",
     "output_type": "stream",
     "text": [
      "\n"
     ]
    }
   ],
   "source": [
    "sample = generate_submission_file(modelContainer, test_loader, device)"
   ]
  },
  {
   "cell_type": "code",
   "execution_count": 49,
   "id": "2aa30eb4",
   "metadata": {
    "execution": {
     "iopub.execute_input": "2023-10-04T13:47:08.686121Z",
     "iopub.status.busy": "2023-10-04T13:47:08.685516Z",
     "iopub.status.idle": "2023-10-04T13:47:08.690810Z",
     "shell.execute_reply": "2023-10-04T13:47:08.690047Z"
    },
    "papermill": {
     "duration": 0.014053,
     "end_time": "2023-10-04T13:47:08.692487",
     "exception": false,
     "start_time": "2023-10-04T13:47:08.678434",
     "status": "completed"
    },
    "tags": []
   },
   "outputs": [],
   "source": [
    "sample.reset_index(drop=True, inplace=True)"
   ]
  },
  {
   "cell_type": "code",
   "execution_count": 50,
   "id": "9cc9f3c6",
   "metadata": {
    "execution": {
     "iopub.execute_input": "2023-10-04T13:47:08.705586Z",
     "iopub.status.busy": "2023-10-04T13:47:08.704864Z",
     "iopub.status.idle": "2023-10-04T13:47:08.719974Z",
     "shell.execute_reply": "2023-10-04T13:47:08.718932Z"
    },
    "papermill": {
     "duration": 0.023447,
     "end_time": "2023-10-04T13:47:08.721583",
     "exception": false,
     "start_time": "2023-10-04T13:47:08.698136",
     "status": "completed"
    },
    "tags": []
   },
   "outputs": [
    {
     "data": {
      "text/html": [
       "<div>\n",
       "<style scoped>\n",
       "    .dataframe tbody tr th:only-of-type {\n",
       "        vertical-align: middle;\n",
       "    }\n",
       "\n",
       "    .dataframe tbody tr th {\n",
       "        vertical-align: top;\n",
       "    }\n",
       "\n",
       "    .dataframe thead th {\n",
       "        text-align: right;\n",
       "    }\n",
       "</style>\n",
       "<table border=\"1\" class=\"dataframe\">\n",
       "  <thead>\n",
       "    <tr style=\"text-align: right;\">\n",
       "      <th></th>\n",
       "      <th>FNAME</th>\n",
       "      <th>LABEL</th>\n",
       "    </tr>\n",
       "  </thead>\n",
       "  <tbody>\n",
       "    <tr>\n",
       "      <th>0</th>\n",
       "      <td>06_122845.bin</td>\n",
       "      <td>15</td>\n",
       "    </tr>\n",
       "    <tr>\n",
       "      <th>1</th>\n",
       "      <td>08_925129.bin</td>\n",
       "      <td>16</td>\n",
       "    </tr>\n",
       "    <tr>\n",
       "      <th>2</th>\n",
       "      <td>08_976795.bin</td>\n",
       "      <td>9</td>\n",
       "    </tr>\n",
       "    <tr>\n",
       "      <th>3</th>\n",
       "      <td>06_317230.bin</td>\n",
       "      <td>0</td>\n",
       "    </tr>\n",
       "    <tr>\n",
       "      <th>4</th>\n",
       "      <td>08_386622.bin</td>\n",
       "      <td>0</td>\n",
       "    </tr>\n",
       "    <tr>\n",
       "      <th>...</th>\n",
       "      <td>...</td>\n",
       "      <td>...</td>\n",
       "    </tr>\n",
       "    <tr>\n",
       "      <th>1191</th>\n",
       "      <td>08_211179.bin</td>\n",
       "      <td>0</td>\n",
       "    </tr>\n",
       "    <tr>\n",
       "      <th>1192</th>\n",
       "      <td>08_672278.bin</td>\n",
       "      <td>13</td>\n",
       "    </tr>\n",
       "    <tr>\n",
       "      <th>1193</th>\n",
       "      <td>08_399783.bin</td>\n",
       "      <td>13</td>\n",
       "    </tr>\n",
       "    <tr>\n",
       "      <th>1194</th>\n",
       "      <td>05_205440.bin</td>\n",
       "      <td>15</td>\n",
       "    </tr>\n",
       "    <tr>\n",
       "      <th>1195</th>\n",
       "      <td>08_287933.bin</td>\n",
       "      <td>0</td>\n",
       "    </tr>\n",
       "  </tbody>\n",
       "</table>\n",
       "<p>1196 rows × 2 columns</p>\n",
       "</div>"
      ],
      "text/plain": [
       "              FNAME  LABEL\n",
       "0     06_122845.bin     15\n",
       "1     08_925129.bin     16\n",
       "2     08_976795.bin      9\n",
       "3     06_317230.bin      0\n",
       "4     08_386622.bin      0\n",
       "...             ...    ...\n",
       "1191  08_211179.bin      0\n",
       "1192  08_672278.bin     13\n",
       "1193  08_399783.bin     13\n",
       "1194  05_205440.bin     15\n",
       "1195  08_287933.bin      0\n",
       "\n",
       "[1196 rows x 2 columns]"
      ]
     },
     "execution_count": 50,
     "metadata": {},
     "output_type": "execute_result"
    }
   ],
   "source": [
    "sample"
   ]
  },
  {
   "cell_type": "code",
   "execution_count": 51,
   "id": "ea565d00",
   "metadata": {
    "execution": {
     "iopub.execute_input": "2023-10-04T13:47:08.735176Z",
     "iopub.status.busy": "2023-10-04T13:47:08.734475Z",
     "iopub.status.idle": "2023-10-04T13:47:08.742819Z",
     "shell.execute_reply": "2023-10-04T13:47:08.741992Z"
    },
    "papermill": {
     "duration": 0.016701,
     "end_time": "2023-10-04T13:47:08.744513",
     "exception": false,
     "start_time": "2023-10-04T13:47:08.727812",
     "status": "completed"
    },
    "tags": []
   },
   "outputs": [],
   "source": [
    "\n",
    "sample.to_csv(submission_path, index=None)"
   ]
  }
 ],
 "metadata": {
  "kernelspec": {
   "display_name": "Python 3",
   "language": "python",
   "name": "python3"
  },
  "language_info": {
   "codemirror_mode": {
    "name": "ipython",
    "version": 3
   },
   "file_extension": ".py",
   "mimetype": "text/x-python",
   "name": "python",
   "nbconvert_exporter": "python",
   "pygments_lexer": "ipython3",
   "version": "3.8.5"
  },
  "papermill": {
   "default_parameters": {},
   "duration": 698.676434,
   "end_time": "2023-10-04T13:47:11.453315",
   "environment_variables": {},
   "exception": null,
   "input_path": "__notebook__.ipynb",
   "output_path": "__notebook__.ipynb",
   "parameters": {},
   "start_time": "2023-10-04T13:35:32.776881",
   "version": "2.4.0"
  },
  "widgets": {
   "application/vnd.jupyter.widget-state+json": {
    "state": {
     "0068ad1419d5430b9b63a7d49ae64469": {
      "model_module": "@jupyter-widgets/base",
      "model_module_version": "1.2.0",
      "model_name": "LayoutModel",
      "state": {
       "_model_module": "@jupyter-widgets/base",
       "_model_module_version": "1.2.0",
       "_model_name": "LayoutModel",
       "_view_count": null,
       "_view_module": "@jupyter-widgets/base",
       "_view_module_version": "1.2.0",
       "_view_name": "LayoutView",
       "align_content": null,
       "align_items": null,
       "align_self": null,
       "border": null,
       "bottom": null,
       "display": null,
       "flex": null,
       "flex_flow": null,
       "grid_area": null,
       "grid_auto_columns": null,
       "grid_auto_flow": null,
       "grid_auto_rows": null,
       "grid_column": null,
       "grid_gap": null,
       "grid_row": null,
       "grid_template_areas": null,
       "grid_template_columns": null,
       "grid_template_rows": null,
       "height": null,
       "justify_content": null,
       "justify_items": null,
       "left": null,
       "margin": null,
       "max_height": null,
       "max_width": null,
       "min_height": null,
       "min_width": null,
       "object_fit": null,
       "object_position": null,
       "order": null,
       "overflow": null,
       "overflow_x": null,
       "overflow_y": null,
       "padding": null,
       "right": null,
       "top": null,
       "visibility": null,
       "width": null
      }
     },
     "0375ba714fa447799b04cc8ff7bac1de": {
      "model_module": "@jupyter-widgets/base",
      "model_module_version": "1.2.0",
      "model_name": "LayoutModel",
      "state": {
       "_model_module": "@jupyter-widgets/base",
       "_model_module_version": "1.2.0",
       "_model_name": "LayoutModel",
       "_view_count": null,
       "_view_module": "@jupyter-widgets/base",
       "_view_module_version": "1.2.0",
       "_view_name": "LayoutView",
       "align_content": null,
       "align_items": null,
       "align_self": null,
       "border": null,
       "bottom": null,
       "display": null,
       "flex": null,
       "flex_flow": null,
       "grid_area": null,
       "grid_auto_columns": null,
       "grid_auto_flow": null,
       "grid_auto_rows": null,
       "grid_column": null,
       "grid_gap": null,
       "grid_row": null,
       "grid_template_areas": null,
       "grid_template_columns": null,
       "grid_template_rows": null,
       "height": null,
       "justify_content": null,
       "justify_items": null,
       "left": null,
       "margin": null,
       "max_height": null,
       "max_width": null,
       "min_height": null,
       "min_width": null,
       "object_fit": null,
       "object_position": null,
       "order": null,
       "overflow": null,
       "overflow_x": null,
       "overflow_y": null,
       "padding": null,
       "right": null,
       "top": null,
       "visibility": null,
       "width": null
      }
     },
     "03a3b27f12764fd5b6d8371ae57839e7": {
      "model_module": "@jupyter-widgets/controls",
      "model_module_version": "1.5.0",
      "model_name": "HBoxModel",
      "state": {
       "_dom_classes": [],
       "_model_module": "@jupyter-widgets/controls",
       "_model_module_version": "1.5.0",
       "_model_name": "HBoxModel",
       "_view_count": null,
       "_view_module": "@jupyter-widgets/controls",
       "_view_module_version": "1.5.0",
       "_view_name": "HBoxView",
       "box_style": "",
       "children": [
        "IPY_MODEL_106936f3d86145a79867ba8bb6cf8ce9",
        "IPY_MODEL_ced8ef29e9c74702b4e4aeb8dd688745",
        "IPY_MODEL_f1e3e33995f7476eb8aeead3485d2fdf"
       ],
       "layout": "IPY_MODEL_7d513f61d68e45fcb41627b70fc713e4"
      }
     },
     "06eea028e6114e7a98da50429397c8b8": {
      "model_module": "@jupyter-widgets/controls",
      "model_module_version": "1.5.0",
      "model_name": "FloatProgressModel",
      "state": {
       "_dom_classes": [],
       "_model_module": "@jupyter-widgets/controls",
       "_model_module_version": "1.5.0",
       "_model_name": "FloatProgressModel",
       "_view_count": null,
       "_view_module": "@jupyter-widgets/controls",
       "_view_module_version": "1.5.0",
       "_view_name": "ProgressView",
       "bar_style": "success",
       "description": "",
       "description_tooltip": null,
       "layout": "IPY_MODEL_847a2f85f25c46e487252cccc1745aef",
       "max": 105,
       "min": 0,
       "orientation": "horizontal",
       "style": "IPY_MODEL_6fd6ca0ef4f74cf0a217283fc577847e",
       "value": 105
      }
     },
     "085d8425fb424054a419f93f8c6ec219": {
      "model_module": "@jupyter-widgets/base",
      "model_module_version": "1.2.0",
      "model_name": "LayoutModel",
      "state": {
       "_model_module": "@jupyter-widgets/base",
       "_model_module_version": "1.2.0",
       "_model_name": "LayoutModel",
       "_view_count": null,
       "_view_module": "@jupyter-widgets/base",
       "_view_module_version": "1.2.0",
       "_view_name": "LayoutView",
       "align_content": null,
       "align_items": null,
       "align_self": null,
       "border": null,
       "bottom": null,
       "display": null,
       "flex": null,
       "flex_flow": null,
       "grid_area": null,
       "grid_auto_columns": null,
       "grid_auto_flow": null,
       "grid_auto_rows": null,
       "grid_column": null,
       "grid_gap": null,
       "grid_row": null,
       "grid_template_areas": null,
       "grid_template_columns": null,
       "grid_template_rows": null,
       "height": null,
       "justify_content": null,
       "justify_items": null,
       "left": null,
       "margin": null,
       "max_height": null,
       "max_width": null,
       "min_height": null,
       "min_width": null,
       "object_fit": null,
       "object_position": null,
       "order": null,
       "overflow": null,
       "overflow_x": null,
       "overflow_y": null,
       "padding": null,
       "right": null,
       "top": null,
       "visibility": null,
       "width": null
      }
     },
     "0903584d54604607a08b05a3520fbb11": {
      "model_module": "@jupyter-widgets/controls",
      "model_module_version": "1.5.0",
      "model_name": "HTMLModel",
      "state": {
       "_dom_classes": [],
       "_model_module": "@jupyter-widgets/controls",
       "_model_module_version": "1.5.0",
       "_model_name": "HTMLModel",
       "_view_count": null,
       "_view_module": "@jupyter-widgets/controls",
       "_view_module_version": "1.5.0",
       "_view_name": "HTMLView",
       "description": "",
       "description_tooltip": null,
       "layout": "IPY_MODEL_104123b91ba742279d7428884c53d2ae",
       "placeholder": "​",
       "style": "IPY_MODEL_e5bcc1c29f914b45b3bff35df7dc3b44",
       "value": " 27/27 [00:04&lt;00:00,  6.01it/s, Loss=8.06]"
      }
     },
     "090d2f46c0f7498993f96db72c773d4b": {
      "model_module": "@jupyter-widgets/controls",
      "model_module_version": "1.5.0",
      "model_name": "FloatProgressModel",
      "state": {
       "_dom_classes": [],
       "_model_module": "@jupyter-widgets/controls",
       "_model_module_version": "1.5.0",
       "_model_name": "FloatProgressModel",
       "_view_count": null,
       "_view_module": "@jupyter-widgets/controls",
       "_view_module_version": "1.5.0",
       "_view_name": "ProgressView",
       "bar_style": "success",
       "description": "",
       "description_tooltip": null,
       "layout": "IPY_MODEL_28ffa4d3ce764dbf8ea34b4de22f427a",
       "max": 27,
       "min": 0,
       "orientation": "horizontal",
       "style": "IPY_MODEL_fcf7d55eecf84476819ee36bff1e1c32",
       "value": 27
      }
     },
     "0937f7405be54088b4ea2eef21b4ddfb": {
      "model_module": "@jupyter-widgets/controls",
      "model_module_version": "1.5.0",
      "model_name": "ProgressStyleModel",
      "state": {
       "_model_module": "@jupyter-widgets/controls",
       "_model_module_version": "1.5.0",
       "_model_name": "ProgressStyleModel",
       "_view_count": null,
       "_view_module": "@jupyter-widgets/base",
       "_view_module_version": "1.2.0",
       "_view_name": "StyleView",
       "bar_color": null,
       "description_width": ""
      }
     },
     "0978098e4ec940f9896de2c6b3ac1a5b": {
      "model_module": "@jupyter-widgets/controls",
      "model_module_version": "1.5.0",
      "model_name": "ProgressStyleModel",
      "state": {
       "_model_module": "@jupyter-widgets/controls",
       "_model_module_version": "1.5.0",
       "_model_name": "ProgressStyleModel",
       "_view_count": null,
       "_view_module": "@jupyter-widgets/base",
       "_view_module_version": "1.2.0",
       "_view_name": "StyleView",
       "bar_color": null,
       "description_width": ""
      }
     },
     "0db2845b697d4e658095df648531cbe1": {
      "model_module": "@jupyter-widgets/base",
      "model_module_version": "1.2.0",
      "model_name": "LayoutModel",
      "state": {
       "_model_module": "@jupyter-widgets/base",
       "_model_module_version": "1.2.0",
       "_model_name": "LayoutModel",
       "_view_count": null,
       "_view_module": "@jupyter-widgets/base",
       "_view_module_version": "1.2.0",
       "_view_name": "LayoutView",
       "align_content": null,
       "align_items": null,
       "align_self": null,
       "border": null,
       "bottom": null,
       "display": null,
       "flex": null,
       "flex_flow": null,
       "grid_area": null,
       "grid_auto_columns": null,
       "grid_auto_flow": null,
       "grid_auto_rows": null,
       "grid_column": null,
       "grid_gap": null,
       "grid_row": null,
       "grid_template_areas": null,
       "grid_template_columns": null,
       "grid_template_rows": null,
       "height": null,
       "justify_content": null,
       "justify_items": null,
       "left": null,
       "margin": null,
       "max_height": null,
       "max_width": null,
       "min_height": null,
       "min_width": null,
       "object_fit": null,
       "object_position": null,
       "order": null,
       "overflow": null,
       "overflow_x": null,
       "overflow_y": null,
       "padding": null,
       "right": null,
       "top": null,
       "visibility": null,
       "width": null
      }
     },
     "0db493ce29c14c0a91ad0fb33739ec53": {
      "model_module": "@jupyter-widgets/controls",
      "model_module_version": "1.5.0",
      "model_name": "DescriptionStyleModel",
      "state": {
       "_model_module": "@jupyter-widgets/controls",
       "_model_module_version": "1.5.0",
       "_model_name": "DescriptionStyleModel",
       "_view_count": null,
       "_view_module": "@jupyter-widgets/base",
       "_view_module_version": "1.2.0",
       "_view_name": "StyleView",
       "description_width": ""
      }
     },
     "0ecf6a2597794c1bad79d7621bcf64b0": {
      "model_module": "@jupyter-widgets/base",
      "model_module_version": "1.2.0",
      "model_name": "LayoutModel",
      "state": {
       "_model_module": "@jupyter-widgets/base",
       "_model_module_version": "1.2.0",
       "_model_name": "LayoutModel",
       "_view_count": null,
       "_view_module": "@jupyter-widgets/base",
       "_view_module_version": "1.2.0",
       "_view_name": "LayoutView",
       "align_content": null,
       "align_items": null,
       "align_self": null,
       "border": null,
       "bottom": null,
       "display": null,
       "flex": null,
       "flex_flow": null,
       "grid_area": null,
       "grid_auto_columns": null,
       "grid_auto_flow": null,
       "grid_auto_rows": null,
       "grid_column": null,
       "grid_gap": null,
       "grid_row": null,
       "grid_template_areas": null,
       "grid_template_columns": null,
       "grid_template_rows": null,
       "height": null,
       "justify_content": null,
       "justify_items": null,
       "left": null,
       "margin": null,
       "max_height": null,
       "max_width": null,
       "min_height": null,
       "min_width": null,
       "object_fit": null,
       "object_position": null,
       "order": null,
       "overflow": null,
       "overflow_x": null,
       "overflow_y": null,
       "padding": null,
       "right": null,
       "top": null,
       "visibility": null,
       "width": null
      }
     },
     "0eeb350d40c948729b450b8ab81dd33f": {
      "model_module": "@jupyter-widgets/controls",
      "model_module_version": "1.5.0",
      "model_name": "FloatProgressModel",
      "state": {
       "_dom_classes": [],
       "_model_module": "@jupyter-widgets/controls",
       "_model_module_version": "1.5.0",
       "_model_name": "FloatProgressModel",
       "_view_count": null,
       "_view_module": "@jupyter-widgets/controls",
       "_view_module_version": "1.5.0",
       "_view_name": "ProgressView",
       "bar_style": "success",
       "description": "",
       "description_tooltip": null,
       "layout": "IPY_MODEL_13ddc076fcc04b779bcd36b79939512c",
       "max": 27,
       "min": 0,
       "orientation": "horizontal",
       "style": "IPY_MODEL_42e0e094e5c742cd9d8e624df0476bb8",
       "value": 27
      }
     },
     "0f3b38c330ef4f01814cdab42c416786": {
      "model_module": "@jupyter-widgets/base",
      "model_module_version": "1.2.0",
      "model_name": "LayoutModel",
      "state": {
       "_model_module": "@jupyter-widgets/base",
       "_model_module_version": "1.2.0",
       "_model_name": "LayoutModel",
       "_view_count": null,
       "_view_module": "@jupyter-widgets/base",
       "_view_module_version": "1.2.0",
       "_view_name": "LayoutView",
       "align_content": null,
       "align_items": null,
       "align_self": null,
       "border": null,
       "bottom": null,
       "display": null,
       "flex": null,
       "flex_flow": null,
       "grid_area": null,
       "grid_auto_columns": null,
       "grid_auto_flow": null,
       "grid_auto_rows": null,
       "grid_column": null,
       "grid_gap": null,
       "grid_row": null,
       "grid_template_areas": null,
       "grid_template_columns": null,
       "grid_template_rows": null,
       "height": null,
       "justify_content": null,
       "justify_items": null,
       "left": null,
       "margin": null,
       "max_height": null,
       "max_width": null,
       "min_height": null,
       "min_width": null,
       "object_fit": null,
       "object_position": null,
       "order": null,
       "overflow": null,
       "overflow_x": null,
       "overflow_y": null,
       "padding": null,
       "right": null,
       "top": null,
       "visibility": null,
       "width": null
      }
     },
     "0f54814d5746471194d4d49e1058bb72": {
      "model_module": "@jupyter-widgets/base",
      "model_module_version": "1.2.0",
      "model_name": "LayoutModel",
      "state": {
       "_model_module": "@jupyter-widgets/base",
       "_model_module_version": "1.2.0",
       "_model_name": "LayoutModel",
       "_view_count": null,
       "_view_module": "@jupyter-widgets/base",
       "_view_module_version": "1.2.0",
       "_view_name": "LayoutView",
       "align_content": null,
       "align_items": null,
       "align_self": null,
       "border": null,
       "bottom": null,
       "display": null,
       "flex": null,
       "flex_flow": null,
       "grid_area": null,
       "grid_auto_columns": null,
       "grid_auto_flow": null,
       "grid_auto_rows": null,
       "grid_column": null,
       "grid_gap": null,
       "grid_row": null,
       "grid_template_areas": null,
       "grid_template_columns": null,
       "grid_template_rows": null,
       "height": null,
       "justify_content": null,
       "justify_items": null,
       "left": null,
       "margin": null,
       "max_height": null,
       "max_width": null,
       "min_height": null,
       "min_width": null,
       "object_fit": null,
       "object_position": null,
       "order": null,
       "overflow": null,
       "overflow_x": null,
       "overflow_y": null,
       "padding": null,
       "right": null,
       "top": null,
       "visibility": null,
       "width": null
      }
     },
     "104123b91ba742279d7428884c53d2ae": {
      "model_module": "@jupyter-widgets/base",
      "model_module_version": "1.2.0",
      "model_name": "LayoutModel",
      "state": {
       "_model_module": "@jupyter-widgets/base",
       "_model_module_version": "1.2.0",
       "_model_name": "LayoutModel",
       "_view_count": null,
       "_view_module": "@jupyter-widgets/base",
       "_view_module_version": "1.2.0",
       "_view_name": "LayoutView",
       "align_content": null,
       "align_items": null,
       "align_self": null,
       "border": null,
       "bottom": null,
       "display": null,
       "flex": null,
       "flex_flow": null,
       "grid_area": null,
       "grid_auto_columns": null,
       "grid_auto_flow": null,
       "grid_auto_rows": null,
       "grid_column": null,
       "grid_gap": null,
       "grid_row": null,
       "grid_template_areas": null,
       "grid_template_columns": null,
       "grid_template_rows": null,
       "height": null,
       "justify_content": null,
       "justify_items": null,
       "left": null,
       "margin": null,
       "max_height": null,
       "max_width": null,
       "min_height": null,
       "min_width": null,
       "object_fit": null,
       "object_position": null,
       "order": null,
       "overflow": null,
       "overflow_x": null,
       "overflow_y": null,
       "padding": null,
       "right": null,
       "top": null,
       "visibility": null,
       "width": null
      }
     },
     "106936f3d86145a79867ba8bb6cf8ce9": {
      "model_module": "@jupyter-widgets/controls",
      "model_module_version": "1.5.0",
      "model_name": "HTMLModel",
      "state": {
       "_dom_classes": [],
       "_model_module": "@jupyter-widgets/controls",
       "_model_module_version": "1.5.0",
       "_model_name": "HTMLModel",
       "_view_count": null,
       "_view_module": "@jupyter-widgets/controls",
       "_view_module_version": "1.5.0",
       "_view_name": "HTMLView",
       "description": "",
       "description_tooltip": null,
       "layout": "IPY_MODEL_5cba905b826e4828bb912fb884575115",
       "placeholder": "​",
       "style": "IPY_MODEL_98909c08472145739c5a06e9c2db97f8",
       "value": "Epoch 0: 100%"
      }
     },
     "119d19f850914a03b6f50d221b3bc3e7": {
      "model_module": "@jupyter-widgets/controls",
      "model_module_version": "1.5.0",
      "model_name": "ProgressStyleModel",
      "state": {
       "_model_module": "@jupyter-widgets/controls",
       "_model_module_version": "1.5.0",
       "_model_name": "ProgressStyleModel",
       "_view_count": null,
       "_view_module": "@jupyter-widgets/base",
       "_view_module_version": "1.2.0",
       "_view_name": "StyleView",
       "bar_color": null,
       "description_width": ""
      }
     },
     "133cd4d4826f481e815fe6cf1b3e0390": {
      "model_module": "@jupyter-widgets/controls",
      "model_module_version": "1.5.0",
      "model_name": "DescriptionStyleModel",
      "state": {
       "_model_module": "@jupyter-widgets/controls",
       "_model_module_version": "1.5.0",
       "_model_name": "DescriptionStyleModel",
       "_view_count": null,
       "_view_module": "@jupyter-widgets/base",
       "_view_module_version": "1.2.0",
       "_view_name": "StyleView",
       "description_width": ""
      }
     },
     "13bb1b842a0d478d8b51a6da336a4cb1": {
      "model_module": "@jupyter-widgets/base",
      "model_module_version": "1.2.0",
      "model_name": "LayoutModel",
      "state": {
       "_model_module": "@jupyter-widgets/base",
       "_model_module_version": "1.2.0",
       "_model_name": "LayoutModel",
       "_view_count": null,
       "_view_module": "@jupyter-widgets/base",
       "_view_module_version": "1.2.0",
       "_view_name": "LayoutView",
       "align_content": null,
       "align_items": null,
       "align_self": null,
       "border": null,
       "bottom": null,
       "display": null,
       "flex": null,
       "flex_flow": null,
       "grid_area": null,
       "grid_auto_columns": null,
       "grid_auto_flow": null,
       "grid_auto_rows": null,
       "grid_column": null,
       "grid_gap": null,
       "grid_row": null,
       "grid_template_areas": null,
       "grid_template_columns": null,
       "grid_template_rows": null,
       "height": null,
       "justify_content": null,
       "justify_items": null,
       "left": null,
       "margin": null,
       "max_height": null,
       "max_width": null,
       "min_height": null,
       "min_width": null,
       "object_fit": null,
       "object_position": null,
       "order": null,
       "overflow": null,
       "overflow_x": null,
       "overflow_y": null,
       "padding": null,
       "right": null,
       "top": null,
       "visibility": null,
       "width": null
      }
     },
     "13c2eccda725480792feabab819b0dbe": {
      "model_module": "@jupyter-widgets/base",
      "model_module_version": "1.2.0",
      "model_name": "LayoutModel",
      "state": {
       "_model_module": "@jupyter-widgets/base",
       "_model_module_version": "1.2.0",
       "_model_name": "LayoutModel",
       "_view_count": null,
       "_view_module": "@jupyter-widgets/base",
       "_view_module_version": "1.2.0",
       "_view_name": "LayoutView",
       "align_content": null,
       "align_items": null,
       "align_self": null,
       "border": null,
       "bottom": null,
       "display": null,
       "flex": null,
       "flex_flow": null,
       "grid_area": null,
       "grid_auto_columns": null,
       "grid_auto_flow": null,
       "grid_auto_rows": null,
       "grid_column": null,
       "grid_gap": null,
       "grid_row": null,
       "grid_template_areas": null,
       "grid_template_columns": null,
       "grid_template_rows": null,
       "height": null,
       "justify_content": null,
       "justify_items": null,
       "left": null,
       "margin": null,
       "max_height": null,
       "max_width": null,
       "min_height": null,
       "min_width": null,
       "object_fit": null,
       "object_position": null,
       "order": null,
       "overflow": null,
       "overflow_x": null,
       "overflow_y": null,
       "padding": null,
       "right": null,
       "top": null,
       "visibility": null,
       "width": null
      }
     },
     "13ddc076fcc04b779bcd36b79939512c": {
      "model_module": "@jupyter-widgets/base",
      "model_module_version": "1.2.0",
      "model_name": "LayoutModel",
      "state": {
       "_model_module": "@jupyter-widgets/base",
       "_model_module_version": "1.2.0",
       "_model_name": "LayoutModel",
       "_view_count": null,
       "_view_module": "@jupyter-widgets/base",
       "_view_module_version": "1.2.0",
       "_view_name": "LayoutView",
       "align_content": null,
       "align_items": null,
       "align_self": null,
       "border": null,
       "bottom": null,
       "display": null,
       "flex": null,
       "flex_flow": null,
       "grid_area": null,
       "grid_auto_columns": null,
       "grid_auto_flow": null,
       "grid_auto_rows": null,
       "grid_column": null,
       "grid_gap": null,
       "grid_row": null,
       "grid_template_areas": null,
       "grid_template_columns": null,
       "grid_template_rows": null,
       "height": null,
       "justify_content": null,
       "justify_items": null,
       "left": null,
       "margin": null,
       "max_height": null,
       "max_width": null,
       "min_height": null,
       "min_width": null,
       "object_fit": null,
       "object_position": null,
       "order": null,
       "overflow": null,
       "overflow_x": null,
       "overflow_y": null,
       "padding": null,
       "right": null,
       "top": null,
       "visibility": null,
       "width": null
      }
     },
     "145981b1d767466b9c4417eefd717935": {
      "model_module": "@jupyter-widgets/base",
      "model_module_version": "1.2.0",
      "model_name": "LayoutModel",
      "state": {
       "_model_module": "@jupyter-widgets/base",
       "_model_module_version": "1.2.0",
       "_model_name": "LayoutModel",
       "_view_count": null,
       "_view_module": "@jupyter-widgets/base",
       "_view_module_version": "1.2.0",
       "_view_name": "LayoutView",
       "align_content": null,
       "align_items": null,
       "align_self": null,
       "border": null,
       "bottom": null,
       "display": null,
       "flex": null,
       "flex_flow": null,
       "grid_area": null,
       "grid_auto_columns": null,
       "grid_auto_flow": null,
       "grid_auto_rows": null,
       "grid_column": null,
       "grid_gap": null,
       "grid_row": null,
       "grid_template_areas": null,
       "grid_template_columns": null,
       "grid_template_rows": null,
       "height": null,
       "justify_content": null,
       "justify_items": null,
       "left": null,
       "margin": null,
       "max_height": null,
       "max_width": null,
       "min_height": null,
       "min_width": null,
       "object_fit": null,
       "object_position": null,
       "order": null,
       "overflow": null,
       "overflow_x": null,
       "overflow_y": null,
       "padding": null,
       "right": null,
       "top": null,
       "visibility": null,
       "width": null
      }
     },
     "1499b98903254c778971754eb560ab68": {
      "model_module": "@jupyter-widgets/controls",
      "model_module_version": "1.5.0",
      "model_name": "DescriptionStyleModel",
      "state": {
       "_model_module": "@jupyter-widgets/controls",
       "_model_module_version": "1.5.0",
       "_model_name": "DescriptionStyleModel",
       "_view_count": null,
       "_view_module": "@jupyter-widgets/base",
       "_view_module_version": "1.2.0",
       "_view_name": "StyleView",
       "description_width": ""
      }
     },
     "16dbd44ad62d45409cb0ac2324ac9a6b": {
      "model_module": "@jupyter-widgets/base",
      "model_module_version": "1.2.0",
      "model_name": "LayoutModel",
      "state": {
       "_model_module": "@jupyter-widgets/base",
       "_model_module_version": "1.2.0",
       "_model_name": "LayoutModel",
       "_view_count": null,
       "_view_module": "@jupyter-widgets/base",
       "_view_module_version": "1.2.0",
       "_view_name": "LayoutView",
       "align_content": null,
       "align_items": null,
       "align_self": null,
       "border": null,
       "bottom": null,
       "display": null,
       "flex": null,
       "flex_flow": null,
       "grid_area": null,
       "grid_auto_columns": null,
       "grid_auto_flow": null,
       "grid_auto_rows": null,
       "grid_column": null,
       "grid_gap": null,
       "grid_row": null,
       "grid_template_areas": null,
       "grid_template_columns": null,
       "grid_template_rows": null,
       "height": null,
       "justify_content": null,
       "justify_items": null,
       "left": null,
       "margin": null,
       "max_height": null,
       "max_width": null,
       "min_height": null,
       "min_width": null,
       "object_fit": null,
       "object_position": null,
       "order": null,
       "overflow": null,
       "overflow_x": null,
       "overflow_y": null,
       "padding": null,
       "right": null,
       "top": null,
       "visibility": null,
       "width": null
      }
     },
     "1aef7959ec9e4c10bc65f8f965a68329": {
      "model_module": "@jupyter-widgets/controls",
      "model_module_version": "1.5.0",
      "model_name": "HTMLModel",
      "state": {
       "_dom_classes": [],
       "_model_module": "@jupyter-widgets/controls",
       "_model_module_version": "1.5.0",
       "_model_name": "HTMLModel",
       "_view_count": null,
       "_view_module": "@jupyter-widgets/controls",
       "_view_module_version": "1.5.0",
       "_view_name": "HTMLView",
       "description": "",
       "description_tooltip": null,
       "layout": "IPY_MODEL_8c3f79237f2f487f80584bee9059fde9",
       "placeholder": "​",
       "style": "IPY_MODEL_8b7bc5e07a9242f8b10c1ac8c9c19f4e",
       "value": "Epoch 6: 100%"
      }
     },
     "1af38e30eaec452a93183eb26b782fb1": {
      "model_module": "@jupyter-widgets/controls",
      "model_module_version": "1.5.0",
      "model_name": "DescriptionStyleModel",
      "state": {
       "_model_module": "@jupyter-widgets/controls",
       "_model_module_version": "1.5.0",
       "_model_name": "DescriptionStyleModel",
       "_view_count": null,
       "_view_module": "@jupyter-widgets/base",
       "_view_module_version": "1.2.0",
       "_view_name": "StyleView",
       "description_width": ""
      }
     },
     "1c5dc132675442ffbadeae1ed9c62541": {
      "model_module": "@jupyter-widgets/controls",
      "model_module_version": "1.5.0",
      "model_name": "HBoxModel",
      "state": {
       "_dom_classes": [],
       "_model_module": "@jupyter-widgets/controls",
       "_model_module_version": "1.5.0",
       "_model_name": "HBoxModel",
       "_view_count": null,
       "_view_module": "@jupyter-widgets/controls",
       "_view_module_version": "1.5.0",
       "_view_name": "HBoxView",
       "box_style": "",
       "children": [
        "IPY_MODEL_4f4dd6e3e6964c819db6aa72f0d907cc",
        "IPY_MODEL_26f621a03a0f412fbd199f3ef18c225c",
        "IPY_MODEL_9e95f55d2a8946f3ab4ffbebb17ffef5"
       ],
       "layout": "IPY_MODEL_2f3322511e0e44cbb5f27470d10fb401"
      }
     },
     "1c9b6ce1085d44b5bc41ec6bde495b61": {
      "model_module": "@jupyter-widgets/base",
      "model_module_version": "1.2.0",
      "model_name": "LayoutModel",
      "state": {
       "_model_module": "@jupyter-widgets/base",
       "_model_module_version": "1.2.0",
       "_model_name": "LayoutModel",
       "_view_count": null,
       "_view_module": "@jupyter-widgets/base",
       "_view_module_version": "1.2.0",
       "_view_name": "LayoutView",
       "align_content": null,
       "align_items": null,
       "align_self": null,
       "border": null,
       "bottom": null,
       "display": null,
       "flex": null,
       "flex_flow": null,
       "grid_area": null,
       "grid_auto_columns": null,
       "grid_auto_flow": null,
       "grid_auto_rows": null,
       "grid_column": null,
       "grid_gap": null,
       "grid_row": null,
       "grid_template_areas": null,
       "grid_template_columns": null,
       "grid_template_rows": null,
       "height": null,
       "justify_content": null,
       "justify_items": null,
       "left": null,
       "margin": null,
       "max_height": null,
       "max_width": null,
       "min_height": null,
       "min_width": null,
       "object_fit": null,
       "object_position": null,
       "order": null,
       "overflow": null,
       "overflow_x": null,
       "overflow_y": null,
       "padding": null,
       "right": null,
       "top": null,
       "visibility": null,
       "width": null
      }
     },
     "1cb7333cf08345bdb1c5fec29c440997": {
      "model_module": "@jupyter-widgets/base",
      "model_module_version": "1.2.0",
      "model_name": "LayoutModel",
      "state": {
       "_model_module": "@jupyter-widgets/base",
       "_model_module_version": "1.2.0",
       "_model_name": "LayoutModel",
       "_view_count": null,
       "_view_module": "@jupyter-widgets/base",
       "_view_module_version": "1.2.0",
       "_view_name": "LayoutView",
       "align_content": null,
       "align_items": null,
       "align_self": null,
       "border": null,
       "bottom": null,
       "display": null,
       "flex": null,
       "flex_flow": null,
       "grid_area": null,
       "grid_auto_columns": null,
       "grid_auto_flow": null,
       "grid_auto_rows": null,
       "grid_column": null,
       "grid_gap": null,
       "grid_row": null,
       "grid_template_areas": null,
       "grid_template_columns": null,
       "grid_template_rows": null,
       "height": null,
       "justify_content": null,
       "justify_items": null,
       "left": null,
       "margin": null,
       "max_height": null,
       "max_width": null,
       "min_height": null,
       "min_width": null,
       "object_fit": null,
       "object_position": null,
       "order": null,
       "overflow": null,
       "overflow_x": null,
       "overflow_y": null,
       "padding": null,
       "right": null,
       "top": null,
       "visibility": null,
       "width": null
      }
     },
     "1d040ff6d96d4688a0d413d458b7aa37": {
      "model_module": "@jupyter-widgets/base",
      "model_module_version": "1.2.0",
      "model_name": "LayoutModel",
      "state": {
       "_model_module": "@jupyter-widgets/base",
       "_model_module_version": "1.2.0",
       "_model_name": "LayoutModel",
       "_view_count": null,
       "_view_module": "@jupyter-widgets/base",
       "_view_module_version": "1.2.0",
       "_view_name": "LayoutView",
       "align_content": null,
       "align_items": null,
       "align_self": null,
       "border": null,
       "bottom": null,
       "display": null,
       "flex": null,
       "flex_flow": null,
       "grid_area": null,
       "grid_auto_columns": null,
       "grid_auto_flow": null,
       "grid_auto_rows": null,
       "grid_column": null,
       "grid_gap": null,
       "grid_row": null,
       "grid_template_areas": null,
       "grid_template_columns": null,
       "grid_template_rows": null,
       "height": null,
       "justify_content": null,
       "justify_items": null,
       "left": null,
       "margin": null,
       "max_height": null,
       "max_width": null,
       "min_height": null,
       "min_width": null,
       "object_fit": null,
       "object_position": null,
       "order": null,
       "overflow": null,
       "overflow_x": null,
       "overflow_y": null,
       "padding": null,
       "right": null,
       "top": null,
       "visibility": null,
       "width": null
      }
     },
     "21fadfdd91d549a8acc65aa0bd4e54f1": {
      "model_module": "@jupyter-widgets/controls",
      "model_module_version": "1.5.0",
      "model_name": "ProgressStyleModel",
      "state": {
       "_model_module": "@jupyter-widgets/controls",
       "_model_module_version": "1.5.0",
       "_model_name": "ProgressStyleModel",
       "_view_count": null,
       "_view_module": "@jupyter-widgets/base",
       "_view_module_version": "1.2.0",
       "_view_name": "StyleView",
       "bar_color": null,
       "description_width": ""
      }
     },
     "23284c3f6e5045eabacd70ad7e6ec57f": {
      "model_module": "@jupyter-widgets/controls",
      "model_module_version": "1.5.0",
      "model_name": "DescriptionStyleModel",
      "state": {
       "_model_module": "@jupyter-widgets/controls",
       "_model_module_version": "1.5.0",
       "_model_name": "DescriptionStyleModel",
       "_view_count": null,
       "_view_module": "@jupyter-widgets/base",
       "_view_module_version": "1.2.0",
       "_view_name": "StyleView",
       "description_width": ""
      }
     },
     "2438c9dc30ce4df380d690eb02ddec98": {
      "model_module": "@jupyter-widgets/base",
      "model_module_version": "1.2.0",
      "model_name": "LayoutModel",
      "state": {
       "_model_module": "@jupyter-widgets/base",
       "_model_module_version": "1.2.0",
       "_model_name": "LayoutModel",
       "_view_count": null,
       "_view_module": "@jupyter-widgets/base",
       "_view_module_version": "1.2.0",
       "_view_name": "LayoutView",
       "align_content": null,
       "align_items": null,
       "align_self": null,
       "border": null,
       "bottom": null,
       "display": null,
       "flex": null,
       "flex_flow": null,
       "grid_area": null,
       "grid_auto_columns": null,
       "grid_auto_flow": null,
       "grid_auto_rows": null,
       "grid_column": null,
       "grid_gap": null,
       "grid_row": null,
       "grid_template_areas": null,
       "grid_template_columns": null,
       "grid_template_rows": null,
       "height": null,
       "justify_content": null,
       "justify_items": null,
       "left": null,
       "margin": null,
       "max_height": null,
       "max_width": null,
       "min_height": null,
       "min_width": null,
       "object_fit": null,
       "object_position": null,
       "order": null,
       "overflow": null,
       "overflow_x": null,
       "overflow_y": null,
       "padding": null,
       "right": null,
       "top": null,
       "visibility": null,
       "width": null
      }
     },
     "26f621a03a0f412fbd199f3ef18c225c": {
      "model_module": "@jupyter-widgets/controls",
      "model_module_version": "1.5.0",
      "model_name": "FloatProgressModel",
      "state": {
       "_dom_classes": [],
       "_model_module": "@jupyter-widgets/controls",
       "_model_module_version": "1.5.0",
       "_model_name": "FloatProgressModel",
       "_view_count": null,
       "_view_module": "@jupyter-widgets/controls",
       "_view_module_version": "1.5.0",
       "_view_name": "ProgressView",
       "bar_style": "success",
       "description": "",
       "description_tooltip": null,
       "layout": "IPY_MODEL_5d4869dd64344a638648a5b023c4ab30",
       "max": 105,
       "min": 0,
       "orientation": "horizontal",
       "style": "IPY_MODEL_119d19f850914a03b6f50d221b3bc3e7",
       "value": 105
      }
     },
     "2831ff0e6319493abbde460f1b6f8514": {
      "model_module": "@jupyter-widgets/controls",
      "model_module_version": "1.5.0",
      "model_name": "DescriptionStyleModel",
      "state": {
       "_model_module": "@jupyter-widgets/controls",
       "_model_module_version": "1.5.0",
       "_model_name": "DescriptionStyleModel",
       "_view_count": null,
       "_view_module": "@jupyter-widgets/base",
       "_view_module_version": "1.2.0",
       "_view_name": "StyleView",
       "description_width": ""
      }
     },
     "28ffa4d3ce764dbf8ea34b4de22f427a": {
      "model_module": "@jupyter-widgets/base",
      "model_module_version": "1.2.0",
      "model_name": "LayoutModel",
      "state": {
       "_model_module": "@jupyter-widgets/base",
       "_model_module_version": "1.2.0",
       "_model_name": "LayoutModel",
       "_view_count": null,
       "_view_module": "@jupyter-widgets/base",
       "_view_module_version": "1.2.0",
       "_view_name": "LayoutView",
       "align_content": null,
       "align_items": null,
       "align_self": null,
       "border": null,
       "bottom": null,
       "display": null,
       "flex": null,
       "flex_flow": null,
       "grid_area": null,
       "grid_auto_columns": null,
       "grid_auto_flow": null,
       "grid_auto_rows": null,
       "grid_column": null,
       "grid_gap": null,
       "grid_row": null,
       "grid_template_areas": null,
       "grid_template_columns": null,
       "grid_template_rows": null,
       "height": null,
       "justify_content": null,
       "justify_items": null,
       "left": null,
       "margin": null,
       "max_height": null,
       "max_width": null,
       "min_height": null,
       "min_width": null,
       "object_fit": null,
       "object_position": null,
       "order": null,
       "overflow": null,
       "overflow_x": null,
       "overflow_y": null,
       "padding": null,
       "right": null,
       "top": null,
       "visibility": null,
       "width": null
      }
     },
     "2a3f1a59e3ef4c81a2af39565aec3639": {
      "model_module": "@jupyter-widgets/controls",
      "model_module_version": "1.5.0",
      "model_name": "HBoxModel",
      "state": {
       "_dom_classes": [],
       "_model_module": "@jupyter-widgets/controls",
       "_model_module_version": "1.5.0",
       "_model_name": "HBoxModel",
       "_view_count": null,
       "_view_module": "@jupyter-widgets/controls",
       "_view_module_version": "1.5.0",
       "_view_name": "HBoxView",
       "box_style": "",
       "children": [
        "IPY_MODEL_3b7188873043428b8528b540132e28d4",
        "IPY_MODEL_e628db9318ea40b4873b48608821ec97",
        "IPY_MODEL_b87bd96fbee343a88d285d37dca4f623"
       ],
       "layout": "IPY_MODEL_5099425818cf49d696fb80256770797d"
      }
     },
     "2a4172080aaa42b893fbc7888b219cca": {
      "model_module": "@jupyter-widgets/base",
      "model_module_version": "1.2.0",
      "model_name": "LayoutModel",
      "state": {
       "_model_module": "@jupyter-widgets/base",
       "_model_module_version": "1.2.0",
       "_model_name": "LayoutModel",
       "_view_count": null,
       "_view_module": "@jupyter-widgets/base",
       "_view_module_version": "1.2.0",
       "_view_name": "LayoutView",
       "align_content": null,
       "align_items": null,
       "align_self": null,
       "border": null,
       "bottom": null,
       "display": null,
       "flex": null,
       "flex_flow": null,
       "grid_area": null,
       "grid_auto_columns": null,
       "grid_auto_flow": null,
       "grid_auto_rows": null,
       "grid_column": null,
       "grid_gap": null,
       "grid_row": null,
       "grid_template_areas": null,
       "grid_template_columns": null,
       "grid_template_rows": null,
       "height": null,
       "justify_content": null,
       "justify_items": null,
       "left": null,
       "margin": null,
       "max_height": null,
       "max_width": null,
       "min_height": null,
       "min_width": null,
       "object_fit": null,
       "object_position": null,
       "order": null,
       "overflow": null,
       "overflow_x": null,
       "overflow_y": null,
       "padding": null,
       "right": null,
       "top": null,
       "visibility": null,
       "width": null
      }
     },
     "2be4e4e5effe4d05bafe1f8156a1d7e0": {
      "model_module": "@jupyter-widgets/base",
      "model_module_version": "1.2.0",
      "model_name": "LayoutModel",
      "state": {
       "_model_module": "@jupyter-widgets/base",
       "_model_module_version": "1.2.0",
       "_model_name": "LayoutModel",
       "_view_count": null,
       "_view_module": "@jupyter-widgets/base",
       "_view_module_version": "1.2.0",
       "_view_name": "LayoutView",
       "align_content": null,
       "align_items": null,
       "align_self": null,
       "border": null,
       "bottom": null,
       "display": null,
       "flex": null,
       "flex_flow": null,
       "grid_area": null,
       "grid_auto_columns": null,
       "grid_auto_flow": null,
       "grid_auto_rows": null,
       "grid_column": null,
       "grid_gap": null,
       "grid_row": null,
       "grid_template_areas": null,
       "grid_template_columns": null,
       "grid_template_rows": null,
       "height": null,
       "justify_content": null,
       "justify_items": null,
       "left": null,
       "margin": null,
       "max_height": null,
       "max_width": null,
       "min_height": null,
       "min_width": null,
       "object_fit": null,
       "object_position": null,
       "order": null,
       "overflow": null,
       "overflow_x": null,
       "overflow_y": null,
       "padding": null,
       "right": null,
       "top": null,
       "visibility": null,
       "width": null
      }
     },
     "2f18c35f14bf4832b03ae710eb5774d1": {
      "model_module": "@jupyter-widgets/controls",
      "model_module_version": "1.5.0",
      "model_name": "DescriptionStyleModel",
      "state": {
       "_model_module": "@jupyter-widgets/controls",
       "_model_module_version": "1.5.0",
       "_model_name": "DescriptionStyleModel",
       "_view_count": null,
       "_view_module": "@jupyter-widgets/base",
       "_view_module_version": "1.2.0",
       "_view_name": "StyleView",
       "description_width": ""
      }
     },
     "2f3322511e0e44cbb5f27470d10fb401": {
      "model_module": "@jupyter-widgets/base",
      "model_module_version": "1.2.0",
      "model_name": "LayoutModel",
      "state": {
       "_model_module": "@jupyter-widgets/base",
       "_model_module_version": "1.2.0",
       "_model_name": "LayoutModel",
       "_view_count": null,
       "_view_module": "@jupyter-widgets/base",
       "_view_module_version": "1.2.0",
       "_view_name": "LayoutView",
       "align_content": null,
       "align_items": null,
       "align_self": null,
       "border": null,
       "bottom": null,
       "display": null,
       "flex": null,
       "flex_flow": null,
       "grid_area": null,
       "grid_auto_columns": null,
       "grid_auto_flow": null,
       "grid_auto_rows": null,
       "grid_column": null,
       "grid_gap": null,
       "grid_row": null,
       "grid_template_areas": null,
       "grid_template_columns": null,
       "grid_template_rows": null,
       "height": null,
       "justify_content": null,
       "justify_items": null,
       "left": null,
       "margin": null,
       "max_height": null,
       "max_width": null,
       "min_height": null,
       "min_width": null,
       "object_fit": null,
       "object_position": null,
       "order": null,
       "overflow": null,
       "overflow_x": null,
       "overflow_y": null,
       "padding": null,
       "right": null,
       "top": null,
       "visibility": null,
       "width": null
      }
     },
     "2ffd39b5e4774339bdbf4d1308476ff7": {
      "model_module": "@jupyter-widgets/controls",
      "model_module_version": "1.5.0",
      "model_name": "FloatProgressModel",
      "state": {
       "_dom_classes": [],
       "_model_module": "@jupyter-widgets/controls",
       "_model_module_version": "1.5.0",
       "_model_name": "FloatProgressModel",
       "_view_count": null,
       "_view_module": "@jupyter-widgets/controls",
       "_view_module_version": "1.5.0",
       "_view_name": "ProgressView",
       "bar_style": "success",
       "description": "",
       "description_tooltip": null,
       "layout": "IPY_MODEL_3977bf1610644f6081086414ae124f9b",
       "max": 105,
       "min": 0,
       "orientation": "horizontal",
       "style": "IPY_MODEL_a5306e5666924d7da28a5e5f192948ef",
       "value": 105
      }
     },
     "311f76475235438e8f2742109cdeaf56": {
      "model_module": "@jupyter-widgets/base",
      "model_module_version": "1.2.0",
      "model_name": "LayoutModel",
      "state": {
       "_model_module": "@jupyter-widgets/base",
       "_model_module_version": "1.2.0",
       "_model_name": "LayoutModel",
       "_view_count": null,
       "_view_module": "@jupyter-widgets/base",
       "_view_module_version": "1.2.0",
       "_view_name": "LayoutView",
       "align_content": null,
       "align_items": null,
       "align_self": null,
       "border": null,
       "bottom": null,
       "display": null,
       "flex": null,
       "flex_flow": null,
       "grid_area": null,
       "grid_auto_columns": null,
       "grid_auto_flow": null,
       "grid_auto_rows": null,
       "grid_column": null,
       "grid_gap": null,
       "grid_row": null,
       "grid_template_areas": null,
       "grid_template_columns": null,
       "grid_template_rows": null,
       "height": null,
       "justify_content": null,
       "justify_items": null,
       "left": null,
       "margin": null,
       "max_height": null,
       "max_width": null,
       "min_height": null,
       "min_width": null,
       "object_fit": null,
       "object_position": null,
       "order": null,
       "overflow": null,
       "overflow_x": null,
       "overflow_y": null,
       "padding": null,
       "right": null,
       "top": null,
       "visibility": null,
       "width": null
      }
     },
     "340c382a2e1947cd9ff36b95a7c312ec": {
      "model_module": "@jupyter-widgets/base",
      "model_module_version": "1.2.0",
      "model_name": "LayoutModel",
      "state": {
       "_model_module": "@jupyter-widgets/base",
       "_model_module_version": "1.2.0",
       "_model_name": "LayoutModel",
       "_view_count": null,
       "_view_module": "@jupyter-widgets/base",
       "_view_module_version": "1.2.0",
       "_view_name": "LayoutView",
       "align_content": null,
       "align_items": null,
       "align_self": null,
       "border": null,
       "bottom": null,
       "display": null,
       "flex": null,
       "flex_flow": null,
       "grid_area": null,
       "grid_auto_columns": null,
       "grid_auto_flow": null,
       "grid_auto_rows": null,
       "grid_column": null,
       "grid_gap": null,
       "grid_row": null,
       "grid_template_areas": null,
       "grid_template_columns": null,
       "grid_template_rows": null,
       "height": null,
       "justify_content": null,
       "justify_items": null,
       "left": null,
       "margin": null,
       "max_height": null,
       "max_width": null,
       "min_height": null,
       "min_width": null,
       "object_fit": null,
       "object_position": null,
       "order": null,
       "overflow": null,
       "overflow_x": null,
       "overflow_y": null,
       "padding": null,
       "right": null,
       "top": null,
       "visibility": null,
       "width": null
      }
     },
     "34d04a0527dc4034a67b0e7f286a1dab": {
      "model_module": "@jupyter-widgets/base",
      "model_module_version": "1.2.0",
      "model_name": "LayoutModel",
      "state": {
       "_model_module": "@jupyter-widgets/base",
       "_model_module_version": "1.2.0",
       "_model_name": "LayoutModel",
       "_view_count": null,
       "_view_module": "@jupyter-widgets/base",
       "_view_module_version": "1.2.0",
       "_view_name": "LayoutView",
       "align_content": null,
       "align_items": null,
       "align_self": null,
       "border": null,
       "bottom": null,
       "display": null,
       "flex": null,
       "flex_flow": null,
       "grid_area": null,
       "grid_auto_columns": null,
       "grid_auto_flow": null,
       "grid_auto_rows": null,
       "grid_column": null,
       "grid_gap": null,
       "grid_row": null,
       "grid_template_areas": null,
       "grid_template_columns": null,
       "grid_template_rows": null,
       "height": null,
       "justify_content": null,
       "justify_items": null,
       "left": null,
       "margin": null,
       "max_height": null,
       "max_width": null,
       "min_height": null,
       "min_width": null,
       "object_fit": null,
       "object_position": null,
       "order": null,
       "overflow": null,
       "overflow_x": null,
       "overflow_y": null,
       "padding": null,
       "right": null,
       "top": null,
       "visibility": null,
       "width": null
      }
     },
     "34e1edff066f4ef0b2399c21cd1bed84": {
      "model_module": "@jupyter-widgets/controls",
      "model_module_version": "1.5.0",
      "model_name": "HTMLModel",
      "state": {
       "_dom_classes": [],
       "_model_module": "@jupyter-widgets/controls",
       "_model_module_version": "1.5.0",
       "_model_name": "HTMLModel",
       "_view_count": null,
       "_view_module": "@jupyter-widgets/controls",
       "_view_module_version": "1.5.0",
       "_view_name": "HTMLView",
       "description": "",
       "description_tooltip": null,
       "layout": "IPY_MODEL_67ce3c23f8ee4439ba08a893f53e7309",
       "placeholder": "​",
       "style": "IPY_MODEL_37e870627d704f72855487702d3fbe3f",
       "value": "Epoch 6: 100%"
      }
     },
     "35625bb5f7ac4c2fb12d78c82c47e582": {
      "model_module": "@jupyter-widgets/controls",
      "model_module_version": "1.5.0",
      "model_name": "DescriptionStyleModel",
      "state": {
       "_model_module": "@jupyter-widgets/controls",
       "_model_module_version": "1.5.0",
       "_model_name": "DescriptionStyleModel",
       "_view_count": null,
       "_view_module": "@jupyter-widgets/base",
       "_view_module_version": "1.2.0",
       "_view_name": "StyleView",
       "description_width": ""
      }
     },
     "365230176f7f4155a6bdb0c4495eb176": {
      "model_module": "@jupyter-widgets/base",
      "model_module_version": "1.2.0",
      "model_name": "LayoutModel",
      "state": {
       "_model_module": "@jupyter-widgets/base",
       "_model_module_version": "1.2.0",
       "_model_name": "LayoutModel",
       "_view_count": null,
       "_view_module": "@jupyter-widgets/base",
       "_view_module_version": "1.2.0",
       "_view_name": "LayoutView",
       "align_content": null,
       "align_items": null,
       "align_self": null,
       "border": null,
       "bottom": null,
       "display": null,
       "flex": null,
       "flex_flow": null,
       "grid_area": null,
       "grid_auto_columns": null,
       "grid_auto_flow": null,
       "grid_auto_rows": null,
       "grid_column": null,
       "grid_gap": null,
       "grid_row": null,
       "grid_template_areas": null,
       "grid_template_columns": null,
       "grid_template_rows": null,
       "height": null,
       "justify_content": null,
       "justify_items": null,
       "left": null,
       "margin": null,
       "max_height": null,
       "max_width": null,
       "min_height": null,
       "min_width": null,
       "object_fit": null,
       "object_position": null,
       "order": null,
       "overflow": null,
       "overflow_x": null,
       "overflow_y": null,
       "padding": null,
       "right": null,
       "top": null,
       "visibility": null,
       "width": null
      }
     },
     "36a92c1f54c04ce789b4b40f815dc719": {
      "model_module": "@jupyter-widgets/controls",
      "model_module_version": "1.5.0",
      "model_name": "HTMLModel",
      "state": {
       "_dom_classes": [],
       "_model_module": "@jupyter-widgets/controls",
       "_model_module_version": "1.5.0",
       "_model_name": "HTMLModel",
       "_view_count": null,
       "_view_module": "@jupyter-widgets/controls",
       "_view_module_version": "1.5.0",
       "_view_name": "HTMLView",
       "description": "",
       "description_tooltip": null,
       "layout": "IPY_MODEL_16dbd44ad62d45409cb0ac2324ac9a6b",
       "placeholder": "​",
       "style": "IPY_MODEL_2831ff0e6319493abbde460f1b6f8514",
       "value": " 150/150 [00:25&lt;00:00,  6.03it/s]"
      }
     },
     "37e870627d704f72855487702d3fbe3f": {
      "model_module": "@jupyter-widgets/controls",
      "model_module_version": "1.5.0",
      "model_name": "DescriptionStyleModel",
      "state": {
       "_model_module": "@jupyter-widgets/controls",
       "_model_module_version": "1.5.0",
       "_model_name": "DescriptionStyleModel",
       "_view_count": null,
       "_view_module": "@jupyter-widgets/base",
       "_view_module_version": "1.2.0",
       "_view_name": "StyleView",
       "description_width": ""
      }
     },
     "38f873903a524b73b57e04a05e8e45b9": {
      "model_module": "@jupyter-widgets/controls",
      "model_module_version": "1.5.0",
      "model_name": "HBoxModel",
      "state": {
       "_dom_classes": [],
       "_model_module": "@jupyter-widgets/controls",
       "_model_module_version": "1.5.0",
       "_model_name": "HBoxModel",
       "_view_count": null,
       "_view_module": "@jupyter-widgets/controls",
       "_view_module_version": "1.5.0",
       "_view_name": "HBoxView",
       "box_style": "",
       "children": [
        "IPY_MODEL_df297b138a4d49659e90639f592b6efe",
        "IPY_MODEL_0eeb350d40c948729b450b8ab81dd33f",
        "IPY_MODEL_ef2f0c843abf41569d7e5c3b4872758e"
       ],
       "layout": "IPY_MODEL_778a8e93115f40a3b1aa5434061b8322"
      }
     },
     "3977bf1610644f6081086414ae124f9b": {
      "model_module": "@jupyter-widgets/base",
      "model_module_version": "1.2.0",
      "model_name": "LayoutModel",
      "state": {
       "_model_module": "@jupyter-widgets/base",
       "_model_module_version": "1.2.0",
       "_model_name": "LayoutModel",
       "_view_count": null,
       "_view_module": "@jupyter-widgets/base",
       "_view_module_version": "1.2.0",
       "_view_name": "LayoutView",
       "align_content": null,
       "align_items": null,
       "align_self": null,
       "border": null,
       "bottom": null,
       "display": null,
       "flex": null,
       "flex_flow": null,
       "grid_area": null,
       "grid_auto_columns": null,
       "grid_auto_flow": null,
       "grid_auto_rows": null,
       "grid_column": null,
       "grid_gap": null,
       "grid_row": null,
       "grid_template_areas": null,
       "grid_template_columns": null,
       "grid_template_rows": null,
       "height": null,
       "justify_content": null,
       "justify_items": null,
       "left": null,
       "margin": null,
       "max_height": null,
       "max_width": null,
       "min_height": null,
       "min_width": null,
       "object_fit": null,
       "object_position": null,
       "order": null,
       "overflow": null,
       "overflow_x": null,
       "overflow_y": null,
       "padding": null,
       "right": null,
       "top": null,
       "visibility": null,
       "width": null
      }
     },
     "3a7725dec0194191bcbab85ab80483a8": {
      "model_module": "@jupyter-widgets/controls",
      "model_module_version": "1.5.0",
      "model_name": "DescriptionStyleModel",
      "state": {
       "_model_module": "@jupyter-widgets/controls",
       "_model_module_version": "1.5.0",
       "_model_name": "DescriptionStyleModel",
       "_view_count": null,
       "_view_module": "@jupyter-widgets/base",
       "_view_module_version": "1.2.0",
       "_view_name": "StyleView",
       "description_width": ""
      }
     },
     "3aea56e9a7fa458882d46f5314eb2885": {
      "model_module": "@jupyter-widgets/controls",
      "model_module_version": "1.5.0",
      "model_name": "ProgressStyleModel",
      "state": {
       "_model_module": "@jupyter-widgets/controls",
       "_model_module_version": "1.5.0",
       "_model_name": "ProgressStyleModel",
       "_view_count": null,
       "_view_module": "@jupyter-widgets/base",
       "_view_module_version": "1.2.0",
       "_view_name": "StyleView",
       "bar_color": null,
       "description_width": ""
      }
     },
     "3b7188873043428b8528b540132e28d4": {
      "model_module": "@jupyter-widgets/controls",
      "model_module_version": "1.5.0",
      "model_name": "HTMLModel",
      "state": {
       "_dom_classes": [],
       "_model_module": "@jupyter-widgets/controls",
       "_model_module_version": "1.5.0",
       "_model_name": "HTMLModel",
       "_view_count": null,
       "_view_module": "@jupyter-widgets/controls",
       "_view_module_version": "1.5.0",
       "_view_name": "HTMLView",
       "description": "",
       "description_tooltip": null,
       "layout": "IPY_MODEL_0db2845b697d4e658095df648531cbe1",
       "placeholder": "​",
       "style": "IPY_MODEL_86a0883ba6a14b93895d8dbf3f02664e",
       "value": "Epoch 2: 100%"
      }
     },
     "3d3ab7a8e6c148af8f50d91cac9704c6": {
      "model_module": "@jupyter-widgets/base",
      "model_module_version": "1.2.0",
      "model_name": "LayoutModel",
      "state": {
       "_model_module": "@jupyter-widgets/base",
       "_model_module_version": "1.2.0",
       "_model_name": "LayoutModel",
       "_view_count": null,
       "_view_module": "@jupyter-widgets/base",
       "_view_module_version": "1.2.0",
       "_view_name": "LayoutView",
       "align_content": null,
       "align_items": null,
       "align_self": null,
       "border": null,
       "bottom": null,
       "display": null,
       "flex": null,
       "flex_flow": null,
       "grid_area": null,
       "grid_auto_columns": null,
       "grid_auto_flow": null,
       "grid_auto_rows": null,
       "grid_column": null,
       "grid_gap": null,
       "grid_row": null,
       "grid_template_areas": null,
       "grid_template_columns": null,
       "grid_template_rows": null,
       "height": null,
       "justify_content": null,
       "justify_items": null,
       "left": null,
       "margin": null,
       "max_height": null,
       "max_width": null,
       "min_height": null,
       "min_width": null,
       "object_fit": null,
       "object_position": null,
       "order": null,
       "overflow": null,
       "overflow_x": null,
       "overflow_y": null,
       "padding": null,
       "right": null,
       "top": null,
       "visibility": null,
       "width": null
      }
     },
     "3d77620713994c1191a0e99e51097166": {
      "model_module": "@jupyter-widgets/base",
      "model_module_version": "1.2.0",
      "model_name": "LayoutModel",
      "state": {
       "_model_module": "@jupyter-widgets/base",
       "_model_module_version": "1.2.0",
       "_model_name": "LayoutModel",
       "_view_count": null,
       "_view_module": "@jupyter-widgets/base",
       "_view_module_version": "1.2.0",
       "_view_name": "LayoutView",
       "align_content": null,
       "align_items": null,
       "align_self": null,
       "border": null,
       "bottom": null,
       "display": null,
       "flex": null,
       "flex_flow": null,
       "grid_area": null,
       "grid_auto_columns": null,
       "grid_auto_flow": null,
       "grid_auto_rows": null,
       "grid_column": null,
       "grid_gap": null,
       "grid_row": null,
       "grid_template_areas": null,
       "grid_template_columns": null,
       "grid_template_rows": null,
       "height": null,
       "justify_content": null,
       "justify_items": null,
       "left": null,
       "margin": null,
       "max_height": null,
       "max_width": null,
       "min_height": null,
       "min_width": null,
       "object_fit": null,
       "object_position": null,
       "order": null,
       "overflow": null,
       "overflow_x": null,
       "overflow_y": null,
       "padding": null,
       "right": null,
       "top": null,
       "visibility": null,
       "width": null
      }
     },
     "3d977985eb85447cbf8079365d9bf0cc": {
      "model_module": "@jupyter-widgets/base",
      "model_module_version": "1.2.0",
      "model_name": "LayoutModel",
      "state": {
       "_model_module": "@jupyter-widgets/base",
       "_model_module_version": "1.2.0",
       "_model_name": "LayoutModel",
       "_view_count": null,
       "_view_module": "@jupyter-widgets/base",
       "_view_module_version": "1.2.0",
       "_view_name": "LayoutView",
       "align_content": null,
       "align_items": null,
       "align_self": null,
       "border": null,
       "bottom": null,
       "display": null,
       "flex": null,
       "flex_flow": null,
       "grid_area": null,
       "grid_auto_columns": null,
       "grid_auto_flow": null,
       "grid_auto_rows": null,
       "grid_column": null,
       "grid_gap": null,
       "grid_row": null,
       "grid_template_areas": null,
       "grid_template_columns": null,
       "grid_template_rows": null,
       "height": null,
       "justify_content": null,
       "justify_items": null,
       "left": null,
       "margin": null,
       "max_height": null,
       "max_width": null,
       "min_height": null,
       "min_width": null,
       "object_fit": null,
       "object_position": null,
       "order": null,
       "overflow": null,
       "overflow_x": null,
       "overflow_y": null,
       "padding": null,
       "right": null,
       "top": null,
       "visibility": null,
       "width": null
      }
     },
     "3dc30c5252964758ba93d2dc93bbfb7e": {
      "model_module": "@jupyter-widgets/controls",
      "model_module_version": "1.5.0",
      "model_name": "HTMLModel",
      "state": {
       "_dom_classes": [],
       "_model_module": "@jupyter-widgets/controls",
       "_model_module_version": "1.5.0",
       "_model_name": "HTMLModel",
       "_view_count": null,
       "_view_module": "@jupyter-widgets/controls",
       "_view_module_version": "1.5.0",
       "_view_name": "HTMLView",
       "description": "",
       "description_tooltip": null,
       "layout": "IPY_MODEL_711a902c3e3a4e4789a1fbbdb3a8f3a0",
       "placeholder": "​",
       "style": "IPY_MODEL_23284c3f6e5045eabacd70ad7e6ec57f",
       "value": "Epoch 5: 100%"
      }
     },
     "3e44e362a4564f19baaed9318f8ea841": {
      "model_module": "@jupyter-widgets/controls",
      "model_module_version": "1.5.0",
      "model_name": "HBoxModel",
      "state": {
       "_dom_classes": [],
       "_model_module": "@jupyter-widgets/controls",
       "_model_module_version": "1.5.0",
       "_model_name": "HBoxModel",
       "_view_count": null,
       "_view_module": "@jupyter-widgets/controls",
       "_view_module_version": "1.5.0",
       "_view_name": "HBoxView",
       "box_style": "",
       "children": [
        "IPY_MODEL_1aef7959ec9e4c10bc65f8f965a68329",
        "IPY_MODEL_81e2e209abd4491496f5406f4cdf9a67",
        "IPY_MODEL_d94b5747c95b4576a4724aca1d10a5df"
       ],
       "layout": "IPY_MODEL_b58bd8dd8b4441adb8fb6a3088eb1a0f"
      }
     },
     "3f6627be017d4162b7d0afacadcffbe0": {
      "model_module": "@jupyter-widgets/base",
      "model_module_version": "1.2.0",
      "model_name": "LayoutModel",
      "state": {
       "_model_module": "@jupyter-widgets/base",
       "_model_module_version": "1.2.0",
       "_model_name": "LayoutModel",
       "_view_count": null,
       "_view_module": "@jupyter-widgets/base",
       "_view_module_version": "1.2.0",
       "_view_name": "LayoutView",
       "align_content": null,
       "align_items": null,
       "align_self": null,
       "border": null,
       "bottom": null,
       "display": null,
       "flex": null,
       "flex_flow": null,
       "grid_area": null,
       "grid_auto_columns": null,
       "grid_auto_flow": null,
       "grid_auto_rows": null,
       "grid_column": null,
       "grid_gap": null,
       "grid_row": null,
       "grid_template_areas": null,
       "grid_template_columns": null,
       "grid_template_rows": null,
       "height": null,
       "justify_content": null,
       "justify_items": null,
       "left": null,
       "margin": null,
       "max_height": null,
       "max_width": null,
       "min_height": null,
       "min_width": null,
       "object_fit": null,
       "object_position": null,
       "order": null,
       "overflow": null,
       "overflow_x": null,
       "overflow_y": null,
       "padding": null,
       "right": null,
       "top": null,
       "visibility": null,
       "width": null
      }
     },
     "3f9d8dc2a8664f2998c4826fdff28f4f": {
      "model_module": "@jupyter-widgets/controls",
      "model_module_version": "1.5.0",
      "model_name": "ProgressStyleModel",
      "state": {
       "_model_module": "@jupyter-widgets/controls",
       "_model_module_version": "1.5.0",
       "_model_name": "ProgressStyleModel",
       "_view_count": null,
       "_view_module": "@jupyter-widgets/base",
       "_view_module_version": "1.2.0",
       "_view_name": "StyleView",
       "bar_color": null,
       "description_width": ""
      }
     },
     "423fb7d0ddad41aeb95650ab7c6fd77f": {
      "model_module": "@jupyter-widgets/base",
      "model_module_version": "1.2.0",
      "model_name": "LayoutModel",
      "state": {
       "_model_module": "@jupyter-widgets/base",
       "_model_module_version": "1.2.0",
       "_model_name": "LayoutModel",
       "_view_count": null,
       "_view_module": "@jupyter-widgets/base",
       "_view_module_version": "1.2.0",
       "_view_name": "LayoutView",
       "align_content": null,
       "align_items": null,
       "align_self": null,
       "border": null,
       "bottom": null,
       "display": null,
       "flex": null,
       "flex_flow": null,
       "grid_area": null,
       "grid_auto_columns": null,
       "grid_auto_flow": null,
       "grid_auto_rows": null,
       "grid_column": null,
       "grid_gap": null,
       "grid_row": null,
       "grid_template_areas": null,
       "grid_template_columns": null,
       "grid_template_rows": null,
       "height": null,
       "justify_content": null,
       "justify_items": null,
       "left": null,
       "margin": null,
       "max_height": null,
       "max_width": null,
       "min_height": null,
       "min_width": null,
       "object_fit": null,
       "object_position": null,
       "order": null,
       "overflow": null,
       "overflow_x": null,
       "overflow_y": null,
       "padding": null,
       "right": null,
       "top": null,
       "visibility": null,
       "width": null
      }
     },
     "42e0e094e5c742cd9d8e624df0476bb8": {
      "model_module": "@jupyter-widgets/controls",
      "model_module_version": "1.5.0",
      "model_name": "ProgressStyleModel",
      "state": {
       "_model_module": "@jupyter-widgets/controls",
       "_model_module_version": "1.5.0",
       "_model_name": "ProgressStyleModel",
       "_view_count": null,
       "_view_module": "@jupyter-widgets/base",
       "_view_module_version": "1.2.0",
       "_view_name": "StyleView",
       "bar_color": null,
       "description_width": ""
      }
     },
     "459307dad1ec44d2b3b37ac6ef06bcbd": {
      "model_module": "@jupyter-widgets/base",
      "model_module_version": "1.2.0",
      "model_name": "LayoutModel",
      "state": {
       "_model_module": "@jupyter-widgets/base",
       "_model_module_version": "1.2.0",
       "_model_name": "LayoutModel",
       "_view_count": null,
       "_view_module": "@jupyter-widgets/base",
       "_view_module_version": "1.2.0",
       "_view_name": "LayoutView",
       "align_content": null,
       "align_items": null,
       "align_self": null,
       "border": null,
       "bottom": null,
       "display": null,
       "flex": null,
       "flex_flow": null,
       "grid_area": null,
       "grid_auto_columns": null,
       "grid_auto_flow": null,
       "grid_auto_rows": null,
       "grid_column": null,
       "grid_gap": null,
       "grid_row": null,
       "grid_template_areas": null,
       "grid_template_columns": null,
       "grid_template_rows": null,
       "height": null,
       "justify_content": null,
       "justify_items": null,
       "left": null,
       "margin": null,
       "max_height": null,
       "max_width": null,
       "min_height": null,
       "min_width": null,
       "object_fit": null,
       "object_position": null,
       "order": null,
       "overflow": null,
       "overflow_x": null,
       "overflow_y": null,
       "padding": null,
       "right": null,
       "top": null,
       "visibility": null,
       "width": null
      }
     },
     "4660fbe9f00145919a776b7bd3833893": {
      "model_module": "@jupyter-widgets/controls",
      "model_module_version": "1.5.0",
      "model_name": "HTMLModel",
      "state": {
       "_dom_classes": [],
       "_model_module": "@jupyter-widgets/controls",
       "_model_module_version": "1.5.0",
       "_model_name": "HTMLModel",
       "_view_count": null,
       "_view_module": "@jupyter-widgets/controls",
       "_view_module_version": "1.5.0",
       "_view_name": "HTMLView",
       "description": "",
       "description_tooltip": null,
       "layout": "IPY_MODEL_f39a85aa603f4fe0ae046973942dae35",
       "placeholder": "​",
       "style": "IPY_MODEL_35625bb5f7ac4c2fb12d78c82c47e582",
       "value": " 105/105 [01:00&lt;00:00,  1.76it/s, Loss=1.1]"
      }
     },
     "46ddadf20b6747fab56fe00b611d4d56": {
      "model_module": "@jupyter-widgets/base",
      "model_module_version": "1.2.0",
      "model_name": "LayoutModel",
      "state": {
       "_model_module": "@jupyter-widgets/base",
       "_model_module_version": "1.2.0",
       "_model_name": "LayoutModel",
       "_view_count": null,
       "_view_module": "@jupyter-widgets/base",
       "_view_module_version": "1.2.0",
       "_view_name": "LayoutView",
       "align_content": null,
       "align_items": null,
       "align_self": null,
       "border": null,
       "bottom": null,
       "display": null,
       "flex": null,
       "flex_flow": null,
       "grid_area": null,
       "grid_auto_columns": null,
       "grid_auto_flow": null,
       "grid_auto_rows": null,
       "grid_column": null,
       "grid_gap": null,
       "grid_row": null,
       "grid_template_areas": null,
       "grid_template_columns": null,
       "grid_template_rows": null,
       "height": null,
       "justify_content": null,
       "justify_items": null,
       "left": null,
       "margin": null,
       "max_height": null,
       "max_width": null,
       "min_height": null,
       "min_width": null,
       "object_fit": null,
       "object_position": null,
       "order": null,
       "overflow": null,
       "overflow_x": null,
       "overflow_y": null,
       "padding": null,
       "right": null,
       "top": null,
       "visibility": null,
       "width": null
      }
     },
     "4832d6d8c37140f793b1925417faa352": {
      "model_module": "@jupyter-widgets/base",
      "model_module_version": "1.2.0",
      "model_name": "LayoutModel",
      "state": {
       "_model_module": "@jupyter-widgets/base",
       "_model_module_version": "1.2.0",
       "_model_name": "LayoutModel",
       "_view_count": null,
       "_view_module": "@jupyter-widgets/base",
       "_view_module_version": "1.2.0",
       "_view_name": "LayoutView",
       "align_content": null,
       "align_items": null,
       "align_self": null,
       "border": null,
       "bottom": null,
       "display": null,
       "flex": null,
       "flex_flow": null,
       "grid_area": null,
       "grid_auto_columns": null,
       "grid_auto_flow": null,
       "grid_auto_rows": null,
       "grid_column": null,
       "grid_gap": null,
       "grid_row": null,
       "grid_template_areas": null,
       "grid_template_columns": null,
       "grid_template_rows": null,
       "height": null,
       "justify_content": null,
       "justify_items": null,
       "left": null,
       "margin": null,
       "max_height": null,
       "max_width": null,
       "min_height": null,
       "min_width": null,
       "object_fit": null,
       "object_position": null,
       "order": null,
       "overflow": null,
       "overflow_x": null,
       "overflow_y": null,
       "padding": null,
       "right": null,
       "top": null,
       "visibility": null,
       "width": null
      }
     },
     "498e51e14d1746cebc480070b88cdc66": {
      "model_module": "@jupyter-widgets/base",
      "model_module_version": "1.2.0",
      "model_name": "LayoutModel",
      "state": {
       "_model_module": "@jupyter-widgets/base",
       "_model_module_version": "1.2.0",
       "_model_name": "LayoutModel",
       "_view_count": null,
       "_view_module": "@jupyter-widgets/base",
       "_view_module_version": "1.2.0",
       "_view_name": "LayoutView",
       "align_content": null,
       "align_items": null,
       "align_self": null,
       "border": null,
       "bottom": null,
       "display": null,
       "flex": null,
       "flex_flow": null,
       "grid_area": null,
       "grid_auto_columns": null,
       "grid_auto_flow": null,
       "grid_auto_rows": null,
       "grid_column": null,
       "grid_gap": null,
       "grid_row": null,
       "grid_template_areas": null,
       "grid_template_columns": null,
       "grid_template_rows": null,
       "height": null,
       "justify_content": null,
       "justify_items": null,
       "left": null,
       "margin": null,
       "max_height": null,
       "max_width": null,
       "min_height": null,
       "min_width": null,
       "object_fit": null,
       "object_position": null,
       "order": null,
       "overflow": null,
       "overflow_x": null,
       "overflow_y": null,
       "padding": null,
       "right": null,
       "top": null,
       "visibility": null,
       "width": null
      }
     },
     "4c40e2895d354dba9922b61e5ef511fc": {
      "model_module": "@jupyter-widgets/controls",
      "model_module_version": "1.5.0",
      "model_name": "HTMLModel",
      "state": {
       "_dom_classes": [],
       "_model_module": "@jupyter-widgets/controls",
       "_model_module_version": "1.5.0",
       "_model_name": "HTMLModel",
       "_view_count": null,
       "_view_module": "@jupyter-widgets/controls",
       "_view_module_version": "1.5.0",
       "_view_name": "HTMLView",
       "description": "",
       "description_tooltip": null,
       "layout": "IPY_MODEL_c14fc98109f24d9c83caaf3718b47ad9",
       "placeholder": "​",
       "style": "IPY_MODEL_bf32d5f34d94444f80fcd43d986a7985",
       "value": "Epoch 1: 100%"
      }
     },
     "4ee6d2ed11534fa5bb41d2610501b7b2": {
      "model_module": "@jupyter-widgets/controls",
      "model_module_version": "1.5.0",
      "model_name": "FloatProgressModel",
      "state": {
       "_dom_classes": [],
       "_model_module": "@jupyter-widgets/controls",
       "_model_module_version": "1.5.0",
       "_model_name": "FloatProgressModel",
       "_view_count": null,
       "_view_module": "@jupyter-widgets/controls",
       "_view_module_version": "1.5.0",
       "_view_name": "ProgressView",
       "bar_style": "success",
       "description": "",
       "description_tooltip": null,
       "layout": "IPY_MODEL_7069a0164cdc46e2a7a7b8c3e6be7c3a",
       "max": 27,
       "min": 0,
       "orientation": "horizontal",
       "style": "IPY_MODEL_6ae8bd2219b045cbba99cf0102de1960",
       "value": 27
      }
     },
     "4f4dd6e3e6964c819db6aa72f0d907cc": {
      "model_module": "@jupyter-widgets/controls",
      "model_module_version": "1.5.0",
      "model_name": "HTMLModel",
      "state": {
       "_dom_classes": [],
       "_model_module": "@jupyter-widgets/controls",
       "_model_module_version": "1.5.0",
       "_model_name": "HTMLModel",
       "_view_count": null,
       "_view_module": "@jupyter-widgets/controls",
       "_view_module_version": "1.5.0",
       "_view_name": "HTMLView",
       "description": "",
       "description_tooltip": null,
       "layout": "IPY_MODEL_c54f9f0eb28144b59190c91c695ac3ba",
       "placeholder": "​",
       "style": "IPY_MODEL_d8730e3ffe384337aff98db564c9a31c",
       "value": "Epoch 1: 100%"
      }
     },
     "501ea8ac653b428e861868b15c53bbf6": {
      "model_module": "@jupyter-widgets/controls",
      "model_module_version": "1.5.0",
      "model_name": "DescriptionStyleModel",
      "state": {
       "_model_module": "@jupyter-widgets/controls",
       "_model_module_version": "1.5.0",
       "_model_name": "DescriptionStyleModel",
       "_view_count": null,
       "_view_module": "@jupyter-widgets/base",
       "_view_module_version": "1.2.0",
       "_view_name": "StyleView",
       "description_width": ""
      }
     },
     "505f3308f1f44e8a8e3e021e72db5999": {
      "model_module": "@jupyter-widgets/controls",
      "model_module_version": "1.5.0",
      "model_name": "ProgressStyleModel",
      "state": {
       "_model_module": "@jupyter-widgets/controls",
       "_model_module_version": "1.5.0",
       "_model_name": "ProgressStyleModel",
       "_view_count": null,
       "_view_module": "@jupyter-widgets/base",
       "_view_module_version": "1.2.0",
       "_view_name": "StyleView",
       "bar_color": null,
       "description_width": ""
      }
     },
     "5099425818cf49d696fb80256770797d": {
      "model_module": "@jupyter-widgets/base",
      "model_module_version": "1.2.0",
      "model_name": "LayoutModel",
      "state": {
       "_model_module": "@jupyter-widgets/base",
       "_model_module_version": "1.2.0",
       "_model_name": "LayoutModel",
       "_view_count": null,
       "_view_module": "@jupyter-widgets/base",
       "_view_module_version": "1.2.0",
       "_view_name": "LayoutView",
       "align_content": null,
       "align_items": null,
       "align_self": null,
       "border": null,
       "bottom": null,
       "display": null,
       "flex": null,
       "flex_flow": null,
       "grid_area": null,
       "grid_auto_columns": null,
       "grid_auto_flow": null,
       "grid_auto_rows": null,
       "grid_column": null,
       "grid_gap": null,
       "grid_row": null,
       "grid_template_areas": null,
       "grid_template_columns": null,
       "grid_template_rows": null,
       "height": null,
       "justify_content": null,
       "justify_items": null,
       "left": null,
       "margin": null,
       "max_height": null,
       "max_width": null,
       "min_height": null,
       "min_width": null,
       "object_fit": null,
       "object_position": null,
       "order": null,
       "overflow": null,
       "overflow_x": null,
       "overflow_y": null,
       "padding": null,
       "right": null,
       "top": null,
       "visibility": null,
       "width": null
      }
     },
     "50b9b8f3388c4894a4db9c2b31f92b28": {
      "model_module": "@jupyter-widgets/controls",
      "model_module_version": "1.5.0",
      "model_name": "ProgressStyleModel",
      "state": {
       "_model_module": "@jupyter-widgets/controls",
       "_model_module_version": "1.5.0",
       "_model_name": "ProgressStyleModel",
       "_view_count": null,
       "_view_module": "@jupyter-widgets/base",
       "_view_module_version": "1.2.0",
       "_view_name": "StyleView",
       "bar_color": null,
       "description_width": ""
      }
     },
     "52a46285885043a4a2a14cd4e6f65ad3": {
      "model_module": "@jupyter-widgets/controls",
      "model_module_version": "1.5.0",
      "model_name": "ProgressStyleModel",
      "state": {
       "_model_module": "@jupyter-widgets/controls",
       "_model_module_version": "1.5.0",
       "_model_name": "ProgressStyleModel",
       "_view_count": null,
       "_view_module": "@jupyter-widgets/base",
       "_view_module_version": "1.2.0",
       "_view_name": "StyleView",
       "bar_color": null,
       "description_width": ""
      }
     },
     "530364ea3d764e84861d2b1f589e6b8e": {
      "model_module": "@jupyter-widgets/controls",
      "model_module_version": "1.5.0",
      "model_name": "HTMLModel",
      "state": {
       "_dom_classes": [],
       "_model_module": "@jupyter-widgets/controls",
       "_model_module_version": "1.5.0",
       "_model_name": "HTMLModel",
       "_view_count": null,
       "_view_module": "@jupyter-widgets/controls",
       "_view_module_version": "1.5.0",
       "_view_name": "HTMLView",
       "description": "",
       "description_tooltip": null,
       "layout": "IPY_MODEL_f99560337e5c42fcb39bc44813ca3b18",
       "placeholder": "​",
       "style": "IPY_MODEL_2f18c35f14bf4832b03ae710eb5774d1",
       "value": "Epoch 4: 100%"
      }
     },
     "53b7fbc372ef456ebd4242cd08c08c5c": {
      "model_module": "@jupyter-widgets/controls",
      "model_module_version": "1.5.0",
      "model_name": "HBoxModel",
      "state": {
       "_dom_classes": [],
       "_model_module": "@jupyter-widgets/controls",
       "_model_module_version": "1.5.0",
       "_model_name": "HBoxModel",
       "_view_count": null,
       "_view_module": "@jupyter-widgets/controls",
       "_view_module_version": "1.5.0",
       "_view_name": "HBoxView",
       "box_style": "",
       "children": [
        "IPY_MODEL_689d2daf4d694e778510dc8fed480bf8",
        "IPY_MODEL_8e62da4777074821a6faf8df72b63021",
        "IPY_MODEL_7c870d01eb7842638560fcab7cf81427"
       ],
       "layout": "IPY_MODEL_e5768856586a4b50b796b85f7b282a5e"
      }
     },
     "54e06b744f0146e788c14991f4520d88": {
      "model_module": "@jupyter-widgets/controls",
      "model_module_version": "1.5.0",
      "model_name": "HTMLModel",
      "state": {
       "_dom_classes": [],
       "_model_module": "@jupyter-widgets/controls",
       "_model_module_version": "1.5.0",
       "_model_name": "HTMLModel",
       "_view_count": null,
       "_view_module": "@jupyter-widgets/controls",
       "_view_module_version": "1.5.0",
       "_view_name": "HTMLView",
       "description": "",
       "description_tooltip": null,
       "layout": "IPY_MODEL_0375ba714fa447799b04cc8ff7bac1de",
       "placeholder": "​",
       "style": "IPY_MODEL_501ea8ac653b428e861868b15c53bbf6",
       "value": " 27/27 [00:04&lt;00:00,  5.95it/s, Loss=3.27]"
      }
     },
     "55262619c6b9460b8ea10b2129e71bd6": {
      "model_module": "@jupyter-widgets/controls",
      "model_module_version": "1.5.0",
      "model_name": "ProgressStyleModel",
      "state": {
       "_model_module": "@jupyter-widgets/controls",
       "_model_module_version": "1.5.0",
       "_model_name": "ProgressStyleModel",
       "_view_count": null,
       "_view_module": "@jupyter-widgets/base",
       "_view_module_version": "1.2.0",
       "_view_name": "StyleView",
       "bar_color": null,
       "description_width": ""
      }
     },
     "5581352cbc3d4b988413bfe1c263c98d": {
      "model_module": "@jupyter-widgets/controls",
      "model_module_version": "1.5.0",
      "model_name": "HBoxModel",
      "state": {
       "_dom_classes": [],
       "_model_module": "@jupyter-widgets/controls",
       "_model_module_version": "1.5.0",
       "_model_name": "HBoxModel",
       "_view_count": null,
       "_view_module": "@jupyter-widgets/controls",
       "_view_module_version": "1.5.0",
       "_view_name": "HBoxView",
       "box_style": "",
       "children": [
        "IPY_MODEL_dd73bcda81774d70948e21132d71e0c7",
        "IPY_MODEL_9bfb7ee6a0ec442f964b4cc5fa0bd75f",
        "IPY_MODEL_d48ceeab5d2840d49adc1ed41c6f1b36"
       ],
       "layout": "IPY_MODEL_459307dad1ec44d2b3b37ac6ef06bcbd"
      }
     },
     "5704069ae6a340f493cef067f585b696": {
      "model_module": "@jupyter-widgets/controls",
      "model_module_version": "1.5.0",
      "model_name": "DescriptionStyleModel",
      "state": {
       "_model_module": "@jupyter-widgets/controls",
       "_model_module_version": "1.5.0",
       "_model_name": "DescriptionStyleModel",
       "_view_count": null,
       "_view_module": "@jupyter-widgets/base",
       "_view_module_version": "1.2.0",
       "_view_name": "StyleView",
       "description_width": ""
      }
     },
     "5763c97d57174a2abdc0890fc7e9f902": {
      "model_module": "@jupyter-widgets/controls",
      "model_module_version": "1.5.0",
      "model_name": "HTMLModel",
      "state": {
       "_dom_classes": [],
       "_model_module": "@jupyter-widgets/controls",
       "_model_module_version": "1.5.0",
       "_model_name": "HTMLModel",
       "_view_count": null,
       "_view_module": "@jupyter-widgets/controls",
       "_view_module_version": "1.5.0",
       "_view_name": "HTMLView",
       "description": "",
       "description_tooltip": null,
       "layout": "IPY_MODEL_1c9b6ce1085d44b5bc41ec6bde495b61",
       "placeholder": "​",
       "style": "IPY_MODEL_907bea27b54a48128734c23e035c2cef",
       "value": "Epoch 3: 100%"
      }
     },
     "59430b9447b945e1a67e5551291b3ffa": {
      "model_module": "@jupyter-widgets/controls",
      "model_module_version": "1.5.0",
      "model_name": "DescriptionStyleModel",
      "state": {
       "_model_module": "@jupyter-widgets/controls",
       "_model_module_version": "1.5.0",
       "_model_name": "DescriptionStyleModel",
       "_view_count": null,
       "_view_module": "@jupyter-widgets/base",
       "_view_module_version": "1.2.0",
       "_view_name": "StyleView",
       "description_width": ""
      }
     },
     "5969650e992c4146a067761408313e75": {
      "model_module": "@jupyter-widgets/controls",
      "model_module_version": "1.5.0",
      "model_name": "HTMLModel",
      "state": {
       "_dom_classes": [],
       "_model_module": "@jupyter-widgets/controls",
       "_model_module_version": "1.5.0",
       "_model_name": "HTMLModel",
       "_view_count": null,
       "_view_module": "@jupyter-widgets/controls",
       "_view_module_version": "1.5.0",
       "_view_name": "HTMLView",
       "description": "",
       "description_tooltip": null,
       "layout": "IPY_MODEL_ee2c0693010349ab9335f5e84bc7fa8a",
       "placeholder": "​",
       "style": "IPY_MODEL_1af38e30eaec452a93183eb26b782fb1",
       "value": "Epoch 0: 100%"
      }
     },
     "5cba905b826e4828bb912fb884575115": {
      "model_module": "@jupyter-widgets/base",
      "model_module_version": "1.2.0",
      "model_name": "LayoutModel",
      "state": {
       "_model_module": "@jupyter-widgets/base",
       "_model_module_version": "1.2.0",
       "_model_name": "LayoutModel",
       "_view_count": null,
       "_view_module": "@jupyter-widgets/base",
       "_view_module_version": "1.2.0",
       "_view_name": "LayoutView",
       "align_content": null,
       "align_items": null,
       "align_self": null,
       "border": null,
       "bottom": null,
       "display": null,
       "flex": null,
       "flex_flow": null,
       "grid_area": null,
       "grid_auto_columns": null,
       "grid_auto_flow": null,
       "grid_auto_rows": null,
       "grid_column": null,
       "grid_gap": null,
       "grid_row": null,
       "grid_template_areas": null,
       "grid_template_columns": null,
       "grid_template_rows": null,
       "height": null,
       "justify_content": null,
       "justify_items": null,
       "left": null,
       "margin": null,
       "max_height": null,
       "max_width": null,
       "min_height": null,
       "min_width": null,
       "object_fit": null,
       "object_position": null,
       "order": null,
       "overflow": null,
       "overflow_x": null,
       "overflow_y": null,
       "padding": null,
       "right": null,
       "top": null,
       "visibility": null,
       "width": null
      }
     },
     "5d4869dd64344a638648a5b023c4ab30": {
      "model_module": "@jupyter-widgets/base",
      "model_module_version": "1.2.0",
      "model_name": "LayoutModel",
      "state": {
       "_model_module": "@jupyter-widgets/base",
       "_model_module_version": "1.2.0",
       "_model_name": "LayoutModel",
       "_view_count": null,
       "_view_module": "@jupyter-widgets/base",
       "_view_module_version": "1.2.0",
       "_view_name": "LayoutView",
       "align_content": null,
       "align_items": null,
       "align_self": null,
       "border": null,
       "bottom": null,
       "display": null,
       "flex": null,
       "flex_flow": null,
       "grid_area": null,
       "grid_auto_columns": null,
       "grid_auto_flow": null,
       "grid_auto_rows": null,
       "grid_column": null,
       "grid_gap": null,
       "grid_row": null,
       "grid_template_areas": null,
       "grid_template_columns": null,
       "grid_template_rows": null,
       "height": null,
       "justify_content": null,
       "justify_items": null,
       "left": null,
       "margin": null,
       "max_height": null,
       "max_width": null,
       "min_height": null,
       "min_width": null,
       "object_fit": null,
       "object_position": null,
       "order": null,
       "overflow": null,
       "overflow_x": null,
       "overflow_y": null,
       "padding": null,
       "right": null,
       "top": null,
       "visibility": null,
       "width": null
      }
     },
     "5d716af18e4d4ec8ac36b5d021a49cfb": {
      "model_module": "@jupyter-widgets/base",
      "model_module_version": "1.2.0",
      "model_name": "LayoutModel",
      "state": {
       "_model_module": "@jupyter-widgets/base",
       "_model_module_version": "1.2.0",
       "_model_name": "LayoutModel",
       "_view_count": null,
       "_view_module": "@jupyter-widgets/base",
       "_view_module_version": "1.2.0",
       "_view_name": "LayoutView",
       "align_content": null,
       "align_items": null,
       "align_self": null,
       "border": null,
       "bottom": null,
       "display": null,
       "flex": null,
       "flex_flow": null,
       "grid_area": null,
       "grid_auto_columns": null,
       "grid_auto_flow": null,
       "grid_auto_rows": null,
       "grid_column": null,
       "grid_gap": null,
       "grid_row": null,
       "grid_template_areas": null,
       "grid_template_columns": null,
       "grid_template_rows": null,
       "height": null,
       "justify_content": null,
       "justify_items": null,
       "left": null,
       "margin": null,
       "max_height": null,
       "max_width": null,
       "min_height": null,
       "min_width": null,
       "object_fit": null,
       "object_position": null,
       "order": null,
       "overflow": null,
       "overflow_x": null,
       "overflow_y": null,
       "padding": null,
       "right": null,
       "top": null,
       "visibility": null,
       "width": null
      }
     },
     "5f6ba9fed3cb4f8f9ab9932f5357dc3c": {
      "model_module": "@jupyter-widgets/base",
      "model_module_version": "1.2.0",
      "model_name": "LayoutModel",
      "state": {
       "_model_module": "@jupyter-widgets/base",
       "_model_module_version": "1.2.0",
       "_model_name": "LayoutModel",
       "_view_count": null,
       "_view_module": "@jupyter-widgets/base",
       "_view_module_version": "1.2.0",
       "_view_name": "LayoutView",
       "align_content": null,
       "align_items": null,
       "align_self": null,
       "border": null,
       "bottom": null,
       "display": null,
       "flex": null,
       "flex_flow": null,
       "grid_area": null,
       "grid_auto_columns": null,
       "grid_auto_flow": null,
       "grid_auto_rows": null,
       "grid_column": null,
       "grid_gap": null,
       "grid_row": null,
       "grid_template_areas": null,
       "grid_template_columns": null,
       "grid_template_rows": null,
       "height": null,
       "justify_content": null,
       "justify_items": null,
       "left": null,
       "margin": null,
       "max_height": null,
       "max_width": null,
       "min_height": null,
       "min_width": null,
       "object_fit": null,
       "object_position": null,
       "order": null,
       "overflow": null,
       "overflow_x": null,
       "overflow_y": null,
       "padding": null,
       "right": null,
       "top": null,
       "visibility": null,
       "width": null
      }
     },
     "61a5867ea30a47a481dd71ec145f6342": {
      "model_module": "@jupyter-widgets/controls",
      "model_module_version": "1.5.0",
      "model_name": "HBoxModel",
      "state": {
       "_dom_classes": [],
       "_model_module": "@jupyter-widgets/controls",
       "_model_module_version": "1.5.0",
       "_model_name": "HBoxModel",
       "_view_count": null,
       "_view_module": "@jupyter-widgets/controls",
       "_view_module_version": "1.5.0",
       "_view_name": "HBoxView",
       "box_style": "",
       "children": [
        "IPY_MODEL_b056fc4227854160a95eef7ea4f51bb7",
        "IPY_MODEL_cfbb410ae92946089a1eb2e749112db2",
        "IPY_MODEL_d66cf3f8bbd64b3db191a601ee2ff920"
       ],
       "layout": "IPY_MODEL_2a4172080aaa42b893fbc7888b219cca"
      }
     },
     "61be927ba1d140479a9c7b8e88ddf161": {
      "model_module": "@jupyter-widgets/controls",
      "model_module_version": "1.5.0",
      "model_name": "DescriptionStyleModel",
      "state": {
       "_model_module": "@jupyter-widgets/controls",
       "_model_module_version": "1.5.0",
       "_model_name": "DescriptionStyleModel",
       "_view_count": null,
       "_view_module": "@jupyter-widgets/base",
       "_view_module_version": "1.2.0",
       "_view_name": "StyleView",
       "description_width": ""
      }
     },
     "62c35309c119413bad689a684df45372": {
      "model_module": "@jupyter-widgets/controls",
      "model_module_version": "1.5.0",
      "model_name": "ProgressStyleModel",
      "state": {
       "_model_module": "@jupyter-widgets/controls",
       "_model_module_version": "1.5.0",
       "_model_name": "ProgressStyleModel",
       "_view_count": null,
       "_view_module": "@jupyter-widgets/base",
       "_view_module_version": "1.2.0",
       "_view_name": "StyleView",
       "bar_color": null,
       "description_width": ""
      }
     },
     "63e3821bc4e345f0ab6b26026500fffa": {
      "model_module": "@jupyter-widgets/controls",
      "model_module_version": "1.5.0",
      "model_name": "HBoxModel",
      "state": {
       "_dom_classes": [],
       "_model_module": "@jupyter-widgets/controls",
       "_model_module_version": "1.5.0",
       "_model_name": "HBoxModel",
       "_view_count": null,
       "_view_module": "@jupyter-widgets/controls",
       "_view_module_version": "1.5.0",
       "_view_name": "HBoxView",
       "box_style": "",
       "children": [
        "IPY_MODEL_5969650e992c4146a067761408313e75",
        "IPY_MODEL_8bdc09df288b4a348623085311a2145e",
        "IPY_MODEL_b7467fe1c5f64bcbab6984c1b42c3f1c"
       ],
       "layout": "IPY_MODEL_da6a26b47dc84a6995daa2650c923bba"
      }
     },
     "6691d0717724493580b075aaabb5813e": {
      "model_module": "@jupyter-widgets/base",
      "model_module_version": "1.2.0",
      "model_name": "LayoutModel",
      "state": {
       "_model_module": "@jupyter-widgets/base",
       "_model_module_version": "1.2.0",
       "_model_name": "LayoutModel",
       "_view_count": null,
       "_view_module": "@jupyter-widgets/base",
       "_view_module_version": "1.2.0",
       "_view_name": "LayoutView",
       "align_content": null,
       "align_items": null,
       "align_self": null,
       "border": null,
       "bottom": null,
       "display": null,
       "flex": null,
       "flex_flow": null,
       "grid_area": null,
       "grid_auto_columns": null,
       "grid_auto_flow": null,
       "grid_auto_rows": null,
       "grid_column": null,
       "grid_gap": null,
       "grid_row": null,
       "grid_template_areas": null,
       "grid_template_columns": null,
       "grid_template_rows": null,
       "height": null,
       "justify_content": null,
       "justify_items": null,
       "left": null,
       "margin": null,
       "max_height": null,
       "max_width": null,
       "min_height": null,
       "min_width": null,
       "object_fit": null,
       "object_position": null,
       "order": null,
       "overflow": null,
       "overflow_x": null,
       "overflow_y": null,
       "padding": null,
       "right": null,
       "top": null,
       "visibility": null,
       "width": null
      }
     },
     "67785116e788452287e3d7cefaa040a0": {
      "model_module": "@jupyter-widgets/base",
      "model_module_version": "1.2.0",
      "model_name": "LayoutModel",
      "state": {
       "_model_module": "@jupyter-widgets/base",
       "_model_module_version": "1.2.0",
       "_model_name": "LayoutModel",
       "_view_count": null,
       "_view_module": "@jupyter-widgets/base",
       "_view_module_version": "1.2.0",
       "_view_name": "LayoutView",
       "align_content": null,
       "align_items": null,
       "align_self": null,
       "border": null,
       "bottom": null,
       "display": null,
       "flex": null,
       "flex_flow": null,
       "grid_area": null,
       "grid_auto_columns": null,
       "grid_auto_flow": null,
       "grid_auto_rows": null,
       "grid_column": null,
       "grid_gap": null,
       "grid_row": null,
       "grid_template_areas": null,
       "grid_template_columns": null,
       "grid_template_rows": null,
       "height": null,
       "justify_content": null,
       "justify_items": null,
       "left": null,
       "margin": null,
       "max_height": null,
       "max_width": null,
       "min_height": null,
       "min_width": null,
       "object_fit": null,
       "object_position": null,
       "order": null,
       "overflow": null,
       "overflow_x": null,
       "overflow_y": null,
       "padding": null,
       "right": null,
       "top": null,
       "visibility": null,
       "width": null
      }
     },
     "67ce3c23f8ee4439ba08a893f53e7309": {
      "model_module": "@jupyter-widgets/base",
      "model_module_version": "1.2.0",
      "model_name": "LayoutModel",
      "state": {
       "_model_module": "@jupyter-widgets/base",
       "_model_module_version": "1.2.0",
       "_model_name": "LayoutModel",
       "_view_count": null,
       "_view_module": "@jupyter-widgets/base",
       "_view_module_version": "1.2.0",
       "_view_name": "LayoutView",
       "align_content": null,
       "align_items": null,
       "align_self": null,
       "border": null,
       "bottom": null,
       "display": null,
       "flex": null,
       "flex_flow": null,
       "grid_area": null,
       "grid_auto_columns": null,
       "grid_auto_flow": null,
       "grid_auto_rows": null,
       "grid_column": null,
       "grid_gap": null,
       "grid_row": null,
       "grid_template_areas": null,
       "grid_template_columns": null,
       "grid_template_rows": null,
       "height": null,
       "justify_content": null,
       "justify_items": null,
       "left": null,
       "margin": null,
       "max_height": null,
       "max_width": null,
       "min_height": null,
       "min_width": null,
       "object_fit": null,
       "object_position": null,
       "order": null,
       "overflow": null,
       "overflow_x": null,
       "overflow_y": null,
       "padding": null,
       "right": null,
       "top": null,
       "visibility": null,
       "width": null
      }
     },
     "689d2daf4d694e778510dc8fed480bf8": {
      "model_module": "@jupyter-widgets/controls",
      "model_module_version": "1.5.0",
      "model_name": "HTMLModel",
      "state": {
       "_dom_classes": [],
       "_model_module": "@jupyter-widgets/controls",
       "_model_module_version": "1.5.0",
       "_model_name": "HTMLModel",
       "_view_count": null,
       "_view_module": "@jupyter-widgets/controls",
       "_view_module_version": "1.5.0",
       "_view_name": "HTMLView",
       "description": "",
       "description_tooltip": null,
       "layout": "IPY_MODEL_2be4e4e5effe4d05bafe1f8156a1d7e0",
       "placeholder": "​",
       "style": "IPY_MODEL_5704069ae6a340f493cef067f585b696",
       "value": "Epoch 3: 100%"
      }
     },
     "6996596ffe5c432c87f7ff8841122510": {
      "model_module": "@jupyter-widgets/controls",
      "model_module_version": "1.5.0",
      "model_name": "HTMLModel",
      "state": {
       "_dom_classes": [],
       "_model_module": "@jupyter-widgets/controls",
       "_model_module_version": "1.5.0",
       "_model_name": "HTMLModel",
       "_view_count": null,
       "_view_module": "@jupyter-widgets/controls",
       "_view_module_version": "1.5.0",
       "_view_name": "HTMLView",
       "description": "",
       "description_tooltip": null,
       "layout": "IPY_MODEL_8bf20580280d4570969fd3ffbea51cf2",
       "placeholder": "​",
       "style": "IPY_MODEL_e2b96745e3de43bfac2f5b7b92914b4f",
       "value": " 27/27 [00:04&lt;00:00,  6.01it/s, Loss=0.859]"
      }
     },
     "6ae8bd2219b045cbba99cf0102de1960": {
      "model_module": "@jupyter-widgets/controls",
      "model_module_version": "1.5.0",
      "model_name": "ProgressStyleModel",
      "state": {
       "_model_module": "@jupyter-widgets/controls",
       "_model_module_version": "1.5.0",
       "_model_name": "ProgressStyleModel",
       "_view_count": null,
       "_view_module": "@jupyter-widgets/base",
       "_view_module_version": "1.2.0",
       "_view_name": "StyleView",
       "bar_color": null,
       "description_width": ""
      }
     },
     "6b4c0d30e09f46ef94a97534b0951875": {
      "model_module": "@jupyter-widgets/controls",
      "model_module_version": "1.5.0",
      "model_name": "DescriptionStyleModel",
      "state": {
       "_model_module": "@jupyter-widgets/controls",
       "_model_module_version": "1.5.0",
       "_model_name": "DescriptionStyleModel",
       "_view_count": null,
       "_view_module": "@jupyter-widgets/base",
       "_view_module_version": "1.2.0",
       "_view_name": "StyleView",
       "description_width": ""
      }
     },
     "6d2a190e52934e6d861c74fceb567473": {
      "model_module": "@jupyter-widgets/base",
      "model_module_version": "1.2.0",
      "model_name": "LayoutModel",
      "state": {
       "_model_module": "@jupyter-widgets/base",
       "_model_module_version": "1.2.0",
       "_model_name": "LayoutModel",
       "_view_count": null,
       "_view_module": "@jupyter-widgets/base",
       "_view_module_version": "1.2.0",
       "_view_name": "LayoutView",
       "align_content": null,
       "align_items": null,
       "align_self": null,
       "border": null,
       "bottom": null,
       "display": null,
       "flex": null,
       "flex_flow": null,
       "grid_area": null,
       "grid_auto_columns": null,
       "grid_auto_flow": null,
       "grid_auto_rows": null,
       "grid_column": null,
       "grid_gap": null,
       "grid_row": null,
       "grid_template_areas": null,
       "grid_template_columns": null,
       "grid_template_rows": null,
       "height": null,
       "justify_content": null,
       "justify_items": null,
       "left": null,
       "margin": null,
       "max_height": null,
       "max_width": null,
       "min_height": null,
       "min_width": null,
       "object_fit": null,
       "object_position": null,
       "order": null,
       "overflow": null,
       "overflow_x": null,
       "overflow_y": null,
       "padding": null,
       "right": null,
       "top": null,
       "visibility": null,
       "width": null
      }
     },
     "6d8cbed376034d998eb92505014d7cb4": {
      "model_module": "@jupyter-widgets/controls",
      "model_module_version": "1.5.0",
      "model_name": "DescriptionStyleModel",
      "state": {
       "_model_module": "@jupyter-widgets/controls",
       "_model_module_version": "1.5.0",
       "_model_name": "DescriptionStyleModel",
       "_view_count": null,
       "_view_module": "@jupyter-widgets/base",
       "_view_module_version": "1.2.0",
       "_view_name": "StyleView",
       "description_width": ""
      }
     },
     "6fd6ca0ef4f74cf0a217283fc577847e": {
      "model_module": "@jupyter-widgets/controls",
      "model_module_version": "1.5.0",
      "model_name": "ProgressStyleModel",
      "state": {
       "_model_module": "@jupyter-widgets/controls",
       "_model_module_version": "1.5.0",
       "_model_name": "ProgressStyleModel",
       "_view_count": null,
       "_view_module": "@jupyter-widgets/base",
       "_view_module_version": "1.2.0",
       "_view_name": "StyleView",
       "bar_color": null,
       "description_width": ""
      }
     },
     "7069a0164cdc46e2a7a7b8c3e6be7c3a": {
      "model_module": "@jupyter-widgets/base",
      "model_module_version": "1.2.0",
      "model_name": "LayoutModel",
      "state": {
       "_model_module": "@jupyter-widgets/base",
       "_model_module_version": "1.2.0",
       "_model_name": "LayoutModel",
       "_view_count": null,
       "_view_module": "@jupyter-widgets/base",
       "_view_module_version": "1.2.0",
       "_view_name": "LayoutView",
       "align_content": null,
       "align_items": null,
       "align_self": null,
       "border": null,
       "bottom": null,
       "display": null,
       "flex": null,
       "flex_flow": null,
       "grid_area": null,
       "grid_auto_columns": null,
       "grid_auto_flow": null,
       "grid_auto_rows": null,
       "grid_column": null,
       "grid_gap": null,
       "grid_row": null,
       "grid_template_areas": null,
       "grid_template_columns": null,
       "grid_template_rows": null,
       "height": null,
       "justify_content": null,
       "justify_items": null,
       "left": null,
       "margin": null,
       "max_height": null,
       "max_width": null,
       "min_height": null,
       "min_width": null,
       "object_fit": null,
       "object_position": null,
       "order": null,
       "overflow": null,
       "overflow_x": null,
       "overflow_y": null,
       "padding": null,
       "right": null,
       "top": null,
       "visibility": null,
       "width": null
      }
     },
     "711a902c3e3a4e4789a1fbbdb3a8f3a0": {
      "model_module": "@jupyter-widgets/base",
      "model_module_version": "1.2.0",
      "model_name": "LayoutModel",
      "state": {
       "_model_module": "@jupyter-widgets/base",
       "_model_module_version": "1.2.0",
       "_model_name": "LayoutModel",
       "_view_count": null,
       "_view_module": "@jupyter-widgets/base",
       "_view_module_version": "1.2.0",
       "_view_name": "LayoutView",
       "align_content": null,
       "align_items": null,
       "align_self": null,
       "border": null,
       "bottom": null,
       "display": null,
       "flex": null,
       "flex_flow": null,
       "grid_area": null,
       "grid_auto_columns": null,
       "grid_auto_flow": null,
       "grid_auto_rows": null,
       "grid_column": null,
       "grid_gap": null,
       "grid_row": null,
       "grid_template_areas": null,
       "grid_template_columns": null,
       "grid_template_rows": null,
       "height": null,
       "justify_content": null,
       "justify_items": null,
       "left": null,
       "margin": null,
       "max_height": null,
       "max_width": null,
       "min_height": null,
       "min_width": null,
       "object_fit": null,
       "object_position": null,
       "order": null,
       "overflow": null,
       "overflow_x": null,
       "overflow_y": null,
       "padding": null,
       "right": null,
       "top": null,
       "visibility": null,
       "width": null
      }
     },
     "71da5f02642c47b1b6147c69370a1db8": {
      "model_module": "@jupyter-widgets/controls",
      "model_module_version": "1.5.0",
      "model_name": "HTMLModel",
      "state": {
       "_dom_classes": [],
       "_model_module": "@jupyter-widgets/controls",
       "_model_module_version": "1.5.0",
       "_model_name": "HTMLModel",
       "_view_count": null,
       "_view_module": "@jupyter-widgets/controls",
       "_view_module_version": "1.5.0",
       "_view_name": "HTMLView",
       "description": "",
       "description_tooltip": null,
       "layout": "IPY_MODEL_2438c9dc30ce4df380d690eb02ddec98",
       "placeholder": "​",
       "style": "IPY_MODEL_929712405c834c599a999154ef63fe2e",
       "value": " 105/105 [01:00&lt;00:00,  1.76it/s, Loss=1.28]"
      }
     },
     "7308a47956224780bd3d62c12f6cbb7c": {
      "model_module": "@jupyter-widgets/controls",
      "model_module_version": "1.5.0",
      "model_name": "FloatProgressModel",
      "state": {
       "_dom_classes": [],
       "_model_module": "@jupyter-widgets/controls",
       "_model_module_version": "1.5.0",
       "_model_name": "FloatProgressModel",
       "_view_count": null,
       "_view_module": "@jupyter-widgets/controls",
       "_view_module_version": "1.5.0",
       "_view_name": "ProgressView",
       "bar_style": "success",
       "description": "",
       "description_tooltip": null,
       "layout": "IPY_MODEL_e07aa6a1760945edb28b7c489e06c008",
       "max": 27,
       "min": 0,
       "orientation": "horizontal",
       "style": "IPY_MODEL_b3d9589127924de78c17bc4371ff6bb9",
       "value": 27
      }
     },
     "778a8e93115f40a3b1aa5434061b8322": {
      "model_module": "@jupyter-widgets/base",
      "model_module_version": "1.2.0",
      "model_name": "LayoutModel",
      "state": {
       "_model_module": "@jupyter-widgets/base",
       "_model_module_version": "1.2.0",
       "_model_name": "LayoutModel",
       "_view_count": null,
       "_view_module": "@jupyter-widgets/base",
       "_view_module_version": "1.2.0",
       "_view_name": "LayoutView",
       "align_content": null,
       "align_items": null,
       "align_self": null,
       "border": null,
       "bottom": null,
       "display": null,
       "flex": null,
       "flex_flow": null,
       "grid_area": null,
       "grid_auto_columns": null,
       "grid_auto_flow": null,
       "grid_auto_rows": null,
       "grid_column": null,
       "grid_gap": null,
       "grid_row": null,
       "grid_template_areas": null,
       "grid_template_columns": null,
       "grid_template_rows": null,
       "height": null,
       "justify_content": null,
       "justify_items": null,
       "left": null,
       "margin": null,
       "max_height": null,
       "max_width": null,
       "min_height": null,
       "min_width": null,
       "object_fit": null,
       "object_position": null,
       "order": null,
       "overflow": null,
       "overflow_x": null,
       "overflow_y": null,
       "padding": null,
       "right": null,
       "top": null,
       "visibility": null,
       "width": null
      }
     },
     "78c6b8097b104706b3ff949925298627": {
      "model_module": "@jupyter-widgets/controls",
      "model_module_version": "1.5.0",
      "model_name": "ProgressStyleModel",
      "state": {
       "_model_module": "@jupyter-widgets/controls",
       "_model_module_version": "1.5.0",
       "_model_name": "ProgressStyleModel",
       "_view_count": null,
       "_view_module": "@jupyter-widgets/base",
       "_view_module_version": "1.2.0",
       "_view_name": "StyleView",
       "bar_color": null,
       "description_width": ""
      }
     },
     "7920c0b318b54314954c689f2e6fc858": {
      "model_module": "@jupyter-widgets/base",
      "model_module_version": "1.2.0",
      "model_name": "LayoutModel",
      "state": {
       "_model_module": "@jupyter-widgets/base",
       "_model_module_version": "1.2.0",
       "_model_name": "LayoutModel",
       "_view_count": null,
       "_view_module": "@jupyter-widgets/base",
       "_view_module_version": "1.2.0",
       "_view_name": "LayoutView",
       "align_content": null,
       "align_items": null,
       "align_self": null,
       "border": null,
       "bottom": null,
       "display": null,
       "flex": null,
       "flex_flow": null,
       "grid_area": null,
       "grid_auto_columns": null,
       "grid_auto_flow": null,
       "grid_auto_rows": null,
       "grid_column": null,
       "grid_gap": null,
       "grid_row": null,
       "grid_template_areas": null,
       "grid_template_columns": null,
       "grid_template_rows": null,
       "height": null,
       "justify_content": null,
       "justify_items": null,
       "left": null,
       "margin": null,
       "max_height": null,
       "max_width": null,
       "min_height": null,
       "min_width": null,
       "object_fit": null,
       "object_position": null,
       "order": null,
       "overflow": null,
       "overflow_x": null,
       "overflow_y": null,
       "padding": null,
       "right": null,
       "top": null,
       "visibility": null,
       "width": null
      }
     },
     "7953dcdd86d84842984dfeedcc3eed1f": {
      "model_module": "@jupyter-widgets/controls",
      "model_module_version": "1.5.0",
      "model_name": "HBoxModel",
      "state": {
       "_dom_classes": [],
       "_model_module": "@jupyter-widgets/controls",
       "_model_module_version": "1.5.0",
       "_model_name": "HBoxModel",
       "_view_count": null,
       "_view_module": "@jupyter-widgets/controls",
       "_view_module_version": "1.5.0",
       "_view_name": "HBoxView",
       "box_style": "",
       "children": [
        "IPY_MODEL_4c40e2895d354dba9922b61e5ef511fc",
        "IPY_MODEL_d9c74a0981144e7c8624fd6791077a9c",
        "IPY_MODEL_f53c410cdf144d56b68b8b490d599e8d"
       ],
       "layout": "IPY_MODEL_5d716af18e4d4ec8ac36b5d021a49cfb"
      }
     },
     "7a2b7695b917433bbdad5c811ce0eaa4": {
      "model_module": "@jupyter-widgets/controls",
      "model_module_version": "1.5.0",
      "model_name": "HTMLModel",
      "state": {
       "_dom_classes": [],
       "_model_module": "@jupyter-widgets/controls",
       "_model_module_version": "1.5.0",
       "_model_name": "HTMLModel",
       "_view_count": null,
       "_view_module": "@jupyter-widgets/controls",
       "_view_module_version": "1.5.0",
       "_view_name": "HTMLView",
       "description": "",
       "description_tooltip": null,
       "layout": "IPY_MODEL_311f76475235438e8f2742109cdeaf56",
       "placeholder": "​",
       "style": "IPY_MODEL_f5ccd26d9b2d470a9c8d97416b8f5af9",
       "value": "Epoch 10: 100%"
      }
     },
     "7c870d01eb7842638560fcab7cf81427": {
      "model_module": "@jupyter-widgets/controls",
      "model_module_version": "1.5.0",
      "model_name": "HTMLModel",
      "state": {
       "_dom_classes": [],
       "_model_module": "@jupyter-widgets/controls",
       "_model_module_version": "1.5.0",
       "_model_name": "HTMLModel",
       "_view_count": null,
       "_view_module": "@jupyter-widgets/controls",
       "_view_module_version": "1.5.0",
       "_view_name": "HTMLView",
       "description": "",
       "description_tooltip": null,
       "layout": "IPY_MODEL_6d2a190e52934e6d861c74fceb567473",
       "placeholder": "​",
       "style": "IPY_MODEL_9f5a28f822834c8e8e596c61e631a05c",
       "value": " 105/105 [01:00&lt;00:00,  1.76it/s, Loss=1.28]"
      }
     },
     "7d513f61d68e45fcb41627b70fc713e4": {
      "model_module": "@jupyter-widgets/base",
      "model_module_version": "1.2.0",
      "model_name": "LayoutModel",
      "state": {
       "_model_module": "@jupyter-widgets/base",
       "_model_module_version": "1.2.0",
       "_model_name": "LayoutModel",
       "_view_count": null,
       "_view_module": "@jupyter-widgets/base",
       "_view_module_version": "1.2.0",
       "_view_name": "LayoutView",
       "align_content": null,
       "align_items": null,
       "align_self": null,
       "border": null,
       "bottom": null,
       "display": null,
       "flex": null,
       "flex_flow": null,
       "grid_area": null,
       "grid_auto_columns": null,
       "grid_auto_flow": null,
       "grid_auto_rows": null,
       "grid_column": null,
       "grid_gap": null,
       "grid_row": null,
       "grid_template_areas": null,
       "grid_template_columns": null,
       "grid_template_rows": null,
       "height": null,
       "justify_content": null,
       "justify_items": null,
       "left": null,
       "margin": null,
       "max_height": null,
       "max_width": null,
       "min_height": null,
       "min_width": null,
       "object_fit": null,
       "object_position": null,
       "order": null,
       "overflow": null,
       "overflow_x": null,
       "overflow_y": null,
       "padding": null,
       "right": null,
       "top": null,
       "visibility": null,
       "width": null
      }
     },
     "7e1d096b90a24a2788d3ad0fe4939e6a": {
      "model_module": "@jupyter-widgets/controls",
      "model_module_version": "1.5.0",
      "model_name": "HTMLModel",
      "state": {
       "_dom_classes": [],
       "_model_module": "@jupyter-widgets/controls",
       "_model_module_version": "1.5.0",
       "_model_name": "HTMLModel",
       "_view_count": null,
       "_view_module": "@jupyter-widgets/controls",
       "_view_module_version": "1.5.0",
       "_view_name": "HTMLView",
       "description": "",
       "description_tooltip": null,
       "layout": "IPY_MODEL_aa1dde7b468040d9a64ada64747bd751",
       "placeholder": "​",
       "style": "IPY_MODEL_d82dcbde98b442a4aeb4cc6717e148d1",
       "value": "Epoch 5: 100%"
      }
     },
     "7f02cf8d37a0408bad728935d3e1b892": {
      "model_module": "@jupyter-widgets/base",
      "model_module_version": "1.2.0",
      "model_name": "LayoutModel",
      "state": {
       "_model_module": "@jupyter-widgets/base",
       "_model_module_version": "1.2.0",
       "_model_name": "LayoutModel",
       "_view_count": null,
       "_view_module": "@jupyter-widgets/base",
       "_view_module_version": "1.2.0",
       "_view_name": "LayoutView",
       "align_content": null,
       "align_items": null,
       "align_self": null,
       "border": null,
       "bottom": null,
       "display": null,
       "flex": null,
       "flex_flow": null,
       "grid_area": null,
       "grid_auto_columns": null,
       "grid_auto_flow": null,
       "grid_auto_rows": null,
       "grid_column": null,
       "grid_gap": null,
       "grid_row": null,
       "grid_template_areas": null,
       "grid_template_columns": null,
       "grid_template_rows": null,
       "height": null,
       "justify_content": null,
       "justify_items": null,
       "left": null,
       "margin": null,
       "max_height": null,
       "max_width": null,
       "min_height": null,
       "min_width": null,
       "object_fit": null,
       "object_position": null,
       "order": null,
       "overflow": null,
       "overflow_x": null,
       "overflow_y": null,
       "padding": null,
       "right": null,
       "top": null,
       "visibility": null,
       "width": null
      }
     },
     "80162e18160c418ea288e369853d0984": {
      "model_module": "@jupyter-widgets/controls",
      "model_module_version": "1.5.0",
      "model_name": "FloatProgressModel",
      "state": {
       "_dom_classes": [],
       "_model_module": "@jupyter-widgets/controls",
       "_model_module_version": "1.5.0",
       "_model_name": "FloatProgressModel",
       "_view_count": null,
       "_view_module": "@jupyter-widgets/controls",
       "_view_module_version": "1.5.0",
       "_view_name": "ProgressView",
       "bar_style": "success",
       "description": "",
       "description_tooltip": null,
       "layout": "IPY_MODEL_7f02cf8d37a0408bad728935d3e1b892",
       "max": 27,
       "min": 0,
       "orientation": "horizontal",
       "style": "IPY_MODEL_52a46285885043a4a2a14cd4e6f65ad3",
       "value": 27
      }
     },
     "80b95063f15f47e081f0f197dc006d58": {
      "model_module": "@jupyter-widgets/controls",
      "model_module_version": "1.5.0",
      "model_name": "ProgressStyleModel",
      "state": {
       "_model_module": "@jupyter-widgets/controls",
       "_model_module_version": "1.5.0",
       "_model_name": "ProgressStyleModel",
       "_view_count": null,
       "_view_module": "@jupyter-widgets/base",
       "_view_module_version": "1.2.0",
       "_view_name": "StyleView",
       "bar_color": null,
       "description_width": ""
      }
     },
     "81dd6b6e97104d898c71c37db5f3cb52": {
      "model_module": "@jupyter-widgets/base",
      "model_module_version": "1.2.0",
      "model_name": "LayoutModel",
      "state": {
       "_model_module": "@jupyter-widgets/base",
       "_model_module_version": "1.2.0",
       "_model_name": "LayoutModel",
       "_view_count": null,
       "_view_module": "@jupyter-widgets/base",
       "_view_module_version": "1.2.0",
       "_view_name": "LayoutView",
       "align_content": null,
       "align_items": null,
       "align_self": null,
       "border": null,
       "bottom": null,
       "display": null,
       "flex": null,
       "flex_flow": null,
       "grid_area": null,
       "grid_auto_columns": null,
       "grid_auto_flow": null,
       "grid_auto_rows": null,
       "grid_column": null,
       "grid_gap": null,
       "grid_row": null,
       "grid_template_areas": null,
       "grid_template_columns": null,
       "grid_template_rows": null,
       "height": null,
       "justify_content": null,
       "justify_items": null,
       "left": null,
       "margin": null,
       "max_height": null,
       "max_width": null,
       "min_height": null,
       "min_width": null,
       "object_fit": null,
       "object_position": null,
       "order": null,
       "overflow": null,
       "overflow_x": null,
       "overflow_y": null,
       "padding": null,
       "right": null,
       "top": null,
       "visibility": null,
       "width": null
      }
     },
     "81e2e209abd4491496f5406f4cdf9a67": {
      "model_module": "@jupyter-widgets/controls",
      "model_module_version": "1.5.0",
      "model_name": "FloatProgressModel",
      "state": {
       "_dom_classes": [],
       "_model_module": "@jupyter-widgets/controls",
       "_model_module_version": "1.5.0",
       "_model_name": "FloatProgressModel",
       "_view_count": null,
       "_view_module": "@jupyter-widgets/controls",
       "_view_module_version": "1.5.0",
       "_view_name": "ProgressView",
       "bar_style": "success",
       "description": "",
       "description_tooltip": null,
       "layout": "IPY_MODEL_7920c0b318b54314954c689f2e6fc858",
       "max": 27,
       "min": 0,
       "orientation": "horizontal",
       "style": "IPY_MODEL_78c6b8097b104706b3ff949925298627",
       "value": 27
      }
     },
     "81f646ecb2ef4cacb6f1bcae667179c6": {
      "model_module": "@jupyter-widgets/base",
      "model_module_version": "1.2.0",
      "model_name": "LayoutModel",
      "state": {
       "_model_module": "@jupyter-widgets/base",
       "_model_module_version": "1.2.0",
       "_model_name": "LayoutModel",
       "_view_count": null,
       "_view_module": "@jupyter-widgets/base",
       "_view_module_version": "1.2.0",
       "_view_name": "LayoutView",
       "align_content": null,
       "align_items": null,
       "align_self": null,
       "border": null,
       "bottom": null,
       "display": null,
       "flex": null,
       "flex_flow": null,
       "grid_area": null,
       "grid_auto_columns": null,
       "grid_auto_flow": null,
       "grid_auto_rows": null,
       "grid_column": null,
       "grid_gap": null,
       "grid_row": null,
       "grid_template_areas": null,
       "grid_template_columns": null,
       "grid_template_rows": null,
       "height": null,
       "justify_content": null,
       "justify_items": null,
       "left": null,
       "margin": null,
       "max_height": null,
       "max_width": null,
       "min_height": null,
       "min_width": null,
       "object_fit": null,
       "object_position": null,
       "order": null,
       "overflow": null,
       "overflow_x": null,
       "overflow_y": null,
       "padding": null,
       "right": null,
       "top": null,
       "visibility": null,
       "width": null
      }
     },
     "8334a75028df44a98429ba09bcc87db6": {
      "model_module": "@jupyter-widgets/base",
      "model_module_version": "1.2.0",
      "model_name": "LayoutModel",
      "state": {
       "_model_module": "@jupyter-widgets/base",
       "_model_module_version": "1.2.0",
       "_model_name": "LayoutModel",
       "_view_count": null,
       "_view_module": "@jupyter-widgets/base",
       "_view_module_version": "1.2.0",
       "_view_name": "LayoutView",
       "align_content": null,
       "align_items": null,
       "align_self": null,
       "border": null,
       "bottom": null,
       "display": null,
       "flex": null,
       "flex_flow": null,
       "grid_area": null,
       "grid_auto_columns": null,
       "grid_auto_flow": null,
       "grid_auto_rows": null,
       "grid_column": null,
       "grid_gap": null,
       "grid_row": null,
       "grid_template_areas": null,
       "grid_template_columns": null,
       "grid_template_rows": null,
       "height": null,
       "justify_content": null,
       "justify_items": null,
       "left": null,
       "margin": null,
       "max_height": null,
       "max_width": null,
       "min_height": null,
       "min_width": null,
       "object_fit": null,
       "object_position": null,
       "order": null,
       "overflow": null,
       "overflow_x": null,
       "overflow_y": null,
       "padding": null,
       "right": null,
       "top": null,
       "visibility": null,
       "width": null
      }
     },
     "847a2f85f25c46e487252cccc1745aef": {
      "model_module": "@jupyter-widgets/base",
      "model_module_version": "1.2.0",
      "model_name": "LayoutModel",
      "state": {
       "_model_module": "@jupyter-widgets/base",
       "_model_module_version": "1.2.0",
       "_model_name": "LayoutModel",
       "_view_count": null,
       "_view_module": "@jupyter-widgets/base",
       "_view_module_version": "1.2.0",
       "_view_name": "LayoutView",
       "align_content": null,
       "align_items": null,
       "align_self": null,
       "border": null,
       "bottom": null,
       "display": null,
       "flex": null,
       "flex_flow": null,
       "grid_area": null,
       "grid_auto_columns": null,
       "grid_auto_flow": null,
       "grid_auto_rows": null,
       "grid_column": null,
       "grid_gap": null,
       "grid_row": null,
       "grid_template_areas": null,
       "grid_template_columns": null,
       "grid_template_rows": null,
       "height": null,
       "justify_content": null,
       "justify_items": null,
       "left": null,
       "margin": null,
       "max_height": null,
       "max_width": null,
       "min_height": null,
       "min_width": null,
       "object_fit": null,
       "object_position": null,
       "order": null,
       "overflow": null,
       "overflow_x": null,
       "overflow_y": null,
       "padding": null,
       "right": null,
       "top": null,
       "visibility": null,
       "width": null
      }
     },
     "86a0883ba6a14b93895d8dbf3f02664e": {
      "model_module": "@jupyter-widgets/controls",
      "model_module_version": "1.5.0",
      "model_name": "DescriptionStyleModel",
      "state": {
       "_model_module": "@jupyter-widgets/controls",
       "_model_module_version": "1.5.0",
       "_model_name": "DescriptionStyleModel",
       "_view_count": null,
       "_view_module": "@jupyter-widgets/base",
       "_view_module_version": "1.2.0",
       "_view_name": "StyleView",
       "description_width": ""
      }
     },
     "8749afd4205548249589434d9b932149": {
      "model_module": "@jupyter-widgets/base",
      "model_module_version": "1.2.0",
      "model_name": "LayoutModel",
      "state": {
       "_model_module": "@jupyter-widgets/base",
       "_model_module_version": "1.2.0",
       "_model_name": "LayoutModel",
       "_view_count": null,
       "_view_module": "@jupyter-widgets/base",
       "_view_module_version": "1.2.0",
       "_view_name": "LayoutView",
       "align_content": null,
       "align_items": null,
       "align_self": null,
       "border": null,
       "bottom": null,
       "display": null,
       "flex": null,
       "flex_flow": null,
       "grid_area": null,
       "grid_auto_columns": null,
       "grid_auto_flow": null,
       "grid_auto_rows": null,
       "grid_column": null,
       "grid_gap": null,
       "grid_row": null,
       "grid_template_areas": null,
       "grid_template_columns": null,
       "grid_template_rows": null,
       "height": null,
       "justify_content": null,
       "justify_items": null,
       "left": null,
       "margin": null,
       "max_height": null,
       "max_width": null,
       "min_height": null,
       "min_width": null,
       "object_fit": null,
       "object_position": null,
       "order": null,
       "overflow": null,
       "overflow_x": null,
       "overflow_y": null,
       "padding": null,
       "right": null,
       "top": null,
       "visibility": null,
       "width": null
      }
     },
     "8b7bc5e07a9242f8b10c1ac8c9c19f4e": {
      "model_module": "@jupyter-widgets/controls",
      "model_module_version": "1.5.0",
      "model_name": "DescriptionStyleModel",
      "state": {
       "_model_module": "@jupyter-widgets/controls",
       "_model_module_version": "1.5.0",
       "_model_name": "DescriptionStyleModel",
       "_view_count": null,
       "_view_module": "@jupyter-widgets/base",
       "_view_module_version": "1.2.0",
       "_view_name": "StyleView",
       "description_width": ""
      }
     },
     "8b92c355bf9c4e9c8bdd7bf6bd6f87a8": {
      "model_module": "@jupyter-widgets/controls",
      "model_module_version": "1.5.0",
      "model_name": "DescriptionStyleModel",
      "state": {
       "_model_module": "@jupyter-widgets/controls",
       "_model_module_version": "1.5.0",
       "_model_name": "DescriptionStyleModel",
       "_view_count": null,
       "_view_module": "@jupyter-widgets/base",
       "_view_module_version": "1.2.0",
       "_view_name": "StyleView",
       "description_width": ""
      }
     },
     "8bdc09df288b4a348623085311a2145e": {
      "model_module": "@jupyter-widgets/controls",
      "model_module_version": "1.5.0",
      "model_name": "FloatProgressModel",
      "state": {
       "_dom_classes": [],
       "_model_module": "@jupyter-widgets/controls",
       "_model_module_version": "1.5.0",
       "_model_name": "FloatProgressModel",
       "_view_count": null,
       "_view_module": "@jupyter-widgets/controls",
       "_view_module_version": "1.5.0",
       "_view_name": "ProgressView",
       "bar_style": "success",
       "description": "",
       "description_tooltip": null,
       "layout": "IPY_MODEL_9d41771b94b34b7ea34618eb8a7de880",
       "max": 27,
       "min": 0,
       "orientation": "horizontal",
       "style": "IPY_MODEL_b60d6b670e8c4b95bb48042e87706672",
       "value": 27
      }
     },
     "8bf20580280d4570969fd3ffbea51cf2": {
      "model_module": "@jupyter-widgets/base",
      "model_module_version": "1.2.0",
      "model_name": "LayoutModel",
      "state": {
       "_model_module": "@jupyter-widgets/base",
       "_model_module_version": "1.2.0",
       "_model_name": "LayoutModel",
       "_view_count": null,
       "_view_module": "@jupyter-widgets/base",
       "_view_module_version": "1.2.0",
       "_view_name": "LayoutView",
       "align_content": null,
       "align_items": null,
       "align_self": null,
       "border": null,
       "bottom": null,
       "display": null,
       "flex": null,
       "flex_flow": null,
       "grid_area": null,
       "grid_auto_columns": null,
       "grid_auto_flow": null,
       "grid_auto_rows": null,
       "grid_column": null,
       "grid_gap": null,
       "grid_row": null,
       "grid_template_areas": null,
       "grid_template_columns": null,
       "grid_template_rows": null,
       "height": null,
       "justify_content": null,
       "justify_items": null,
       "left": null,
       "margin": null,
       "max_height": null,
       "max_width": null,
       "min_height": null,
       "min_width": null,
       "object_fit": null,
       "object_position": null,
       "order": null,
       "overflow": null,
       "overflow_x": null,
       "overflow_y": null,
       "padding": null,
       "right": null,
       "top": null,
       "visibility": null,
       "width": null
      }
     },
     "8c3f79237f2f487f80584bee9059fde9": {
      "model_module": "@jupyter-widgets/base",
      "model_module_version": "1.2.0",
      "model_name": "LayoutModel",
      "state": {
       "_model_module": "@jupyter-widgets/base",
       "_model_module_version": "1.2.0",
       "_model_name": "LayoutModel",
       "_view_count": null,
       "_view_module": "@jupyter-widgets/base",
       "_view_module_version": "1.2.0",
       "_view_name": "LayoutView",
       "align_content": null,
       "align_items": null,
       "align_self": null,
       "border": null,
       "bottom": null,
       "display": null,
       "flex": null,
       "flex_flow": null,
       "grid_area": null,
       "grid_auto_columns": null,
       "grid_auto_flow": null,
       "grid_auto_rows": null,
       "grid_column": null,
       "grid_gap": null,
       "grid_row": null,
       "grid_template_areas": null,
       "grid_template_columns": null,
       "grid_template_rows": null,
       "height": null,
       "justify_content": null,
       "justify_items": null,
       "left": null,
       "margin": null,
       "max_height": null,
       "max_width": null,
       "min_height": null,
       "min_width": null,
       "object_fit": null,
       "object_position": null,
       "order": null,
       "overflow": null,
       "overflow_x": null,
       "overflow_y": null,
       "padding": null,
       "right": null,
       "top": null,
       "visibility": null,
       "width": null
      }
     },
     "8e62da4777074821a6faf8df72b63021": {
      "model_module": "@jupyter-widgets/controls",
      "model_module_version": "1.5.0",
      "model_name": "FloatProgressModel",
      "state": {
       "_dom_classes": [],
       "_model_module": "@jupyter-widgets/controls",
       "_model_module_version": "1.5.0",
       "_model_name": "FloatProgressModel",
       "_view_count": null,
       "_view_module": "@jupyter-widgets/controls",
       "_view_module_version": "1.5.0",
       "_view_name": "ProgressView",
       "bar_style": "success",
       "description": "",
       "description_tooltip": null,
       "layout": "IPY_MODEL_4832d6d8c37140f793b1925417faa352",
       "max": 105,
       "min": 0,
       "orientation": "horizontal",
       "style": "IPY_MODEL_0978098e4ec940f9896de2c6b3ac1a5b",
       "value": 105
      }
     },
     "907bea27b54a48128734c23e035c2cef": {
      "model_module": "@jupyter-widgets/controls",
      "model_module_version": "1.5.0",
      "model_name": "DescriptionStyleModel",
      "state": {
       "_model_module": "@jupyter-widgets/controls",
       "_model_module_version": "1.5.0",
       "_model_name": "DescriptionStyleModel",
       "_view_count": null,
       "_view_module": "@jupyter-widgets/base",
       "_view_module_version": "1.2.0",
       "_view_name": "StyleView",
       "description_width": ""
      }
     },
     "91ad348ded604c3dabb45767f7f3adab": {
      "model_module": "@jupyter-widgets/controls",
      "model_module_version": "1.5.0",
      "model_name": "HBoxModel",
      "state": {
       "_dom_classes": [],
       "_model_module": "@jupyter-widgets/controls",
       "_model_module_version": "1.5.0",
       "_model_name": "HBoxModel",
       "_view_count": null,
       "_view_module": "@jupyter-widgets/controls",
       "_view_module_version": "1.5.0",
       "_view_name": "HBoxView",
       "box_style": "",
       "children": [
        "IPY_MODEL_f8f6cac93bf94effa5cb7fd71f5232a1",
        "IPY_MODEL_94d24ba74ae04182b98b05e39a71d135",
        "IPY_MODEL_6996596ffe5c432c87f7ff8841122510"
       ],
       "layout": "IPY_MODEL_81f646ecb2ef4cacb6f1bcae667179c6"
      }
     },
     "929712405c834c599a999154ef63fe2e": {
      "model_module": "@jupyter-widgets/controls",
      "model_module_version": "1.5.0",
      "model_name": "DescriptionStyleModel",
      "state": {
       "_model_module": "@jupyter-widgets/controls",
       "_model_module_version": "1.5.0",
       "_model_name": "DescriptionStyleModel",
       "_view_count": null,
       "_view_module": "@jupyter-widgets/base",
       "_view_module_version": "1.2.0",
       "_view_name": "StyleView",
       "description_width": ""
      }
     },
     "94d24ba74ae04182b98b05e39a71d135": {
      "model_module": "@jupyter-widgets/controls",
      "model_module_version": "1.5.0",
      "model_name": "FloatProgressModel",
      "state": {
       "_dom_classes": [],
       "_model_module": "@jupyter-widgets/controls",
       "_model_module_version": "1.5.0",
       "_model_name": "FloatProgressModel",
       "_view_count": null,
       "_view_module": "@jupyter-widgets/controls",
       "_view_module_version": "1.5.0",
       "_view_name": "ProgressView",
       "bar_style": "success",
       "description": "",
       "description_tooltip": null,
       "layout": "IPY_MODEL_0ecf6a2597794c1bad79d7621bcf64b0",
       "max": 27,
       "min": 0,
       "orientation": "horizontal",
       "style": "IPY_MODEL_0937f7405be54088b4ea2eef21b4ddfb",
       "value": 27
      }
     },
     "98909c08472145739c5a06e9c2db97f8": {
      "model_module": "@jupyter-widgets/controls",
      "model_module_version": "1.5.0",
      "model_name": "DescriptionStyleModel",
      "state": {
       "_model_module": "@jupyter-widgets/controls",
       "_model_module_version": "1.5.0",
       "_model_name": "DescriptionStyleModel",
       "_view_count": null,
       "_view_module": "@jupyter-widgets/base",
       "_view_module_version": "1.2.0",
       "_view_name": "StyleView",
       "description_width": ""
      }
     },
     "9bfb7ee6a0ec442f964b4cc5fa0bd75f": {
      "model_module": "@jupyter-widgets/controls",
      "model_module_version": "1.5.0",
      "model_name": "FloatProgressModel",
      "state": {
       "_dom_classes": [],
       "_model_module": "@jupyter-widgets/controls",
       "_model_module_version": "1.5.0",
       "_model_name": "FloatProgressModel",
       "_view_count": null,
       "_view_module": "@jupyter-widgets/controls",
       "_view_module_version": "1.5.0",
       "_view_name": "ProgressView",
       "bar_style": "success",
       "description": "",
       "description_tooltip": null,
       "layout": "IPY_MODEL_0068ad1419d5430b9b63a7d49ae64469",
       "max": 27,
       "min": 0,
       "orientation": "horizontal",
       "style": "IPY_MODEL_3f9d8dc2a8664f2998c4826fdff28f4f",
       "value": 27
      }
     },
     "9d41771b94b34b7ea34618eb8a7de880": {
      "model_module": "@jupyter-widgets/base",
      "model_module_version": "1.2.0",
      "model_name": "LayoutModel",
      "state": {
       "_model_module": "@jupyter-widgets/base",
       "_model_module_version": "1.2.0",
       "_model_name": "LayoutModel",
       "_view_count": null,
       "_view_module": "@jupyter-widgets/base",
       "_view_module_version": "1.2.0",
       "_view_name": "LayoutView",
       "align_content": null,
       "align_items": null,
       "align_self": null,
       "border": null,
       "bottom": null,
       "display": null,
       "flex": null,
       "flex_flow": null,
       "grid_area": null,
       "grid_auto_columns": null,
       "grid_auto_flow": null,
       "grid_auto_rows": null,
       "grid_column": null,
       "grid_gap": null,
       "grid_row": null,
       "grid_template_areas": null,
       "grid_template_columns": null,
       "grid_template_rows": null,
       "height": null,
       "justify_content": null,
       "justify_items": null,
       "left": null,
       "margin": null,
       "max_height": null,
       "max_width": null,
       "min_height": null,
       "min_width": null,
       "object_fit": null,
       "object_position": null,
       "order": null,
       "overflow": null,
       "overflow_x": null,
       "overflow_y": null,
       "padding": null,
       "right": null,
       "top": null,
       "visibility": null,
       "width": null
      }
     },
     "9d7f9ebfcca040e3bb0ce3ed9271acbd": {
      "model_module": "@jupyter-widgets/base",
      "model_module_version": "1.2.0",
      "model_name": "LayoutModel",
      "state": {
       "_model_module": "@jupyter-widgets/base",
       "_model_module_version": "1.2.0",
       "_model_name": "LayoutModel",
       "_view_count": null,
       "_view_module": "@jupyter-widgets/base",
       "_view_module_version": "1.2.0",
       "_view_name": "LayoutView",
       "align_content": null,
       "align_items": null,
       "align_self": null,
       "border": null,
       "bottom": null,
       "display": null,
       "flex": null,
       "flex_flow": null,
       "grid_area": null,
       "grid_auto_columns": null,
       "grid_auto_flow": null,
       "grid_auto_rows": null,
       "grid_column": null,
       "grid_gap": null,
       "grid_row": null,
       "grid_template_areas": null,
       "grid_template_columns": null,
       "grid_template_rows": null,
       "height": null,
       "justify_content": null,
       "justify_items": null,
       "left": null,
       "margin": null,
       "max_height": null,
       "max_width": null,
       "min_height": null,
       "min_width": null,
       "object_fit": null,
       "object_position": null,
       "order": null,
       "overflow": null,
       "overflow_x": null,
       "overflow_y": null,
       "padding": null,
       "right": null,
       "top": null,
       "visibility": null,
       "width": null
      }
     },
     "9d9b1db954f94429a91a2badd3618ce0": {
      "model_module": "@jupyter-widgets/controls",
      "model_module_version": "1.5.0",
      "model_name": "FloatProgressModel",
      "state": {
       "_dom_classes": [],
       "_model_module": "@jupyter-widgets/controls",
       "_model_module_version": "1.5.0",
       "_model_name": "FloatProgressModel",
       "_view_count": null,
       "_view_module": "@jupyter-widgets/controls",
       "_view_module_version": "1.5.0",
       "_view_name": "ProgressView",
       "bar_style": "success",
       "description": "",
       "description_tooltip": null,
       "layout": "IPY_MODEL_67785116e788452287e3d7cefaa040a0",
       "max": 150,
       "min": 0,
       "orientation": "horizontal",
       "style": "IPY_MODEL_50b9b8f3388c4894a4db9c2b31f92b28",
       "value": 150
      }
     },
     "9e3d34b219604ea99fcd48710818390e": {
      "model_module": "@jupyter-widgets/base",
      "model_module_version": "1.2.0",
      "model_name": "LayoutModel",
      "state": {
       "_model_module": "@jupyter-widgets/base",
       "_model_module_version": "1.2.0",
       "_model_name": "LayoutModel",
       "_view_count": null,
       "_view_module": "@jupyter-widgets/base",
       "_view_module_version": "1.2.0",
       "_view_name": "LayoutView",
       "align_content": null,
       "align_items": null,
       "align_self": null,
       "border": null,
       "bottom": null,
       "display": null,
       "flex": null,
       "flex_flow": null,
       "grid_area": null,
       "grid_auto_columns": null,
       "grid_auto_flow": null,
       "grid_auto_rows": null,
       "grid_column": null,
       "grid_gap": null,
       "grid_row": null,
       "grid_template_areas": null,
       "grid_template_columns": null,
       "grid_template_rows": null,
       "height": null,
       "justify_content": null,
       "justify_items": null,
       "left": null,
       "margin": null,
       "max_height": null,
       "max_width": null,
       "min_height": null,
       "min_width": null,
       "object_fit": null,
       "object_position": null,
       "order": null,
       "overflow": null,
       "overflow_x": null,
       "overflow_y": null,
       "padding": null,
       "right": null,
       "top": null,
       "visibility": null,
       "width": null
      }
     },
     "9e95f55d2a8946f3ab4ffbebb17ffef5": {
      "model_module": "@jupyter-widgets/controls",
      "model_module_version": "1.5.0",
      "model_name": "HTMLModel",
      "state": {
       "_dom_classes": [],
       "_model_module": "@jupyter-widgets/controls",
       "_model_module_version": "1.5.0",
       "_model_name": "HTMLModel",
       "_view_count": null,
       "_view_module": "@jupyter-widgets/controls",
       "_view_module_version": "1.5.0",
       "_view_name": "HTMLView",
       "description": "",
       "description_tooltip": null,
       "layout": "IPY_MODEL_efad0241394e4625a53305d960d0364b",
       "placeholder": "​",
       "style": "IPY_MODEL_8b92c355bf9c4e9c8bdd7bf6bd6f87a8",
       "value": " 105/105 [01:00&lt;00:00,  1.76it/s, Loss=1.5]"
      }
     },
     "9f5a28f822834c8e8e596c61e631a05c": {
      "model_module": "@jupyter-widgets/controls",
      "model_module_version": "1.5.0",
      "model_name": "DescriptionStyleModel",
      "state": {
       "_model_module": "@jupyter-widgets/controls",
       "_model_module_version": "1.5.0",
       "_model_name": "DescriptionStyleModel",
       "_view_count": null,
       "_view_module": "@jupyter-widgets/base",
       "_view_module_version": "1.2.0",
       "_view_name": "StyleView",
       "description_width": ""
      }
     },
     "a0285b399c32438bad84bb4133a1ebe8": {
      "model_module": "@jupyter-widgets/controls",
      "model_module_version": "1.5.0",
      "model_name": "HTMLModel",
      "state": {
       "_dom_classes": [],
       "_model_module": "@jupyter-widgets/controls",
       "_model_module_version": "1.5.0",
       "_model_name": "HTMLModel",
       "_view_count": null,
       "_view_module": "@jupyter-widgets/controls",
       "_view_module_version": "1.5.0",
       "_view_name": "HTMLView",
       "description": "",
       "description_tooltip": null,
       "layout": "IPY_MODEL_340c382a2e1947cd9ff36b95a7c312ec",
       "placeholder": "​",
       "style": "IPY_MODEL_c2b2f6b1974842318ed46e3e30f73bce",
       "value": " 105/105 [01:00&lt;00:00,  1.75it/s, Loss=1.17]"
      }
     },
     "a059ccbc189e442bb328eb56a868224b": {
      "model_module": "@jupyter-widgets/base",
      "model_module_version": "1.2.0",
      "model_name": "LayoutModel",
      "state": {
       "_model_module": "@jupyter-widgets/base",
       "_model_module_version": "1.2.0",
       "_model_name": "LayoutModel",
       "_view_count": null,
       "_view_module": "@jupyter-widgets/base",
       "_view_module_version": "1.2.0",
       "_view_name": "LayoutView",
       "align_content": null,
       "align_items": null,
       "align_self": null,
       "border": null,
       "bottom": null,
       "display": null,
       "flex": null,
       "flex_flow": null,
       "grid_area": null,
       "grid_auto_columns": null,
       "grid_auto_flow": null,
       "grid_auto_rows": null,
       "grid_column": null,
       "grid_gap": null,
       "grid_row": null,
       "grid_template_areas": null,
       "grid_template_columns": null,
       "grid_template_rows": null,
       "height": null,
       "justify_content": null,
       "justify_items": null,
       "left": null,
       "margin": null,
       "max_height": null,
       "max_width": null,
       "min_height": null,
       "min_width": null,
       "object_fit": null,
       "object_position": null,
       "order": null,
       "overflow": null,
       "overflow_x": null,
       "overflow_y": null,
       "padding": null,
       "right": null,
       "top": null,
       "visibility": null,
       "width": null
      }
     },
     "a1488949774647fbacf59137b368824c": {
      "model_module": "@jupyter-widgets/controls",
      "model_module_version": "1.5.0",
      "model_name": "DescriptionStyleModel",
      "state": {
       "_model_module": "@jupyter-widgets/controls",
       "_model_module_version": "1.5.0",
       "_model_name": "DescriptionStyleModel",
       "_view_count": null,
       "_view_module": "@jupyter-widgets/base",
       "_view_module_version": "1.2.0",
       "_view_name": "StyleView",
       "description_width": ""
      }
     },
     "a1fc3ceffd9a400c860ac1bf40505665": {
      "model_module": "@jupyter-widgets/controls",
      "model_module_version": "1.5.0",
      "model_name": "HTMLModel",
      "state": {
       "_dom_classes": [],
       "_model_module": "@jupyter-widgets/controls",
       "_model_module_version": "1.5.0",
       "_model_name": "HTMLModel",
       "_view_count": null,
       "_view_module": "@jupyter-widgets/controls",
       "_view_module_version": "1.5.0",
       "_view_name": "HTMLView",
       "description": "",
       "description_tooltip": null,
       "layout": "IPY_MODEL_46ddadf20b6747fab56fe00b611d4d56",
       "placeholder": "​",
       "style": "IPY_MODEL_a8d9e8ebab144fa6bd8b2c17937eb484",
       "value": "Epoch 8: 100%"
      }
     },
     "a2b0191252e24f89a872d9db45183f8c": {
      "model_module": "@jupyter-widgets/controls",
      "model_module_version": "1.5.0",
      "model_name": "HBoxModel",
      "state": {
       "_dom_classes": [],
       "_model_module": "@jupyter-widgets/controls",
       "_model_module_version": "1.5.0",
       "_model_name": "HBoxModel",
       "_view_count": null,
       "_view_module": "@jupyter-widgets/controls",
       "_view_module_version": "1.5.0",
       "_view_name": "HBoxView",
       "box_style": "",
       "children": [
        "IPY_MODEL_7a2b7695b917433bbdad5c811ce0eaa4",
        "IPY_MODEL_9d9b1db954f94429a91a2badd3618ce0",
        "IPY_MODEL_36a92c1f54c04ce789b4b40f815dc719"
       ],
       "layout": "IPY_MODEL_a72576948fee4762b6c53bd2141dabdf"
      }
     },
     "a5306e5666924d7da28a5e5f192948ef": {
      "model_module": "@jupyter-widgets/controls",
      "model_module_version": "1.5.0",
      "model_name": "ProgressStyleModel",
      "state": {
       "_model_module": "@jupyter-widgets/controls",
       "_model_module_version": "1.5.0",
       "_model_name": "ProgressStyleModel",
       "_view_count": null,
       "_view_module": "@jupyter-widgets/base",
       "_view_module_version": "1.2.0",
       "_view_name": "StyleView",
       "bar_color": null,
       "description_width": ""
      }
     },
     "a72576948fee4762b6c53bd2141dabdf": {
      "model_module": "@jupyter-widgets/base",
      "model_module_version": "1.2.0",
      "model_name": "LayoutModel",
      "state": {
       "_model_module": "@jupyter-widgets/base",
       "_model_module_version": "1.2.0",
       "_model_name": "LayoutModel",
       "_view_count": null,
       "_view_module": "@jupyter-widgets/base",
       "_view_module_version": "1.2.0",
       "_view_name": "LayoutView",
       "align_content": null,
       "align_items": null,
       "align_self": null,
       "border": null,
       "bottom": null,
       "display": null,
       "flex": null,
       "flex_flow": null,
       "grid_area": null,
       "grid_auto_columns": null,
       "grid_auto_flow": null,
       "grid_auto_rows": null,
       "grid_column": null,
       "grid_gap": null,
       "grid_row": null,
       "grid_template_areas": null,
       "grid_template_columns": null,
       "grid_template_rows": null,
       "height": null,
       "justify_content": null,
       "justify_items": null,
       "left": null,
       "margin": null,
       "max_height": null,
       "max_width": null,
       "min_height": null,
       "min_width": null,
       "object_fit": null,
       "object_position": null,
       "order": null,
       "overflow": null,
       "overflow_x": null,
       "overflow_y": null,
       "padding": null,
       "right": null,
       "top": null,
       "visibility": null,
       "width": null
      }
     },
     "a8d9e8ebab144fa6bd8b2c17937eb484": {
      "model_module": "@jupyter-widgets/controls",
      "model_module_version": "1.5.0",
      "model_name": "DescriptionStyleModel",
      "state": {
       "_model_module": "@jupyter-widgets/controls",
       "_model_module_version": "1.5.0",
       "_model_name": "DescriptionStyleModel",
       "_view_count": null,
       "_view_module": "@jupyter-widgets/base",
       "_view_module_version": "1.2.0",
       "_view_name": "StyleView",
       "description_width": ""
      }
     },
     "aa1dde7b468040d9a64ada64747bd751": {
      "model_module": "@jupyter-widgets/base",
      "model_module_version": "1.2.0",
      "model_name": "LayoutModel",
      "state": {
       "_model_module": "@jupyter-widgets/base",
       "_model_module_version": "1.2.0",
       "_model_name": "LayoutModel",
       "_view_count": null,
       "_view_module": "@jupyter-widgets/base",
       "_view_module_version": "1.2.0",
       "_view_name": "LayoutView",
       "align_content": null,
       "align_items": null,
       "align_self": null,
       "border": null,
       "bottom": null,
       "display": null,
       "flex": null,
       "flex_flow": null,
       "grid_area": null,
       "grid_auto_columns": null,
       "grid_auto_flow": null,
       "grid_auto_rows": null,
       "grid_column": null,
       "grid_gap": null,
       "grid_row": null,
       "grid_template_areas": null,
       "grid_template_columns": null,
       "grid_template_rows": null,
       "height": null,
       "justify_content": null,
       "justify_items": null,
       "left": null,
       "margin": null,
       "max_height": null,
       "max_width": null,
       "min_height": null,
       "min_width": null,
       "object_fit": null,
       "object_position": null,
       "order": null,
       "overflow": null,
       "overflow_x": null,
       "overflow_y": null,
       "padding": null,
       "right": null,
       "top": null,
       "visibility": null,
       "width": null
      }
     },
     "ab0e9b41e6c343b8bd9df52574b87e04": {
      "model_module": "@jupyter-widgets/controls",
      "model_module_version": "1.5.0",
      "model_name": "HTMLModel",
      "state": {
       "_dom_classes": [],
       "_model_module": "@jupyter-widgets/controls",
       "_model_module_version": "1.5.0",
       "_model_name": "HTMLModel",
       "_view_count": null,
       "_view_module": "@jupyter-widgets/controls",
       "_view_module_version": "1.5.0",
       "_view_name": "HTMLView",
       "description": "",
       "description_tooltip": null,
       "layout": "IPY_MODEL_f6443832ef43482385c5b5e1ba12ff02",
       "placeholder": "​",
       "style": "IPY_MODEL_61be927ba1d140479a9c7b8e88ddf161",
       "value": " 105/105 [01:00&lt;00:00,  1.76it/s, Loss=0.967]"
      }
     },
     "ab69d4134e274829bc1431d86c96ee5a": {
      "model_module": "@jupyter-widgets/base",
      "model_module_version": "1.2.0",
      "model_name": "LayoutModel",
      "state": {
       "_model_module": "@jupyter-widgets/base",
       "_model_module_version": "1.2.0",
       "_model_name": "LayoutModel",
       "_view_count": null,
       "_view_module": "@jupyter-widgets/base",
       "_view_module_version": "1.2.0",
       "_view_name": "LayoutView",
       "align_content": null,
       "align_items": null,
       "align_self": null,
       "border": null,
       "bottom": null,
       "display": null,
       "flex": null,
       "flex_flow": null,
       "grid_area": null,
       "grid_auto_columns": null,
       "grid_auto_flow": null,
       "grid_auto_rows": null,
       "grid_column": null,
       "grid_gap": null,
       "grid_row": null,
       "grid_template_areas": null,
       "grid_template_columns": null,
       "grid_template_rows": null,
       "height": null,
       "justify_content": null,
       "justify_items": null,
       "left": null,
       "margin": null,
       "max_height": null,
       "max_width": null,
       "min_height": null,
       "min_width": null,
       "object_fit": null,
       "object_position": null,
       "order": null,
       "overflow": null,
       "overflow_x": null,
       "overflow_y": null,
       "padding": null,
       "right": null,
       "top": null,
       "visibility": null,
       "width": null
      }
     },
     "ab9348f0bcd14b219723b6c3233b96bb": {
      "model_module": "@jupyter-widgets/controls",
      "model_module_version": "1.5.0",
      "model_name": "HTMLModel",
      "state": {
       "_dom_classes": [],
       "_model_module": "@jupyter-widgets/controls",
       "_model_module_version": "1.5.0",
       "_model_name": "HTMLModel",
       "_view_count": null,
       "_view_module": "@jupyter-widgets/controls",
       "_view_module_version": "1.5.0",
       "_view_name": "HTMLView",
       "description": "",
       "description_tooltip": null,
       "layout": "IPY_MODEL_e8ba20a1a13147a88288fef3103dc3d6",
       "placeholder": "​",
       "style": "IPY_MODEL_3a7725dec0194191bcbab85ab80483a8",
       "value": "Epoch 7: 100%"
      }
     },
     "ad8daaf73d0f4b76bf735c77594e36ac": {
      "model_module": "@jupyter-widgets/base",
      "model_module_version": "1.2.0",
      "model_name": "LayoutModel",
      "state": {
       "_model_module": "@jupyter-widgets/base",
       "_model_module_version": "1.2.0",
       "_model_name": "LayoutModel",
       "_view_count": null,
       "_view_module": "@jupyter-widgets/base",
       "_view_module_version": "1.2.0",
       "_view_name": "LayoutView",
       "align_content": null,
       "align_items": null,
       "align_self": null,
       "border": null,
       "bottom": null,
       "display": null,
       "flex": null,
       "flex_flow": null,
       "grid_area": null,
       "grid_auto_columns": null,
       "grid_auto_flow": null,
       "grid_auto_rows": null,
       "grid_column": null,
       "grid_gap": null,
       "grid_row": null,
       "grid_template_areas": null,
       "grid_template_columns": null,
       "grid_template_rows": null,
       "height": null,
       "justify_content": null,
       "justify_items": null,
       "left": null,
       "margin": null,
       "max_height": null,
       "max_width": null,
       "min_height": null,
       "min_width": null,
       "object_fit": null,
       "object_position": null,
       "order": null,
       "overflow": null,
       "overflow_x": null,
       "overflow_y": null,
       "padding": null,
       "right": null,
       "top": null,
       "visibility": null,
       "width": null
      }
     },
     "b056fc4227854160a95eef7ea4f51bb7": {
      "model_module": "@jupyter-widgets/controls",
      "model_module_version": "1.5.0",
      "model_name": "HTMLModel",
      "state": {
       "_dom_classes": [],
       "_model_module": "@jupyter-widgets/controls",
       "_model_module_version": "1.5.0",
       "_model_name": "HTMLModel",
       "_view_count": null,
       "_view_module": "@jupyter-widgets/controls",
       "_view_module_version": "1.5.0",
       "_view_name": "HTMLView",
       "description": "",
       "description_tooltip": null,
       "layout": "IPY_MODEL_3f6627be017d4162b7d0afacadcffbe0",
       "placeholder": "​",
       "style": "IPY_MODEL_ca3f2f2e247e40b893a695d82e73add7",
       "value": "Epoch 9: 100%"
      }
     },
     "b0e2ad64162748e09c7722271b259e8d": {
      "model_module": "@jupyter-widgets/controls",
      "model_module_version": "1.5.0",
      "model_name": "DescriptionStyleModel",
      "state": {
       "_model_module": "@jupyter-widgets/controls",
       "_model_module_version": "1.5.0",
       "_model_name": "DescriptionStyleModel",
       "_view_count": null,
       "_view_module": "@jupyter-widgets/base",
       "_view_module_version": "1.2.0",
       "_view_name": "StyleView",
       "description_width": ""
      }
     },
     "b2895c19c58441a79ecba8536b39944d": {
      "model_module": "@jupyter-widgets/base",
      "model_module_version": "1.2.0",
      "model_name": "LayoutModel",
      "state": {
       "_model_module": "@jupyter-widgets/base",
       "_model_module_version": "1.2.0",
       "_model_name": "LayoutModel",
       "_view_count": null,
       "_view_module": "@jupyter-widgets/base",
       "_view_module_version": "1.2.0",
       "_view_name": "LayoutView",
       "align_content": null,
       "align_items": null,
       "align_self": null,
       "border": null,
       "bottom": null,
       "display": null,
       "flex": null,
       "flex_flow": null,
       "grid_area": null,
       "grid_auto_columns": null,
       "grid_auto_flow": null,
       "grid_auto_rows": null,
       "grid_column": null,
       "grid_gap": null,
       "grid_row": null,
       "grid_template_areas": null,
       "grid_template_columns": null,
       "grid_template_rows": null,
       "height": null,
       "justify_content": null,
       "justify_items": null,
       "left": null,
       "margin": null,
       "max_height": null,
       "max_width": null,
       "min_height": null,
       "min_width": null,
       "object_fit": null,
       "object_position": null,
       "order": null,
       "overflow": null,
       "overflow_x": null,
       "overflow_y": null,
       "padding": null,
       "right": null,
       "top": null,
       "visibility": null,
       "width": null
      }
     },
     "b3d9589127924de78c17bc4371ff6bb9": {
      "model_module": "@jupyter-widgets/controls",
      "model_module_version": "1.5.0",
      "model_name": "ProgressStyleModel",
      "state": {
       "_model_module": "@jupyter-widgets/controls",
       "_model_module_version": "1.5.0",
       "_model_name": "ProgressStyleModel",
       "_view_count": null,
       "_view_module": "@jupyter-widgets/base",
       "_view_module_version": "1.2.0",
       "_view_name": "StyleView",
       "bar_color": null,
       "description_width": ""
      }
     },
     "b58bd8dd8b4441adb8fb6a3088eb1a0f": {
      "model_module": "@jupyter-widgets/base",
      "model_module_version": "1.2.0",
      "model_name": "LayoutModel",
      "state": {
       "_model_module": "@jupyter-widgets/base",
       "_model_module_version": "1.2.0",
       "_model_name": "LayoutModel",
       "_view_count": null,
       "_view_module": "@jupyter-widgets/base",
       "_view_module_version": "1.2.0",
       "_view_name": "LayoutView",
       "align_content": null,
       "align_items": null,
       "align_self": null,
       "border": null,
       "bottom": null,
       "display": null,
       "flex": null,
       "flex_flow": null,
       "grid_area": null,
       "grid_auto_columns": null,
       "grid_auto_flow": null,
       "grid_auto_rows": null,
       "grid_column": null,
       "grid_gap": null,
       "grid_row": null,
       "grid_template_areas": null,
       "grid_template_columns": null,
       "grid_template_rows": null,
       "height": null,
       "justify_content": null,
       "justify_items": null,
       "left": null,
       "margin": null,
       "max_height": null,
       "max_width": null,
       "min_height": null,
       "min_width": null,
       "object_fit": null,
       "object_position": null,
       "order": null,
       "overflow": null,
       "overflow_x": null,
       "overflow_y": null,
       "padding": null,
       "right": null,
       "top": null,
       "visibility": null,
       "width": null
      }
     },
     "b60d6b670e8c4b95bb48042e87706672": {
      "model_module": "@jupyter-widgets/controls",
      "model_module_version": "1.5.0",
      "model_name": "ProgressStyleModel",
      "state": {
       "_model_module": "@jupyter-widgets/controls",
       "_model_module_version": "1.5.0",
       "_model_name": "ProgressStyleModel",
       "_view_count": null,
       "_view_module": "@jupyter-widgets/base",
       "_view_module_version": "1.2.0",
       "_view_name": "StyleView",
       "bar_color": null,
       "description_width": ""
      }
     },
     "b70ad428ec26490ab3297c6de227d56f": {
      "model_module": "@jupyter-widgets/controls",
      "model_module_version": "1.5.0",
      "model_name": "DescriptionStyleModel",
      "state": {
       "_model_module": "@jupyter-widgets/controls",
       "_model_module_version": "1.5.0",
       "_model_name": "DescriptionStyleModel",
       "_view_count": null,
       "_view_module": "@jupyter-widgets/base",
       "_view_module_version": "1.2.0",
       "_view_name": "StyleView",
       "description_width": ""
      }
     },
     "b7467fe1c5f64bcbab6984c1b42c3f1c": {
      "model_module": "@jupyter-widgets/controls",
      "model_module_version": "1.5.0",
      "model_name": "HTMLModel",
      "state": {
       "_dom_classes": [],
       "_model_module": "@jupyter-widgets/controls",
       "_model_module_version": "1.5.0",
       "_model_name": "HTMLModel",
       "_view_count": null,
       "_view_module": "@jupyter-widgets/controls",
       "_view_module_version": "1.5.0",
       "_view_name": "HTMLView",
       "description": "",
       "description_tooltip": null,
       "layout": "IPY_MODEL_423fb7d0ddad41aeb95650ab7c6fd77f",
       "placeholder": "​",
       "style": "IPY_MODEL_6b4c0d30e09f46ef94a97534b0951875",
       "value": " 27/27 [00:05&lt;00:00,  5.68it/s, Loss=1.36]"
      }
     },
     "b87bd96fbee343a88d285d37dca4f623": {
      "model_module": "@jupyter-widgets/controls",
      "model_module_version": "1.5.0",
      "model_name": "HTMLModel",
      "state": {
       "_dom_classes": [],
       "_model_module": "@jupyter-widgets/controls",
       "_model_module_version": "1.5.0",
       "_model_name": "HTMLModel",
       "_view_count": null,
       "_view_module": "@jupyter-widgets/controls",
       "_view_module_version": "1.5.0",
       "_view_name": "HTMLView",
       "description": "",
       "description_tooltip": null,
       "layout": "IPY_MODEL_ab69d4134e274829bc1431d86c96ee5a",
       "placeholder": "​",
       "style": "IPY_MODEL_a1488949774647fbacf59137b368824c",
       "value": " 105/105 [01:00&lt;00:00,  1.76it/s, Loss=1.36]"
      }
     },
     "b8c434ae06cf4280a7de9b20dd92c037": {
      "model_module": "@jupyter-widgets/controls",
      "model_module_version": "1.5.0",
      "model_name": "FloatProgressModel",
      "state": {
       "_dom_classes": [],
       "_model_module": "@jupyter-widgets/controls",
       "_model_module_version": "1.5.0",
       "_model_name": "FloatProgressModel",
       "_view_count": null,
       "_view_module": "@jupyter-widgets/controls",
       "_view_module_version": "1.5.0",
       "_view_name": "ProgressView",
       "bar_style": "success",
       "description": "",
       "description_tooltip": null,
       "layout": "IPY_MODEL_bc77d1094a064b16a894c9fde97b4a3b",
       "max": 105,
       "min": 0,
       "orientation": "horizontal",
       "style": "IPY_MODEL_3aea56e9a7fa458882d46f5314eb2885",
       "value": 105
      }
     },
     "bc77d1094a064b16a894c9fde97b4a3b": {
      "model_module": "@jupyter-widgets/base",
      "model_module_version": "1.2.0",
      "model_name": "LayoutModel",
      "state": {
       "_model_module": "@jupyter-widgets/base",
       "_model_module_version": "1.2.0",
       "_model_name": "LayoutModel",
       "_view_count": null,
       "_view_module": "@jupyter-widgets/base",
       "_view_module_version": "1.2.0",
       "_view_name": "LayoutView",
       "align_content": null,
       "align_items": null,
       "align_self": null,
       "border": null,
       "bottom": null,
       "display": null,
       "flex": null,
       "flex_flow": null,
       "grid_area": null,
       "grid_auto_columns": null,
       "grid_auto_flow": null,
       "grid_auto_rows": null,
       "grid_column": null,
       "grid_gap": null,
       "grid_row": null,
       "grid_template_areas": null,
       "grid_template_columns": null,
       "grid_template_rows": null,
       "height": null,
       "justify_content": null,
       "justify_items": null,
       "left": null,
       "margin": null,
       "max_height": null,
       "max_width": null,
       "min_height": null,
       "min_width": null,
       "object_fit": null,
       "object_position": null,
       "order": null,
       "overflow": null,
       "overflow_x": null,
       "overflow_y": null,
       "padding": null,
       "right": null,
       "top": null,
       "visibility": null,
       "width": null
      }
     },
     "bf32d5f34d94444f80fcd43d986a7985": {
      "model_module": "@jupyter-widgets/controls",
      "model_module_version": "1.5.0",
      "model_name": "DescriptionStyleModel",
      "state": {
       "_model_module": "@jupyter-widgets/controls",
       "_model_module_version": "1.5.0",
       "_model_name": "DescriptionStyleModel",
       "_view_count": null,
       "_view_module": "@jupyter-widgets/base",
       "_view_module_version": "1.2.0",
       "_view_name": "StyleView",
       "description_width": ""
      }
     },
     "c1292d2a95194a7a8858987f8b40d19e": {
      "model_module": "@jupyter-widgets/controls",
      "model_module_version": "1.5.0",
      "model_name": "HBoxModel",
      "state": {
       "_dom_classes": [],
       "_model_module": "@jupyter-widgets/controls",
       "_model_module_version": "1.5.0",
       "_model_name": "HBoxModel",
       "_view_count": null,
       "_view_module": "@jupyter-widgets/controls",
       "_view_module_version": "1.5.0",
       "_view_name": "HBoxView",
       "box_style": "",
       "children": [
        "IPY_MODEL_ab9348f0bcd14b219723b6c3233b96bb",
        "IPY_MODEL_e336c52b145949b39e22a43788f85c1e",
        "IPY_MODEL_eafc128198c049ad9cc4596baf9aa15a"
       ],
       "layout": "IPY_MODEL_5f6ba9fed3cb4f8f9ab9932f5357dc3c"
      }
     },
     "c14fc98109f24d9c83caaf3718b47ad9": {
      "model_module": "@jupyter-widgets/base",
      "model_module_version": "1.2.0",
      "model_name": "LayoutModel",
      "state": {
       "_model_module": "@jupyter-widgets/base",
       "_model_module_version": "1.2.0",
       "_model_name": "LayoutModel",
       "_view_count": null,
       "_view_module": "@jupyter-widgets/base",
       "_view_module_version": "1.2.0",
       "_view_name": "LayoutView",
       "align_content": null,
       "align_items": null,
       "align_self": null,
       "border": null,
       "bottom": null,
       "display": null,
       "flex": null,
       "flex_flow": null,
       "grid_area": null,
       "grid_auto_columns": null,
       "grid_auto_flow": null,
       "grid_auto_rows": null,
       "grid_column": null,
       "grid_gap": null,
       "grid_row": null,
       "grid_template_areas": null,
       "grid_template_columns": null,
       "grid_template_rows": null,
       "height": null,
       "justify_content": null,
       "justify_items": null,
       "left": null,
       "margin": null,
       "max_height": null,
       "max_width": null,
       "min_height": null,
       "min_width": null,
       "object_fit": null,
       "object_position": null,
       "order": null,
       "overflow": null,
       "overflow_x": null,
       "overflow_y": null,
       "padding": null,
       "right": null,
       "top": null,
       "visibility": null,
       "width": null
      }
     },
     "c2b2f6b1974842318ed46e3e30f73bce": {
      "model_module": "@jupyter-widgets/controls",
      "model_module_version": "1.5.0",
      "model_name": "DescriptionStyleModel",
      "state": {
       "_model_module": "@jupyter-widgets/controls",
       "_model_module_version": "1.5.0",
       "_model_name": "DescriptionStyleModel",
       "_view_count": null,
       "_view_module": "@jupyter-widgets/base",
       "_view_module_version": "1.2.0",
       "_view_name": "StyleView",
       "description_width": ""
      }
     },
     "c54f9f0eb28144b59190c91c695ac3ba": {
      "model_module": "@jupyter-widgets/base",
      "model_module_version": "1.2.0",
      "model_name": "LayoutModel",
      "state": {
       "_model_module": "@jupyter-widgets/base",
       "_model_module_version": "1.2.0",
       "_model_name": "LayoutModel",
       "_view_count": null,
       "_view_module": "@jupyter-widgets/base",
       "_view_module_version": "1.2.0",
       "_view_name": "LayoutView",
       "align_content": null,
       "align_items": null,
       "align_self": null,
       "border": null,
       "bottom": null,
       "display": null,
       "flex": null,
       "flex_flow": null,
       "grid_area": null,
       "grid_auto_columns": null,
       "grid_auto_flow": null,
       "grid_auto_rows": null,
       "grid_column": null,
       "grid_gap": null,
       "grid_row": null,
       "grid_template_areas": null,
       "grid_template_columns": null,
       "grid_template_rows": null,
       "height": null,
       "justify_content": null,
       "justify_items": null,
       "left": null,
       "margin": null,
       "max_height": null,
       "max_width": null,
       "min_height": null,
       "min_width": null,
       "object_fit": null,
       "object_position": null,
       "order": null,
       "overflow": null,
       "overflow_x": null,
       "overflow_y": null,
       "padding": null,
       "right": null,
       "top": null,
       "visibility": null,
       "width": null
      }
     },
     "c5679567949648d8a9e30b274cbf1d27": {
      "model_module": "@jupyter-widgets/controls",
      "model_module_version": "1.5.0",
      "model_name": "DescriptionStyleModel",
      "state": {
       "_model_module": "@jupyter-widgets/controls",
       "_model_module_version": "1.5.0",
       "_model_name": "DescriptionStyleModel",
       "_view_count": null,
       "_view_module": "@jupyter-widgets/base",
       "_view_module_version": "1.2.0",
       "_view_name": "StyleView",
       "description_width": ""
      }
     },
     "c62921a6ed7e4ea5ac72b7f3efe5844a": {
      "model_module": "@jupyter-widgets/base",
      "model_module_version": "1.2.0",
      "model_name": "LayoutModel",
      "state": {
       "_model_module": "@jupyter-widgets/base",
       "_model_module_version": "1.2.0",
       "_model_name": "LayoutModel",
       "_view_count": null,
       "_view_module": "@jupyter-widgets/base",
       "_view_module_version": "1.2.0",
       "_view_name": "LayoutView",
       "align_content": null,
       "align_items": null,
       "align_self": null,
       "border": null,
       "bottom": null,
       "display": null,
       "flex": null,
       "flex_flow": null,
       "grid_area": null,
       "grid_auto_columns": null,
       "grid_auto_flow": null,
       "grid_auto_rows": null,
       "grid_column": null,
       "grid_gap": null,
       "grid_row": null,
       "grid_template_areas": null,
       "grid_template_columns": null,
       "grid_template_rows": null,
       "height": null,
       "justify_content": null,
       "justify_items": null,
       "left": null,
       "margin": null,
       "max_height": null,
       "max_width": null,
       "min_height": null,
       "min_width": null,
       "object_fit": null,
       "object_position": null,
       "order": null,
       "overflow": null,
       "overflow_x": null,
       "overflow_y": null,
       "padding": null,
       "right": null,
       "top": null,
       "visibility": null,
       "width": null
      }
     },
     "c78ee7c08650489dbefaada42acb0c34": {
      "model_module": "@jupyter-widgets/controls",
      "model_module_version": "1.5.0",
      "model_name": "DescriptionStyleModel",
      "state": {
       "_model_module": "@jupyter-widgets/controls",
       "_model_module_version": "1.5.0",
       "_model_name": "DescriptionStyleModel",
       "_view_count": null,
       "_view_module": "@jupyter-widgets/base",
       "_view_module_version": "1.2.0",
       "_view_name": "StyleView",
       "description_width": ""
      }
     },
     "c95e72751e5342c3b9cbe8695f92edc8": {
      "model_module": "@jupyter-widgets/base",
      "model_module_version": "1.2.0",
      "model_name": "LayoutModel",
      "state": {
       "_model_module": "@jupyter-widgets/base",
       "_model_module_version": "1.2.0",
       "_model_name": "LayoutModel",
       "_view_count": null,
       "_view_module": "@jupyter-widgets/base",
       "_view_module_version": "1.2.0",
       "_view_name": "LayoutView",
       "align_content": null,
       "align_items": null,
       "align_self": null,
       "border": null,
       "bottom": null,
       "display": null,
       "flex": null,
       "flex_flow": null,
       "grid_area": null,
       "grid_auto_columns": null,
       "grid_auto_flow": null,
       "grid_auto_rows": null,
       "grid_column": null,
       "grid_gap": null,
       "grid_row": null,
       "grid_template_areas": null,
       "grid_template_columns": null,
       "grid_template_rows": null,
       "height": null,
       "justify_content": null,
       "justify_items": null,
       "left": null,
       "margin": null,
       "max_height": null,
       "max_width": null,
       "min_height": null,
       "min_width": null,
       "object_fit": null,
       "object_position": null,
       "order": null,
       "overflow": null,
       "overflow_x": null,
       "overflow_y": null,
       "padding": null,
       "right": null,
       "top": null,
       "visibility": null,
       "width": null
      }
     },
     "ca216f942d734b1784ecb8dbd61b6fd1": {
      "model_module": "@jupyter-widgets/controls",
      "model_module_version": "1.5.0",
      "model_name": "HBoxModel",
      "state": {
       "_dom_classes": [],
       "_model_module": "@jupyter-widgets/controls",
       "_model_module_version": "1.5.0",
       "_model_name": "HBoxModel",
       "_view_count": null,
       "_view_module": "@jupyter-widgets/controls",
       "_view_module_version": "1.5.0",
       "_view_name": "HBoxView",
       "box_style": "",
       "children": [
        "IPY_MODEL_34e1edff066f4ef0b2399c21cd1bed84",
        "IPY_MODEL_2ffd39b5e4774339bdbf4d1308476ff7",
        "IPY_MODEL_4660fbe9f00145919a776b7bd3833893"
       ],
       "layout": "IPY_MODEL_cd51985f5b5942f1a811f4e35f908bfd"
      }
     },
     "ca3f2f2e247e40b893a695d82e73add7": {
      "model_module": "@jupyter-widgets/controls",
      "model_module_version": "1.5.0",
      "model_name": "DescriptionStyleModel",
      "state": {
       "_model_module": "@jupyter-widgets/controls",
       "_model_module_version": "1.5.0",
       "_model_name": "DescriptionStyleModel",
       "_view_count": null,
       "_view_module": "@jupyter-widgets/base",
       "_view_module_version": "1.2.0",
       "_view_name": "StyleView",
       "description_width": ""
      }
     },
     "cb3646be7f83403099d0fac15eb645e1": {
      "model_module": "@jupyter-widgets/controls",
      "model_module_version": "1.5.0",
      "model_name": "HTMLModel",
      "state": {
       "_dom_classes": [],
       "_model_module": "@jupyter-widgets/controls",
       "_model_module_version": "1.5.0",
       "_model_name": "HTMLModel",
       "_view_count": null,
       "_view_module": "@jupyter-widgets/controls",
       "_view_module_version": "1.5.0",
       "_view_name": "HTMLView",
       "description": "",
       "description_tooltip": null,
       "layout": "IPY_MODEL_c62921a6ed7e4ea5ac72b7f3efe5844a",
       "placeholder": "​",
       "style": "IPY_MODEL_6d8cbed376034d998eb92505014d7cb4",
       "value": " 27/27 [00:04&lt;00:00,  6.00it/s, Loss=1.08]"
      }
     },
     "cd51985f5b5942f1a811f4e35f908bfd": {
      "model_module": "@jupyter-widgets/base",
      "model_module_version": "1.2.0",
      "model_name": "LayoutModel",
      "state": {
       "_model_module": "@jupyter-widgets/base",
       "_model_module_version": "1.2.0",
       "_model_name": "LayoutModel",
       "_view_count": null,
       "_view_module": "@jupyter-widgets/base",
       "_view_module_version": "1.2.0",
       "_view_name": "LayoutView",
       "align_content": null,
       "align_items": null,
       "align_self": null,
       "border": null,
       "bottom": null,
       "display": null,
       "flex": null,
       "flex_flow": null,
       "grid_area": null,
       "grid_auto_columns": null,
       "grid_auto_flow": null,
       "grid_auto_rows": null,
       "grid_column": null,
       "grid_gap": null,
       "grid_row": null,
       "grid_template_areas": null,
       "grid_template_columns": null,
       "grid_template_rows": null,
       "height": null,
       "justify_content": null,
       "justify_items": null,
       "left": null,
       "margin": null,
       "max_height": null,
       "max_width": null,
       "min_height": null,
       "min_width": null,
       "object_fit": null,
       "object_position": null,
       "order": null,
       "overflow": null,
       "overflow_x": null,
       "overflow_y": null,
       "padding": null,
       "right": null,
       "top": null,
       "visibility": null,
       "width": null
      }
     },
     "cdb0b494270f452db6a5af094909842f": {
      "model_module": "@jupyter-widgets/controls",
      "model_module_version": "1.5.0",
      "model_name": "DescriptionStyleModel",
      "state": {
       "_model_module": "@jupyter-widgets/controls",
       "_model_module_version": "1.5.0",
       "_model_name": "DescriptionStyleModel",
       "_view_count": null,
       "_view_module": "@jupyter-widgets/base",
       "_view_module_version": "1.2.0",
       "_view_name": "StyleView",
       "description_width": ""
      }
     },
     "ced8ef29e9c74702b4e4aeb8dd688745": {
      "model_module": "@jupyter-widgets/controls",
      "model_module_version": "1.5.0",
      "model_name": "FloatProgressModel",
      "state": {
       "_dom_classes": [],
       "_model_module": "@jupyter-widgets/controls",
       "_model_module_version": "1.5.0",
       "_model_name": "FloatProgressModel",
       "_view_count": null,
       "_view_module": "@jupyter-widgets/controls",
       "_view_module_version": "1.5.0",
       "_view_name": "ProgressView",
       "bar_style": "success",
       "description": "",
       "description_tooltip": null,
       "layout": "IPY_MODEL_1d040ff6d96d4688a0d413d458b7aa37",
       "max": 105,
       "min": 0,
       "orientation": "horizontal",
       "style": "IPY_MODEL_62c35309c119413bad689a684df45372",
       "value": 105
      }
     },
     "cfbb410ae92946089a1eb2e749112db2": {
      "model_module": "@jupyter-widgets/controls",
      "model_module_version": "1.5.0",
      "model_name": "FloatProgressModel",
      "state": {
       "_dom_classes": [],
       "_model_module": "@jupyter-widgets/controls",
       "_model_module_version": "1.5.0",
       "_model_name": "FloatProgressModel",
       "_view_count": null,
       "_view_module": "@jupyter-widgets/controls",
       "_view_module_version": "1.5.0",
       "_view_name": "ProgressView",
       "bar_style": "success",
       "description": "",
       "description_tooltip": null,
       "layout": "IPY_MODEL_8334a75028df44a98429ba09bcc87db6",
       "max": 105,
       "min": 0,
       "orientation": "horizontal",
       "style": "IPY_MODEL_55262619c6b9460b8ea10b2129e71bd6",
       "value": 105
      }
     },
     "cff71adeb02e43468ce69b6824cfc61a": {
      "model_module": "@jupyter-widgets/controls",
      "model_module_version": "1.5.0",
      "model_name": "HBoxModel",
      "state": {
       "_dom_classes": [],
       "_model_module": "@jupyter-widgets/controls",
       "_model_module_version": "1.5.0",
       "_model_name": "HBoxModel",
       "_view_count": null,
       "_view_module": "@jupyter-widgets/controls",
       "_view_module_version": "1.5.0",
       "_view_name": "HBoxView",
       "box_style": "",
       "children": [
        "IPY_MODEL_a1fc3ceffd9a400c860ac1bf40505665",
        "IPY_MODEL_06eea028e6114e7a98da50429397c8b8",
        "IPY_MODEL_ab0e9b41e6c343b8bd9df52574b87e04"
       ],
       "layout": "IPY_MODEL_0f54814d5746471194d4d49e1058bb72"
      }
     },
     "d48ceeab5d2840d49adc1ed41c6f1b36": {
      "model_module": "@jupyter-widgets/controls",
      "model_module_version": "1.5.0",
      "model_name": "HTMLModel",
      "state": {
       "_dom_classes": [],
       "_model_module": "@jupyter-widgets/controls",
       "_model_module_version": "1.5.0",
       "_model_name": "HTMLModel",
       "_view_count": null,
       "_view_module": "@jupyter-widgets/controls",
       "_view_module_version": "1.5.0",
       "_view_name": "HTMLView",
       "description": "",
       "description_tooltip": null,
       "layout": "IPY_MODEL_81dd6b6e97104d898c71c37db5f3cb52",
       "placeholder": "​",
       "style": "IPY_MODEL_133cd4d4826f481e815fe6cf1b3e0390",
       "value": " 27/27 [00:05&lt;00:00,  6.03it/s, Loss=13.1]"
      }
     },
     "d66cf3f8bbd64b3db191a601ee2ff920": {
      "model_module": "@jupyter-widgets/controls",
      "model_module_version": "1.5.0",
      "model_name": "HTMLModel",
      "state": {
       "_dom_classes": [],
       "_model_module": "@jupyter-widgets/controls",
       "_model_module_version": "1.5.0",
       "_model_name": "HTMLModel",
       "_view_count": null,
       "_view_module": "@jupyter-widgets/controls",
       "_view_module_version": "1.5.0",
       "_view_name": "HTMLView",
       "description": "",
       "description_tooltip": null,
       "layout": "IPY_MODEL_a059ccbc189e442bb328eb56a868224b",
       "placeholder": "​",
       "style": "IPY_MODEL_b0e2ad64162748e09c7722271b259e8d",
       "value": " 105/105 [01:00&lt;00:00,  1.76it/s, Loss=0.885]"
      }
     },
     "d797fb60ef1f4b61a0227e70655f93f5": {
      "model_module": "@jupyter-widgets/controls",
      "model_module_version": "1.5.0",
      "model_name": "DescriptionStyleModel",
      "state": {
       "_model_module": "@jupyter-widgets/controls",
       "_model_module_version": "1.5.0",
       "_model_name": "DescriptionStyleModel",
       "_view_count": null,
       "_view_module": "@jupyter-widgets/base",
       "_view_module_version": "1.2.0",
       "_view_name": "StyleView",
       "description_width": ""
      }
     },
     "d82dcbde98b442a4aeb4cc6717e148d1": {
      "model_module": "@jupyter-widgets/controls",
      "model_module_version": "1.5.0",
      "model_name": "DescriptionStyleModel",
      "state": {
       "_model_module": "@jupyter-widgets/controls",
       "_model_module_version": "1.5.0",
       "_model_name": "DescriptionStyleModel",
       "_view_count": null,
       "_view_module": "@jupyter-widgets/base",
       "_view_module_version": "1.2.0",
       "_view_name": "StyleView",
       "description_width": ""
      }
     },
     "d8730e3ffe384337aff98db564c9a31c": {
      "model_module": "@jupyter-widgets/controls",
      "model_module_version": "1.5.0",
      "model_name": "DescriptionStyleModel",
      "state": {
       "_model_module": "@jupyter-widgets/controls",
       "_model_module_version": "1.5.0",
       "_model_name": "DescriptionStyleModel",
       "_view_count": null,
       "_view_module": "@jupyter-widgets/base",
       "_view_module_version": "1.2.0",
       "_view_name": "StyleView",
       "description_width": ""
      }
     },
     "d94b5747c95b4576a4724aca1d10a5df": {
      "model_module": "@jupyter-widgets/controls",
      "model_module_version": "1.5.0",
      "model_name": "HTMLModel",
      "state": {
       "_dom_classes": [],
       "_model_module": "@jupyter-widgets/controls",
       "_model_module_version": "1.5.0",
       "_model_name": "HTMLModel",
       "_view_count": null,
       "_view_module": "@jupyter-widgets/controls",
       "_view_module_version": "1.5.0",
       "_view_name": "HTMLView",
       "description": "",
       "description_tooltip": null,
       "layout": "IPY_MODEL_c95e72751e5342c3b9cbe8695f92edc8",
       "placeholder": "​",
       "style": "IPY_MODEL_ed5114f85e51407aa70db89a8fbadf35",
       "value": " 27/27 [00:04&lt;00:00,  6.03it/s, Loss=4.03]"
      }
     },
     "d9c74a0981144e7c8624fd6791077a9c": {
      "model_module": "@jupyter-widgets/controls",
      "model_module_version": "1.5.0",
      "model_name": "FloatProgressModel",
      "state": {
       "_dom_classes": [],
       "_model_module": "@jupyter-widgets/controls",
       "_model_module_version": "1.5.0",
       "_model_name": "FloatProgressModel",
       "_view_count": null,
       "_view_module": "@jupyter-widgets/controls",
       "_view_module_version": "1.5.0",
       "_view_name": "ProgressView",
       "bar_style": "success",
       "description": "",
       "description_tooltip": null,
       "layout": "IPY_MODEL_498e51e14d1746cebc480070b88cdc66",
       "max": 27,
       "min": 0,
       "orientation": "horizontal",
       "style": "IPY_MODEL_ecae0c50fcf94de79765937e803b2d8a",
       "value": 27
      }
     },
     "da6a26b47dc84a6995daa2650c923bba": {
      "model_module": "@jupyter-widgets/base",
      "model_module_version": "1.2.0",
      "model_name": "LayoutModel",
      "state": {
       "_model_module": "@jupyter-widgets/base",
       "_model_module_version": "1.2.0",
       "_model_name": "LayoutModel",
       "_view_count": null,
       "_view_module": "@jupyter-widgets/base",
       "_view_module_version": "1.2.0",
       "_view_name": "LayoutView",
       "align_content": null,
       "align_items": null,
       "align_self": null,
       "border": null,
       "bottom": null,
       "display": null,
       "flex": null,
       "flex_flow": null,
       "grid_area": null,
       "grid_auto_columns": null,
       "grid_auto_flow": null,
       "grid_auto_rows": null,
       "grid_column": null,
       "grid_gap": null,
       "grid_row": null,
       "grid_template_areas": null,
       "grid_template_columns": null,
       "grid_template_rows": null,
       "height": null,
       "justify_content": null,
       "justify_items": null,
       "left": null,
       "margin": null,
       "max_height": null,
       "max_width": null,
       "min_height": null,
       "min_width": null,
       "object_fit": null,
       "object_position": null,
       "order": null,
       "overflow": null,
       "overflow_x": null,
       "overflow_y": null,
       "padding": null,
       "right": null,
       "top": null,
       "visibility": null,
       "width": null
      }
     },
     "dd73bcda81774d70948e21132d71e0c7": {
      "model_module": "@jupyter-widgets/controls",
      "model_module_version": "1.5.0",
      "model_name": "HTMLModel",
      "state": {
       "_dom_classes": [],
       "_model_module": "@jupyter-widgets/controls",
       "_model_module_version": "1.5.0",
       "_model_name": "HTMLModel",
       "_view_count": null,
       "_view_module": "@jupyter-widgets/controls",
       "_view_module_version": "1.5.0",
       "_view_name": "HTMLView",
       "description": "",
       "description_tooltip": null,
       "layout": "IPY_MODEL_0f3b38c330ef4f01814cdab42c416786",
       "placeholder": "​",
       "style": "IPY_MODEL_e8fe363cfc184e55acf34b34d34e3174",
       "value": "Epoch 2: 100%"
      }
     },
     "df297b138a4d49659e90639f592b6efe": {
      "model_module": "@jupyter-widgets/controls",
      "model_module_version": "1.5.0",
      "model_name": "HTMLModel",
      "state": {
       "_dom_classes": [],
       "_model_module": "@jupyter-widgets/controls",
       "_model_module_version": "1.5.0",
       "_model_name": "HTMLModel",
       "_view_count": null,
       "_view_module": "@jupyter-widgets/controls",
       "_view_module_version": "1.5.0",
       "_view_name": "HTMLView",
       "description": "",
       "description_tooltip": null,
       "layout": "IPY_MODEL_13c2eccda725480792feabab819b0dbe",
       "placeholder": "​",
       "style": "IPY_MODEL_cdb0b494270f452db6a5af094909842f",
       "value": "Epoch 7: 100%"
      }
     },
     "dfb41039a0fb4fdebb6f22154bcb6cd0": {
      "model_module": "@jupyter-widgets/controls",
      "model_module_version": "1.5.0",
      "model_name": "HBoxModel",
      "state": {
       "_dom_classes": [],
       "_model_module": "@jupyter-widgets/controls",
       "_model_module_version": "1.5.0",
       "_model_name": "HBoxModel",
       "_view_count": null,
       "_view_module": "@jupyter-widgets/controls",
       "_view_module_version": "1.5.0",
       "_view_name": "HBoxView",
       "box_style": "",
       "children": [
        "IPY_MODEL_f5c6d5102f36402485ddff25f0a85782",
        "IPY_MODEL_090d2f46c0f7498993f96db72c773d4b",
        "IPY_MODEL_54e06b744f0146e788c14991f4520d88"
       ],
       "layout": "IPY_MODEL_9d7f9ebfcca040e3bb0ce3ed9271acbd"
      }
     },
     "e07aa6a1760945edb28b7c489e06c008": {
      "model_module": "@jupyter-widgets/base",
      "model_module_version": "1.2.0",
      "model_name": "LayoutModel",
      "state": {
       "_model_module": "@jupyter-widgets/base",
       "_model_module_version": "1.2.0",
       "_model_name": "LayoutModel",
       "_view_count": null,
       "_view_module": "@jupyter-widgets/base",
       "_view_module_version": "1.2.0",
       "_view_name": "LayoutView",
       "align_content": null,
       "align_items": null,
       "align_self": null,
       "border": null,
       "bottom": null,
       "display": null,
       "flex": null,
       "flex_flow": null,
       "grid_area": null,
       "grid_auto_columns": null,
       "grid_auto_flow": null,
       "grid_auto_rows": null,
       "grid_column": null,
       "grid_gap": null,
       "grid_row": null,
       "grid_template_areas": null,
       "grid_template_columns": null,
       "grid_template_rows": null,
       "height": null,
       "justify_content": null,
       "justify_items": null,
       "left": null,
       "margin": null,
       "max_height": null,
       "max_width": null,
       "min_height": null,
       "min_width": null,
       "object_fit": null,
       "object_position": null,
       "order": null,
       "overflow": null,
       "overflow_x": null,
       "overflow_y": null,
       "padding": null,
       "right": null,
       "top": null,
       "visibility": null,
       "width": null
      }
     },
     "e2b96745e3de43bfac2f5b7b92914b4f": {
      "model_module": "@jupyter-widgets/controls",
      "model_module_version": "1.5.0",
      "model_name": "DescriptionStyleModel",
      "state": {
       "_model_module": "@jupyter-widgets/controls",
       "_model_module_version": "1.5.0",
       "_model_name": "DescriptionStyleModel",
       "_view_count": null,
       "_view_module": "@jupyter-widgets/base",
       "_view_module_version": "1.2.0",
       "_view_name": "StyleView",
       "description_width": ""
      }
     },
     "e336c52b145949b39e22a43788f85c1e": {
      "model_module": "@jupyter-widgets/controls",
      "model_module_version": "1.5.0",
      "model_name": "FloatProgressModel",
      "state": {
       "_dom_classes": [],
       "_model_module": "@jupyter-widgets/controls",
       "_model_module_version": "1.5.0",
       "_model_name": "FloatProgressModel",
       "_view_count": null,
       "_view_module": "@jupyter-widgets/controls",
       "_view_module_version": "1.5.0",
       "_view_name": "ProgressView",
       "bar_style": "success",
       "description": "",
       "description_tooltip": null,
       "layout": "IPY_MODEL_13bb1b842a0d478d8b51a6da336a4cb1",
       "max": 105,
       "min": 0,
       "orientation": "horizontal",
       "style": "IPY_MODEL_505f3308f1f44e8a8e3e021e72db5999",
       "value": 105
      }
     },
     "e5574e58258b4f7390552bca2d1c04a6": {
      "model_module": "@jupyter-widgets/controls",
      "model_module_version": "1.5.0",
      "model_name": "HBoxModel",
      "state": {
       "_dom_classes": [],
       "_model_module": "@jupyter-widgets/controls",
       "_model_module_version": "1.5.0",
       "_model_name": "HBoxModel",
       "_view_count": null,
       "_view_module": "@jupyter-widgets/controls",
       "_view_module_version": "1.5.0",
       "_view_name": "HBoxView",
       "box_style": "",
       "children": [
        "IPY_MODEL_fb83f544a10f44d1b47d639683f706f8",
        "IPY_MODEL_f293dd69a467469881993ffaf5da4037",
        "IPY_MODEL_71da5f02642c47b1b6147c69370a1db8"
       ],
       "layout": "IPY_MODEL_ede71917398d4fc2a0be819c8145b8de"
      }
     },
     "e5768856586a4b50b796b85f7b282a5e": {
      "model_module": "@jupyter-widgets/base",
      "model_module_version": "1.2.0",
      "model_name": "LayoutModel",
      "state": {
       "_model_module": "@jupyter-widgets/base",
       "_model_module_version": "1.2.0",
       "_model_name": "LayoutModel",
       "_view_count": null,
       "_view_module": "@jupyter-widgets/base",
       "_view_module_version": "1.2.0",
       "_view_name": "LayoutView",
       "align_content": null,
       "align_items": null,
       "align_self": null,
       "border": null,
       "bottom": null,
       "display": null,
       "flex": null,
       "flex_flow": null,
       "grid_area": null,
       "grid_auto_columns": null,
       "grid_auto_flow": null,
       "grid_auto_rows": null,
       "grid_column": null,
       "grid_gap": null,
       "grid_row": null,
       "grid_template_areas": null,
       "grid_template_columns": null,
       "grid_template_rows": null,
       "height": null,
       "justify_content": null,
       "justify_items": null,
       "left": null,
       "margin": null,
       "max_height": null,
       "max_width": null,
       "min_height": null,
       "min_width": null,
       "object_fit": null,
       "object_position": null,
       "order": null,
       "overflow": null,
       "overflow_x": null,
       "overflow_y": null,
       "padding": null,
       "right": null,
       "top": null,
       "visibility": null,
       "width": null
      }
     },
     "e5bcc1c29f914b45b3bff35df7dc3b44": {
      "model_module": "@jupyter-widgets/controls",
      "model_module_version": "1.5.0",
      "model_name": "DescriptionStyleModel",
      "state": {
       "_model_module": "@jupyter-widgets/controls",
       "_model_module_version": "1.5.0",
       "_model_name": "DescriptionStyleModel",
       "_view_count": null,
       "_view_module": "@jupyter-widgets/base",
       "_view_module_version": "1.2.0",
       "_view_name": "StyleView",
       "description_width": ""
      }
     },
     "e628db9318ea40b4873b48608821ec97": {
      "model_module": "@jupyter-widgets/controls",
      "model_module_version": "1.5.0",
      "model_name": "FloatProgressModel",
      "state": {
       "_dom_classes": [],
       "_model_module": "@jupyter-widgets/controls",
       "_model_module_version": "1.5.0",
       "_model_name": "FloatProgressModel",
       "_view_count": null,
       "_view_module": "@jupyter-widgets/controls",
       "_view_module_version": "1.5.0",
       "_view_name": "ProgressView",
       "bar_style": "success",
       "description": "",
       "description_tooltip": null,
       "layout": "IPY_MODEL_8749afd4205548249589434d9b932149",
       "max": 105,
       "min": 0,
       "orientation": "horizontal",
       "style": "IPY_MODEL_80b95063f15f47e081f0f197dc006d58",
       "value": 105
      }
     },
     "e8ba20a1a13147a88288fef3103dc3d6": {
      "model_module": "@jupyter-widgets/base",
      "model_module_version": "1.2.0",
      "model_name": "LayoutModel",
      "state": {
       "_model_module": "@jupyter-widgets/base",
       "_model_module_version": "1.2.0",
       "_model_name": "LayoutModel",
       "_view_count": null,
       "_view_module": "@jupyter-widgets/base",
       "_view_module_version": "1.2.0",
       "_view_name": "LayoutView",
       "align_content": null,
       "align_items": null,
       "align_self": null,
       "border": null,
       "bottom": null,
       "display": null,
       "flex": null,
       "flex_flow": null,
       "grid_area": null,
       "grid_auto_columns": null,
       "grid_auto_flow": null,
       "grid_auto_rows": null,
       "grid_column": null,
       "grid_gap": null,
       "grid_row": null,
       "grid_template_areas": null,
       "grid_template_columns": null,
       "grid_template_rows": null,
       "height": null,
       "justify_content": null,
       "justify_items": null,
       "left": null,
       "margin": null,
       "max_height": null,
       "max_width": null,
       "min_height": null,
       "min_width": null,
       "object_fit": null,
       "object_position": null,
       "order": null,
       "overflow": null,
       "overflow_x": null,
       "overflow_y": null,
       "padding": null,
       "right": null,
       "top": null,
       "visibility": null,
       "width": null
      }
     },
     "e8fe363cfc184e55acf34b34d34e3174": {
      "model_module": "@jupyter-widgets/controls",
      "model_module_version": "1.5.0",
      "model_name": "DescriptionStyleModel",
      "state": {
       "_model_module": "@jupyter-widgets/controls",
       "_model_module_version": "1.5.0",
       "_model_name": "DescriptionStyleModel",
       "_view_count": null,
       "_view_module": "@jupyter-widgets/base",
       "_view_module_version": "1.2.0",
       "_view_name": "StyleView",
       "description_width": ""
      }
     },
     "ea857a1fdd674dc3b7bc77c20019fd31": {
      "model_module": "@jupyter-widgets/controls",
      "model_module_version": "1.5.0",
      "model_name": "HBoxModel",
      "state": {
       "_dom_classes": [],
       "_model_module": "@jupyter-widgets/controls",
       "_model_module_version": "1.5.0",
       "_model_name": "HBoxModel",
       "_view_count": null,
       "_view_module": "@jupyter-widgets/controls",
       "_view_module_version": "1.5.0",
       "_view_name": "HBoxView",
       "box_style": "",
       "children": [
        "IPY_MODEL_5763c97d57174a2abdc0890fc7e9f902",
        "IPY_MODEL_80162e18160c418ea288e369853d0984",
        "IPY_MODEL_f3a64d19e2a14e729634e230b9ee3fa1"
       ],
       "layout": "IPY_MODEL_1cb7333cf08345bdb1c5fec29c440997"
      }
     },
     "eafc128198c049ad9cc4596baf9aa15a": {
      "model_module": "@jupyter-widgets/controls",
      "model_module_version": "1.5.0",
      "model_name": "HTMLModel",
      "state": {
       "_dom_classes": [],
       "_model_module": "@jupyter-widgets/controls",
       "_model_module_version": "1.5.0",
       "_model_name": "HTMLModel",
       "_view_count": null,
       "_view_module": "@jupyter-widgets/controls",
       "_view_module_version": "1.5.0",
       "_view_name": "HTMLView",
       "description": "",
       "description_tooltip": null,
       "layout": "IPY_MODEL_3d77620713994c1191a0e99e51097166",
       "placeholder": "​",
       "style": "IPY_MODEL_1499b98903254c778971754eb560ab68",
       "value": " 105/105 [01:00&lt;00:00,  1.76it/s, Loss=1.04]"
      }
     },
     "ecae0c50fcf94de79765937e803b2d8a": {
      "model_module": "@jupyter-widgets/controls",
      "model_module_version": "1.5.0",
      "model_name": "ProgressStyleModel",
      "state": {
       "_model_module": "@jupyter-widgets/controls",
       "_model_module_version": "1.5.0",
       "_model_name": "ProgressStyleModel",
       "_view_count": null,
       "_view_module": "@jupyter-widgets/base",
       "_view_module_version": "1.2.0",
       "_view_name": "StyleView",
       "bar_color": null,
       "description_width": ""
      }
     },
     "ed5114f85e51407aa70db89a8fbadf35": {
      "model_module": "@jupyter-widgets/controls",
      "model_module_version": "1.5.0",
      "model_name": "DescriptionStyleModel",
      "state": {
       "_model_module": "@jupyter-widgets/controls",
       "_model_module_version": "1.5.0",
       "_model_name": "DescriptionStyleModel",
       "_view_count": null,
       "_view_module": "@jupyter-widgets/base",
       "_view_module_version": "1.2.0",
       "_view_name": "StyleView",
       "description_width": ""
      }
     },
     "ede71917398d4fc2a0be819c8145b8de": {
      "model_module": "@jupyter-widgets/base",
      "model_module_version": "1.2.0",
      "model_name": "LayoutModel",
      "state": {
       "_model_module": "@jupyter-widgets/base",
       "_model_module_version": "1.2.0",
       "_model_name": "LayoutModel",
       "_view_count": null,
       "_view_module": "@jupyter-widgets/base",
       "_view_module_version": "1.2.0",
       "_view_name": "LayoutView",
       "align_content": null,
       "align_items": null,
       "align_self": null,
       "border": null,
       "bottom": null,
       "display": null,
       "flex": null,
       "flex_flow": null,
       "grid_area": null,
       "grid_auto_columns": null,
       "grid_auto_flow": null,
       "grid_auto_rows": null,
       "grid_column": null,
       "grid_gap": null,
       "grid_row": null,
       "grid_template_areas": null,
       "grid_template_columns": null,
       "grid_template_rows": null,
       "height": null,
       "justify_content": null,
       "justify_items": null,
       "left": null,
       "margin": null,
       "max_height": null,
       "max_width": null,
       "min_height": null,
       "min_width": null,
       "object_fit": null,
       "object_position": null,
       "order": null,
       "overflow": null,
       "overflow_x": null,
       "overflow_y": null,
       "padding": null,
       "right": null,
       "top": null,
       "visibility": null,
       "width": null
      }
     },
     "ee2c0693010349ab9335f5e84bc7fa8a": {
      "model_module": "@jupyter-widgets/base",
      "model_module_version": "1.2.0",
      "model_name": "LayoutModel",
      "state": {
       "_model_module": "@jupyter-widgets/base",
       "_model_module_version": "1.2.0",
       "_model_name": "LayoutModel",
       "_view_count": null,
       "_view_module": "@jupyter-widgets/base",
       "_view_module_version": "1.2.0",
       "_view_name": "LayoutView",
       "align_content": null,
       "align_items": null,
       "align_self": null,
       "border": null,
       "bottom": null,
       "display": null,
       "flex": null,
       "flex_flow": null,
       "grid_area": null,
       "grid_auto_columns": null,
       "grid_auto_flow": null,
       "grid_auto_rows": null,
       "grid_column": null,
       "grid_gap": null,
       "grid_row": null,
       "grid_template_areas": null,
       "grid_template_columns": null,
       "grid_template_rows": null,
       "height": null,
       "justify_content": null,
       "justify_items": null,
       "left": null,
       "margin": null,
       "max_height": null,
       "max_width": null,
       "min_height": null,
       "min_width": null,
       "object_fit": null,
       "object_position": null,
       "order": null,
       "overflow": null,
       "overflow_x": null,
       "overflow_y": null,
       "padding": null,
       "right": null,
       "top": null,
       "visibility": null,
       "width": null
      }
     },
     "ee361fdd56744b0181a7aa7fef9b2634": {
      "model_module": "@jupyter-widgets/controls",
      "model_module_version": "1.5.0",
      "model_name": "HBoxModel",
      "state": {
       "_dom_classes": [],
       "_model_module": "@jupyter-widgets/controls",
       "_model_module_version": "1.5.0",
       "_model_name": "HBoxModel",
       "_view_count": null,
       "_view_module": "@jupyter-widgets/controls",
       "_view_module_version": "1.5.0",
       "_view_name": "HBoxView",
       "box_style": "",
       "children": [
        "IPY_MODEL_7e1d096b90a24a2788d3ad0fe4939e6a",
        "IPY_MODEL_4ee6d2ed11534fa5bb41d2610501b7b2",
        "IPY_MODEL_cb3646be7f83403099d0fac15eb645e1"
       ],
       "layout": "IPY_MODEL_34d04a0527dc4034a67b0e7f286a1dab"
      }
     },
     "ef2f0c843abf41569d7e5c3b4872758e": {
      "model_module": "@jupyter-widgets/controls",
      "model_module_version": "1.5.0",
      "model_name": "HTMLModel",
      "state": {
       "_dom_classes": [],
       "_model_module": "@jupyter-widgets/controls",
       "_model_module_version": "1.5.0",
       "_model_name": "HTMLModel",
       "_view_count": null,
       "_view_module": "@jupyter-widgets/controls",
       "_view_module_version": "1.5.0",
       "_view_name": "HTMLView",
       "description": "",
       "description_tooltip": null,
       "layout": "IPY_MODEL_3d977985eb85447cbf8079365d9bf0cc",
       "placeholder": "​",
       "style": "IPY_MODEL_fb740e344c764805b6dcaae5e2c6fdce",
       "value": " 27/27 [00:04&lt;00:00,  5.90it/s, Loss=9.61]"
      }
     },
     "efad0241394e4625a53305d960d0364b": {
      "model_module": "@jupyter-widgets/base",
      "model_module_version": "1.2.0",
      "model_name": "LayoutModel",
      "state": {
       "_model_module": "@jupyter-widgets/base",
       "_model_module_version": "1.2.0",
       "_model_name": "LayoutModel",
       "_view_count": null,
       "_view_module": "@jupyter-widgets/base",
       "_view_module_version": "1.2.0",
       "_view_name": "LayoutView",
       "align_content": null,
       "align_items": null,
       "align_self": null,
       "border": null,
       "bottom": null,
       "display": null,
       "flex": null,
       "flex_flow": null,
       "grid_area": null,
       "grid_auto_columns": null,
       "grid_auto_flow": null,
       "grid_auto_rows": null,
       "grid_column": null,
       "grid_gap": null,
       "grid_row": null,
       "grid_template_areas": null,
       "grid_template_columns": null,
       "grid_template_rows": null,
       "height": null,
       "justify_content": null,
       "justify_items": null,
       "left": null,
       "margin": null,
       "max_height": null,
       "max_width": null,
       "min_height": null,
       "min_width": null,
       "object_fit": null,
       "object_position": null,
       "order": null,
       "overflow": null,
       "overflow_x": null,
       "overflow_y": null,
       "padding": null,
       "right": null,
       "top": null,
       "visibility": null,
       "width": null
      }
     },
     "f1d57dc10d8f42fda3627cd0337e3f3a": {
      "model_module": "@jupyter-widgets/base",
      "model_module_version": "1.2.0",
      "model_name": "LayoutModel",
      "state": {
       "_model_module": "@jupyter-widgets/base",
       "_model_module_version": "1.2.0",
       "_model_name": "LayoutModel",
       "_view_count": null,
       "_view_module": "@jupyter-widgets/base",
       "_view_module_version": "1.2.0",
       "_view_name": "LayoutView",
       "align_content": null,
       "align_items": null,
       "align_self": null,
       "border": null,
       "bottom": null,
       "display": null,
       "flex": null,
       "flex_flow": null,
       "grid_area": null,
       "grid_auto_columns": null,
       "grid_auto_flow": null,
       "grid_auto_rows": null,
       "grid_column": null,
       "grid_gap": null,
       "grid_row": null,
       "grid_template_areas": null,
       "grid_template_columns": null,
       "grid_template_rows": null,
       "height": null,
       "justify_content": null,
       "justify_items": null,
       "left": null,
       "margin": null,
       "max_height": null,
       "max_width": null,
       "min_height": null,
       "min_width": null,
       "object_fit": null,
       "object_position": null,
       "order": null,
       "overflow": null,
       "overflow_x": null,
       "overflow_y": null,
       "padding": null,
       "right": null,
       "top": null,
       "visibility": null,
       "width": null
      }
     },
     "f1e3e33995f7476eb8aeead3485d2fdf": {
      "model_module": "@jupyter-widgets/controls",
      "model_module_version": "1.5.0",
      "model_name": "HTMLModel",
      "state": {
       "_dom_classes": [],
       "_model_module": "@jupyter-widgets/controls",
       "_model_module_version": "1.5.0",
       "_model_name": "HTMLModel",
       "_view_count": null,
       "_view_module": "@jupyter-widgets/controls",
       "_view_module_version": "1.5.0",
       "_view_name": "HTMLView",
       "description": "",
       "description_tooltip": null,
       "layout": "IPY_MODEL_ad8daaf73d0f4b76bf735c77594e36ac",
       "placeholder": "​",
       "style": "IPY_MODEL_b70ad428ec26490ab3297c6de227d56f",
       "value": " 105/105 [01:05&lt;00:00,  1.77it/s, Loss=1.88]"
      }
     },
     "f293dd69a467469881993ffaf5da4037": {
      "model_module": "@jupyter-widgets/controls",
      "model_module_version": "1.5.0",
      "model_name": "FloatProgressModel",
      "state": {
       "_dom_classes": [],
       "_model_module": "@jupyter-widgets/controls",
       "_model_module_version": "1.5.0",
       "_model_name": "FloatProgressModel",
       "_view_count": null,
       "_view_module": "@jupyter-widgets/controls",
       "_view_module_version": "1.5.0",
       "_view_name": "ProgressView",
       "bar_style": "success",
       "description": "",
       "description_tooltip": null,
       "layout": "IPY_MODEL_9e3d34b219604ea99fcd48710818390e",
       "max": 105,
       "min": 0,
       "orientation": "horizontal",
       "style": "IPY_MODEL_21fadfdd91d549a8acc65aa0bd4e54f1",
       "value": 105
      }
     },
     "f39a85aa603f4fe0ae046973942dae35": {
      "model_module": "@jupyter-widgets/base",
      "model_module_version": "1.2.0",
      "model_name": "LayoutModel",
      "state": {
       "_model_module": "@jupyter-widgets/base",
       "_model_module_version": "1.2.0",
       "_model_name": "LayoutModel",
       "_view_count": null,
       "_view_module": "@jupyter-widgets/base",
       "_view_module_version": "1.2.0",
       "_view_name": "LayoutView",
       "align_content": null,
       "align_items": null,
       "align_self": null,
       "border": null,
       "bottom": null,
       "display": null,
       "flex": null,
       "flex_flow": null,
       "grid_area": null,
       "grid_auto_columns": null,
       "grid_auto_flow": null,
       "grid_auto_rows": null,
       "grid_column": null,
       "grid_gap": null,
       "grid_row": null,
       "grid_template_areas": null,
       "grid_template_columns": null,
       "grid_template_rows": null,
       "height": null,
       "justify_content": null,
       "justify_items": null,
       "left": null,
       "margin": null,
       "max_height": null,
       "max_width": null,
       "min_height": null,
       "min_width": null,
       "object_fit": null,
       "object_position": null,
       "order": null,
       "overflow": null,
       "overflow_x": null,
       "overflow_y": null,
       "padding": null,
       "right": null,
       "top": null,
       "visibility": null,
       "width": null
      }
     },
     "f3a64d19e2a14e729634e230b9ee3fa1": {
      "model_module": "@jupyter-widgets/controls",
      "model_module_version": "1.5.0",
      "model_name": "HTMLModel",
      "state": {
       "_dom_classes": [],
       "_model_module": "@jupyter-widgets/controls",
       "_model_module_version": "1.5.0",
       "_model_name": "HTMLModel",
       "_view_count": null,
       "_view_module": "@jupyter-widgets/controls",
       "_view_module_version": "1.5.0",
       "_view_name": "HTMLView",
       "description": "",
       "description_tooltip": null,
       "layout": "IPY_MODEL_f1d57dc10d8f42fda3627cd0337e3f3a",
       "placeholder": "​",
       "style": "IPY_MODEL_0db493ce29c14c0a91ad0fb33739ec53",
       "value": " 27/27 [00:04&lt;00:00,  6.05it/s, Loss=21.1]"
      }
     },
     "f53c410cdf144d56b68b8b490d599e8d": {
      "model_module": "@jupyter-widgets/controls",
      "model_module_version": "1.5.0",
      "model_name": "HTMLModel",
      "state": {
       "_dom_classes": [],
       "_model_module": "@jupyter-widgets/controls",
       "_model_module_version": "1.5.0",
       "_model_name": "HTMLModel",
       "_view_count": null,
       "_view_module": "@jupyter-widgets/controls",
       "_view_module_version": "1.5.0",
       "_view_name": "HTMLView",
       "description": "",
       "description_tooltip": null,
       "layout": "IPY_MODEL_b2895c19c58441a79ecba8536b39944d",
       "placeholder": "​",
       "style": "IPY_MODEL_c78ee7c08650489dbefaada42acb0c34",
       "value": " 27/27 [00:05&lt;00:00,  5.94it/s, Loss=19.5]"
      }
     },
     "f5c6d5102f36402485ddff25f0a85782": {
      "model_module": "@jupyter-widgets/controls",
      "model_module_version": "1.5.0",
      "model_name": "HTMLModel",
      "state": {
       "_dom_classes": [],
       "_model_module": "@jupyter-widgets/controls",
       "_model_module_version": "1.5.0",
       "_model_name": "HTMLModel",
       "_view_count": null,
       "_view_module": "@jupyter-widgets/controls",
       "_view_module_version": "1.5.0",
       "_view_name": "HTMLView",
       "description": "",
       "description_tooltip": null,
       "layout": "IPY_MODEL_6691d0717724493580b075aaabb5813e",
       "placeholder": "​",
       "style": "IPY_MODEL_c5679567949648d8a9e30b274cbf1d27",
       "value": "Epoch 8: 100%"
      }
     },
     "f5ccd26d9b2d470a9c8d97416b8f5af9": {
      "model_module": "@jupyter-widgets/controls",
      "model_module_version": "1.5.0",
      "model_name": "DescriptionStyleModel",
      "state": {
       "_model_module": "@jupyter-widgets/controls",
       "_model_module_version": "1.5.0",
       "_model_name": "DescriptionStyleModel",
       "_view_count": null,
       "_view_module": "@jupyter-widgets/base",
       "_view_module_version": "1.2.0",
       "_view_name": "StyleView",
       "description_width": ""
      }
     },
     "f6443832ef43482385c5b5e1ba12ff02": {
      "model_module": "@jupyter-widgets/base",
      "model_module_version": "1.2.0",
      "model_name": "LayoutModel",
      "state": {
       "_model_module": "@jupyter-widgets/base",
       "_model_module_version": "1.2.0",
       "_model_name": "LayoutModel",
       "_view_count": null,
       "_view_module": "@jupyter-widgets/base",
       "_view_module_version": "1.2.0",
       "_view_name": "LayoutView",
       "align_content": null,
       "align_items": null,
       "align_self": null,
       "border": null,
       "bottom": null,
       "display": null,
       "flex": null,
       "flex_flow": null,
       "grid_area": null,
       "grid_auto_columns": null,
       "grid_auto_flow": null,
       "grid_auto_rows": null,
       "grid_column": null,
       "grid_gap": null,
       "grid_row": null,
       "grid_template_areas": null,
       "grid_template_columns": null,
       "grid_template_rows": null,
       "height": null,
       "justify_content": null,
       "justify_items": null,
       "left": null,
       "margin": null,
       "max_height": null,
       "max_width": null,
       "min_height": null,
       "min_width": null,
       "object_fit": null,
       "object_position": null,
       "order": null,
       "overflow": null,
       "overflow_x": null,
       "overflow_y": null,
       "padding": null,
       "right": null,
       "top": null,
       "visibility": null,
       "width": null
      }
     },
     "f8f6cac93bf94effa5cb7fd71f5232a1": {
      "model_module": "@jupyter-widgets/controls",
      "model_module_version": "1.5.0",
      "model_name": "HTMLModel",
      "state": {
       "_dom_classes": [],
       "_model_module": "@jupyter-widgets/controls",
       "_model_module_version": "1.5.0",
       "_model_name": "HTMLModel",
       "_view_count": null,
       "_view_module": "@jupyter-widgets/controls",
       "_view_module_version": "1.5.0",
       "_view_name": "HTMLView",
       "description": "",
       "description_tooltip": null,
       "layout": "IPY_MODEL_085d8425fb424054a419f93f8c6ec219",
       "placeholder": "​",
       "style": "IPY_MODEL_59430b9447b945e1a67e5551291b3ffa",
       "value": "Epoch 9: 100%"
      }
     },
     "f99560337e5c42fcb39bc44813ca3b18": {
      "model_module": "@jupyter-widgets/base",
      "model_module_version": "1.2.0",
      "model_name": "LayoutModel",
      "state": {
       "_model_module": "@jupyter-widgets/base",
       "_model_module_version": "1.2.0",
       "_model_name": "LayoutModel",
       "_view_count": null,
       "_view_module": "@jupyter-widgets/base",
       "_view_module_version": "1.2.0",
       "_view_name": "LayoutView",
       "align_content": null,
       "align_items": null,
       "align_self": null,
       "border": null,
       "bottom": null,
       "display": null,
       "flex": null,
       "flex_flow": null,
       "grid_area": null,
       "grid_auto_columns": null,
       "grid_auto_flow": null,
       "grid_auto_rows": null,
       "grid_column": null,
       "grid_gap": null,
       "grid_row": null,
       "grid_template_areas": null,
       "grid_template_columns": null,
       "grid_template_rows": null,
       "height": null,
       "justify_content": null,
       "justify_items": null,
       "left": null,
       "margin": null,
       "max_height": null,
       "max_width": null,
       "min_height": null,
       "min_width": null,
       "object_fit": null,
       "object_position": null,
       "order": null,
       "overflow": null,
       "overflow_x": null,
       "overflow_y": null,
       "padding": null,
       "right": null,
       "top": null,
       "visibility": null,
       "width": null
      }
     },
     "fa28fb806fcd455189ff7a722b8e6a0d": {
      "model_module": "@jupyter-widgets/controls",
      "model_module_version": "1.5.0",
      "model_name": "HBoxModel",
      "state": {
       "_dom_classes": [],
       "_model_module": "@jupyter-widgets/controls",
       "_model_module_version": "1.5.0",
       "_model_name": "HBoxModel",
       "_view_count": null,
       "_view_module": "@jupyter-widgets/controls",
       "_view_module_version": "1.5.0",
       "_view_name": "HBoxView",
       "box_style": "",
       "children": [
        "IPY_MODEL_530364ea3d764e84861d2b1f589e6b8e",
        "IPY_MODEL_7308a47956224780bd3d62c12f6cbb7c",
        "IPY_MODEL_0903584d54604607a08b05a3520fbb11"
       ],
       "layout": "IPY_MODEL_3d3ab7a8e6c148af8f50d91cac9704c6"
      }
     },
     "fb740e344c764805b6dcaae5e2c6fdce": {
      "model_module": "@jupyter-widgets/controls",
      "model_module_version": "1.5.0",
      "model_name": "DescriptionStyleModel",
      "state": {
       "_model_module": "@jupyter-widgets/controls",
       "_model_module_version": "1.5.0",
       "_model_name": "DescriptionStyleModel",
       "_view_count": null,
       "_view_module": "@jupyter-widgets/base",
       "_view_module_version": "1.2.0",
       "_view_name": "StyleView",
       "description_width": ""
      }
     },
     "fb83f544a10f44d1b47d639683f706f8": {
      "model_module": "@jupyter-widgets/controls",
      "model_module_version": "1.5.0",
      "model_name": "HTMLModel",
      "state": {
       "_dom_classes": [],
       "_model_module": "@jupyter-widgets/controls",
       "_model_module_version": "1.5.0",
       "_model_name": "HTMLModel",
       "_view_count": null,
       "_view_module": "@jupyter-widgets/controls",
       "_view_module_version": "1.5.0",
       "_view_name": "HTMLView",
       "description": "",
       "description_tooltip": null,
       "layout": "IPY_MODEL_365230176f7f4155a6bdb0c4495eb176",
       "placeholder": "​",
       "style": "IPY_MODEL_d797fb60ef1f4b61a0227e70655f93f5",
       "value": "Epoch 4: 100%"
      }
     },
     "fcf7d55eecf84476819ee36bff1e1c32": {
      "model_module": "@jupyter-widgets/controls",
      "model_module_version": "1.5.0",
      "model_name": "ProgressStyleModel",
      "state": {
       "_model_module": "@jupyter-widgets/controls",
       "_model_module_version": "1.5.0",
       "_model_name": "ProgressStyleModel",
       "_view_count": null,
       "_view_module": "@jupyter-widgets/base",
       "_view_module_version": "1.2.0",
       "_view_name": "StyleView",
       "bar_color": null,
       "description_width": ""
      }
     },
     "fd609a65841d4355a552cd72dcee6485": {
      "model_module": "@jupyter-widgets/controls",
      "model_module_version": "1.5.0",
      "model_name": "HBoxModel",
      "state": {
       "_dom_classes": [],
       "_model_module": "@jupyter-widgets/controls",
       "_model_module_version": "1.5.0",
       "_model_name": "HBoxModel",
       "_view_count": null,
       "_view_module": "@jupyter-widgets/controls",
       "_view_module_version": "1.5.0",
       "_view_name": "HBoxView",
       "box_style": "",
       "children": [
        "IPY_MODEL_3dc30c5252964758ba93d2dc93bbfb7e",
        "IPY_MODEL_b8c434ae06cf4280a7de9b20dd92c037",
        "IPY_MODEL_a0285b399c32438bad84bb4133a1ebe8"
       ],
       "layout": "IPY_MODEL_145981b1d767466b9c4417eefd717935"
      }
     }
    },
    "version_major": 2,
    "version_minor": 0
   }
  }
 },
 "nbformat": 4,
 "nbformat_minor": 5
}
